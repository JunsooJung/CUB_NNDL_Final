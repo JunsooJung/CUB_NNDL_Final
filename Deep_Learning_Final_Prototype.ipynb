{
 "cells": [
  {
   "cell_type": "code",
   "execution_count": 1,
   "metadata": {},
   "outputs": [
    {
     "name": "stderr",
     "output_type": "stream",
     "text": [
      "/home/exouser/VSCODE_NN/.venv/lib/python3.12/site-packages/tqdm/auto.py:21: TqdmWarning: IProgress not found. Please update jupyter and ipywidgets. See https://ipywidgets.readthedocs.io/en/stable/user_install.html\n",
      "  from .autonotebook import tqdm as notebook_tqdm\n"
     ]
    }
   ],
   "source": [
    "import numpy as np\n",
    "import torch\n",
    "import random\n",
    "import torch.nn as nn\n",
    "import torch.optim as optim\n",
    "import matplotlib.pyplot as plt\n",
    "from torchmetrics.classification import Accuracy\n",
    "from torch.optim.lr_scheduler import ReduceLROnPlateau, StepLR\n",
    "from tqdm import tqdm\n",
    "from torchvision import datasets, transforms\n",
    "from torch.utils.data import DataLoader,Subset,random_split\n",
    "from vit_pytorch import ViT\n",
    "from vit_pytorch.vit import Transformer, Attention"
   ]
  },
  {
   "cell_type": "markdown",
   "metadata": {},
   "source": [
    "### Data Upload"
   ]
  },
  {
   "cell_type": "code",
   "execution_count": 2,
   "metadata": {},
   "outputs": [],
   "source": [
    "data_path = \"filtered_species\"\n",
    "batch_size = 64\n",
    "\n",
    "transform = transforms.Compose([\n",
    "    transforms.CenterCrop((256, 256)),  #Resize to minimum of all sizes - Will update size in cnn architecture\n",
    "    transforms.RandomHorizontalFlip(p = 0.25),\n",
    "    transforms.RandomRotation(degrees = 30),\n",
    "    transforms.ToTensor(),\n",
    "    transforms.Normalize(mean=[0.485, 0.456, 0.406], \n",
    "                         std=[0.229, 0.224, 0.225])\n",
    "])\n",
    "\n",
    "data = datasets.ImageFolder(root=data_path, transform=transform)\n",
    "\n",
    "\n",
    "subset_size = 5000\n",
    "indices = random.sample(range(len(data)), subset_size)\n",
    "data_subset = Subset(data, indices)\n",
    "\n",
    "#change data_subset <-> data for train from whole data\n",
    "train_size = int(0.8 * len(data))\n",
    "test_size = len(data) - train_size\n",
    "training, testing = random_split(data, [train_size, test_size], generator=torch.Generator().manual_seed(1111))\n",
    "\n",
    "training_dataset = DataLoader(training, batch_size=batch_size, shuffle=True, num_workers=6, pin_memory=True)\n",
    "testing_dataset = DataLoader(testing, batch_size=batch_size, shuffle=True, num_workers=6, pin_memory=True)\n",
    "#For testing purposes\n",
    "#print(\"Class names:\", data.classes)\n",
    "#len(data.classes)"
   ]
  },
  {
   "cell_type": "markdown",
   "metadata": {},
   "source": [
    "### Classifier Architecture"
   ]
  },
  {
   "cell_type": "code",
   "execution_count": 3,
   "metadata": {},
   "outputs": [],
   "source": [
    "class BirdClassifier(nn.Module):\n",
    "    def __init__(self,\n",
    "                 cnn_state=False,                # Whether to use CNN before ViT\n",
    "                 image_size=256,\n",
    "                 patch_size=16,\n",
    "                 num_class=10,\n",
    "                 dim=256,\n",
    "                 layer_count=1,\n",
    "                 head_count=1,\n",
    "                 transformer_ff_neurons=256,\n",
    "                 transformer_dropout=0.2):\n",
    "        super().__init__()\n",
    "        \n",
    "        self.cnn_state = cnn_state\n",
    "        self.image_size = image_size if not cnn_state else 64  # Will update if CNN is used\n",
    "\n",
    "        if cnn_state:\n",
    "            self.cnn = nn.Sequential(\n",
    "                nn.Conv2d(3, 96, kernel_size=11, stride=4, padding=2),  # AlexNet\n",
    "                nn.ReLU(),\n",
    "                nn.MaxPool2d(kernel_size=3, stride=2),\n",
    "                \n",
    "                nn.Conv2d(96, 256, kernel_size=5, padding=2),\n",
    "                nn.ReLU(),\n",
    "                nn.MaxPool2d(kernel_size=3, stride=2),\n",
    "\n",
    "                nn.Conv2d(256, 384, kernel_size=3, padding=1),\n",
    "                nn.ReLU(),\n",
    "\n",
    "                nn.Conv2d(384, 384, kernel_size=3, padding=1),\n",
    "                nn.ReLU(),\n",
    "\n",
    "                nn.Conv2d(384, 256, kernel_size=3, padding=1),\n",
    "                nn.ReLU(),\n",
    "                nn.AdaptiveAvgPool2d((self.image_size, self.image_size))  # Resize to ViT input\n",
    "            )\n",
    "\n",
    "        self.vision_transformer = ViT(\n",
    "            image_size=self.image_size,\n",
    "            patch_size=patch_size,\n",
    "            num_classes=num_class,\n",
    "            dim=dim,\n",
    "            depth=layer_count,\n",
    "            heads=head_count,\n",
    "            mlp_dim=transformer_ff_neurons,\n",
    "            dropout=transformer_dropout,\n",
    "            emb_dropout=transformer_dropout,\n",
    "            channels=3\n",
    "        )\n",
    "\n",
    "    def forward(self, x):\n",
    "        if self.cnn_state:\n",
    "            x = self.cnn(x)\n",
    "        x = self.vision_transformer(x)\n",
    "        return x\n",
    "\n",
    "    def print_config(self):\n",
    "        print(f\"Using CNN: {self.cnn_state}\")\n",
    "        print(f\"ViT dim: {self.vision_transformer.dim}, layers: {self.vision_transformer.depth}\")\n",
    "\n",
    "\n"
   ]
  },
  {
   "cell_type": "code",
   "execution_count": 4,
   "metadata": {},
   "outputs": [],
   "source": [
    "def train_model(model, dataloader, criterion, optimizer_metric, accuracy_metric, device):\n",
    "    model.train()\n",
    "    net_loss = 0\n",
    "    for images, labels in tqdm(dataloader, desc = \"TRAINIGN\"):\n",
    "        images, labels = images.to(device), labels.to(device)\n",
    "        y_hat = model(images)\n",
    "        loss = criterion(y_hat, labels)\n",
    "        optimizer_metric.zero_grad()\n",
    "        loss.backward()\n",
    "        optimizer_metric.step()\n",
    "        accuracy_metric.update(y_hat, labels)\n",
    "        net_loss += loss.item()\n",
    "    \n",
    "    epoch_accuracy = accuracy_metric.compute().item()\n",
    "    epoch_loss = net_loss/(len(dataloader))\n",
    "\n",
    "    return epoch_accuracy, epoch_loss\n",
    "\n",
    "def test_model(model, dataloader, criterion, accuracy_metric, device):\n",
    "    model.eval()\n",
    "    net_loss = 0\n",
    "    for images, labels in tqdm(dataloader, desc = \"TESTING\"):\n",
    "        image, label = images.to(device), labels.to(device)\n",
    "        y_hat = model(image)\n",
    "        loss = criterion(y_hat, label)\n",
    "        accuracy_metric.update(y_hat, label)\n",
    "        net_loss += loss.item()\n",
    "    \n",
    "    epoch_accuracy = accuracy_metric.compute().item()\n",
    "    epoch_loss = net_loss/(len(dataloader))\n",
    "\n",
    "    return epoch_accuracy, epoch_loss"
   ]
  },
  {
   "cell_type": "markdown",
   "metadata": {},
   "source": [
    "### Baseline Model (Control)"
   ]
  },
  {
   "cell_type": "code",
   "execution_count": 5,
   "metadata": {},
   "outputs": [
    {
     "name": "stdout",
     "output_type": "stream",
     "text": [
      "\n",
      "Epoch 1\n"
     ]
    },
    {
     "name": "stderr",
     "output_type": "stream",
     "text": [
      "TRAINIGN: 100%|██████████| 587/587 [00:28<00:00, 20.83it/s]\n",
      "TESTING: 100%|██████████| 147/147 [00:07<00:00, 20.29it/s]\n"
     ]
    },
    {
     "name": "stdout",
     "output_type": "stream",
     "text": [
      "Train Acc: 0.2032 | Train Loss: 2.1571 | Test Acc: 0.2108 | Test Loss: 2.071815055243823\n",
      "\n",
      "Epoch 2\n"
     ]
    },
    {
     "name": "stderr",
     "output_type": "stream",
     "text": [
      "TRAINIGN: 100%|██████████| 587/587 [00:28<00:00, 20.93it/s]\n",
      "TESTING: 100%|██████████| 147/147 [00:06<00:00, 21.61it/s]\n"
     ]
    },
    {
     "name": "stdout",
     "output_type": "stream",
     "text": [
      "Train Acc: 0.2321 | Train Loss: 2.0427 | Test Acc: 0.2365 | Test Loss: 2.0136976428583364\n",
      "\n",
      "Epoch 3\n"
     ]
    },
    {
     "name": "stderr",
     "output_type": "stream",
     "text": [
      "TRAINIGN: 100%|██████████| 587/587 [00:27<00:00, 21.64it/s]\n",
      "TESTING: 100%|██████████| 147/147 [00:06<00:00, 22.08it/s]\n"
     ]
    },
    {
     "name": "stdout",
     "output_type": "stream",
     "text": [
      "Train Acc: 0.2501 | Train Loss: 1.9862 | Test Acc: 0.2537 | Test Loss: 1.9310644208168497\n",
      "\n",
      "Epoch 4\n"
     ]
    },
    {
     "name": "stderr",
     "output_type": "stream",
     "text": [
      "TRAINIGN: 100%|██████████| 587/587 [00:25<00:00, 23.12it/s]\n",
      "TESTING: 100%|██████████| 147/147 [00:06<00:00, 22.21it/s]\n"
     ]
    },
    {
     "name": "stdout",
     "output_type": "stream",
     "text": [
      "Train Acc: 0.2626 | Train Loss: 1.9569 | Test Acc: 0.2649 | Test Loss: 1.9408069427321557\n",
      "\n",
      "Epoch 5\n"
     ]
    },
    {
     "name": "stderr",
     "output_type": "stream",
     "text": [
      "TRAINIGN: 100%|██████████| 587/587 [00:26<00:00, 22.35it/s]\n",
      "TESTING: 100%|██████████| 147/147 [00:06<00:00, 21.87it/s]\n"
     ]
    },
    {
     "name": "stdout",
     "output_type": "stream",
     "text": [
      "Train Acc: 0.2714 | Train Loss: 1.9394 | Test Acc: 0.2732 | Test Loss: 1.9254015400296165\n",
      "\n",
      "Epoch 6\n"
     ]
    },
    {
     "name": "stderr",
     "output_type": "stream",
     "text": [
      "TRAINIGN: 100%|██████████| 587/587 [00:26<00:00, 21.99it/s]\n",
      "TESTING: 100%|██████████| 147/147 [00:06<00:00, 22.26it/s]\n"
     ]
    },
    {
     "name": "stdout",
     "output_type": "stream",
     "text": [
      "Train Acc: 0.2786 | Train Loss: 1.9221 | Test Acc: 0.2801 | Test Loss: 1.899029370067882\n",
      "\n",
      "Epoch 7\n"
     ]
    },
    {
     "name": "stderr",
     "output_type": "stream",
     "text": [
      "TRAINIGN: 100%|██████████| 587/587 [00:25<00:00, 23.26it/s]\n",
      "TESTING: 100%|██████████| 147/147 [00:06<00:00, 21.61it/s]\n"
     ]
    },
    {
     "name": "stdout",
     "output_type": "stream",
     "text": [
      "Train Acc: 0.2842 | Train Loss: 1.9129 | Test Acc: 0.2855 | Test Loss: 1.8911463654771143\n",
      "\n",
      "Epoch 8\n"
     ]
    },
    {
     "name": "stderr",
     "output_type": "stream",
     "text": [
      "TRAINIGN: 100%|██████████| 587/587 [00:25<00:00, 23.24it/s]\n",
      "TESTING: 100%|██████████| 147/147 [00:06<00:00, 22.07it/s]\n"
     ]
    },
    {
     "name": "stdout",
     "output_type": "stream",
     "text": [
      "Train Acc: 0.2891 | Train Loss: 1.8975 | Test Acc: 0.2902 | Test Loss: 1.880064995921388\n",
      "\n",
      "Epoch 9\n"
     ]
    },
    {
     "name": "stderr",
     "output_type": "stream",
     "text": [
      "TRAINIGN: 100%|██████████| 587/587 [00:26<00:00, 22.34it/s]\n",
      "TESTING: 100%|██████████| 147/147 [00:06<00:00, 22.27it/s]\n"
     ]
    },
    {
     "name": "stdout",
     "output_type": "stream",
     "text": [
      "Train Acc: 0.2932 | Train Loss: 1.8901 | Test Acc: 0.2941 | Test Loss: 1.858961404586325\n",
      "\n",
      "Epoch 10\n"
     ]
    },
    {
     "name": "stderr",
     "output_type": "stream",
     "text": [
      "TRAINIGN: 100%|██████████| 587/587 [00:26<00:00, 22.46it/s]\n",
      "TESTING: 100%|██████████| 147/147 [00:06<00:00, 21.31it/s]\n"
     ]
    },
    {
     "name": "stdout",
     "output_type": "stream",
     "text": [
      "Train Acc: 0.2968 | Train Loss: 1.8801 | Test Acc: 0.2974 | Test Loss: 1.874437806557636\n",
      "\n",
      "Epoch 11\n"
     ]
    },
    {
     "name": "stderr",
     "output_type": "stream",
     "text": [
      "TRAINIGN: 100%|██████████| 587/587 [00:25<00:00, 22.65it/s]\n",
      "TESTING: 100%|██████████| 147/147 [00:06<00:00, 21.87it/s]\n"
     ]
    },
    {
     "name": "stdout",
     "output_type": "stream",
     "text": [
      "Train Acc: 0.3004 | Train Loss: 1.8557 | Test Acc: 0.3011 | Test Loss: 1.8398119121992669\n",
      "\n",
      "Epoch 12\n"
     ]
    },
    {
     "name": "stderr",
     "output_type": "stream",
     "text": [
      "TRAINIGN: 100%|██████████| 587/587 [00:26<00:00, 22.34it/s]\n",
      "TESTING: 100%|██████████| 147/147 [00:06<00:00, 21.45it/s]\n"
     ]
    },
    {
     "name": "stdout",
     "output_type": "stream",
     "text": [
      "Train Acc: 0.3036 | Train Loss: 1.8435 | Test Acc: 0.3042 | Test Loss: 1.866578685994051\n",
      "\n",
      "Epoch 13\n"
     ]
    },
    {
     "name": "stderr",
     "output_type": "stream",
     "text": [
      "TRAINIGN: 100%|██████████| 587/587 [00:25<00:00, 23.14it/s]\n",
      "TESTING: 100%|██████████| 147/147 [00:06<00:00, 21.76it/s]\n"
     ]
    },
    {
     "name": "stdout",
     "output_type": "stream",
     "text": [
      "Train Acc: 0.3066 | Train Loss: 1.8441 | Test Acc: 0.3072 | Test Loss: 1.8262993527107498\n",
      "\n",
      "Epoch 14\n"
     ]
    },
    {
     "name": "stderr",
     "output_type": "stream",
     "text": [
      "TRAINIGN: 100%|██████████| 587/587 [00:25<00:00, 22.92it/s]\n",
      "TESTING: 100%|██████████| 147/147 [00:06<00:00, 22.46it/s]\n"
     ]
    },
    {
     "name": "stdout",
     "output_type": "stream",
     "text": [
      "Train Acc: 0.3092 | Train Loss: 1.8380 | Test Acc: 0.3098 | Test Loss: 1.8361572757059215\n",
      "No improvement. Early stopping counter: 1/3\n",
      "\n",
      "Epoch 15\n"
     ]
    },
    {
     "name": "stderr",
     "output_type": "stream",
     "text": [
      "TRAINIGN: 100%|██████████| 587/587 [00:24<00:00, 23.51it/s]\n",
      "TESTING: 100%|██████████| 147/147 [00:06<00:00, 22.71it/s]\n"
     ]
    },
    {
     "name": "stdout",
     "output_type": "stream",
     "text": [
      "Train Acc: 0.3116 | Train Loss: 1.8337 | Test Acc: 0.3122 | Test Loss: 1.8233803129520545\n",
      "\n",
      "Epoch 16\n"
     ]
    },
    {
     "name": "stderr",
     "output_type": "stream",
     "text": [
      "TRAINIGN: 100%|██████████| 587/587 [00:25<00:00, 22.68it/s]\n",
      "TESTING: 100%|██████████| 147/147 [00:06<00:00, 21.42it/s]\n"
     ]
    },
    {
     "name": "stdout",
     "output_type": "stream",
     "text": [
      "Train Acc: 0.3139 | Train Loss: 1.8330 | Test Acc: 0.3144 | Test Loss: 1.8245288993225617\n",
      "No improvement. Early stopping counter: 1/3\n",
      "\n",
      "Epoch 17\n"
     ]
    },
    {
     "name": "stderr",
     "output_type": "stream",
     "text": [
      "TRAINIGN: 100%|██████████| 587/587 [00:26<00:00, 22.51it/s]\n",
      "TESTING: 100%|██████████| 147/147 [00:06<00:00, 21.40it/s]\n"
     ]
    },
    {
     "name": "stdout",
     "output_type": "stream",
     "text": [
      "Train Acc: 0.3159 | Train Loss: 1.8250 | Test Acc: 0.3163 | Test Loss: 1.8345141840629837\n",
      "\n",
      "Epoch 18\n"
     ]
    },
    {
     "name": "stderr",
     "output_type": "stream",
     "text": [
      "TRAINIGN: 100%|██████████| 587/587 [00:25<00:00, 22.81it/s]\n",
      "TESTING: 100%|██████████| 147/147 [00:06<00:00, 22.50it/s]\n"
     ]
    },
    {
     "name": "stdout",
     "output_type": "stream",
     "text": [
      "Train Acc: 0.3177 | Train Loss: 1.8313 | Test Acc: 0.3180 | Test Loss: 1.8456723268340234\n",
      "No improvement. Early stopping counter: 1/3\n",
      "\n",
      "Epoch 19\n"
     ]
    },
    {
     "name": "stderr",
     "output_type": "stream",
     "text": [
      "TRAINIGN: 100%|██████████| 587/587 [00:25<00:00, 22.77it/s]\n",
      "TESTING: 100%|██████████| 147/147 [00:06<00:00, 21.58it/s]\n"
     ]
    },
    {
     "name": "stdout",
     "output_type": "stream",
     "text": [
      "Train Acc: 0.3193 | Train Loss: 1.8232 | Test Acc: 0.3198 | Test Loss: 1.8120913740728988\n",
      "\n",
      "Epoch 20\n"
     ]
    },
    {
     "name": "stderr",
     "output_type": "stream",
     "text": [
      "TRAINIGN: 100%|██████████| 587/587 [00:25<00:00, 23.34it/s]\n",
      "TESTING: 100%|██████████| 147/147 [00:06<00:00, 22.95it/s]\n"
     ]
    },
    {
     "name": "stdout",
     "output_type": "stream",
     "text": [
      "Train Acc: 0.3210 | Train Loss: 1.8208 | Test Acc: 0.3212 | Test Loss: 1.8574426076850112\n",
      "No improvement. Early stopping counter: 1/3\n",
      "\n",
      "Epoch 21\n"
     ]
    },
    {
     "name": "stderr",
     "output_type": "stream",
     "text": [
      "TRAINIGN: 100%|██████████| 587/587 [00:25<00:00, 23.25it/s]\n",
      "TESTING: 100%|██████████| 147/147 [00:06<00:00, 21.76it/s]\n"
     ]
    },
    {
     "name": "stdout",
     "output_type": "stream",
     "text": [
      "Train Acc: 0.3224 | Train Loss: 1.8118 | Test Acc: 0.3228 | Test Loss: 1.7909330916242534\n",
      "\n",
      "Epoch 22\n"
     ]
    },
    {
     "name": "stderr",
     "output_type": "stream",
     "text": [
      "TRAINIGN: 100%|██████████| 587/587 [00:25<00:00, 22.85it/s]\n",
      "TESTING: 100%|██████████| 147/147 [00:06<00:00, 22.14it/s]\n"
     ]
    },
    {
     "name": "stdout",
     "output_type": "stream",
     "text": [
      "Train Acc: 0.3240 | Train Loss: 1.8077 | Test Acc: 0.3244 | Test Loss: 1.7996359958129675\n",
      "No improvement. Early stopping counter: 1/3\n",
      "\n",
      "Epoch 23\n"
     ]
    },
    {
     "name": "stderr",
     "output_type": "stream",
     "text": [
      "TRAINIGN: 100%|██████████| 587/587 [00:25<00:00, 23.21it/s]\n",
      "TESTING: 100%|██████████| 147/147 [00:06<00:00, 21.86it/s]\n"
     ]
    },
    {
     "name": "stdout",
     "output_type": "stream",
     "text": [
      "Train Acc: 0.3254 | Train Loss: 1.8069 | Test Acc: 0.3257 | Test Loss: 1.8098255785144106\n",
      "No improvement. Early stopping counter: 2/3\n",
      "\n",
      "Epoch 24\n"
     ]
    },
    {
     "name": "stderr",
     "output_type": "stream",
     "text": [
      "TRAINIGN: 100%|██████████| 587/587 [00:25<00:00, 23.23it/s]\n",
      "TESTING: 100%|██████████| 147/147 [00:06<00:00, 22.53it/s]\n"
     ]
    },
    {
     "name": "stdout",
     "output_type": "stream",
     "text": [
      "Train Acc: 0.3267 | Train Loss: 1.8032 | Test Acc: 0.3270 | Test Loss: 1.8108549207246223\n",
      "\n",
      "Epoch 25\n"
     ]
    },
    {
     "name": "stderr",
     "output_type": "stream",
     "text": [
      "TRAINIGN: 100%|██████████| 587/587 [00:24<00:00, 23.70it/s]\n",
      "TESTING: 100%|██████████| 147/147 [00:06<00:00, 21.90it/s]\n"
     ]
    },
    {
     "name": "stdout",
     "output_type": "stream",
     "text": [
      "Train Acc: 0.3280 | Train Loss: 1.8014 | Test Acc: 0.3282 | Test Loss: 1.8037900000202411\n",
      "No improvement. Early stopping counter: 1/3\n",
      "\n",
      "Epoch 26\n"
     ]
    },
    {
     "name": "stderr",
     "output_type": "stream",
     "text": [
      "TRAINIGN: 100%|██████████| 587/587 [00:25<00:00, 23.35it/s]\n",
      "TESTING: 100%|██████████| 147/147 [00:06<00:00, 21.68it/s]\n"
     ]
    },
    {
     "name": "stdout",
     "output_type": "stream",
     "text": [
      "Train Acc: 0.3291 | Train Loss: 1.8012 | Test Acc: 0.3294 | Test Loss: 1.8146127640795546\n",
      "No improvement. Early stopping counter: 2/3\n",
      "\n",
      "Epoch 27\n"
     ]
    },
    {
     "name": "stderr",
     "output_type": "stream",
     "text": [
      "TRAINIGN: 100%|██████████| 587/587 [00:25<00:00, 22.63it/s]\n",
      "TESTING: 100%|██████████| 147/147 [00:06<00:00, 21.62it/s]\n"
     ]
    },
    {
     "name": "stdout",
     "output_type": "stream",
     "text": [
      "Train Acc: 0.3302 | Train Loss: 1.8033 | Test Acc: 0.3304 | Test Loss: 1.7960099792804847\n",
      "\n",
      "Epoch 28\n"
     ]
    },
    {
     "name": "stderr",
     "output_type": "stream",
     "text": [
      "TRAINIGN: 100%|██████████| 587/587 [00:26<00:00, 22.35it/s]\n",
      "TESTING: 100%|██████████| 147/147 [00:06<00:00, 22.10it/s]\n"
     ]
    },
    {
     "name": "stdout",
     "output_type": "stream",
     "text": [
      "Train Acc: 0.3311 | Train Loss: 1.8028 | Test Acc: 0.3314 | Test Loss: 1.8031347754861222\n",
      "No improvement. Early stopping counter: 1/3\n",
      "\n",
      "Epoch 29\n"
     ]
    },
    {
     "name": "stderr",
     "output_type": "stream",
     "text": [
      "TRAINIGN: 100%|██████████| 587/587 [00:25<00:00, 22.98it/s]\n",
      "TESTING: 100%|██████████| 147/147 [00:06<00:00, 22.18it/s]\n"
     ]
    },
    {
     "name": "stdout",
     "output_type": "stream",
     "text": [
      "Train Acc: 0.3320 | Train Loss: 1.8043 | Test Acc: 0.3322 | Test Loss: 1.8095750208614634\n",
      "No improvement. Early stopping counter: 2/3\n",
      "\n",
      "Epoch 30\n"
     ]
    },
    {
     "name": "stderr",
     "output_type": "stream",
     "text": [
      "TRAINIGN: 100%|██████████| 587/587 [00:25<00:00, 23.20it/s]\n",
      "TESTING: 100%|██████████| 147/147 [00:06<00:00, 22.00it/s]"
     ]
    },
    {
     "name": "stdout",
     "output_type": "stream",
     "text": [
      "Train Acc: 0.3329 | Train Loss: 1.7990 | Test Acc: 0.3331 | Test Loss: 1.8265813134965443\n",
      "No improvement. Early stopping counter: 3/3\n",
      "Early stopping triggered.\n"
     ]
    },
    {
     "name": "stderr",
     "output_type": "stream",
     "text": [
      "\n"
     ]
    }
   ],
   "source": [
    "\n",
    "device = torch.device(\"cuda\" if torch.cuda.is_available() else \"cpu\")\n",
    "\n",
    "model = BirdClassifier(cnn_state=False).to(device)\n",
    "criterion = nn.CrossEntropyLoss().to(device)\n",
    "optimizer = optim.Adam(model.parameters(), lr=3e-4)\n",
    "accuracy_score = Accuracy(task = 'multiclass', num_classes = 10).to(device)\n",
    "\n",
    "scheduler = StepLR(optimizer, step_size=10, gamma=0.5)\n",
    "\n",
    "patience = 3\n",
    "min_delta = 3e-3\n",
    "best_accuracy = 0\n",
    "counter = 0\n",
    "best_test_acc = 0\n",
    "\n",
    "loss_scores_train = []\n",
    "accuracy_scores_train = []\n",
    "loss_scores_test = []\n",
    "accuracy_scores_test = []\n",
    "\n",
    "for epoch in range(200):  \n",
    "    print(f\"\\nEpoch {epoch+1}\")\n",
    "    train_acc, train_loss = train_model(model, training_dataset, criterion, optimizer, accuracy_score, device)\n",
    "    test_acc, test_loss = test_model(model, testing_dataset, criterion, accuracy_score, device)\n",
    "    \n",
    "    accuracy_scores_train.append(train_acc)\n",
    "    loss_scores_train.append(train_loss)\n",
    "\n",
    "    accuracy_scores_test.append(test_acc)\n",
    "    loss_scores_test.append(test_loss)\n",
    "    print(f\"Train Acc: {train_acc:.4f} | Train Loss: {train_loss:.4f} | Test Acc: {test_acc:.4f} | Test Loss: {test_loss}\")\n",
    "    scheduler.step()\n",
    "    \n",
    "    if test_acc - best_test_acc > min_delta:\n",
    "        best_test_acc = test_acc\n",
    "        counter = 0\n",
    "    else:\n",
    "        counter += 1\n",
    "        print(f\"No improvement. Early stopping counter: {counter}/{patience}\")\n",
    "        if counter >= patience:\n",
    "            print(\"Early stopping triggered.\")\n",
    "            break"
   ]
  },
  {
   "cell_type": "code",
   "execution_count": 6,
   "metadata": {},
   "outputs": [
    {
     "data": {
      "text/plain": [
       "<matplotlib.legend.Legend at 0x79c642670290>"
      ]
     },
     "execution_count": 6,
     "metadata": {},
     "output_type": "execute_result"
    },
    {
     "data": {
      "image/png": "[encoded data removed]",
      "text/plain": [
       "<Figure size 640x480 with 1 Axes>"
      ]
     },
     "metadata": {},
     "output_type": "display_data"
    }
   ],
   "source": [
    "x = list(range(1, len(loss_scores_train) + 1))\n",
    "\n",
    "plt.figure()\n",
    "plt.plot(x, loss_scores_train, label='Train Loss')\n",
    "plt.xlabel('Epoch')\n",
    "plt.ylabel('Loss')\n",
    "plt.title('Training Loss over Epochs')\n",
    "plt.grid(True)\n",
    "plt.legend()"
   ]
  },
  {
   "cell_type": "code",
   "execution_count": 7,
   "metadata": {},
   "outputs": [
    {
     "data": {
      "image/png": "[encoded data removed]",
      "text/plain": [
       "<Figure size 640x480 with 1 Axes>"
      ]
     },
     "metadata": {},
     "output_type": "display_data"
    }
   ],
   "source": [
    "plt.figure()\n",
    "plt.plot(x, accuracy_scores_train, label='Train Accuracy')\n",
    "plt.xlabel('Epoch')\n",
    "plt.ylabel('Accuracy')\n",
    "plt.title('Training Accuracy over Epochs')\n",
    "plt.grid(True)\n",
    "plt.legend()\n",
    "plt.show()"
   ]
  },
  {
   "cell_type": "code",
   "execution_count": 8,
   "metadata": {},
   "outputs": [],
   "source": [
    "torch.save(model.state_dict(), \"bird_classifier_3.pth\")"
   ]
  },
  {
   "cell_type": "markdown",
   "metadata": {},
   "source": [
    "### Experiment 1 - Multihead\n",
    "\n",
    "baseline is one,  test 2 then 4 then 8"
   ]
  },
  {
   "cell_type": "markdown",
   "metadata": {},
   "source": [
    "2 heads"
   ]
  },
  {
   "cell_type": "code",
   "execution_count": 9,
   "metadata": {},
   "outputs": [
    {
     "name": "stdout",
     "output_type": "stream",
     "text": [
      "\n",
      "Epoch 1\n"
     ]
    },
    {
     "name": "stderr",
     "output_type": "stream",
     "text": [
      "TRAINIGN: 100%|██████████| 587/587 [00:26<00:00, 21.94it/s]\n",
      "TESTING: 100%|██████████| 147/147 [00:06<00:00, 21.66it/s]\n"
     ]
    },
    {
     "name": "stdout",
     "output_type": "stream",
     "text": [
      "Train Acc: 0.2438 | Train Loss: 2.0679 | Test Acc: 0.2564 | Test Loss: 1.9623219910122098\n",
      "\n",
      "Epoch 2\n"
     ]
    },
    {
     "name": "stderr",
     "output_type": "stream",
     "text": [
      "TRAINIGN: 100%|██████████| 587/587 [00:26<00:00, 21.96it/s]\n",
      "TESTING: 100%|██████████| 147/147 [00:07<00:00, 20.99it/s]\n"
     ]
    },
    {
     "name": "stdout",
     "output_type": "stream",
     "text": [
      "Train Acc: 0.2763 | Train Loss: 1.9481 | Test Acc: 0.2824 | Test Loss: 1.8805942965202591\n",
      "\n",
      "Epoch 3\n"
     ]
    },
    {
     "name": "stderr",
     "output_type": "stream",
     "text": [
      "TRAINIGN: 100%|██████████| 587/587 [00:26<00:00, 21.80it/s]\n",
      "TESTING: 100%|██████████| 147/147 [00:07<00:00, 20.75it/s]\n"
     ]
    },
    {
     "name": "stdout",
     "output_type": "stream",
     "text": [
      "Train Acc: 0.2935 | Train Loss: 1.8992 | Test Acc: 0.2956 | Test Loss: 1.8957052255163387\n",
      "\n",
      "Epoch 4\n"
     ]
    },
    {
     "name": "stderr",
     "output_type": "stream",
     "text": [
      "TRAINIGN: 100%|██████████| 587/587 [00:27<00:00, 21.40it/s]\n",
      "TESTING: 100%|██████████| 147/147 [00:07<00:00, 20.64it/s]\n"
     ]
    },
    {
     "name": "stdout",
     "output_type": "stream",
     "text": [
      "Train Acc: 0.3033 | Train Loss: 1.8668 | Test Acc: 0.3057 | Test Loss: 1.8587747009433047\n",
      "\n",
      "Epoch 5\n"
     ]
    },
    {
     "name": "stderr",
     "output_type": "stream",
     "text": [
      "TRAINIGN: 100%|██████████| 587/587 [00:26<00:00, 22.04it/s]\n",
      "TESTING: 100%|██████████| 147/147 [00:06<00:00, 22.51it/s]\n"
     ]
    },
    {
     "name": "stdout",
     "output_type": "stream",
     "text": [
      "Train Acc: 0.3120 | Train Loss: 1.8451 | Test Acc: 0.3143 | Test Loss: 1.7932055377635827\n",
      "\n",
      "Epoch 6\n"
     ]
    },
    {
     "name": "stderr",
     "output_type": "stream",
     "text": [
      "TRAINIGN: 100%|██████████| 587/587 [00:25<00:00, 22.66it/s]\n",
      "TESTING: 100%|██████████| 147/147 [00:06<00:00, 21.95it/s]\n"
     ]
    },
    {
     "name": "stdout",
     "output_type": "stream",
     "text": [
      "Train Acc: 0.3195 | Train Loss: 1.8214 | Test Acc: 0.3209 | Test Loss: 1.832589601172882\n",
      "\n",
      "Epoch 7\n"
     ]
    },
    {
     "name": "stderr",
     "output_type": "stream",
     "text": [
      "TRAINIGN: 100%|██████████| 587/587 [00:26<00:00, 22.24it/s]\n",
      "TESTING: 100%|██████████| 147/147 [00:06<00:00, 21.60it/s]\n"
     ]
    },
    {
     "name": "stdout",
     "output_type": "stream",
     "text": [
      "Train Acc: 0.3259 | Train Loss: 1.7965 | Test Acc: 0.3269 | Test Loss: 1.8193938415877673\n",
      "\n",
      "Epoch 8\n"
     ]
    },
    {
     "name": "stderr",
     "output_type": "stream",
     "text": [
      "TRAINIGN: 100%|██████████| 587/587 [00:24<00:00, 24.19it/s]\n",
      "TESTING: 100%|██████████| 147/147 [00:06<00:00, 22.56it/s]\n"
     ]
    },
    {
     "name": "stdout",
     "output_type": "stream",
     "text": [
      "Train Acc: 0.3308 | Train Loss: 1.7879 | Test Acc: 0.3320 | Test Loss: 1.787510710508645\n",
      "\n",
      "Epoch 9\n"
     ]
    },
    {
     "name": "stderr",
     "output_type": "stream",
     "text": [
      "TRAINIGN: 100%|██████████| 587/587 [00:25<00:00, 23.01it/s]\n",
      "TESTING: 100%|██████████| 147/147 [00:06<00:00, 21.90it/s]\n"
     ]
    },
    {
     "name": "stdout",
     "output_type": "stream",
     "text": [
      "Train Acc: 0.3358 | Train Loss: 1.7740 | Test Acc: 0.3366 | Test Loss: 1.7927452650199942\n",
      "\n",
      "Epoch 10\n"
     ]
    },
    {
     "name": "stderr",
     "output_type": "stream",
     "text": [
      "TRAINIGN: 100%|██████████| 587/587 [00:25<00:00, 23.15it/s]\n",
      "TESTING: 100%|██████████| 147/147 [00:06<00:00, 22.25it/s]\n"
     ]
    },
    {
     "name": "stdout",
     "output_type": "stream",
     "text": [
      "Train Acc: 0.3398 | Train Loss: 1.7644 | Test Acc: 0.3407 | Test Loss: 1.7464452422395045\n",
      "\n",
      "Epoch 11\n"
     ]
    },
    {
     "name": "stderr",
     "output_type": "stream",
     "text": [
      "TRAINIGN: 100%|██████████| 587/587 [00:26<00:00, 22.56it/s]\n",
      "TESTING: 100%|██████████| 147/147 [00:06<00:00, 21.79it/s]\n"
     ]
    },
    {
     "name": "stdout",
     "output_type": "stream",
     "text": [
      "Train Acc: 0.3435 | Train Loss: 1.7548 | Test Acc: 0.3444 | Test Loss: 1.7391238042286463\n",
      "\n",
      "Epoch 12\n"
     ]
    },
    {
     "name": "stderr",
     "output_type": "stream",
     "text": [
      "TRAINIGN: 100%|██████████| 587/587 [00:25<00:00, 22.97it/s]\n",
      "TESTING: 100%|██████████| 147/147 [00:06<00:00, 21.67it/s]\n"
     ]
    },
    {
     "name": "stdout",
     "output_type": "stream",
     "text": [
      "Train Acc: 0.3469 | Train Loss: 1.7463 | Test Acc: 0.3475 | Test Loss: 1.7657955901152422\n",
      "\n",
      "Epoch 13\n"
     ]
    },
    {
     "name": "stderr",
     "output_type": "stream",
     "text": [
      "TRAINIGN: 100%|██████████| 587/587 [00:24<00:00, 23.54it/s]\n",
      "TESTING: 100%|██████████| 147/147 [00:06<00:00, 22.98it/s]\n"
     ]
    },
    {
     "name": "stdout",
     "output_type": "stream",
     "text": [
      "Train Acc: 0.3497 | Train Loss: 1.7360 | Test Acc: 0.3505 | Test Loss: 1.710728401229495\n",
      "\n",
      "Epoch 14\n"
     ]
    },
    {
     "name": "stderr",
     "output_type": "stream",
     "text": [
      "TRAINIGN: 100%|██████████| 587/587 [00:26<00:00, 22.28it/s]\n",
      "TESTING: 100%|██████████| 147/147 [00:06<00:00, 21.64it/s]\n"
     ]
    },
    {
     "name": "stdout",
     "output_type": "stream",
     "text": [
      "Train Acc: 0.3525 | Train Loss: 1.7326 | Test Acc: 0.3530 | Test Loss: 1.75510573711525\n",
      "No improvement. Early stopping counter: 1/3\n",
      "\n",
      "Epoch 15\n"
     ]
    },
    {
     "name": "stderr",
     "output_type": "stream",
     "text": [
      "TRAINIGN: 100%|██████████| 587/587 [00:25<00:00, 22.97it/s]\n",
      "TESTING: 100%|██████████| 147/147 [00:06<00:00, 23.09it/s]\n"
     ]
    },
    {
     "name": "stdout",
     "output_type": "stream",
     "text": [
      "Train Acc: 0.3549 | Train Loss: 1.7232 | Test Acc: 0.3556 | Test Loss: 1.6925215080481808\n",
      "\n",
      "Epoch 16\n"
     ]
    },
    {
     "name": "stderr",
     "output_type": "stream",
     "text": [
      "TRAINIGN: 100%|██████████| 587/587 [00:26<00:00, 22.50it/s]\n",
      "TESTING: 100%|██████████| 147/147 [00:06<00:00, 23.35it/s]\n"
     ]
    },
    {
     "name": "stdout",
     "output_type": "stream",
     "text": [
      "Train Acc: 0.3573 | Train Loss: 1.7230 | Test Acc: 0.3578 | Test Loss: 1.7040958574840002\n",
      "No improvement. Early stopping counter: 1/3\n",
      "\n",
      "Epoch 17\n"
     ]
    },
    {
     "name": "stderr",
     "output_type": "stream",
     "text": [
      "TRAINIGN: 100%|██████████| 587/587 [00:24<00:00, 23.92it/s]\n",
      "TESTING: 100%|██████████| 147/147 [00:06<00:00, 23.25it/s]\n"
     ]
    },
    {
     "name": "stdout",
     "output_type": "stream",
     "text": [
      "Train Acc: 0.3596 | Train Loss: 1.7157 | Test Acc: 0.3599 | Test Loss: 1.7506412267684937\n",
      "\n",
      "Epoch 18\n"
     ]
    },
    {
     "name": "stderr",
     "output_type": "stream",
     "text": [
      "TRAINIGN: 100%|██████████| 587/587 [00:25<00:00, 22.68it/s]\n",
      "TESTING: 100%|██████████| 147/147 [00:07<00:00, 19.79it/s]\n"
     ]
    },
    {
     "name": "stdout",
     "output_type": "stream",
     "text": [
      "Train Acc: 0.3614 | Train Loss: 1.7125 | Test Acc: 0.3619 | Test Loss: 1.6973216038982883\n",
      "No improvement. Early stopping counter: 1/3\n",
      "\n",
      "Epoch 19\n"
     ]
    },
    {
     "name": "stderr",
     "output_type": "stream",
     "text": [
      "TRAINIGN: 100%|██████████| 587/587 [00:27<00:00, 21.59it/s]\n",
      "TESTING: 100%|██████████| 147/147 [00:06<00:00, 22.23it/s]\n"
     ]
    },
    {
     "name": "stdout",
     "output_type": "stream",
     "text": [
      "Train Acc: 0.3634 | Train Loss: 1.7054 | Test Acc: 0.3637 | Test Loss: 1.7193131957735335\n",
      "\n",
      "Epoch 20\n"
     ]
    },
    {
     "name": "stderr",
     "output_type": "stream",
     "text": [
      "TRAINIGN: 100%|██████████| 587/587 [00:25<00:00, 22.67it/s]\n",
      "TESTING: 100%|██████████| 147/147 [00:06<00:00, 21.73it/s]\n"
     ]
    },
    {
     "name": "stdout",
     "output_type": "stream",
     "text": [
      "Train Acc: 0.3651 | Train Loss: 1.7065 | Test Acc: 0.3655 | Test Loss: 1.7131314050583613\n",
      "No improvement. Early stopping counter: 1/3\n",
      "\n",
      "Epoch 21\n"
     ]
    },
    {
     "name": "stderr",
     "output_type": "stream",
     "text": [
      "TRAINIGN: 100%|██████████| 587/587 [00:25<00:00, 22.85it/s]\n",
      "TESTING: 100%|██████████| 147/147 [00:06<00:00, 22.41it/s]\n"
     ]
    },
    {
     "name": "stdout",
     "output_type": "stream",
     "text": [
      "Train Acc: 0.3667 | Train Loss: 1.7014 | Test Acc: 0.3671 | Test Loss: 1.6790578722142848\n",
      "\n",
      "Epoch 22\n"
     ]
    },
    {
     "name": "stderr",
     "output_type": "stream",
     "text": [
      "TRAINIGN: 100%|██████████| 587/587 [00:25<00:00, 22.92it/s]\n",
      "TESTING: 100%|██████████| 147/147 [00:06<00:00, 22.03it/s]\n"
     ]
    },
    {
     "name": "stdout",
     "output_type": "stream",
     "text": [
      "Train Acc: 0.3682 | Train Loss: 1.6984 | Test Acc: 0.3686 | Test Loss: 1.6759938634171778\n",
      "No improvement. Early stopping counter: 1/3\n",
      "\n",
      "Epoch 23\n"
     ]
    },
    {
     "name": "stderr",
     "output_type": "stream",
     "text": [
      "TRAINIGN: 100%|██████████| 587/587 [00:25<00:00, 23.14it/s]\n",
      "TESTING: 100%|██████████| 147/147 [00:06<00:00, 21.37it/s]\n"
     ]
    },
    {
     "name": "stdout",
     "output_type": "stream",
     "text": [
      "Train Acc: 0.3698 | Train Loss: 1.6923 | Test Acc: 0.3701 | Test Loss: 1.6872549194867918\n",
      "\n",
      "Epoch 24\n"
     ]
    },
    {
     "name": "stderr",
     "output_type": "stream",
     "text": [
      "TRAINIGN: 100%|██████████| 587/587 [00:26<00:00, 22.52it/s]\n",
      "TESTING: 100%|██████████| 147/147 [00:06<00:00, 22.85it/s]\n"
     ]
    },
    {
     "name": "stdout",
     "output_type": "stream",
     "text": [
      "Train Acc: 0.3713 | Train Loss: 1.6895 | Test Acc: 0.3716 | Test Loss: 1.7003118529611705\n",
      "No improvement. Early stopping counter: 1/3\n",
      "\n",
      "Epoch 25\n"
     ]
    },
    {
     "name": "stderr",
     "output_type": "stream",
     "text": [
      "TRAINIGN: 100%|██████████| 587/587 [00:23<00:00, 24.55it/s]\n",
      "TESTING: 100%|██████████| 147/147 [00:06<00:00, 22.26it/s]\n"
     ]
    },
    {
     "name": "stdout",
     "output_type": "stream",
     "text": [
      "Train Acc: 0.3726 | Train Loss: 1.6915 | Test Acc: 0.3729 | Test Loss: 1.6834314575000686\n",
      "No improvement. Early stopping counter: 2/3\n",
      "\n",
      "Epoch 26\n"
     ]
    },
    {
     "name": "stderr",
     "output_type": "stream",
     "text": [
      "TRAINIGN: 100%|██████████| 587/587 [00:26<00:00, 22.48it/s]\n",
      "TESTING: 100%|██████████| 147/147 [00:06<00:00, 22.04it/s]\n"
     ]
    },
    {
     "name": "stdout",
     "output_type": "stream",
     "text": [
      "Train Acc: 0.3739 | Train Loss: 1.6854 | Test Acc: 0.3741 | Test Loss: 1.713954097559663\n",
      "\n",
      "Epoch 27\n"
     ]
    },
    {
     "name": "stderr",
     "output_type": "stream",
     "text": [
      "TRAINIGN: 100%|██████████| 587/587 [00:25<00:00, 23.15it/s]\n",
      "TESTING: 100%|██████████| 147/147 [00:06<00:00, 22.70it/s]\n"
     ]
    },
    {
     "name": "stdout",
     "output_type": "stream",
     "text": [
      "Train Acc: 0.3751 | Train Loss: 1.6822 | Test Acc: 0.3754 | Test Loss: 1.6645978308048377\n",
      "No improvement. Early stopping counter: 1/3\n",
      "\n",
      "Epoch 28\n"
     ]
    },
    {
     "name": "stderr",
     "output_type": "stream",
     "text": [
      "TRAINIGN: 100%|██████████| 587/587 [00:25<00:00, 23.13it/s]\n",
      "TESTING: 100%|██████████| 147/147 [00:06<00:00, 21.61it/s]\n"
     ]
    },
    {
     "name": "stdout",
     "output_type": "stream",
     "text": [
      "Train Acc: 0.3764 | Train Loss: 1.6764 | Test Acc: 0.3767 | Test Loss: 1.6568772817144588\n",
      "No improvement. Early stopping counter: 2/3\n",
      "\n",
      "Epoch 29\n"
     ]
    },
    {
     "name": "stderr",
     "output_type": "stream",
     "text": [
      "TRAINIGN: 100%|██████████| 587/587 [00:27<00:00, 21.56it/s]\n",
      "TESTING: 100%|██████████| 147/147 [00:06<00:00, 21.30it/s]\n"
     ]
    },
    {
     "name": "stdout",
     "output_type": "stream",
     "text": [
      "Train Acc: 0.3775 | Train Loss: 1.6768 | Test Acc: 0.3778 | Test Loss: 1.6955910823783096\n",
      "\n",
      "Epoch 30\n"
     ]
    },
    {
     "name": "stderr",
     "output_type": "stream",
     "text": [
      "TRAINIGN: 100%|██████████| 587/587 [00:26<00:00, 22.12it/s]\n",
      "TESTING: 100%|██████████| 147/147 [00:06<00:00, 22.60it/s]\n"
     ]
    },
    {
     "name": "stdout",
     "output_type": "stream",
     "text": [
      "Train Acc: 0.3785 | Train Loss: 1.6774 | Test Acc: 0.3788 | Test Loss: 1.680574309258234\n",
      "No improvement. Early stopping counter: 1/3\n",
      "\n",
      "Epoch 31\n"
     ]
    },
    {
     "name": "stderr",
     "output_type": "stream",
     "text": [
      "TRAINIGN: 100%|██████████| 587/587 [00:25<00:00, 23.01it/s]\n",
      "TESTING: 100%|██████████| 147/147 [00:06<00:00, 23.08it/s]\n"
     ]
    },
    {
     "name": "stdout",
     "output_type": "stream",
     "text": [
      "Train Acc: 0.3796 | Train Loss: 1.6758 | Test Acc: 0.3798 | Test Loss: 1.6741265577523887\n",
      "No improvement. Early stopping counter: 2/3\n",
      "\n",
      "Epoch 32\n"
     ]
    },
    {
     "name": "stderr",
     "output_type": "stream",
     "text": [
      "TRAINIGN: 100%|██████████| 587/587 [00:24<00:00, 23.49it/s]\n",
      "TESTING: 100%|██████████| 147/147 [00:07<00:00, 20.77it/s]"
     ]
    },
    {
     "name": "stdout",
     "output_type": "stream",
     "text": [
      "Train Acc: 0.3806 | Train Loss: 1.6762 | Test Acc: 0.3807 | Test Loss: 1.6899487647880502\n",
      "No improvement. Early stopping counter: 3/3\n",
      "Early stopping triggered.\n"
     ]
    },
    {
     "name": "stderr",
     "output_type": "stream",
     "text": [
      "\n"
     ]
    }
   ],
   "source": [
    "device = torch.device(\"cuda\" if torch.cuda.is_available() else \"cpu\")\n",
    "\n",
    "model_multihead_2 = BirdClassifier(cnn_state=False, head_count= 2).to(device)\n",
    "criterion = nn.CrossEntropyLoss().to(device)\n",
    "optimizer = optim.Adam(model_multihead_2.parameters(), lr=3e-4)\n",
    "accuracy_score = Accuracy(task = 'multiclass', num_classes = 10).to(device)\n",
    "\n",
    "\n",
    "patience = 3\n",
    "min_delta = 3e-3\n",
    "best_accuracy = 0\n",
    "counter = 0\n",
    "best_test_acc = 0\n",
    "\n",
    "loss_scores_train_multihead_2 = []\n",
    "accuracy_scores_train_multihead_2 = []\n",
    "\n",
    "loss_scores_test_multihead_2 = []\n",
    "accuracy_scores_test_multihead_2 = []\n",
    "\n",
    "for epoch in range(200):  \n",
    "    print(f\"\\nEpoch {epoch+1}\")\n",
    "    train_acc, train_loss = train_model(model_multihead_2, training_dataset, criterion, optimizer, accuracy_score, device)\n",
    "    test_acc, test_loss = test_model(model_multihead_2, testing_dataset, criterion, accuracy_score, device)\n",
    "    \n",
    "    accuracy_scores_train_multihead_2.append(train_acc)\n",
    "    loss_scores_train_multihead_2.append(train_loss)\n",
    "\n",
    "    accuracy_scores_test_multihead_2.append(test_acc)\n",
    "    loss_scores_test_multihead_2.append(test_loss)\n",
    "    print(f\"Train Acc: {train_acc:.4f} | Train Loss: {train_loss:.4f} | Test Acc: {test_acc:.4f} | Test Loss: {test_loss}\")\n",
    "    \n",
    "    if test_acc - best_test_acc > min_delta:\n",
    "        best_test_acc = test_acc\n",
    "        counter = 0\n",
    "    else:\n",
    "        counter += 1\n",
    "        print(f\"No improvement. Early stopping counter: {counter}/{patience}\")\n",
    "        if counter >= patience:\n",
    "            print(\"Early stopping triggered.\")\n",
    "            break"
   ]
  },
  {
   "cell_type": "markdown",
   "metadata": {},
   "source": [
    "4 heads"
   ]
  },
  {
   "cell_type": "code",
   "execution_count": 10,
   "metadata": {},
   "outputs": [
    {
     "name": "stdout",
     "output_type": "stream",
     "text": [
      "\n",
      "Epoch 1\n"
     ]
    },
    {
     "name": "stderr",
     "output_type": "stream",
     "text": [
      "TRAINIGN: 100%|██████████| 587/587 [00:26<00:00, 22.31it/s]\n",
      "TESTING: 100%|██████████| 147/147 [00:07<00:00, 20.48it/s]\n"
     ]
    },
    {
     "name": "stdout",
     "output_type": "stream",
     "text": [
      "Train Acc: 0.2611 | Train Loss: 2.0321 | Test Acc: 0.2732 | Test Loss: 1.9193107116790045\n",
      "\n",
      "Epoch 2\n"
     ]
    },
    {
     "name": "stderr",
     "output_type": "stream",
     "text": [
      "TRAINIGN: 100%|██████████| 587/587 [00:26<00:00, 22.48it/s]\n",
      "TESTING: 100%|██████████| 147/147 [00:07<00:00, 19.94it/s]\n"
     ]
    },
    {
     "name": "stdout",
     "output_type": "stream",
     "text": [
      "Train Acc: 0.2934 | Train Loss: 1.9028 | Test Acc: 0.2989 | Test Loss: 1.8408062498585707\n",
      "\n",
      "Epoch 3\n"
     ]
    },
    {
     "name": "stderr",
     "output_type": "stream",
     "text": [
      "TRAINIGN: 100%|██████████| 587/587 [00:26<00:00, 21.98it/s]\n",
      "TESTING: 100%|██████████| 147/147 [00:07<00:00, 20.63it/s]\n"
     ]
    },
    {
     "name": "stdout",
     "output_type": "stream",
     "text": [
      "Train Acc: 0.3118 | Train Loss: 1.8475 | Test Acc: 0.3161 | Test Loss: 1.7963673573772923\n",
      "\n",
      "Epoch 4\n"
     ]
    },
    {
     "name": "stderr",
     "output_type": "stream",
     "text": [
      "TRAINIGN: 100%|██████████| 587/587 [00:27<00:00, 21.61it/s]\n",
      "TESTING: 100%|██████████| 147/147 [00:06<00:00, 21.44it/s]\n"
     ]
    },
    {
     "name": "stdout",
     "output_type": "stream",
     "text": [
      "Train Acc: 0.3240 | Train Loss: 1.8136 | Test Acc: 0.3268 | Test Loss: 1.7556094766474095\n",
      "\n",
      "Epoch 5\n"
     ]
    },
    {
     "name": "stderr",
     "output_type": "stream",
     "text": [
      "TRAINIGN: 100%|██████████| 587/587 [00:27<00:00, 21.65it/s]\n",
      "TESTING: 100%|██████████| 147/147 [00:06<00:00, 21.22it/s]\n"
     ]
    },
    {
     "name": "stdout",
     "output_type": "stream",
     "text": [
      "Train Acc: 0.3333 | Train Loss: 1.7816 | Test Acc: 0.3355 | Test Loss: 1.7383225848074673\n",
      "\n",
      "Epoch 6\n"
     ]
    },
    {
     "name": "stderr",
     "output_type": "stream",
     "text": [
      "TRAINIGN: 100%|██████████| 587/587 [00:25<00:00, 23.07it/s]\n",
      "TESTING: 100%|██████████| 147/147 [00:07<00:00, 20.46it/s]\n"
     ]
    },
    {
     "name": "stdout",
     "output_type": "stream",
     "text": [
      "Train Acc: 0.3409 | Train Loss: 1.7610 | Test Acc: 0.3425 | Test Loss: 1.7630439988609885\n",
      "\n",
      "Epoch 7\n"
     ]
    },
    {
     "name": "stderr",
     "output_type": "stream",
     "text": [
      "TRAINIGN: 100%|██████████| 587/587 [00:27<00:00, 21.23it/s]\n",
      "TESTING: 100%|██████████| 147/147 [00:06<00:00, 22.06it/s]\n"
     ]
    },
    {
     "name": "stdout",
     "output_type": "stream",
     "text": [
      "Train Acc: 0.3474 | Train Loss: 1.7360 | Test Acc: 0.3489 | Test Loss: 1.6953809236993596\n",
      "\n",
      "Epoch 8\n"
     ]
    },
    {
     "name": "stderr",
     "output_type": "stream",
     "text": [
      "TRAINIGN: 100%|██████████| 587/587 [00:25<00:00, 22.61it/s]\n",
      "TESTING: 100%|██████████| 147/147 [00:06<00:00, 21.28it/s]\n"
     ]
    },
    {
     "name": "stdout",
     "output_type": "stream",
     "text": [
      "Train Acc: 0.3532 | Train Loss: 1.7186 | Test Acc: 0.3548 | Test Loss: 1.6626940835900859\n",
      "\n",
      "Epoch 9\n"
     ]
    },
    {
     "name": "stderr",
     "output_type": "stream",
     "text": [
      "TRAINIGN: 100%|██████████| 587/587 [00:26<00:00, 21.93it/s]\n",
      "TESTING: 100%|██████████| 147/147 [00:06<00:00, 21.29it/s]\n"
     ]
    },
    {
     "name": "stdout",
     "output_type": "stream",
     "text": [
      "Train Acc: 0.3583 | Train Loss: 1.7073 | Test Acc: 0.3593 | Test Loss: 1.7084682717615245\n",
      "\n",
      "Epoch 10\n"
     ]
    },
    {
     "name": "stderr",
     "output_type": "stream",
     "text": [
      "TRAINIGN: 100%|██████████| 587/587 [00:25<00:00, 22.65it/s]\n",
      "TESTING: 100%|██████████| 147/147 [00:07<00:00, 20.65it/s]\n"
     ]
    },
    {
     "name": "stdout",
     "output_type": "stream",
     "text": [
      "Train Acc: 0.3626 | Train Loss: 1.6904 | Test Acc: 0.3636 | Test Loss: 1.6928604938546006\n",
      "\n",
      "Epoch 11\n"
     ]
    },
    {
     "name": "stderr",
     "output_type": "stream",
     "text": [
      "TRAINIGN: 100%|██████████| 587/587 [00:26<00:00, 21.83it/s]\n",
      "TESTING: 100%|██████████| 147/147 [00:06<00:00, 21.81it/s]\n"
     ]
    },
    {
     "name": "stdout",
     "output_type": "stream",
     "text": [
      "Train Acc: 0.3666 | Train Loss: 1.6842 | Test Acc: 0.3675 | Test Loss: 1.680660180494088\n",
      "\n",
      "Epoch 12\n"
     ]
    },
    {
     "name": "stderr",
     "output_type": "stream",
     "text": [
      "TRAINIGN: 100%|██████████| 587/587 [00:25<00:00, 22.97it/s]\n",
      "TESTING: 100%|██████████| 147/147 [00:06<00:00, 23.04it/s]\n"
     ]
    },
    {
     "name": "stdout",
     "output_type": "stream",
     "text": [
      "Train Acc: 0.3701 | Train Loss: 1.6756 | Test Acc: 0.3710 | Test Loss: 1.6259520013316149\n",
      "\n",
      "Epoch 13\n"
     ]
    },
    {
     "name": "stderr",
     "output_type": "stream",
     "text": [
      "TRAINIGN: 100%|██████████| 587/587 [00:26<00:00, 21.79it/s]\n",
      "TESTING: 100%|██████████| 147/147 [00:06<00:00, 22.34it/s]\n"
     ]
    },
    {
     "name": "stdout",
     "output_type": "stream",
     "text": [
      "Train Acc: 0.3733 | Train Loss: 1.6642 | Test Acc: 0.3742 | Test Loss: 1.643862626179546\n",
      "\n",
      "Epoch 14\n"
     ]
    },
    {
     "name": "stderr",
     "output_type": "stream",
     "text": [
      "TRAINIGN: 100%|██████████| 587/587 [00:26<00:00, 22.09it/s]\n",
      "TESTING: 100%|██████████| 147/147 [00:06<00:00, 21.84it/s]\n"
     ]
    },
    {
     "name": "stdout",
     "output_type": "stream",
     "text": [
      "Train Acc: 0.3763 | Train Loss: 1.6592 | Test Acc: 0.3770 | Test Loss: 1.6380604821808484\n",
      "No improvement. Early stopping counter: 1/3\n",
      "\n",
      "Epoch 15\n"
     ]
    },
    {
     "name": "stderr",
     "output_type": "stream",
     "text": [
      "TRAINIGN: 100%|██████████| 587/587 [00:24<00:00, 23.54it/s]\n",
      "TESTING: 100%|██████████| 147/147 [00:06<00:00, 21.60it/s]\n"
     ]
    },
    {
     "name": "stdout",
     "output_type": "stream",
     "text": [
      "Train Acc: 0.3791 | Train Loss: 1.6497 | Test Acc: 0.3799 | Test Loss: 1.6225021428802386\n",
      "\n",
      "Epoch 16\n"
     ]
    },
    {
     "name": "stderr",
     "output_type": "stream",
     "text": [
      "TRAINIGN: 100%|██████████| 587/587 [00:26<00:00, 22.01it/s]\n",
      "TESTING: 100%|██████████| 147/147 [00:07<00:00, 20.66it/s]\n"
     ]
    },
    {
     "name": "stdout",
     "output_type": "stream",
     "text": [
      "Train Acc: 0.3817 | Train Loss: 1.6502 | Test Acc: 0.3822 | Test Loss: 1.653762082664334\n",
      "No improvement. Early stopping counter: 1/3\n",
      "\n",
      "Epoch 17\n"
     ]
    },
    {
     "name": "stderr",
     "output_type": "stream",
     "text": [
      "TRAINIGN: 100%|██████████| 587/587 [00:25<00:00, 23.44it/s]\n",
      "TESTING: 100%|██████████| 147/147 [00:06<00:00, 21.44it/s]\n"
     ]
    },
    {
     "name": "stdout",
     "output_type": "stream",
     "text": [
      "Train Acc: 0.3840 | Train Loss: 1.6379 | Test Acc: 0.3845 | Test Loss: 1.6305295099206523\n",
      "\n",
      "Epoch 18\n"
     ]
    },
    {
     "name": "stderr",
     "output_type": "stream",
     "text": [
      "TRAINIGN: 100%|██████████| 587/587 [00:26<00:00, 22.14it/s]\n",
      "TESTING: 100%|██████████| 147/147 [00:07<00:00, 20.59it/s]\n"
     ]
    },
    {
     "name": "stdout",
     "output_type": "stream",
     "text": [
      "Train Acc: 0.3861 | Train Loss: 1.6349 | Test Acc: 0.3867 | Test Loss: 1.5989974137066172\n",
      "No improvement. Early stopping counter: 1/3\n",
      "\n",
      "Epoch 19\n"
     ]
    },
    {
     "name": "stderr",
     "output_type": "stream",
     "text": [
      "TRAINIGN: 100%|██████████| 587/587 [00:27<00:00, 21.71it/s]\n",
      "TESTING: 100%|██████████| 147/147 [00:07<00:00, 20.71it/s]\n"
     ]
    },
    {
     "name": "stdout",
     "output_type": "stream",
     "text": [
      "Train Acc: 0.3882 | Train Loss: 1.6270 | Test Acc: 0.3888 | Test Loss: 1.6148294445608748\n",
      "\n",
      "Epoch 20\n"
     ]
    },
    {
     "name": "stderr",
     "output_type": "stream",
     "text": [
      "TRAINIGN: 100%|██████████| 587/587 [00:26<00:00, 22.33it/s]\n",
      "TESTING: 100%|██████████| 147/147 [00:06<00:00, 22.40it/s]\n"
     ]
    },
    {
     "name": "stdout",
     "output_type": "stream",
     "text": [
      "Train Acc: 0.3903 | Train Loss: 1.6245 | Test Acc: 0.3907 | Test Loss: 1.631980445109257\n",
      "No improvement. Early stopping counter: 1/3\n",
      "\n",
      "Epoch 21\n"
     ]
    },
    {
     "name": "stderr",
     "output_type": "stream",
     "text": [
      "TRAINIGN: 100%|██████████| 587/587 [00:26<00:00, 22.37it/s]\n",
      "TESTING: 100%|██████████| 147/147 [00:07<00:00, 20.89it/s]\n"
     ]
    },
    {
     "name": "stdout",
     "output_type": "stream",
     "text": [
      "Train Acc: 0.3920 | Train Loss: 1.6168 | Test Acc: 0.3924 | Test Loss: 1.63835186293336\n",
      "\n",
      "Epoch 22\n"
     ]
    },
    {
     "name": "stderr",
     "output_type": "stream",
     "text": [
      "TRAINIGN: 100%|██████████| 587/587 [00:26<00:00, 22.51it/s]\n",
      "TESTING: 100%|██████████| 147/147 [00:06<00:00, 22.21it/s]\n"
     ]
    },
    {
     "name": "stdout",
     "output_type": "stream",
     "text": [
      "Train Acc: 0.3937 | Train Loss: 1.6170 | Test Acc: 0.3943 | Test Loss: 1.5880186257719182\n",
      "No improvement. Early stopping counter: 1/3\n",
      "\n",
      "Epoch 23\n"
     ]
    },
    {
     "name": "stderr",
     "output_type": "stream",
     "text": [
      "TRAINIGN: 100%|██████████| 587/587 [00:24<00:00, 23.71it/s]\n",
      "TESTING: 100%|██████████| 147/147 [00:06<00:00, 22.14it/s]\n"
     ]
    },
    {
     "name": "stdout",
     "output_type": "stream",
     "text": [
      "Train Acc: 0.3955 | Train Loss: 1.6079 | Test Acc: 0.3959 | Test Loss: 1.5863426931861306\n",
      "\n",
      "Epoch 24\n"
     ]
    },
    {
     "name": "stderr",
     "output_type": "stream",
     "text": [
      "TRAINIGN: 100%|██████████| 587/587 [00:26<00:00, 22.28it/s]\n",
      "TESTING: 100%|██████████| 147/147 [00:07<00:00, 20.84it/s]\n"
     ]
    },
    {
     "name": "stdout",
     "output_type": "stream",
     "text": [
      "Train Acc: 0.3972 | Train Loss: 1.6044 | Test Acc: 0.3975 | Test Loss: 1.5936770982482806\n",
      "No improvement. Early stopping counter: 1/3\n",
      "\n",
      "Epoch 25\n"
     ]
    },
    {
     "name": "stderr",
     "output_type": "stream",
     "text": [
      "TRAINIGN: 100%|██████████| 587/587 [00:26<00:00, 22.46it/s]\n",
      "TESTING: 100%|██████████| 147/147 [00:06<00:00, 21.04it/s]\n"
     ]
    },
    {
     "name": "stdout",
     "output_type": "stream",
     "text": [
      "Train Acc: 0.3987 | Train Loss: 1.6038 | Test Acc: 0.3991 | Test Loss: 1.6016073575636156\n",
      "\n",
      "Epoch 26\n"
     ]
    },
    {
     "name": "stderr",
     "output_type": "stream",
     "text": [
      "TRAINIGN: 100%|██████████| 587/587 [00:25<00:00, 23.11it/s]\n",
      "TESTING: 100%|██████████| 147/147 [00:06<00:00, 22.46it/s]\n"
     ]
    },
    {
     "name": "stdout",
     "output_type": "stream",
     "text": [
      "Train Acc: 0.4004 | Train Loss: 1.6000 | Test Acc: 0.4007 | Test Loss: 1.6132835887727284\n",
      "No improvement. Early stopping counter: 1/3\n",
      "\n",
      "Epoch 27\n"
     ]
    },
    {
     "name": "stderr",
     "output_type": "stream",
     "text": [
      "TRAINIGN: 100%|██████████| 587/587 [00:25<00:00, 23.03it/s]\n",
      "TESTING: 100%|██████████| 147/147 [00:06<00:00, 22.67it/s]\n"
     ]
    },
    {
     "name": "stdout",
     "output_type": "stream",
     "text": [
      "Train Acc: 0.4019 | Train Loss: 1.5899 | Test Acc: 0.4022 | Test Loss: 1.567245669105426\n",
      "\n",
      "Epoch 28\n"
     ]
    },
    {
     "name": "stderr",
     "output_type": "stream",
     "text": [
      "TRAINIGN: 100%|██████████| 587/587 [00:25<00:00, 23.44it/s]\n",
      "TESTING: 100%|██████████| 147/147 [00:06<00:00, 21.64it/s]\n"
     ]
    },
    {
     "name": "stdout",
     "output_type": "stream",
     "text": [
      "Train Acc: 0.4033 | Train Loss: 1.5869 | Test Acc: 0.4036 | Test Loss: 1.640520835409359\n",
      "No improvement. Early stopping counter: 1/3\n",
      "\n",
      "Epoch 29\n"
     ]
    },
    {
     "name": "stderr",
     "output_type": "stream",
     "text": [
      "TRAINIGN: 100%|██████████| 587/587 [00:25<00:00, 22.58it/s]\n",
      "TESTING: 100%|██████████| 147/147 [00:06<00:00, 22.85it/s]\n"
     ]
    },
    {
     "name": "stdout",
     "output_type": "stream",
     "text": [
      "Train Acc: 0.4046 | Train Loss: 1.5854 | Test Acc: 0.4050 | Test Loss: 1.579225136309254\n",
      "No improvement. Early stopping counter: 2/3\n",
      "\n",
      "Epoch 30\n"
     ]
    },
    {
     "name": "stderr",
     "output_type": "stream",
     "text": [
      "TRAINIGN: 100%|██████████| 587/587 [00:25<00:00, 23.15it/s]\n",
      "TESTING: 100%|██████████| 147/147 [00:06<00:00, 22.65it/s]\n"
     ]
    },
    {
     "name": "stdout",
     "output_type": "stream",
     "text": [
      "Train Acc: 0.4059 | Train Loss: 1.5859 | Test Acc: 0.4062 | Test Loss: 1.5709280375720693\n",
      "\n",
      "Epoch 31\n"
     ]
    },
    {
     "name": "stderr",
     "output_type": "stream",
     "text": [
      "TRAINIGN: 100%|██████████| 587/587 [00:25<00:00, 22.96it/s]\n",
      "TESTING: 100%|██████████| 147/147 [00:06<00:00, 21.85it/s]\n"
     ]
    },
    {
     "name": "stdout",
     "output_type": "stream",
     "text": [
      "Train Acc: 0.4072 | Train Loss: 1.5804 | Test Acc: 0.4074 | Test Loss: 1.5919915486355216\n",
      "No improvement. Early stopping counter: 1/3\n",
      "\n",
      "Epoch 32\n"
     ]
    },
    {
     "name": "stderr",
     "output_type": "stream",
     "text": [
      "TRAINIGN: 100%|██████████| 587/587 [00:25<00:00, 22.89it/s]\n",
      "TESTING: 100%|██████████| 147/147 [00:06<00:00, 21.09it/s]\n"
     ]
    },
    {
     "name": "stdout",
     "output_type": "stream",
     "text": [
      "Train Acc: 0.4084 | Train Loss: 1.5751 | Test Acc: 0.4086 | Test Loss: 1.6290372439793177\n",
      "No improvement. Early stopping counter: 2/3\n",
      "\n",
      "Epoch 33\n"
     ]
    },
    {
     "name": "stderr",
     "output_type": "stream",
     "text": [
      "TRAINIGN: 100%|██████████| 587/587 [00:26<00:00, 22.48it/s]\n",
      "TESTING: 100%|██████████| 147/147 [00:06<00:00, 21.29it/s]\n"
     ]
    },
    {
     "name": "stdout",
     "output_type": "stream",
     "text": [
      "Train Acc: 0.4094 | Train Loss: 1.5779 | Test Acc: 0.4097 | Test Loss: 1.5686572190044688\n",
      "\n",
      "Epoch 34\n"
     ]
    },
    {
     "name": "stderr",
     "output_type": "stream",
     "text": [
      "TRAINIGN: 100%|██████████| 587/587 [00:25<00:00, 23.12it/s]\n",
      "TESTING: 100%|██████████| 147/147 [00:07<00:00, 20.89it/s]\n"
     ]
    },
    {
     "name": "stdout",
     "output_type": "stream",
     "text": [
      "Train Acc: 0.4106 | Train Loss: 1.5731 | Test Acc: 0.4109 | Test Loss: 1.570054827093267\n",
      "No improvement. Early stopping counter: 1/3\n",
      "\n",
      "Epoch 35\n"
     ]
    },
    {
     "name": "stderr",
     "output_type": "stream",
     "text": [
      "TRAINIGN: 100%|██████████| 587/587 [00:27<00:00, 21.64it/s]\n",
      "TESTING: 100%|██████████| 147/147 [00:07<00:00, 20.47it/s]\n"
     ]
    },
    {
     "name": "stdout",
     "output_type": "stream",
     "text": [
      "Train Acc: 0.4116 | Train Loss: 1.5740 | Test Acc: 0.4118 | Test Loss: 1.5895970289399024\n",
      "No improvement. Early stopping counter: 2/3\n",
      "\n",
      "Epoch 36\n"
     ]
    },
    {
     "name": "stderr",
     "output_type": "stream",
     "text": [
      "TRAINIGN: 100%|██████████| 587/587 [00:27<00:00, 21.39it/s]\n",
      "TESTING: 100%|██████████| 147/147 [00:06<00:00, 21.99it/s]\n"
     ]
    },
    {
     "name": "stdout",
     "output_type": "stream",
     "text": [
      "Train Acc: 0.4126 | Train Loss: 1.5674 | Test Acc: 0.4129 | Test Loss: 1.5481250626700265\n",
      "\n",
      "Epoch 37\n"
     ]
    },
    {
     "name": "stderr",
     "output_type": "stream",
     "text": [
      "TRAINIGN: 100%|██████████| 587/587 [00:26<00:00, 22.04it/s]\n",
      "TESTING: 100%|██████████| 147/147 [00:06<00:00, 22.38it/s]\n"
     ]
    },
    {
     "name": "stdout",
     "output_type": "stream",
     "text": [
      "Train Acc: 0.4137 | Train Loss: 1.5659 | Test Acc: 0.4139 | Test Loss: 1.6008640235784102\n",
      "No improvement. Early stopping counter: 1/3\n",
      "\n",
      "Epoch 38\n"
     ]
    },
    {
     "name": "stderr",
     "output_type": "stream",
     "text": [
      "TRAINIGN: 100%|██████████| 587/587 [00:25<00:00, 22.90it/s]\n",
      "TESTING: 100%|██████████| 147/147 [00:06<00:00, 22.38it/s]\n"
     ]
    },
    {
     "name": "stdout",
     "output_type": "stream",
     "text": [
      "Train Acc: 0.4147 | Train Loss: 1.5616 | Test Acc: 0.4150 | Test Loss: 1.5409515641984486\n",
      "No improvement. Early stopping counter: 2/3\n",
      "\n",
      "Epoch 39\n"
     ]
    },
    {
     "name": "stderr",
     "output_type": "stream",
     "text": [
      "TRAINIGN: 100%|██████████| 587/587 [00:25<00:00, 23.23it/s]\n",
      "TESTING: 100%|██████████| 147/147 [00:06<00:00, 22.26it/s]"
     ]
    },
    {
     "name": "stdout",
     "output_type": "stream",
     "text": [
      "Train Acc: 0.4157 | Train Loss: 1.5634 | Test Acc: 0.4159 | Test Loss: 1.5513021840530188\n",
      "No improvement. Early stopping counter: 3/3\n",
      "Early stopping triggered.\n"
     ]
    },
    {
     "name": "stderr",
     "output_type": "stream",
     "text": [
      "\n"
     ]
    }
   ],
   "source": [
    "device = torch.device(\"cuda\" if torch.cuda.is_available() else \"cpu\")\n",
    "\n",
    "model_multihead_4 = BirdClassifier(cnn_state=False, head_count = 4).to(device)\n",
    "criterion = nn.CrossEntropyLoss().to(device)\n",
    "optimizer = optim.Adam(model_multihead_4.parameters(), lr=3e-4)\n",
    "accuracy_score = Accuracy(task = 'multiclass', num_classes = 10).to(device)\n",
    "\n",
    "\n",
    "patience = 3\n",
    "min_delta = 3e-3\n",
    "best_accuracy = 0\n",
    "counter = 0\n",
    "best_test_acc = 0\n",
    "\n",
    "loss_scores_train_multihead_4 = []\n",
    "accuracy_scores_train_multihead_4 = []\n",
    "\n",
    "loss_scores_test_multihead_4 = []\n",
    "accuracy_scores_test_multihead_4 = []\n",
    "\n",
    "for epoch in range(200):  \n",
    "    print(f\"\\nEpoch {epoch+1}\")\n",
    "    train_acc, train_loss = train_model(model_multihead_4, training_dataset, criterion, optimizer, accuracy_score, device)\n",
    "    test_acc, test_loss = test_model(model_multihead_4, testing_dataset, criterion, accuracy_score, device)\n",
    "    \n",
    "    accuracy_scores_train_multihead_4.append(train_acc)\n",
    "    loss_scores_train_multihead_4.append(train_loss)\n",
    "\n",
    "    accuracy_scores_test_multihead_4.append(test_acc)\n",
    "    loss_scores_test_multihead_4.append(test_loss)\n",
    "    print(f\"Train Acc: {train_acc:.4f} | Train Loss: {train_loss:.4f} | Test Acc: {test_acc:.4f} | Test Loss: {test_loss}\")\n",
    "    \n",
    "    if test_acc - best_test_acc > min_delta:\n",
    "        best_test_acc = test_acc\n",
    "        counter = 0\n",
    "    else:\n",
    "        counter += 1\n",
    "        print(f\"No improvement. Early stopping counter: {counter}/{patience}\")\n",
    "        if counter >= patience:\n",
    "            print(\"Early stopping triggered.\")\n",
    "            break"
   ]
  },
  {
   "cell_type": "markdown",
   "metadata": {},
   "source": [
    "8 head"
   ]
  },
  {
   "cell_type": "code",
   "execution_count": 11,
   "metadata": {},
   "outputs": [
    {
     "name": "stdout",
     "output_type": "stream",
     "text": [
      "\n",
      "Epoch 1\n"
     ]
    },
    {
     "name": "stderr",
     "output_type": "stream",
     "text": [
      "TRAINIGN:   0%|          | 0/587 [00:00<?, ?it/s]"
     ]
    },
    {
     "name": "stderr",
     "output_type": "stream",
     "text": [
      "TRAINIGN: 100%|██████████| 587/587 [00:25<00:00, 22.68it/s]\n",
      "TESTING: 100%|██████████| 147/147 [00:06<00:00, 22.57it/s]\n"
     ]
    },
    {
     "name": "stdout",
     "output_type": "stream",
     "text": [
      "Train Acc: 0.2878 | Train Loss: 1.9868 | Test Acc: 0.3002 | Test Loss: 1.8502728963384822\n",
      "\n",
      "Epoch 2\n"
     ]
    },
    {
     "name": "stderr",
     "output_type": "stream",
     "text": [
      "TRAINIGN: 100%|██████████| 587/587 [00:25<00:00, 22.96it/s]\n",
      "TESTING: 100%|██████████| 147/147 [00:06<00:00, 22.89it/s]\n"
     ]
    },
    {
     "name": "stdout",
     "output_type": "stream",
     "text": [
      "Train Acc: 0.3212 | Train Loss: 1.8474 | Test Acc: 0.3261 | Test Loss: 1.7821824250578069\n",
      "\n",
      "Epoch 3\n"
     ]
    },
    {
     "name": "stderr",
     "output_type": "stream",
     "text": [
      "TRAINIGN: 100%|██████████| 587/587 [00:26<00:00, 22.57it/s]\n",
      "TESTING: 100%|██████████| 147/147 [00:06<00:00, 23.62it/s]\n"
     ]
    },
    {
     "name": "stdout",
     "output_type": "stream",
     "text": [
      "Train Acc: 0.3383 | Train Loss: 1.7826 | Test Acc: 0.3409 | Test Loss: 1.7984415268411442\n",
      "\n",
      "Epoch 4\n"
     ]
    },
    {
     "name": "stderr",
     "output_type": "stream",
     "text": [
      "TRAINIGN: 100%|██████████| 587/587 [00:24<00:00, 23.81it/s]\n",
      "TESTING: 100%|██████████| 147/147 [00:06<00:00, 22.77it/s]\n"
     ]
    },
    {
     "name": "stdout",
     "output_type": "stream",
     "text": [
      "Train Acc: 0.3496 | Train Loss: 1.7494 | Test Acc: 0.3521 | Test Loss: 1.7294531265894573\n",
      "\n",
      "Epoch 5\n"
     ]
    },
    {
     "name": "stderr",
     "output_type": "stream",
     "text": [
      "TRAINIGN: 100%|██████████| 587/587 [00:26<00:00, 22.20it/s]\n",
      "TESTING: 100%|██████████| 147/147 [00:06<00:00, 23.17it/s]\n"
     ]
    },
    {
     "name": "stdout",
     "output_type": "stream",
     "text": [
      "Train Acc: 0.3592 | Train Loss: 1.7196 | Test Acc: 0.3613 | Test Loss: 1.694347973583507\n",
      "\n",
      "Epoch 6\n"
     ]
    },
    {
     "name": "stderr",
     "output_type": "stream",
     "text": [
      "TRAINIGN: 100%|██████████| 587/587 [00:26<00:00, 22.49it/s]\n",
      "TESTING: 100%|██████████| 147/147 [00:06<00:00, 21.75it/s]\n"
     ]
    },
    {
     "name": "stdout",
     "output_type": "stream",
     "text": [
      "Train Acc: 0.3677 | Train Loss: 1.6863 | Test Acc: 0.3687 | Test Loss: 1.7402250190981392\n",
      "\n",
      "Epoch 7\n"
     ]
    },
    {
     "name": "stderr",
     "output_type": "stream",
     "text": [
      "TRAINIGN: 100%|██████████| 587/587 [00:22<00:00, 26.29it/s]\n",
      "TESTING: 100%|██████████| 147/147 [00:06<00:00, 23.81it/s]\n"
     ]
    },
    {
     "name": "stdout",
     "output_type": "stream",
     "text": [
      "Train Acc: 0.3735 | Train Loss: 1.6715 | Test Acc: 0.3751 | Test Loss: 1.6277688838997666\n",
      "\n",
      "Epoch 8\n"
     ]
    },
    {
     "name": "stderr",
     "output_type": "stream",
     "text": [
      "TRAINIGN: 100%|██████████| 587/587 [00:22<00:00, 25.69it/s]\n",
      "TESTING: 100%|██████████| 147/147 [00:05<00:00, 24.72it/s]\n"
     ]
    },
    {
     "name": "stdout",
     "output_type": "stream",
     "text": [
      "Train Acc: 0.3798 | Train Loss: 1.6516 | Test Acc: 0.3813 | Test Loss: 1.6151956287371059\n",
      "\n",
      "Epoch 9\n"
     ]
    },
    {
     "name": "stderr",
     "output_type": "stream",
     "text": [
      "TRAINIGN: 100%|██████████| 587/587 [00:23<00:00, 25.46it/s]\n",
      "TESTING: 100%|██████████| 147/147 [00:06<00:00, 22.62it/s]\n"
     ]
    },
    {
     "name": "stdout",
     "output_type": "stream",
     "text": [
      "Train Acc: 0.3850 | Train Loss: 1.6367 | Test Acc: 0.3863 | Test Loss: 1.6163799592426844\n",
      "\n",
      "Epoch 10\n"
     ]
    },
    {
     "name": "stderr",
     "output_type": "stream",
     "text": [
      "TRAINIGN: 100%|██████████| 587/587 [00:24<00:00, 23.71it/s]\n",
      "TESTING: 100%|██████████| 147/147 [00:06<00:00, 24.06it/s]\n"
     ]
    },
    {
     "name": "stdout",
     "output_type": "stream",
     "text": [
      "Train Acc: 0.3900 | Train Loss: 1.6266 | Test Acc: 0.3911 | Test Loss: 1.5903247140702748\n",
      "\n",
      "Epoch 11\n"
     ]
    },
    {
     "name": "stderr",
     "output_type": "stream",
     "text": [
      "TRAINIGN: 100%|██████████| 587/587 [00:24<00:00, 24.21it/s]\n",
      "TESTING: 100%|██████████| 147/147 [00:06<00:00, 23.72it/s]\n"
     ]
    },
    {
     "name": "stdout",
     "output_type": "stream",
     "text": [
      "Train Acc: 0.3942 | Train Loss: 1.6142 | Test Acc: 0.3952 | Test Loss: 1.5761675169678773\n",
      "\n",
      "Epoch 12\n"
     ]
    },
    {
     "name": "stderr",
     "output_type": "stream",
     "text": [
      "TRAINIGN: 100%|██████████| 587/587 [00:23<00:00, 25.03it/s]\n",
      "TESTING: 100%|██████████| 147/147 [00:06<00:00, 22.79it/s]\n"
     ]
    },
    {
     "name": "stdout",
     "output_type": "stream",
     "text": [
      "Train Acc: 0.3981 | Train Loss: 1.6051 | Test Acc: 0.3990 | Test Loss: 1.574352131408899\n",
      "\n",
      "Epoch 13\n"
     ]
    },
    {
     "name": "stderr",
     "output_type": "stream",
     "text": [
      "TRAINIGN: 100%|██████████| 587/587 [00:22<00:00, 25.67it/s]\n",
      "TESTING: 100%|██████████| 147/147 [00:06<00:00, 22.67it/s]\n"
     ]
    },
    {
     "name": "stdout",
     "output_type": "stream",
     "text": [
      "Train Acc: 0.4016 | Train Loss: 1.5976 | Test Acc: 0.4023 | Test Loss: 1.5997630965952971\n",
      "\n",
      "Epoch 14\n"
     ]
    },
    {
     "name": "stderr",
     "output_type": "stream",
     "text": [
      "TRAINIGN: 100%|██████████| 587/587 [00:23<00:00, 25.29it/s]\n",
      "TESTING: 100%|██████████| 147/147 [00:06<00:00, 24.20it/s]\n"
     ]
    },
    {
     "name": "stdout",
     "output_type": "stream",
     "text": [
      "Train Acc: 0.4048 | Train Loss: 1.5884 | Test Acc: 0.4055 | Test Loss: 1.5851137702967846\n",
      "\n",
      "Epoch 15\n"
     ]
    },
    {
     "name": "stderr",
     "output_type": "stream",
     "text": [
      "TRAINIGN: 100%|██████████| 587/587 [00:25<00:00, 23.25it/s]\n",
      "TESTING: 100%|██████████| 147/147 [00:06<00:00, 21.77it/s]\n"
     ]
    },
    {
     "name": "stdout",
     "output_type": "stream",
     "text": [
      "Train Acc: 0.4078 | Train Loss: 1.5783 | Test Acc: 0.4085 | Test Loss: 1.5442825158437092\n",
      "\n",
      "Epoch 16\n"
     ]
    },
    {
     "name": "stderr",
     "output_type": "stream",
     "text": [
      "TRAINIGN: 100%|██████████| 587/587 [00:23<00:00, 25.23it/s]\n",
      "TESTING: 100%|██████████| 147/147 [00:06<00:00, 23.28it/s]\n"
     ]
    },
    {
     "name": "stdout",
     "output_type": "stream",
     "text": [
      "Train Acc: 0.4105 | Train Loss: 1.5734 | Test Acc: 0.4111 | Test Loss: 1.549436478387742\n",
      "No improvement. Early stopping counter: 1/3\n",
      "\n",
      "Epoch 17\n"
     ]
    },
    {
     "name": "stderr",
     "output_type": "stream",
     "text": [
      "TRAINIGN: 100%|██████████| 587/587 [00:23<00:00, 24.71it/s]\n",
      "TESTING: 100%|██████████| 147/147 [00:06<00:00, 22.15it/s]\n"
     ]
    },
    {
     "name": "stdout",
     "output_type": "stream",
     "text": [
      "Train Acc: 0.4132 | Train Loss: 1.5666 | Test Acc: 0.4137 | Test Loss: 1.5322471021794948\n",
      "\n",
      "Epoch 18\n"
     ]
    },
    {
     "name": "stderr",
     "output_type": "stream",
     "text": [
      "TRAINIGN: 100%|██████████| 587/587 [00:23<00:00, 25.32it/s]\n",
      "TESTING: 100%|██████████| 147/147 [00:06<00:00, 22.90it/s]\n"
     ]
    },
    {
     "name": "stdout",
     "output_type": "stream",
     "text": [
      "Train Acc: 0.4155 | Train Loss: 1.5610 | Test Acc: 0.4161 | Test Loss: 1.5143731735190566\n",
      "No improvement. Early stopping counter: 1/3\n",
      "\n",
      "Epoch 19\n"
     ]
    },
    {
     "name": "stderr",
     "output_type": "stream",
     "text": [
      "TRAINIGN: 100%|██████████| 587/587 [00:25<00:00, 23.38it/s]\n",
      "TESTING: 100%|██████████| 147/147 [00:06<00:00, 21.67it/s]\n"
     ]
    },
    {
     "name": "stdout",
     "output_type": "stream",
     "text": [
      "Train Acc: 0.4179 | Train Loss: 1.5493 | Test Acc: 0.4183 | Test Loss: 1.5621922445946\n",
      "\n",
      "Epoch 20\n"
     ]
    },
    {
     "name": "stderr",
     "output_type": "stream",
     "text": [
      "TRAINIGN: 100%|██████████| 587/587 [00:26<00:00, 22.24it/s]\n",
      "TESTING: 100%|██████████| 147/147 [00:06<00:00, 22.70it/s]\n"
     ]
    },
    {
     "name": "stdout",
     "output_type": "stream",
     "text": [
      "Train Acc: 0.4200 | Train Loss: 1.5466 | Test Acc: 0.4205 | Test Loss: 1.5220398229806602\n",
      "No improvement. Early stopping counter: 1/3\n",
      "\n",
      "Epoch 21\n"
     ]
    },
    {
     "name": "stderr",
     "output_type": "stream",
     "text": [
      "TRAINIGN: 100%|██████████| 587/587 [00:26<00:00, 22.40it/s]\n",
      "TESTING: 100%|██████████| 147/147 [00:06<00:00, 24.11it/s]\n"
     ]
    },
    {
     "name": "stdout",
     "output_type": "stream",
     "text": [
      "Train Acc: 0.4220 | Train Loss: 1.5416 | Test Acc: 0.4225 | Test Loss: 1.5273480188278925\n",
      "\n",
      "Epoch 22\n"
     ]
    },
    {
     "name": "stderr",
     "output_type": "stream",
     "text": [
      "TRAINIGN: 100%|██████████| 587/587 [00:24<00:00, 23.60it/s]\n",
      "TESTING: 100%|██████████| 147/147 [00:07<00:00, 20.90it/s]\n"
     ]
    },
    {
     "name": "stdout",
     "output_type": "stream",
     "text": [
      "Train Acc: 0.4240 | Train Loss: 1.5292 | Test Acc: 0.4244 | Test Loss: 1.5261291306035047\n",
      "No improvement. Early stopping counter: 1/3\n",
      "\n",
      "Epoch 23\n"
     ]
    },
    {
     "name": "stderr",
     "output_type": "stream",
     "text": [
      "TRAINIGN: 100%|██████████| 587/587 [00:23<00:00, 24.89it/s]\n",
      "TESTING: 100%|██████████| 147/147 [00:06<00:00, 23.08it/s]\n"
     ]
    },
    {
     "name": "stdout",
     "output_type": "stream",
     "text": [
      "Train Acc: 0.4259 | Train Loss: 1.5302 | Test Acc: 0.4263 | Test Loss: 1.5126353688791496\n",
      "\n",
      "Epoch 24\n"
     ]
    },
    {
     "name": "stderr",
     "output_type": "stream",
     "text": [
      "TRAINIGN: 100%|██████████| 587/587 [00:24<00:00, 24.33it/s]\n",
      "TESTING: 100%|██████████| 147/147 [00:05<00:00, 25.29it/s]\n"
     ]
    },
    {
     "name": "stdout",
     "output_type": "stream",
     "text": [
      "Train Acc: 0.4275 | Train Loss: 1.5305 | Test Acc: 0.4279 | Test Loss: 1.519972527108225\n",
      "No improvement. Early stopping counter: 1/3\n",
      "\n",
      "Epoch 25\n"
     ]
    },
    {
     "name": "stderr",
     "output_type": "stream",
     "text": [
      "TRAINIGN: 100%|██████████| 587/587 [00:24<00:00, 23.49it/s]\n",
      "TESTING: 100%|██████████| 147/147 [00:06<00:00, 22.08it/s]\n"
     ]
    },
    {
     "name": "stdout",
     "output_type": "stream",
     "text": [
      "Train Acc: 0.4293 | Train Loss: 1.5192 | Test Acc: 0.4296 | Test Loss: 1.5270310583568754\n",
      "\n",
      "Epoch 26\n"
     ]
    },
    {
     "name": "stderr",
     "output_type": "stream",
     "text": [
      "TRAINIGN: 100%|██████████| 587/587 [00:24<00:00, 23.78it/s]\n",
      "TESTING: 100%|██████████| 147/147 [00:06<00:00, 21.53it/s]\n"
     ]
    },
    {
     "name": "stdout",
     "output_type": "stream",
     "text": [
      "Train Acc: 0.4309 | Train Loss: 1.5164 | Test Acc: 0.4312 | Test Loss: 1.495775275489911\n",
      "No improvement. Early stopping counter: 1/3\n",
      "\n",
      "Epoch 27\n"
     ]
    },
    {
     "name": "stderr",
     "output_type": "stream",
     "text": [
      "TRAINIGN: 100%|██████████| 587/587 [00:23<00:00, 24.72it/s]\n",
      "TESTING: 100%|██████████| 147/147 [00:06<00:00, 22.17it/s]\n"
     ]
    },
    {
     "name": "stdout",
     "output_type": "stream",
     "text": [
      "Train Acc: 0.4325 | Train Loss: 1.5123 | Test Acc: 0.4328 | Test Loss: 1.5162473827803216\n",
      "\n",
      "Epoch 28\n"
     ]
    },
    {
     "name": "stderr",
     "output_type": "stream",
     "text": [
      "TRAINIGN: 100%|██████████| 587/587 [00:25<00:00, 23.42it/s]\n",
      "TESTING: 100%|██████████| 147/147 [00:06<00:00, 23.20it/s]\n"
     ]
    },
    {
     "name": "stdout",
     "output_type": "stream",
     "text": [
      "Train Acc: 0.4338 | Train Loss: 1.5067 | Test Acc: 0.4342 | Test Loss: 1.487141387803214\n",
      "No improvement. Early stopping counter: 1/3\n",
      "\n",
      "Epoch 29\n"
     ]
    },
    {
     "name": "stderr",
     "output_type": "stream",
     "text": [
      "TRAINIGN: 100%|██████████| 587/587 [00:22<00:00, 25.57it/s]\n",
      "TESTING: 100%|██████████| 147/147 [00:06<00:00, 24.24it/s]\n"
     ]
    },
    {
     "name": "stdout",
     "output_type": "stream",
     "text": [
      "Train Acc: 0.4353 | Train Loss: 1.5041 | Test Acc: 0.4357 | Test Loss: 1.4683641706194197\n",
      "No improvement. Early stopping counter: 2/3\n",
      "\n",
      "Epoch 30\n"
     ]
    },
    {
     "name": "stderr",
     "output_type": "stream",
     "text": [
      "TRAINIGN: 100%|██████████| 587/587 [00:22<00:00, 25.53it/s]\n",
      "TESTING: 100%|██████████| 147/147 [00:06<00:00, 24.50it/s]\n"
     ]
    },
    {
     "name": "stdout",
     "output_type": "stream",
     "text": [
      "Train Acc: 0.4367 | Train Loss: 1.4963 | Test Acc: 0.4371 | Test Loss: 1.4639081650850725\n",
      "\n",
      "Epoch 31\n"
     ]
    },
    {
     "name": "stderr",
     "output_type": "stream",
     "text": [
      "TRAINIGN: 100%|██████████| 587/587 [00:23<00:00, 25.33it/s]\n",
      "TESTING: 100%|██████████| 147/147 [00:06<00:00, 21.98it/s]\n"
     ]
    },
    {
     "name": "stdout",
     "output_type": "stream",
     "text": [
      "Train Acc: 0.4382 | Train Loss: 1.4977 | Test Acc: 0.4385 | Test Loss: 1.4950609823473457\n",
      "No improvement. Early stopping counter: 1/3\n",
      "\n",
      "Epoch 32\n"
     ]
    },
    {
     "name": "stderr",
     "output_type": "stream",
     "text": [
      "TRAINIGN: 100%|██████████| 587/587 [00:23<00:00, 25.42it/s]\n",
      "TESTING: 100%|██████████| 147/147 [00:06<00:00, 22.28it/s]\n"
     ]
    },
    {
     "name": "stdout",
     "output_type": "stream",
     "text": [
      "Train Acc: 0.4395 | Train Loss: 1.4942 | Test Acc: 0.4397 | Test Loss: 1.491560810277251\n",
      "No improvement. Early stopping counter: 2/3\n",
      "\n",
      "Epoch 33\n"
     ]
    },
    {
     "name": "stderr",
     "output_type": "stream",
     "text": [
      "TRAINIGN: 100%|██████████| 587/587 [00:25<00:00, 23.23it/s]\n",
      "TESTING: 100%|██████████| 147/147 [00:06<00:00, 21.90it/s]\n"
     ]
    },
    {
     "name": "stdout",
     "output_type": "stream",
     "text": [
      "Train Acc: 0.4408 | Train Loss: 1.4854 | Test Acc: 0.4411 | Test Loss: 1.5017885950957837\n",
      "\n",
      "Epoch 34\n"
     ]
    },
    {
     "name": "stderr",
     "output_type": "stream",
     "text": [
      "TRAINIGN: 100%|██████████| 587/587 [00:23<00:00, 24.78it/s]\n",
      "TESTING: 100%|██████████| 147/147 [00:06<00:00, 22.38it/s]\n"
     ]
    },
    {
     "name": "stdout",
     "output_type": "stream",
     "text": [
      "Train Acc: 0.4419 | Train Loss: 1.4880 | Test Acc: 0.4422 | Test Loss: 1.4674797869053016\n",
      "No improvement. Early stopping counter: 1/3\n",
      "\n",
      "Epoch 35\n"
     ]
    },
    {
     "name": "stderr",
     "output_type": "stream",
     "text": [
      "TRAINIGN: 100%|██████████| 587/587 [00:22<00:00, 26.00it/s]\n",
      "TESTING: 100%|██████████| 147/147 [00:06<00:00, 23.55it/s]\n"
     ]
    },
    {
     "name": "stdout",
     "output_type": "stream",
     "text": [
      "Train Acc: 0.4431 | Train Loss: 1.4836 | Test Acc: 0.4434 | Test Loss: 1.4889009286757229\n",
      "No improvement. Early stopping counter: 2/3\n",
      "\n",
      "Epoch 36\n"
     ]
    },
    {
     "name": "stderr",
     "output_type": "stream",
     "text": [
      "TRAINIGN: 100%|██████████| 587/587 [00:25<00:00, 23.45it/s]\n",
      "TESTING: 100%|██████████| 147/147 [00:06<00:00, 21.70it/s]\n"
     ]
    },
    {
     "name": "stdout",
     "output_type": "stream",
     "text": [
      "Train Acc: 0.4443 | Train Loss: 1.4764 | Test Acc: 0.4446 | Test Loss: 1.4812553301960432\n",
      "\n",
      "Epoch 37\n"
     ]
    },
    {
     "name": "stderr",
     "output_type": "stream",
     "text": [
      "TRAINIGN: 100%|██████████| 587/587 [00:24<00:00, 24.19it/s]\n",
      "TESTING: 100%|██████████| 147/147 [00:06<00:00, 22.83it/s]\n"
     ]
    },
    {
     "name": "stdout",
     "output_type": "stream",
     "text": [
      "Train Acc: 0.4455 | Train Loss: 1.4693 | Test Acc: 0.4457 | Test Loss: 1.4902517787453269\n",
      "No improvement. Early stopping counter: 1/3\n",
      "\n",
      "Epoch 38\n"
     ]
    },
    {
     "name": "stderr",
     "output_type": "stream",
     "text": [
      "TRAINIGN: 100%|██████████| 587/587 [00:25<00:00, 23.19it/s]\n",
      "TESTING: 100%|██████████| 147/147 [00:06<00:00, 22.39it/s]\n"
     ]
    },
    {
     "name": "stdout",
     "output_type": "stream",
     "text": [
      "Train Acc: 0.4466 | Train Loss: 1.4740 | Test Acc: 0.4468 | Test Loss: 1.5199783853933113\n",
      "No improvement. Early stopping counter: 2/3\n",
      "\n",
      "Epoch 39\n"
     ]
    },
    {
     "name": "stderr",
     "output_type": "stream",
     "text": [
      "TRAINIGN: 100%|██████████| 587/587 [00:25<00:00, 22.89it/s]\n",
      "TESTING: 100%|██████████| 147/147 [00:06<00:00, 21.03it/s]\n"
     ]
    },
    {
     "name": "stdout",
     "output_type": "stream",
     "text": [
      "Train Acc: 0.4476 | Train Loss: 1.4713 | Test Acc: 0.4478 | Test Loss: 1.4473720010446043\n",
      "\n",
      "Epoch 40\n"
     ]
    },
    {
     "name": "stderr",
     "output_type": "stream",
     "text": [
      "TRAINIGN: 100%|██████████| 587/587 [00:25<00:00, 23.28it/s]\n",
      "TESTING: 100%|██████████| 147/147 [00:07<00:00, 20.72it/s]\n"
     ]
    },
    {
     "name": "stdout",
     "output_type": "stream",
     "text": [
      "Train Acc: 0.4486 | Train Loss: 1.4645 | Test Acc: 0.4489 | Test Loss: 1.4479432892637187\n",
      "No improvement. Early stopping counter: 1/3\n",
      "\n",
      "Epoch 41\n"
     ]
    },
    {
     "name": "stderr",
     "output_type": "stream",
     "text": [
      "TRAINIGN: 100%|██████████| 587/587 [00:25<00:00, 22.91it/s]\n",
      "TESTING: 100%|██████████| 147/147 [00:06<00:00, 22.28it/s]\n"
     ]
    },
    {
     "name": "stdout",
     "output_type": "stream",
     "text": [
      "Train Acc: 0.4496 | Train Loss: 1.4695 | Test Acc: 0.4498 | Test Loss: 1.5019025640422796\n",
      "No improvement. Early stopping counter: 2/3\n",
      "\n",
      "Epoch 42\n"
     ]
    },
    {
     "name": "stderr",
     "output_type": "stream",
     "text": [
      "TRAINIGN: 100%|██████████| 587/587 [00:26<00:00, 22.30it/s]\n",
      "TESTING: 100%|██████████| 147/147 [00:06<00:00, 21.02it/s]"
     ]
    },
    {
     "name": "stdout",
     "output_type": "stream",
     "text": [
      "Train Acc: 0.4505 | Train Loss: 1.4578 | Test Acc: 0.4507 | Test Loss: 1.446707125423717\n",
      "No improvement. Early stopping counter: 3/3\n",
      "Early stopping triggered.\n"
     ]
    },
    {
     "name": "stderr",
     "output_type": "stream",
     "text": [
      "\n"
     ]
    }
   ],
   "source": [
    "device = torch.device(\"cuda\" if torch.cuda.is_available() else \"cpu\")\n",
    "\n",
    "model_multihead_8 = BirdClassifier(cnn_state=False, head_count = 8).to(device)\n",
    "criterion = nn.CrossEntropyLoss().to(device)\n",
    "optimizer = optim.Adam(model_multihead_8.parameters(), lr=3e-4)\n",
    "accuracy_score = Accuracy(task = 'multiclass', num_classes = 10).to(device)\n",
    "\n",
    "\n",
    "patience = 3\n",
    "min_delta = 3e-3\n",
    "best_accuracy = 0\n",
    "counter = 0\n",
    "best_test_acc = 0\n",
    "\n",
    "loss_scores_train_multihead_8 = []\n",
    "accuracy_scores_train_multihead_8 = []\n",
    "\n",
    "loss_scores_test_multihead_8 = []\n",
    "accuracy_scores_test_multihead_8 = []\n",
    "\n",
    "for epoch in range(200):  \n",
    "    print(f\"\\nEpoch {epoch+1}\")\n",
    "    train_acc, train_loss = train_model(model_multihead_8, training_dataset, criterion, optimizer, accuracy_score, device)\n",
    "    test_acc, test_loss = test_model(model_multihead_8, testing_dataset, criterion, accuracy_score, device)\n",
    "    \n",
    "    accuracy_scores_train_multihead_8.append(train_acc)\n",
    "    loss_scores_train_multihead_8.append(train_loss)\n",
    "\n",
    "    accuracy_scores_test_multihead_8.append(test_acc)\n",
    "    loss_scores_test_multihead_8.append(test_loss)\n",
    "    print(f\"Train Acc: {train_acc:.4f} | Train Loss: {train_loss:.4f} | Test Acc: {test_acc:.4f} | Test Loss: {test_loss}\")\n",
    "    \n",
    "    if test_acc - best_test_acc > min_delta:\n",
    "        best_test_acc = test_acc\n",
    "        counter = 0\n",
    "    else:\n",
    "        counter += 1\n",
    "        print(f\"No improvement. Early stopping counter: {counter}/{patience}\")\n",
    "        if counter >= patience:\n",
    "            print(\"Early stopping triggered.\")\n",
    "            break"
   ]
  },
  {
   "cell_type": "code",
   "execution_count": 12,
   "metadata": {},
   "outputs": [
    {
     "name": "stdout",
     "output_type": "stream",
     "text": [
      "\n",
      "Epoch 1\n"
     ]
    },
    {
     "name": "stderr",
     "output_type": "stream",
     "text": [
      "TRAINIGN: 100%|██████████| 587/587 [00:25<00:00, 22.65it/s]\n",
      "TESTING: 100%|██████████| 147/147 [00:06<00:00, 23.06it/s]\n"
     ]
    },
    {
     "name": "stdout",
     "output_type": "stream",
     "text": [
      "Train Acc: 0.2579 | Train Loss: 2.0454 | Test Acc: 0.2687 | Test Loss: 1.9713485824818513\n",
      "\n",
      "Epoch 2\n"
     ]
    },
    {
     "name": "stderr",
     "output_type": "stream",
     "text": [
      "TRAINIGN: 100%|██████████| 587/587 [00:25<00:00, 22.62it/s]\n",
      "TESTING: 100%|██████████| 147/147 [00:06<00:00, 22.55it/s]\n"
     ]
    },
    {
     "name": "stdout",
     "output_type": "stream",
     "text": [
      "Train Acc: 0.2921 | Train Loss: 1.8919 | Test Acc: 0.2982 | Test Loss: 1.8352210197318979\n",
      "\n",
      "Epoch 3\n"
     ]
    },
    {
     "name": "stderr",
     "output_type": "stream",
     "text": [
      "TRAINIGN: 100%|██████████| 587/587 [00:22<00:00, 26.11it/s]\n",
      "TESTING: 100%|██████████| 147/147 [00:06<00:00, 24.36it/s]\n"
     ]
    },
    {
     "name": "stdout",
     "output_type": "stream",
     "text": [
      "Train Acc: 0.3118 | Train Loss: 1.8348 | Test Acc: 0.3149 | Test Loss: 1.816936614562054\n",
      "\n",
      "Epoch 4\n"
     ]
    },
    {
     "name": "stderr",
     "output_type": "stream",
     "text": [
      "TRAINIGN: 100%|██████████| 587/587 [00:23<00:00, 25.42it/s]\n",
      "TESTING: 100%|██████████| 147/147 [00:06<00:00, 23.68it/s]\n"
     ]
    },
    {
     "name": "stdout",
     "output_type": "stream",
     "text": [
      "Train Acc: 0.3236 | Train Loss: 1.7977 | Test Acc: 0.3262 | Test Loss: 1.775567069345591\n",
      "\n",
      "Epoch 5\n"
     ]
    },
    {
     "name": "stderr",
     "output_type": "stream",
     "text": [
      "TRAINIGN: 100%|██████████| 587/587 [00:25<00:00, 23.33it/s]\n",
      "TESTING: 100%|██████████| 147/147 [00:06<00:00, 22.04it/s]\n"
     ]
    },
    {
     "name": "stdout",
     "output_type": "stream",
     "text": [
      "Train Acc: 0.3341 | Train Loss: 1.7651 | Test Acc: 0.3363 | Test Loss: 1.7573848492434236\n",
      "\n",
      "Epoch 6\n"
     ]
    },
    {
     "name": "stderr",
     "output_type": "stream",
     "text": [
      "TRAINIGN: 100%|██████████| 587/587 [00:26<00:00, 22.39it/s]\n",
      "TESTING: 100%|██████████| 147/147 [00:06<00:00, 21.10it/s]\n"
     ]
    },
    {
     "name": "stdout",
     "output_type": "stream",
     "text": [
      "Train Acc: 0.3420 | Train Loss: 1.7430 | Test Acc: 0.3434 | Test Loss: 1.7711498648130974\n",
      "\n",
      "Epoch 7\n"
     ]
    },
    {
     "name": "stderr",
     "output_type": "stream",
     "text": [
      "TRAINIGN: 100%|██████████| 587/587 [00:25<00:00, 23.07it/s]\n",
      "TESTING: 100%|██████████| 147/147 [00:07<00:00, 20.34it/s]\n"
     ]
    },
    {
     "name": "stdout",
     "output_type": "stream",
     "text": [
      "Train Acc: 0.3484 | Train Loss: 1.7248 | Test Acc: 0.3502 | Test Loss: 1.6855502420542192\n",
      "\n",
      "Epoch 8\n"
     ]
    },
    {
     "name": "stderr",
     "output_type": "stream",
     "text": [
      "TRAINIGN: 100%|██████████| 587/587 [00:26<00:00, 21.94it/s]\n",
      "TESTING: 100%|██████████| 147/147 [00:06<00:00, 22.10it/s]\n"
     ]
    },
    {
     "name": "stdout",
     "output_type": "stream",
     "text": [
      "Train Acc: 0.3548 | Train Loss: 1.7050 | Test Acc: 0.3561 | Test Loss: 1.706040495106963\n",
      "\n",
      "Epoch 9\n"
     ]
    },
    {
     "name": "stderr",
     "output_type": "stream",
     "text": [
      "TRAINIGN: 100%|██████████| 587/587 [00:24<00:00, 24.02it/s]\n",
      "TESTING: 100%|██████████| 147/147 [00:06<00:00, 21.68it/s]\n"
     ]
    },
    {
     "name": "stdout",
     "output_type": "stream",
     "text": [
      "Train Acc: 0.3601 | Train Loss: 1.6900 | Test Acc: 0.3614 | Test Loss: 1.6510446825805976\n",
      "\n",
      "Epoch 10\n"
     ]
    },
    {
     "name": "stderr",
     "output_type": "stream",
     "text": [
      "TRAINIGN: 100%|██████████| 587/587 [00:26<00:00, 22.56it/s]\n",
      "TESTING: 100%|██████████| 147/147 [00:07<00:00, 20.29it/s]\n"
     ]
    },
    {
     "name": "stdout",
     "output_type": "stream",
     "text": [
      "Train Acc: 0.3652 | Train Loss: 1.6726 | Test Acc: 0.3661 | Test Loss: 1.693845618338812\n",
      "\n",
      "Epoch 11\n"
     ]
    },
    {
     "name": "stderr",
     "output_type": "stream",
     "text": [
      "TRAINIGN: 100%|██████████| 587/587 [00:26<00:00, 22.18it/s]\n",
      "TESTING: 100%|██████████| 147/147 [00:07<00:00, 20.85it/s]\n"
     ]
    },
    {
     "name": "stdout",
     "output_type": "stream",
     "text": [
      "Train Acc: 0.3696 | Train Loss: 1.6572 | Test Acc: 0.3706 | Test Loss: 1.6538192568993082\n",
      "\n",
      "Epoch 12\n"
     ]
    },
    {
     "name": "stderr",
     "output_type": "stream",
     "text": [
      "TRAINIGN: 100%|██████████| 587/587 [00:26<00:00, 22.29it/s]\n",
      "TESTING: 100%|██████████| 147/147 [00:07<00:00, 20.60it/s]\n"
     ]
    },
    {
     "name": "stdout",
     "output_type": "stream",
     "text": [
      "Train Acc: 0.3735 | Train Loss: 1.6469 | Test Acc: 0.3745 | Test Loss: 1.6239366661123678\n",
      "\n",
      "Epoch 13\n"
     ]
    },
    {
     "name": "stderr",
     "output_type": "stream",
     "text": [
      "TRAINIGN: 100%|██████████| 587/587 [00:27<00:00, 21.52it/s]\n",
      "TESTING: 100%|██████████| 147/147 [00:06<00:00, 21.71it/s]\n"
     ]
    },
    {
     "name": "stdout",
     "output_type": "stream",
     "text": [
      "Train Acc: 0.3774 | Train Loss: 1.6364 | Test Acc: 0.3781 | Test Loss: 1.679682571871751\n",
      "\n",
      "Epoch 14\n"
     ]
    },
    {
     "name": "stderr",
     "output_type": "stream",
     "text": [
      "TRAINIGN: 100%|██████████| 587/587 [00:28<00:00, 20.87it/s]\n",
      "TESTING: 100%|██████████| 147/147 [00:07<00:00, 20.96it/s]\n"
     ]
    },
    {
     "name": "stdout",
     "output_type": "stream",
     "text": [
      "Train Acc: 0.3807 | Train Loss: 1.6282 | Test Acc: 0.3815 | Test Loss: 1.5935940474879986\n",
      "\n",
      "Epoch 15\n"
     ]
    },
    {
     "name": "stderr",
     "output_type": "stream",
     "text": [
      "TRAINIGN: 100%|██████████| 587/587 [00:27<00:00, 21.44it/s]\n",
      "TESTING: 100%|██████████| 147/147 [00:06<00:00, 21.34it/s]\n"
     ]
    },
    {
     "name": "stdout",
     "output_type": "stream",
     "text": [
      "Train Acc: 0.3838 | Train Loss: 1.6182 | Test Acc: 0.3846 | Test Loss: 1.5944295497167678\n",
      "\n",
      "Epoch 16\n"
     ]
    },
    {
     "name": "stderr",
     "output_type": "stream",
     "text": [
      "TRAINIGN: 100%|██████████| 587/587 [00:27<00:00, 21.39it/s]\n",
      "TESTING: 100%|██████████| 147/147 [00:07<00:00, 20.46it/s]\n"
     ]
    },
    {
     "name": "stdout",
     "output_type": "stream",
     "text": [
      "Train Acc: 0.3872 | Train Loss: 1.6065 | Test Acc: 0.3879 | Test Loss: 1.5858712861327087\n",
      "\n",
      "Epoch 17\n"
     ]
    },
    {
     "name": "stderr",
     "output_type": "stream",
     "text": [
      "TRAINIGN: 100%|██████████| 587/587 [00:26<00:00, 22.12it/s]\n",
      "TESTING: 100%|██████████| 147/147 [00:07<00:00, 20.26it/s]\n"
     ]
    },
    {
     "name": "stdout",
     "output_type": "stream",
     "text": [
      "Train Acc: 0.3902 | Train Loss: 1.5983 | Test Acc: 0.3908 | Test Loss: 1.590733677351556\n",
      "No improvement. Early stopping counter: 1/3\n",
      "\n",
      "Epoch 18\n"
     ]
    },
    {
     "name": "stderr",
     "output_type": "stream",
     "text": [
      "TRAINIGN: 100%|██████████| 587/587 [00:28<00:00, 20.77it/s]\n",
      "TESTING: 100%|██████████| 147/147 [00:06<00:00, 21.69it/s]\n"
     ]
    },
    {
     "name": "stdout",
     "output_type": "stream",
     "text": [
      "Train Acc: 0.3930 | Train Loss: 1.5849 | Test Acc: 0.3937 | Test Loss: 1.5589720659515485\n",
      "\n",
      "Epoch 19\n"
     ]
    },
    {
     "name": "stderr",
     "output_type": "stream",
     "text": [
      "TRAINIGN: 100%|██████████| 587/587 [00:26<00:00, 22.07it/s]\n",
      "TESTING: 100%|██████████| 147/147 [00:06<00:00, 21.40it/s]\n"
     ]
    },
    {
     "name": "stdout",
     "output_type": "stream",
     "text": [
      "Train Acc: 0.3958 | Train Loss: 1.5788 | Test Acc: 0.3963 | Test Loss: 1.602168047509226\n",
      "No improvement. Early stopping counter: 1/3\n",
      "\n",
      "Epoch 20\n"
     ]
    },
    {
     "name": "stderr",
     "output_type": "stream",
     "text": [
      "TRAINIGN: 100%|██████████| 587/587 [00:25<00:00, 22.96it/s]\n",
      "TESTING: 100%|██████████| 147/147 [00:06<00:00, 21.78it/s]\n"
     ]
    },
    {
     "name": "stdout",
     "output_type": "stream",
     "text": [
      "Train Acc: 0.3983 | Train Loss: 1.5798 | Test Acc: 0.3988 | Test Loss: 1.5831281108921076\n",
      "\n",
      "Epoch 21\n"
     ]
    },
    {
     "name": "stderr",
     "output_type": "stream",
     "text": [
      "TRAINIGN: 100%|██████████| 587/587 [00:26<00:00, 22.03it/s]\n",
      "TESTING: 100%|██████████| 147/147 [00:07<00:00, 20.82it/s]\n"
     ]
    },
    {
     "name": "stdout",
     "output_type": "stream",
     "text": [
      "Train Acc: 0.4007 | Train Loss: 1.5661 | Test Acc: 0.4011 | Test Loss: 1.608666174265803\n",
      "No improvement. Early stopping counter: 1/3\n",
      "\n",
      "Epoch 22\n"
     ]
    },
    {
     "name": "stderr",
     "output_type": "stream",
     "text": [
      "TRAINIGN: 100%|██████████| 587/587 [00:27<00:00, 21.38it/s]\n",
      "TESTING: 100%|██████████| 147/147 [00:06<00:00, 21.83it/s]\n"
     ]
    },
    {
     "name": "stdout",
     "output_type": "stream",
     "text": [
      "Train Acc: 0.4028 | Train Loss: 1.5589 | Test Acc: 0.4033 | Test Loss: 1.5782909401420022\n",
      "\n",
      "Epoch 23\n"
     ]
    },
    {
     "name": "stderr",
     "output_type": "stream",
     "text": [
      "TRAINIGN: 100%|██████████| 587/587 [00:27<00:00, 21.45it/s]\n",
      "TESTING: 100%|██████████| 147/147 [00:06<00:00, 22.19it/s]\n"
     ]
    },
    {
     "name": "stdout",
     "output_type": "stream",
     "text": [
      "Train Acc: 0.4050 | Train Loss: 1.5514 | Test Acc: 0.4055 | Test Loss: 1.5580701568499715\n",
      "No improvement. Early stopping counter: 1/3\n",
      "\n",
      "Epoch 24\n"
     ]
    },
    {
     "name": "stderr",
     "output_type": "stream",
     "text": [
      "TRAINIGN: 100%|██████████| 587/587 [00:25<00:00, 22.72it/s]\n",
      "TESTING: 100%|██████████| 147/147 [00:06<00:00, 22.13it/s]\n"
     ]
    },
    {
     "name": "stdout",
     "output_type": "stream",
     "text": [
      "Train Acc: 0.4072 | Train Loss: 1.5445 | Test Acc: 0.4077 | Test Loss: 1.5397389235139705\n",
      "\n",
      "Epoch 25\n"
     ]
    },
    {
     "name": "stderr",
     "output_type": "stream",
     "text": [
      "TRAINIGN: 100%|██████████| 587/587 [00:25<00:00, 22.77it/s]\n",
      "TESTING: 100%|██████████| 147/147 [00:06<00:00, 22.20it/s]\n"
     ]
    },
    {
     "name": "stdout",
     "output_type": "stream",
     "text": [
      "Train Acc: 0.4093 | Train Loss: 1.5431 | Test Acc: 0.4098 | Test Loss: 1.5073295142374883\n",
      "No improvement. Early stopping counter: 1/3\n",
      "\n",
      "Epoch 26\n"
     ]
    },
    {
     "name": "stderr",
     "output_type": "stream",
     "text": [
      "TRAINIGN: 100%|██████████| 587/587 [00:27<00:00, 21.09it/s]\n",
      "TESTING: 100%|██████████| 147/147 [00:07<00:00, 20.40it/s]\n"
     ]
    },
    {
     "name": "stdout",
     "output_type": "stream",
     "text": [
      "Train Acc: 0.4114 | Train Loss: 1.5319 | Test Acc: 0.4118 | Test Loss: 1.5563026812611793\n",
      "\n",
      "Epoch 27\n"
     ]
    },
    {
     "name": "stderr",
     "output_type": "stream",
     "text": [
      "TRAINIGN: 100%|██████████| 587/587 [00:25<00:00, 22.61it/s]\n",
      "TESTING: 100%|██████████| 147/147 [00:07<00:00, 20.70it/s]\n"
     ]
    },
    {
     "name": "stdout",
     "output_type": "stream",
     "text": [
      "Train Acc: 0.4133 | Train Loss: 1.5301 | Test Acc: 0.4136 | Test Loss: 1.6311553854520628\n",
      "No improvement. Early stopping counter: 1/3\n",
      "\n",
      "Epoch 28\n"
     ]
    },
    {
     "name": "stderr",
     "output_type": "stream",
     "text": [
      "TRAINIGN: 100%|██████████| 587/587 [00:26<00:00, 22.05it/s]\n",
      "TESTING: 100%|██████████| 147/147 [00:07<00:00, 19.96it/s]\n"
     ]
    },
    {
     "name": "stdout",
     "output_type": "stream",
     "text": [
      "Train Acc: 0.4151 | Train Loss: 1.5211 | Test Acc: 0.4155 | Test Loss: 1.5362779640016102\n",
      "\n",
      "Epoch 29\n"
     ]
    },
    {
     "name": "stderr",
     "output_type": "stream",
     "text": [
      "TRAINIGN: 100%|██████████| 587/587 [00:28<00:00, 20.75it/s]\n",
      "TESTING: 100%|██████████| 147/147 [00:07<00:00, 19.82it/s]\n"
     ]
    },
    {
     "name": "stdout",
     "output_type": "stream",
     "text": [
      "Train Acc: 0.4169 | Train Loss: 1.5207 | Test Acc: 0.4173 | Test Loss: 1.5249956732704526\n",
      "No improvement. Early stopping counter: 1/3\n",
      "\n",
      "Epoch 30\n"
     ]
    },
    {
     "name": "stderr",
     "output_type": "stream",
     "text": [
      "TRAINIGN: 100%|██████████| 587/587 [00:26<00:00, 22.06it/s]\n",
      "TESTING: 100%|██████████| 147/147 [00:06<00:00, 21.32it/s]\n"
     ]
    },
    {
     "name": "stdout",
     "output_type": "stream",
     "text": [
      "Train Acc: 0.4187 | Train Loss: 1.5066 | Test Acc: 0.4191 | Test Loss: 1.510436595702658\n",
      "\n",
      "Epoch 31\n"
     ]
    },
    {
     "name": "stderr",
     "output_type": "stream",
     "text": [
      "TRAINIGN: 100%|██████████| 587/587 [00:27<00:00, 21.72it/s]\n",
      "TESTING: 100%|██████████| 147/147 [00:07<00:00, 20.14it/s]\n"
     ]
    },
    {
     "name": "stdout",
     "output_type": "stream",
     "text": [
      "Train Acc: 0.4205 | Train Loss: 1.5074 | Test Acc: 0.4208 | Test Loss: 1.5248326574053084\n",
      "No improvement. Early stopping counter: 1/3\n",
      "\n",
      "Epoch 32\n"
     ]
    },
    {
     "name": "stderr",
     "output_type": "stream",
     "text": [
      "TRAINIGN: 100%|██████████| 587/587 [00:26<00:00, 22.49it/s]\n",
      "TESTING: 100%|██████████| 147/147 [00:07<00:00, 20.45it/s]\n"
     ]
    },
    {
     "name": "stdout",
     "output_type": "stream",
     "text": [
      "Train Acc: 0.4221 | Train Loss: 1.4997 | Test Acc: 0.4225 | Test Loss: 1.4881537714783026\n",
      "\n",
      "Epoch 33\n"
     ]
    },
    {
     "name": "stderr",
     "output_type": "stream",
     "text": [
      "TRAINIGN: 100%|██████████| 587/587 [00:28<00:00, 20.46it/s]\n",
      "TESTING: 100%|██████████| 147/147 [00:06<00:00, 21.53it/s]\n"
     ]
    },
    {
     "name": "stdout",
     "output_type": "stream",
     "text": [
      "Train Acc: 0.4239 | Train Loss: 1.4938 | Test Acc: 0.4242 | Test Loss: 1.5300869909273525\n",
      "No improvement. Early stopping counter: 1/3\n",
      "\n",
      "Epoch 34\n"
     ]
    },
    {
     "name": "stderr",
     "output_type": "stream",
     "text": [
      "TRAINIGN: 100%|██████████| 587/587 [00:25<00:00, 22.75it/s]\n",
      "TESTING: 100%|██████████| 147/147 [00:06<00:00, 21.99it/s]\n"
     ]
    },
    {
     "name": "stdout",
     "output_type": "stream",
     "text": [
      "Train Acc: 0.4254 | Train Loss: 1.4915 | Test Acc: 0.4257 | Test Loss: 1.5320073139099848\n",
      "\n",
      "Epoch 35\n"
     ]
    },
    {
     "name": "stderr",
     "output_type": "stream",
     "text": [
      "TRAINIGN: 100%|██████████| 587/587 [00:25<00:00, 22.95it/s]\n",
      "TESTING: 100%|██████████| 147/147 [00:07<00:00, 20.75it/s]\n"
     ]
    },
    {
     "name": "stdout",
     "output_type": "stream",
     "text": [
      "Train Acc: 0.4270 | Train Loss: 1.4842 | Test Acc: 0.4273 | Test Loss: 1.4841832595617592\n",
      "No improvement. Early stopping counter: 1/3\n",
      "\n",
      "Epoch 36\n"
     ]
    },
    {
     "name": "stderr",
     "output_type": "stream",
     "text": [
      "TRAINIGN: 100%|██████████| 587/587 [00:27<00:00, 21.27it/s]\n",
      "TESTING: 100%|██████████| 147/147 [00:06<00:00, 21.52it/s]\n"
     ]
    },
    {
     "name": "stdout",
     "output_type": "stream",
     "text": [
      "Train Acc: 0.4285 | Train Loss: 1.4753 | Test Acc: 0.4288 | Test Loss: 1.4950237931037436\n",
      "\n",
      "Epoch 37\n"
     ]
    },
    {
     "name": "stderr",
     "output_type": "stream",
     "text": [
      "TRAINIGN: 100%|██████████| 587/587 [00:25<00:00, 22.60it/s]\n",
      "TESTING: 100%|██████████| 147/147 [00:06<00:00, 21.41it/s]\n"
     ]
    },
    {
     "name": "stdout",
     "output_type": "stream",
     "text": [
      "Train Acc: 0.4300 | Train Loss: 1.4729 | Test Acc: 0.4303 | Test Loss: 1.4986751493142576\n",
      "No improvement. Early stopping counter: 1/3\n",
      "\n",
      "Epoch 38\n"
     ]
    },
    {
     "name": "stderr",
     "output_type": "stream",
     "text": [
      "TRAINIGN: 100%|██████████| 587/587 [00:26<00:00, 22.37it/s]\n",
      "TESTING: 100%|██████████| 147/147 [00:07<00:00, 20.78it/s]\n"
     ]
    },
    {
     "name": "stdout",
     "output_type": "stream",
     "text": [
      "Train Acc: 0.4315 | Train Loss: 1.4651 | Test Acc: 0.4319 | Test Loss: 1.4742248042100141\n",
      "\n",
      "Epoch 39\n"
     ]
    },
    {
     "name": "stderr",
     "output_type": "stream",
     "text": [
      "TRAINIGN: 100%|██████████| 587/587 [00:25<00:00, 22.63it/s]\n",
      "TESTING: 100%|██████████| 147/147 [00:07<00:00, 20.16it/s]\n"
     ]
    },
    {
     "name": "stdout",
     "output_type": "stream",
     "text": [
      "Train Acc: 0.4330 | Train Loss: 1.4629 | Test Acc: 0.4334 | Test Loss: 1.4584435484036296\n",
      "No improvement. Early stopping counter: 1/3\n",
      "\n",
      "Epoch 40\n"
     ]
    },
    {
     "name": "stderr",
     "output_type": "stream",
     "text": [
      "TRAINIGN: 100%|██████████| 587/587 [00:27<00:00, 21.00it/s]\n",
      "TESTING: 100%|██████████| 147/147 [00:07<00:00, 20.64it/s]\n"
     ]
    },
    {
     "name": "stdout",
     "output_type": "stream",
     "text": [
      "Train Acc: 0.4345 | Train Loss: 1.4539 | Test Acc: 0.4349 | Test Loss: 1.4569107894183828\n",
      "\n",
      "Epoch 41\n"
     ]
    },
    {
     "name": "stderr",
     "output_type": "stream",
     "text": [
      "TRAINIGN: 100%|██████████| 587/587 [00:27<00:00, 21.10it/s]\n",
      "TESTING: 100%|██████████| 147/147 [00:07<00:00, 20.62it/s]\n"
     ]
    },
    {
     "name": "stdout",
     "output_type": "stream",
     "text": [
      "Train Acc: 0.4361 | Train Loss: 1.4468 | Test Acc: 0.4364 | Test Loss: 1.46692828499541\n",
      "No improvement. Early stopping counter: 1/3\n",
      "\n",
      "Epoch 42\n"
     ]
    },
    {
     "name": "stderr",
     "output_type": "stream",
     "text": [
      "TRAINIGN: 100%|██████████| 587/587 [00:28<00:00, 20.92it/s]\n",
      "TESTING: 100%|██████████| 147/147 [00:06<00:00, 21.08it/s]\n"
     ]
    },
    {
     "name": "stdout",
     "output_type": "stream",
     "text": [
      "Train Acc: 0.4374 | Train Loss: 1.4534 | Test Acc: 0.4377 | Test Loss: 1.430147497021422\n",
      "No improvement. Early stopping counter: 2/3\n",
      "\n",
      "Epoch 43\n"
     ]
    },
    {
     "name": "stderr",
     "output_type": "stream",
     "text": [
      "TRAINIGN: 100%|██████████| 587/587 [00:26<00:00, 22.39it/s]\n",
      "TESTING: 100%|██████████| 147/147 [00:06<00:00, 22.09it/s]\n"
     ]
    },
    {
     "name": "stdout",
     "output_type": "stream",
     "text": [
      "Train Acc: 0.4388 | Train Loss: 1.4489 | Test Acc: 0.4391 | Test Loss: 1.4539631880870483\n",
      "\n",
      "Epoch 44\n"
     ]
    },
    {
     "name": "stderr",
     "output_type": "stream",
     "text": [
      "TRAINIGN: 100%|██████████| 587/587 [00:25<00:00, 22.67it/s]\n",
      "TESTING: 100%|██████████| 147/147 [00:07<00:00, 20.12it/s]\n"
     ]
    },
    {
     "name": "stdout",
     "output_type": "stream",
     "text": [
      "Train Acc: 0.4401 | Train Loss: 1.4431 | Test Acc: 0.4404 | Test Loss: 1.4504440625508626\n",
      "No improvement. Early stopping counter: 1/3\n",
      "\n",
      "Epoch 45\n"
     ]
    },
    {
     "name": "stderr",
     "output_type": "stream",
     "text": [
      "TRAINIGN: 100%|██████████| 587/587 [00:27<00:00, 21.00it/s]\n",
      "TESTING: 100%|██████████| 147/147 [00:06<00:00, 21.99it/s]\n"
     ]
    },
    {
     "name": "stdout",
     "output_type": "stream",
     "text": [
      "Train Acc: 0.4414 | Train Loss: 1.4396 | Test Acc: 0.4417 | Test Loss: 1.4755522312761165\n",
      "No improvement. Early stopping counter: 2/3\n",
      "\n",
      "Epoch 46\n"
     ]
    },
    {
     "name": "stderr",
     "output_type": "stream",
     "text": [
      "TRAINIGN: 100%|██████████| 587/587 [00:27<00:00, 21.08it/s]\n",
      "TESTING: 100%|██████████| 147/147 [00:06<00:00, 21.25it/s]\n"
     ]
    },
    {
     "name": "stdout",
     "output_type": "stream",
     "text": [
      "Train Acc: 0.4427 | Train Loss: 1.4357 | Test Acc: 0.4429 | Test Loss: 1.44813444744162\n",
      "\n",
      "Epoch 47\n"
     ]
    },
    {
     "name": "stderr",
     "output_type": "stream",
     "text": [
      "TRAINIGN: 100%|██████████| 587/587 [00:25<00:00, 23.35it/s]\n",
      "TESTING: 100%|██████████| 147/147 [00:06<00:00, 23.82it/s]\n"
     ]
    },
    {
     "name": "stdout",
     "output_type": "stream",
     "text": [
      "Train Acc: 0.4439 | Train Loss: 1.4310 | Test Acc: 0.4442 | Test Loss: 1.4288137324002324\n",
      "No improvement. Early stopping counter: 1/3\n",
      "\n",
      "Epoch 48\n"
     ]
    },
    {
     "name": "stderr",
     "output_type": "stream",
     "text": [
      "TRAINIGN: 100%|██████████| 587/587 [00:23<00:00, 24.62it/s]\n",
      "TESTING: 100%|██████████| 147/147 [00:06<00:00, 24.28it/s]\n"
     ]
    },
    {
     "name": "stdout",
     "output_type": "stream",
     "text": [
      "Train Acc: 0.4451 | Train Loss: 1.4288 | Test Acc: 0.4453 | Test Loss: 1.453329552598551\n",
      "No improvement. Early stopping counter: 2/3\n",
      "\n",
      "Epoch 49\n"
     ]
    },
    {
     "name": "stderr",
     "output_type": "stream",
     "text": [
      "TRAINIGN: 100%|██████████| 587/587 [00:22<00:00, 25.61it/s]\n",
      "TESTING: 100%|██████████| 147/147 [00:06<00:00, 23.30it/s]\n"
     ]
    },
    {
     "name": "stdout",
     "output_type": "stream",
     "text": [
      "Train Acc: 0.4463 | Train Loss: 1.4201 | Test Acc: 0.4465 | Test Loss: 1.4781283229386726\n",
      "\n",
      "Epoch 50\n"
     ]
    },
    {
     "name": "stderr",
     "output_type": "stream",
     "text": [
      "TRAINIGN: 100%|██████████| 587/587 [00:24<00:00, 23.94it/s]\n",
      "TESTING: 100%|██████████| 147/147 [00:05<00:00, 24.55it/s]\n"
     ]
    },
    {
     "name": "stdout",
     "output_type": "stream",
     "text": [
      "Train Acc: 0.4474 | Train Loss: 1.4249 | Test Acc: 0.4475 | Test Loss: 1.527572397472096\n",
      "No improvement. Early stopping counter: 1/3\n",
      "\n",
      "Epoch 51\n"
     ]
    },
    {
     "name": "stderr",
     "output_type": "stream",
     "text": [
      "TRAINIGN: 100%|██████████| 587/587 [00:23<00:00, 25.06it/s]\n",
      "TESTING: 100%|██████████| 147/147 [00:06<00:00, 24.27it/s]\n"
     ]
    },
    {
     "name": "stdout",
     "output_type": "stream",
     "text": [
      "Train Acc: 0.4485 | Train Loss: 1.4160 | Test Acc: 0.4487 | Test Loss: 1.4429574247931136\n",
      "No improvement. Early stopping counter: 2/3\n",
      "\n",
      "Epoch 52\n"
     ]
    },
    {
     "name": "stderr",
     "output_type": "stream",
     "text": [
      "TRAINIGN: 100%|██████████| 587/587 [00:24<00:00, 24.34it/s]\n",
      "TESTING: 100%|██████████| 147/147 [00:06<00:00, 22.62it/s]\n"
     ]
    },
    {
     "name": "stdout",
     "output_type": "stream",
     "text": [
      "Train Acc: 0.4496 | Train Loss: 1.4116 | Test Acc: 0.4499 | Test Loss: 1.4016391355164197\n",
      "\n",
      "Epoch 53\n"
     ]
    },
    {
     "name": "stderr",
     "output_type": "stream",
     "text": [
      "TRAINIGN: 100%|██████████| 587/587 [00:24<00:00, 23.91it/s]\n",
      "TESTING: 100%|██████████| 147/147 [00:05<00:00, 25.21it/s]\n"
     ]
    },
    {
     "name": "stdout",
     "output_type": "stream",
     "text": [
      "Train Acc: 0.4507 | Train Loss: 1.4088 | Test Acc: 0.4509 | Test Loss: 1.4482641755318155\n",
      "No improvement. Early stopping counter: 1/3\n",
      "\n",
      "Epoch 54\n"
     ]
    },
    {
     "name": "stderr",
     "output_type": "stream",
     "text": [
      "TRAINIGN: 100%|██████████| 587/587 [00:24<00:00, 23.86it/s]\n",
      "TESTING: 100%|██████████| 147/147 [00:06<00:00, 24.44it/s]\n"
     ]
    },
    {
     "name": "stdout",
     "output_type": "stream",
     "text": [
      "Train Acc: 0.4518 | Train Loss: 1.4051 | Test Acc: 0.4520 | Test Loss: 1.4144739991142636\n",
      "No improvement. Early stopping counter: 2/3\n",
      "\n",
      "Epoch 55\n"
     ]
    },
    {
     "name": "stderr",
     "output_type": "stream",
     "text": [
      "TRAINIGN: 100%|██████████| 587/587 [00:24<00:00, 24.24it/s]\n",
      "TESTING: 100%|██████████| 147/147 [00:06<00:00, 22.58it/s]\n"
     ]
    },
    {
     "name": "stdout",
     "output_type": "stream",
     "text": [
      "Train Acc: 0.4529 | Train Loss: 1.3992 | Test Acc: 0.4531 | Test Loss: 1.4030323061002354\n",
      "\n",
      "Epoch 56\n"
     ]
    },
    {
     "name": "stderr",
     "output_type": "stream",
     "text": [
      "TRAINIGN: 100%|██████████| 587/587 [00:22<00:00, 26.01it/s]\n",
      "TESTING: 100%|██████████| 147/147 [00:06<00:00, 22.78it/s]\n"
     ]
    },
    {
     "name": "stdout",
     "output_type": "stream",
     "text": [
      "Train Acc: 0.4540 | Train Loss: 1.3973 | Test Acc: 0.4542 | Test Loss: 1.435035953716356\n",
      "No improvement. Early stopping counter: 1/3\n",
      "\n",
      "Epoch 57\n"
     ]
    },
    {
     "name": "stderr",
     "output_type": "stream",
     "text": [
      "TRAINIGN: 100%|██████████| 587/587 [00:24<00:00, 23.60it/s]\n",
      "TESTING: 100%|██████████| 147/147 [00:06<00:00, 23.58it/s]\n"
     ]
    },
    {
     "name": "stdout",
     "output_type": "stream",
     "text": [
      "Train Acc: 0.4550 | Train Loss: 1.3955 | Test Acc: 0.4553 | Test Loss: 1.3986029227574666\n",
      "No improvement. Early stopping counter: 2/3\n",
      "\n",
      "Epoch 58\n"
     ]
    },
    {
     "name": "stderr",
     "output_type": "stream",
     "text": [
      "TRAINIGN: 100%|██████████| 587/587 [00:24<00:00, 23.68it/s]\n",
      "TESTING: 100%|██████████| 147/147 [00:06<00:00, 23.88it/s]\n"
     ]
    },
    {
     "name": "stdout",
     "output_type": "stream",
     "text": [
      "Train Acc: 0.4561 | Train Loss: 1.3913 | Test Acc: 0.4564 | Test Loss: 1.3771926213283927\n",
      "\n",
      "Epoch 59\n"
     ]
    },
    {
     "name": "stderr",
     "output_type": "stream",
     "text": [
      "TRAINIGN: 100%|██████████| 587/587 [00:22<00:00, 25.53it/s]\n",
      "TESTING: 100%|██████████| 147/147 [00:06<00:00, 23.62it/s]\n"
     ]
    },
    {
     "name": "stdout",
     "output_type": "stream",
     "text": [
      "Train Acc: 0.4572 | Train Loss: 1.3873 | Test Acc: 0.4574 | Test Loss: 1.4225458660904242\n",
      "No improvement. Early stopping counter: 1/3\n",
      "\n",
      "Epoch 60\n"
     ]
    },
    {
     "name": "stderr",
     "output_type": "stream",
     "text": [
      "TRAINIGN: 100%|██████████| 587/587 [00:24<00:00, 23.81it/s]\n",
      "TESTING: 100%|██████████| 147/147 [00:06<00:00, 24.30it/s]\n"
     ]
    },
    {
     "name": "stdout",
     "output_type": "stream",
     "text": [
      "Train Acc: 0.4582 | Train Loss: 1.3790 | Test Acc: 0.4584 | Test Loss: 1.4155977339971633\n",
      "No improvement. Early stopping counter: 2/3\n",
      "\n",
      "Epoch 61\n"
     ]
    },
    {
     "name": "stderr",
     "output_type": "stream",
     "text": [
      "TRAINIGN: 100%|██████████| 587/587 [00:23<00:00, 25.50it/s]\n",
      "TESTING: 100%|██████████| 147/147 [00:05<00:00, 26.44it/s]\n"
     ]
    },
    {
     "name": "stdout",
     "output_type": "stream",
     "text": [
      "Train Acc: 0.4592 | Train Loss: 1.3790 | Test Acc: 0.4594 | Test Loss: 1.4083929734976113\n",
      "\n",
      "Epoch 62\n"
     ]
    },
    {
     "name": "stderr",
     "output_type": "stream",
     "text": [
      "TRAINIGN: 100%|██████████| 587/587 [00:23<00:00, 24.93it/s]\n",
      "TESTING: 100%|██████████| 147/147 [00:06<00:00, 24.38it/s]\n"
     ]
    },
    {
     "name": "stdout",
     "output_type": "stream",
     "text": [
      "Train Acc: 0.4602 | Train Loss: 1.3776 | Test Acc: 0.4604 | Test Loss: 1.4438484181352214\n",
      "No improvement. Early stopping counter: 1/3\n",
      "\n",
      "Epoch 63\n"
     ]
    },
    {
     "name": "stderr",
     "output_type": "stream",
     "text": [
      "TRAINIGN: 100%|██████████| 587/587 [00:22<00:00, 26.15it/s]\n",
      "TESTING: 100%|██████████| 147/147 [00:06<00:00, 22.71it/s]\n"
     ]
    },
    {
     "name": "stdout",
     "output_type": "stream",
     "text": [
      "Train Acc: 0.4611 | Train Loss: 1.3785 | Test Acc: 0.4613 | Test Loss: 1.394719120191068\n",
      "No improvement. Early stopping counter: 2/3\n",
      "\n",
      "Epoch 64\n"
     ]
    },
    {
     "name": "stderr",
     "output_type": "stream",
     "text": [
      "TRAINIGN: 100%|██████████| 587/587 [00:24<00:00, 23.77it/s]\n",
      "TESTING: 100%|██████████| 147/147 [00:06<00:00, 22.54it/s]"
     ]
    },
    {
     "name": "stdout",
     "output_type": "stream",
     "text": [
      "Train Acc: 0.4621 | Train Loss: 1.3723 | Test Acc: 0.4623 | Test Loss: 1.3967913827117608\n",
      "No improvement. Early stopping counter: 3/3\n",
      "Early stopping triggered.\n"
     ]
    },
    {
     "name": "stderr",
     "output_type": "stream",
     "text": [
      "\n"
     ]
    }
   ],
   "source": [
    "device = torch.device(\"cuda\" if torch.cuda.is_available() else \"cpu\")\n",
    "model_multihead_multilayer = BirdClassifier(cnn_state=False, dim= 128, layer_count=2, head_count = 2).to(device)\n",
    "criterion = nn.CrossEntropyLoss().to(device)\n",
    "optimizer = optim.Adam(model_multihead_multilayer.parameters(), lr=3e-4)\n",
    "accuracy_score = Accuracy(task = 'multiclass', num_classes = 10).to(device)\n",
    "\n",
    "\n",
    "patience = 3\n",
    "min_delta = 3e-3\n",
    "best_accuracy = 0\n",
    "counter = 0\n",
    "best_test_acc = 0\n",
    "\n",
    "loss_scores_train_multihead_multilayer = []\n",
    "accuracy_scores_train_multihead__multilayer = []\n",
    "\n",
    "loss_scores_test_multihead_multilayer = []\n",
    "accuracy_scores_test_multihead_multilayer = []\n",
    "\n",
    "for epoch in range(200):  \n",
    "    print(f\"\\nEpoch {epoch+1}\")\n",
    "    train_acc, train_loss = train_model(model_multihead_multilayer, training_dataset, criterion, optimizer, accuracy_score, device)\n",
    "    test_acc, test_loss = test_model(model_multihead_multilayer, testing_dataset, criterion, accuracy_score, device)\n",
    "    \n",
    "    accuracy_scores_train_multihead__multilayer.append(train_acc)\n",
    "    loss_scores_train_multihead_multilayer.append(train_loss)\n",
    "\n",
    "    accuracy_scores_test_multihead_multilayer.append(test_acc)\n",
    "    loss_scores_test_multihead_multilayer.append(test_loss)\n",
    "    print(f\"Train Acc: {train_acc:.4f} | Train Loss: {train_loss:.4f} | Test Acc: {test_acc:.4f} | Test Loss: {test_loss}\")\n",
    "    \n",
    "    if test_acc - best_test_acc > min_delta:\n",
    "        best_test_acc = test_acc\n",
    "        counter = 0\n",
    "    else:\n",
    "        counter += 1\n",
    "        print(f\"No improvement. Early stopping counter: {counter}/{patience}\")\n",
    "        if counter >= patience:\n",
    "            print(\"Early stopping triggered.\")\n",
    "            break"
   ]
  }
 ],
 "metadata": {
  "kernelspec": {
   "display_name": ".venv",
   "language": "python",
   "name": "python3"
  },
  "language_info": {
   "codemirror_mode": {
    "name": "ipython",
    "version": 3
   },
   "file_extension": ".py",
   "mimetype": "text/x-python",
   "name": "python",
   "nbconvert_exporter": "python",
   "pygments_lexer": "ipython3",
   "version": "3.12.3"
  }
 },
 "nbformat": 4,
 "nbformat_minor": 2
}
