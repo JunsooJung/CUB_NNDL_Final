{
 "cells": [
  {
   "cell_type": "code",
   "execution_count": 1,
   "metadata": {},
   "outputs": [
    {
     "name": "stderr",
     "output_type": "stream",
     "text": [
      "/home/exouser/VSCODE_NN/.venv/lib/python3.12/site-packages/tqdm/auto.py:21: TqdmWarning: IProgress not found. Please update jupyter and ipywidgets. See https://ipywidgets.readthedocs.io/en/stable/user_install.html\n",
      "  from .autonotebook import tqdm as notebook_tqdm\n"
     ]
    }
   ],
   "source": [
    "import numpy as np\n",
    "import torch\n",
    "import random\n",
    "import torch.nn as nn\n",
    "import torch.optim as optim\n",
    "import matplotlib.pyplot as plt\n",
    "from torchmetrics.classification import Accuracy\n",
    "from torch.optim.lr_scheduler import ReduceLROnPlateau, StepLR\n",
    "from tqdm import tqdm\n",
    "from torchvision import datasets, transforms\n",
    "from torch.utils.data import DataLoader,Subset,random_split\n",
    "from vit_pytorch import ViT\n",
    "from vit_pytorch.vit import Transformer, Attention\n",
    "import pandas as pd\n",
    "import seaborn as sns"
   ]
  },
  {
   "cell_type": "markdown",
   "metadata": {},
   "source": [
    "### Data Upload"
   ]
  },
  {
   "cell_type": "code",
   "execution_count": 2,
   "metadata": {},
   "outputs": [],
   "source": [
    "data_path = \"filtered_species\"\n",
    "batch_size = 64\n",
    "\n",
    "transform = transforms.Compose([\n",
    "    transforms.CenterCrop((256, 256)),  #Resize to minimum of all sizes - Will update size in cnn architecture\n",
    "    transforms.RandomHorizontalFlip(p = 0.25),\n",
    "    transforms.RandomRotation(degrees = 30),\n",
    "    transforms.ToTensor(),\n",
    "    transforms.Normalize(mean=[0.485, 0.456, 0.406], \n",
    "                         std=[0.229, 0.224, 0.225])\n",
    "])\n",
    "\n",
    "data = datasets.ImageFolder(root=data_path, transform=transform)\n",
    "\n",
    "\n",
    "subset_size = 5000\n",
    "indices = random.sample(range(len(data)), subset_size)\n",
    "data_subset = Subset(data, indices)\n",
    "\n",
    "#change data_subset <-> data for train from whole data\n",
    "train_size = int(0.8 * len(data))\n",
    "test_size = len(data) - train_size\n",
    "training, testing = random_split(data, [train_size, test_size], generator=torch.Generator().manual_seed(1111))\n",
    "\n",
    "training_dataset = DataLoader(training, batch_size=batch_size, shuffle=True, num_workers=6, pin_memory=True)\n",
    "testing_dataset = DataLoader(testing, batch_size=batch_size, shuffle=True, num_workers=6, pin_memory=True)\n",
    "#For testing purposes\n",
    "#print(\"Class names:\", data.classes)\n",
    "#len(data.classes)"
   ]
  },
  {
   "cell_type": "markdown",
   "metadata": {},
   "source": [
    "### Classifier Architecture"
   ]
  },
  {
   "cell_type": "code",
   "execution_count": null,
   "metadata": {},
   "outputs": [],
   "source": [
    "class BirdClassifier(nn.Module):\n",
    "    def __init__(self,\n",
    "                 cnn_state=False, # Whether to use CNN before ViT\n",
    "                 image_size=256,\n",
    "                 patch_size=16,\n",
    "                 num_class=10,\n",
    "                 dim=256,\n",
    "                 layer_count=1,\n",
    "                 head_count=1,\n",
    "                 transformer_ff_neurons=256,\n",
    "                 transformer_dropout=0.2):\n",
    "        super().__init__()\n",
    "        \n",
    "        self.cnn_state = cnn_state\n",
    "        self.image_size = image_size if not cnn_state else 64  # Will update if CNN is used\n",
    "\n",
    "        if cnn_state:\n",
    "            self.cnn = nn.Sequential(\n",
    "                nn.Conv2d(3, 96, kernel_size=11, stride=4, padding=2),  # AlexNet\n",
    "                nn.ReLU(),\n",
    "                nn.MaxPool2d(kernel_size=3, stride=2),\n",
    "                \n",
    "                nn.Conv2d(96, 256, kernel_size=5, padding=2),\n",
    "                nn.ReLU(),\n",
    "                nn.MaxPool2d(kernel_size=3, stride=2),\n",
    "\n",
    "                nn.Conv2d(256, 384, kernel_size=3, padding=1),\n",
    "                nn.ReLU(),\n",
    "\n",
    "                nn.Conv2d(384, 384, kernel_size=3, padding=1),\n",
    "                nn.ReLU(),\n",
    "\n",
    "                nn.Conv2d(384, 256, kernel_size=3, padding=1),\n",
    "                nn.ReLU(),\n",
    "                nn.AdaptiveAvgPool2d((self.image_size, self.image_size))  # Resize to ViT input\n",
    "            )\n",
    "\n",
    "        self.vision_transformer = ViT(\n",
    "            image_size=self.image_size,\n",
    "            patch_size=patch_size,\n",
    "            num_classes=num_class,\n",
    "            dim=dim,\n",
    "            depth=layer_count,\n",
    "            heads=head_count,\n",
    "            mlp_dim=transformer_ff_neurons,\n",
    "            dropout=transformer_dropout,\n",
    "            emb_dropout=transformer_dropout,\n",
    "            channels=3\n",
    "        )\n",
    "\n",
    "    def forward(self, x):\n",
    "        if self.cnn_state:\n",
    "            x = self.cnn(x)\n",
    "        x = self.vision_transformer(x)\n",
    "        return x\n",
    "\n",
    "\n",
    "\n"
   ]
  },
  {
   "cell_type": "code",
   "execution_count": 3,
   "metadata": {},
   "outputs": [],
   "source": [
    "def train_model(model, dataloader, criterion, optimizer_metric, accuracy_metric, device):\n",
    "    model.train()\n",
    "    net_loss = 0\n",
    "    for images, labels in tqdm(dataloader, desc = \"TRAINIGN\"):\n",
    "        images, labels = images.to(device), labels.to(device)\n",
    "        y_hat = model(images)\n",
    "        loss = criterion(y_hat, labels)\n",
    "        optimizer_metric.zero_grad()\n",
    "        loss.backward()\n",
    "        optimizer_metric.step()\n",
    "        accuracy_metric.update(y_hat, labels)\n",
    "        net_loss += loss.item()\n",
    "    \n",
    "    epoch_accuracy = accuracy_metric.compute().item()\n",
    "    epoch_loss = net_loss/(len(dataloader))\n",
    "\n",
    "    return epoch_accuracy, epoch_loss\n",
    "\n",
    "def test_model(model, dataloader, criterion, accuracy_metric, device):\n",
    "    model.eval()\n",
    "    net_loss = 0\n",
    "    for images, labels in tqdm(dataloader, desc = \"TESTING\"):\n",
    "        image, label = images.to(device), labels.to(device)\n",
    "        y_hat = model(image)\n",
    "        loss = criterion(y_hat, label)\n",
    "        accuracy_metric.update(y_hat, label)\n",
    "        net_loss += loss.item()\n",
    "    \n",
    "    epoch_accuracy = accuracy_metric.compute().item()\n",
    "    epoch_loss = net_loss/(len(dataloader))\n",
    "\n",
    "    return epoch_accuracy, epoch_loss"
   ]
  },
  {
   "cell_type": "markdown",
   "metadata": {},
   "source": [
    "### Baseline Model (Control)"
   ]
  },
  {
   "cell_type": "code",
   "execution_count": 5,
   "metadata": {},
   "outputs": [
    {
     "name": "stdout",
     "output_type": "stream",
     "text": [
      "\n",
      "Epoch 1\n"
     ]
    },
    {
     "name": "stderr",
     "output_type": "stream",
     "text": [
      "TRAINIGN: 100%|██████████| 587/587 [00:31<00:00, 18.92it/s]\n",
      "TESTING: 100%|██████████| 147/147 [00:08<00:00, 18.08it/s]\n"
     ]
    },
    {
     "name": "stdout",
     "output_type": "stream",
     "text": [
      "Train Acc: 0.1999 | Train Loss: 2.1461 | Test Acc: 0.2077 | Test Loss: 2.0597201707411785\n",
      "\n",
      "Epoch 2\n"
     ]
    },
    {
     "name": "stderr",
     "output_type": "stream",
     "text": [
      "TRAINIGN: 100%|██████████| 587/587 [00:24<00:00, 23.92it/s]\n",
      "TESTING: 100%|██████████| 147/147 [00:06<00:00, 21.74it/s]\n"
     ]
    },
    {
     "name": "stdout",
     "output_type": "stream",
     "text": [
      "Train Acc: 0.2239 | Train Loss: 2.0433 | Test Acc: 0.2275 | Test Loss: 2.062566318479525\n",
      "\n",
      "Epoch 3\n"
     ]
    },
    {
     "name": "stderr",
     "output_type": "stream",
     "text": [
      "TRAINIGN: 100%|██████████| 587/587 [00:23<00:00, 24.58it/s]\n",
      "TESTING: 100%|██████████| 147/147 [00:05<00:00, 24.88it/s]\n"
     ]
    },
    {
     "name": "stdout",
     "output_type": "stream",
     "text": [
      "Train Acc: 0.2399 | Train Loss: 1.9977 | Test Acc: 0.2428 | Test Loss: 2.010009292031632\n",
      "\n",
      "Epoch 4\n"
     ]
    },
    {
     "name": "stderr",
     "output_type": "stream",
     "text": [
      "TRAINIGN: 100%|██████████| 587/587 [00:23<00:00, 25.24it/s]\n",
      "TESTING: 100%|██████████| 147/147 [00:07<00:00, 20.84it/s]\n"
     ]
    },
    {
     "name": "stdout",
     "output_type": "stream",
     "text": [
      "Train Acc: 0.2521 | Train Loss: 1.9662 | Test Acc: 0.2536 | Test Loss: 2.02152043378272\n",
      "\n",
      "Epoch 5\n"
     ]
    },
    {
     "name": "stderr",
     "output_type": "stream",
     "text": [
      "TRAINIGN: 100%|██████████| 587/587 [00:24<00:00, 23.61it/s]\n",
      "TESTING: 100%|██████████| 147/147 [00:06<00:00, 23.53it/s]\n"
     ]
    },
    {
     "name": "stdout",
     "output_type": "stream",
     "text": [
      "Train Acc: 0.2612 | Train Loss: 1.9441 | Test Acc: 0.2627 | Test Loss: 1.957131569888316\n",
      "\n",
      "Epoch 6\n"
     ]
    },
    {
     "name": "stderr",
     "output_type": "stream",
     "text": [
      "TRAINIGN: 100%|██████████| 587/587 [00:24<00:00, 24.18it/s]\n",
      "TESTING: 100%|██████████| 147/147 [00:06<00:00, 23.34it/s]\n"
     ]
    },
    {
     "name": "stdout",
     "output_type": "stream",
     "text": [
      "Train Acc: 0.2680 | Train Loss: 1.9366 | Test Acc: 0.2695 | Test Loss: 1.8932990735890913\n",
      "\n",
      "Epoch 7\n"
     ]
    },
    {
     "name": "stderr",
     "output_type": "stream",
     "text": [
      "TRAINIGN: 100%|██████████| 587/587 [00:24<00:00, 23.76it/s]\n",
      "TESTING: 100%|██████████| 147/147 [00:06<00:00, 23.72it/s]\n"
     ]
    },
    {
     "name": "stdout",
     "output_type": "stream",
     "text": [
      "Train Acc: 0.2741 | Train Loss: 1.9204 | Test Acc: 0.2749 | Test Loss: 1.9492886788180086\n",
      "\n",
      "Epoch 8\n"
     ]
    },
    {
     "name": "stderr",
     "output_type": "stream",
     "text": [
      "TRAINIGN: 100%|██████████| 587/587 [00:24<00:00, 23.69it/s]\n",
      "TESTING: 100%|██████████| 147/147 [00:06<00:00, 22.59it/s]\n"
     ]
    },
    {
     "name": "stdout",
     "output_type": "stream",
     "text": [
      "Train Acc: 0.2787 | Train Loss: 1.9078 | Test Acc: 0.2795 | Test Loss: 1.9112320019274343\n",
      "\n",
      "Epoch 9\n"
     ]
    },
    {
     "name": "stderr",
     "output_type": "stream",
     "text": [
      "TRAINIGN: 100%|██████████| 587/587 [00:24<00:00, 23.84it/s]\n",
      "TESTING: 100%|██████████| 147/147 [00:06<00:00, 22.89it/s]\n"
     ]
    },
    {
     "name": "stdout",
     "output_type": "stream",
     "text": [
      "Train Acc: 0.2827 | Train Loss: 1.8997 | Test Acc: 0.2836 | Test Loss: 1.9010956441464066\n",
      "\n",
      "Epoch 10\n"
     ]
    },
    {
     "name": "stderr",
     "output_type": "stream",
     "text": [
      "TRAINIGN: 100%|██████████| 587/587 [00:24<00:00, 23.75it/s]\n",
      "TESTING: 100%|██████████| 147/147 [00:06<00:00, 24.01it/s]\n"
     ]
    },
    {
     "name": "stdout",
     "output_type": "stream",
     "text": [
      "Train Acc: 0.2866 | Train Loss: 1.8885 | Test Acc: 0.2873 | Test Loss: 1.93024543840058\n",
      "\n",
      "Epoch 11\n"
     ]
    },
    {
     "name": "stderr",
     "output_type": "stream",
     "text": [
      "TRAINIGN: 100%|██████████| 587/587 [00:23<00:00, 24.48it/s]\n",
      "TESTING: 100%|██████████| 147/147 [00:06<00:00, 22.65it/s]\n"
     ]
    },
    {
     "name": "stdout",
     "output_type": "stream",
     "text": [
      "Train Acc: 0.2903 | Train Loss: 1.8674 | Test Acc: 0.2912 | Test Loss: 1.8576252622669245\n",
      "\n",
      "Epoch 12\n"
     ]
    },
    {
     "name": "stderr",
     "output_type": "stream",
     "text": [
      "TRAINIGN: 100%|██████████| 587/587 [00:23<00:00, 24.55it/s]\n",
      "TESTING: 100%|██████████| 147/147 [00:06<00:00, 23.01it/s]\n"
     ]
    },
    {
     "name": "stdout",
     "output_type": "stream",
     "text": [
      "Train Acc: 0.2938 | Train Loss: 1.8586 | Test Acc: 0.2946 | Test Loss: 1.8584014193541338\n",
      "\n",
      "Epoch 13\n"
     ]
    },
    {
     "name": "stderr",
     "output_type": "stream",
     "text": [
      "TRAINIGN: 100%|██████████| 587/587 [00:23<00:00, 24.73it/s]\n",
      "TESTING: 100%|██████████| 147/147 [00:06<00:00, 23.52it/s]\n"
     ]
    },
    {
     "name": "stdout",
     "output_type": "stream",
     "text": [
      "Train Acc: 0.2969 | Train Loss: 1.8571 | Test Acc: 0.2976 | Test Loss: 1.8626062172610744\n",
      "No improvement. Early stopping counter: 1/3\n",
      "\n",
      "Epoch 14\n"
     ]
    },
    {
     "name": "stderr",
     "output_type": "stream",
     "text": [
      "TRAINIGN: 100%|██████████| 587/587 [00:23<00:00, 24.47it/s]\n",
      "TESTING: 100%|██████████| 147/147 [00:06<00:00, 23.44it/s]\n"
     ]
    },
    {
     "name": "stdout",
     "output_type": "stream",
     "text": [
      "Train Acc: 0.2996 | Train Loss: 1.8547 | Test Acc: 0.3004 | Test Loss: 1.8203096024844112\n",
      "\n",
      "Epoch 15\n"
     ]
    },
    {
     "name": "stderr",
     "output_type": "stream",
     "text": [
      "TRAINIGN: 100%|██████████| 587/587 [00:24<00:00, 24.44it/s]\n",
      "TESTING: 100%|██████████| 147/147 [00:06<00:00, 23.47it/s]\n"
     ]
    },
    {
     "name": "stdout",
     "output_type": "stream",
     "text": [
      "Train Acc: 0.3023 | Train Loss: 1.8489 | Test Acc: 0.3028 | Test Loss: 1.8613437495264067\n",
      "No improvement. Early stopping counter: 1/3\n",
      "\n",
      "Epoch 16\n"
     ]
    },
    {
     "name": "stderr",
     "output_type": "stream",
     "text": [
      "TRAINIGN: 100%|██████████| 587/587 [00:23<00:00, 24.85it/s]\n",
      "TESTING: 100%|██████████| 147/147 [00:05<00:00, 24.62it/s]\n"
     ]
    },
    {
     "name": "stdout",
     "output_type": "stream",
     "text": [
      "Train Acc: 0.3045 | Train Loss: 1.8464 | Test Acc: 0.3050 | Test Loss: 1.8534363410910781\n",
      "\n",
      "Epoch 17\n"
     ]
    },
    {
     "name": "stderr",
     "output_type": "stream",
     "text": [
      "TRAINIGN: 100%|██████████| 587/587 [00:23<00:00, 24.79it/s]\n",
      "TESTING: 100%|██████████| 147/147 [00:06<00:00, 23.73it/s]\n"
     ]
    },
    {
     "name": "stdout",
     "output_type": "stream",
     "text": [
      "Train Acc: 0.3063 | Train Loss: 1.8469 | Test Acc: 0.3066 | Test Loss: 1.8701264882574276\n",
      "No improvement. Early stopping counter: 1/3\n",
      "\n",
      "Epoch 18\n"
     ]
    },
    {
     "name": "stderr",
     "output_type": "stream",
     "text": [
      "TRAINIGN: 100%|██████████| 587/587 [00:24<00:00, 24.44it/s]\n",
      "TESTING: 100%|██████████| 147/147 [00:06<00:00, 23.80it/s]\n"
     ]
    },
    {
     "name": "stdout",
     "output_type": "stream",
     "text": [
      "Train Acc: 0.3081 | Train Loss: 1.8400 | Test Acc: 0.3085 | Test Loss: 1.8391165603585795\n",
      "\n",
      "Epoch 19\n"
     ]
    },
    {
     "name": "stderr",
     "output_type": "stream",
     "text": [
      "TRAINIGN: 100%|██████████| 587/587 [00:24<00:00, 24.31it/s]\n",
      "TESTING: 100%|██████████| 147/147 [00:06<00:00, 23.82it/s]\n"
     ]
    },
    {
     "name": "stdout",
     "output_type": "stream",
     "text": [
      "Train Acc: 0.3098 | Train Loss: 1.8395 | Test Acc: 0.3101 | Test Loss: 1.848919338109542\n",
      "No improvement. Early stopping counter: 1/3\n",
      "\n",
      "Epoch 20\n"
     ]
    },
    {
     "name": "stderr",
     "output_type": "stream",
     "text": [
      "TRAINIGN: 100%|██████████| 587/587 [00:23<00:00, 24.56it/s]\n",
      "TESTING: 100%|██████████| 147/147 [00:06<00:00, 24.37it/s]\n"
     ]
    },
    {
     "name": "stdout",
     "output_type": "stream",
     "text": [
      "Train Acc: 0.3113 | Train Loss: 1.8369 | Test Acc: 0.3116 | Test Loss: 1.8723713435283325\n",
      "\n",
      "Epoch 21\n"
     ]
    },
    {
     "name": "stderr",
     "output_type": "stream",
     "text": [
      "TRAINIGN: 100%|██████████| 587/587 [00:23<00:00, 24.73it/s]\n",
      "TESTING: 100%|██████████| 147/147 [00:06<00:00, 23.73it/s]\n"
     ]
    },
    {
     "name": "stdout",
     "output_type": "stream",
     "text": [
      "Train Acc: 0.3129 | Train Loss: 1.8217 | Test Acc: 0.3132 | Test Loss: 1.8528473320461454\n",
      "No improvement. Early stopping counter: 1/3\n",
      "\n",
      "Epoch 22\n"
     ]
    },
    {
     "name": "stderr",
     "output_type": "stream",
     "text": [
      "TRAINIGN: 100%|██████████| 587/587 [00:23<00:00, 24.83it/s]\n",
      "TESTING: 100%|██████████| 147/147 [00:06<00:00, 24.42it/s]\n"
     ]
    },
    {
     "name": "stdout",
     "output_type": "stream",
     "text": [
      "Train Acc: 0.3145 | Train Loss: 1.8200 | Test Acc: 0.3148 | Test Loss: 1.8286971786395223\n",
      "\n",
      "Epoch 23\n"
     ]
    },
    {
     "name": "stderr",
     "output_type": "stream",
     "text": [
      "TRAINIGN: 100%|██████████| 587/587 [00:23<00:00, 24.70it/s]\n",
      "TESTING: 100%|██████████| 147/147 [00:06<00:00, 24.09it/s]\n"
     ]
    },
    {
     "name": "stdout",
     "output_type": "stream",
     "text": [
      "Train Acc: 0.3160 | Train Loss: 1.8184 | Test Acc: 0.3163 | Test Loss: 1.827970619915294\n",
      "No improvement. Early stopping counter: 1/3\n",
      "\n",
      "Epoch 24\n"
     ]
    },
    {
     "name": "stderr",
     "output_type": "stream",
     "text": [
      "TRAINIGN: 100%|██████████| 587/587 [00:23<00:00, 24.66it/s]\n",
      "TESTING: 100%|██████████| 147/147 [00:06<00:00, 24.06it/s]\n"
     ]
    },
    {
     "name": "stdout",
     "output_type": "stream",
     "text": [
      "Train Acc: 0.3174 | Train Loss: 1.8193 | Test Acc: 0.3176 | Test Loss: 1.8347387257076444\n",
      "No improvement. Early stopping counter: 2/3\n",
      "\n",
      "Epoch 25\n"
     ]
    },
    {
     "name": "stderr",
     "output_type": "stream",
     "text": [
      "TRAINIGN: 100%|██████████| 587/587 [00:23<00:00, 24.75it/s]\n",
      "TESTING: 100%|██████████| 147/147 [00:06<00:00, 23.52it/s]\n"
     ]
    },
    {
     "name": "stdout",
     "output_type": "stream",
     "text": [
      "Train Acc: 0.3187 | Train Loss: 1.8173 | Test Acc: 0.3189 | Test Loss: 1.8354177839901982\n",
      "\n",
      "Epoch 26\n"
     ]
    },
    {
     "name": "stderr",
     "output_type": "stream",
     "text": [
      "TRAINIGN: 100%|██████████| 587/587 [00:23<00:00, 24.98it/s]\n",
      "TESTING: 100%|██████████| 147/147 [00:06<00:00, 23.45it/s]\n"
     ]
    },
    {
     "name": "stdout",
     "output_type": "stream",
     "text": [
      "Train Acc: 0.3199 | Train Loss: 1.8165 | Test Acc: 0.3201 | Test Loss: 1.8121021775161328\n",
      "No improvement. Early stopping counter: 1/3\n",
      "\n",
      "Epoch 27\n"
     ]
    },
    {
     "name": "stderr",
     "output_type": "stream",
     "text": [
      "TRAINIGN: 100%|██████████| 587/587 [00:23<00:00, 24.69it/s]\n",
      "TESTING: 100%|██████████| 147/147 [00:05<00:00, 24.61it/s]\n"
     ]
    },
    {
     "name": "stdout",
     "output_type": "stream",
     "text": [
      "Train Acc: 0.3210 | Train Loss: 1.8181 | Test Acc: 0.3212 | Test Loss: 1.809904628059491\n",
      "No improvement. Early stopping counter: 2/3\n",
      "\n",
      "Epoch 28\n"
     ]
    },
    {
     "name": "stderr",
     "output_type": "stream",
     "text": [
      "TRAINIGN: 100%|██████████| 587/587 [00:23<00:00, 24.78it/s]\n",
      "TESTING: 100%|██████████| 147/147 [00:06<00:00, 23.99it/s]\n"
     ]
    },
    {
     "name": "stdout",
     "output_type": "stream",
     "text": [
      "Train Acc: 0.3220 | Train Loss: 1.8145 | Test Acc: 0.3223 | Test Loss: 1.807463821099729\n",
      "\n",
      "Epoch 29\n"
     ]
    },
    {
     "name": "stderr",
     "output_type": "stream",
     "text": [
      "TRAINIGN: 100%|██████████| 587/587 [00:23<00:00, 24.60it/s]\n",
      "TESTING: 100%|██████████| 147/147 [00:06<00:00, 23.41it/s]\n"
     ]
    },
    {
     "name": "stdout",
     "output_type": "stream",
     "text": [
      "Train Acc: 0.3231 | Train Loss: 1.8102 | Test Acc: 0.3233 | Test Loss: 1.8167666018414659\n",
      "No improvement. Early stopping counter: 1/3\n",
      "\n",
      "Epoch 30\n"
     ]
    },
    {
     "name": "stderr",
     "output_type": "stream",
     "text": [
      "TRAINIGN: 100%|██████████| 587/587 [00:23<00:00, 24.74it/s]\n",
      "TESTING: 100%|██████████| 147/147 [00:06<00:00, 23.20it/s]\n"
     ]
    },
    {
     "name": "stdout",
     "output_type": "stream",
     "text": [
      "Train Acc: 0.3240 | Train Loss: 1.8132 | Test Acc: 0.3242 | Test Loss: 1.8259633625445724\n",
      "No improvement. Early stopping counter: 2/3\n",
      "\n",
      "Epoch 31\n"
     ]
    },
    {
     "name": "stderr",
     "output_type": "stream",
     "text": [
      "TRAINIGN: 100%|██████████| 587/587 [00:24<00:00, 24.44it/s]\n",
      "TESTING: 100%|██████████| 147/147 [00:06<00:00, 23.66it/s]\n"
     ]
    },
    {
     "name": "stdout",
     "output_type": "stream",
     "text": [
      "Train Acc: 0.3250 | Train Loss: 1.8025 | Test Acc: 0.3253 | Test Loss: 1.8159722130314833\n",
      "\n",
      "Epoch 32\n"
     ]
    },
    {
     "name": "stderr",
     "output_type": "stream",
     "text": [
      "TRAINIGN: 100%|██████████| 587/587 [00:24<00:00, 24.36it/s]\n",
      "TESTING: 100%|██████████| 147/147 [00:06<00:00, 23.87it/s]\n"
     ]
    },
    {
     "name": "stdout",
     "output_type": "stream",
     "text": [
      "Train Acc: 0.3260 | Train Loss: 1.7993 | Test Acc: 0.3262 | Test Loss: 1.8173379760210207\n",
      "No improvement. Early stopping counter: 1/3\n",
      "\n",
      "Epoch 33\n"
     ]
    },
    {
     "name": "stderr",
     "output_type": "stream",
     "text": [
      "TRAINIGN: 100%|██████████| 587/587 [00:23<00:00, 24.65it/s]\n",
      "TESTING: 100%|██████████| 147/147 [00:06<00:00, 23.29it/s]\n"
     ]
    },
    {
     "name": "stdout",
     "output_type": "stream",
     "text": [
      "Train Acc: 0.3269 | Train Loss: 1.8025 | Test Acc: 0.3270 | Test Loss: 1.8203604083482912\n",
      "No improvement. Early stopping counter: 2/3\n",
      "\n",
      "Epoch 34\n"
     ]
    },
    {
     "name": "stderr",
     "output_type": "stream",
     "text": [
      "TRAINIGN: 100%|██████████| 587/587 [00:24<00:00, 24.23it/s]\n",
      "TESTING: 100%|██████████| 147/147 [00:06<00:00, 24.08it/s]"
     ]
    },
    {
     "name": "stdout",
     "output_type": "stream",
     "text": [
      "Train Acc: 0.3276 | Train Loss: 1.8066 | Test Acc: 0.3278 | Test Loss: 1.8105096598060764\n",
      "No improvement. Early stopping counter: 3/3\n",
      "Early stopping triggered.\n"
     ]
    },
    {
     "name": "stderr",
     "output_type": "stream",
     "text": [
      "\n"
     ]
    }
   ],
   "source": [
    "\n",
    "device = torch.device(\"cuda\" if torch.cuda.is_available() else \"cpu\")\n",
    "\n",
    "model = BirdClassifier(cnn_state=False).to(device)\n",
    "criterion = nn.CrossEntropyLoss().to(device)\n",
    "optimizer = optim.Adam(model.parameters(), lr=3e-4)\n",
    "accuracy_score = Accuracy(task = 'multiclass', num_classes = 10).to(device)\n",
    "\n",
    "scheduler = StepLR(optimizer, step_size=10, gamma=0.5)\n",
    "\n",
    "patience = 3\n",
    "min_delta = 3e-3\n",
    "best_accuracy = 0\n",
    "counter = 0\n",
    "best_test_acc = 0\n",
    "\n",
    "loss_scores_train = []\n",
    "accuracy_scores_train = []\n",
    "loss_scores_test = []\n",
    "accuracy_scores_test = []\n",
    "\n",
    "for epoch in range(200):  \n",
    "    print(f\"\\nEpoch {epoch+1}\")\n",
    "    train_acc, train_loss = train_model(model, training_dataset, criterion, optimizer, accuracy_score, device)\n",
    "    test_acc, test_loss = test_model(model, testing_dataset, criterion, accuracy_score, device)\n",
    "    \n",
    "    accuracy_scores_train.append(train_acc)\n",
    "    loss_scores_train.append(train_loss)\n",
    "\n",
    "    accuracy_scores_test.append(test_acc)\n",
    "    loss_scores_test.append(test_loss)\n",
    "    print(f\"Train Acc: {train_acc:.4f} | Train Loss: {train_loss:.4f} | Test Acc: {test_acc:.4f} | Test Loss: {test_loss}\")\n",
    "    scheduler.step()\n",
    "    \n",
    "    if test_acc - best_test_acc > min_delta:\n",
    "        best_test_acc = test_acc\n",
    "        counter = 0\n",
    "    else:\n",
    "        counter += 1\n",
    "        print(f\"No improvement. Early stopping counter: {counter}/{patience}\")\n",
    "        if counter >= patience:\n",
    "            print(\"Early stopping triggered.\")\n",
    "            break"
   ]
  },
  {
   "cell_type": "code",
   "execution_count": 6,
   "metadata": {},
   "outputs": [
    {
     "data": {
      "text/plain": [
       "<matplotlib.legend.Legend at 0x7f5a340e6570>"
      ]
     },
     "execution_count": 6,
     "metadata": {},
     "output_type": "execute_result"
    },
    {
     "data": {
      "image/png": "[encoded data removed]",
      "text/plain": [
       "<Figure size 640x480 with 1 Axes>"
      ]
     },
     "metadata": {},
     "output_type": "display_data"
    }
   ],
   "source": [
    "x = list(range(1, len(loss_scores_train) + 1))\n",
    "\n",
    "plt.figure()\n",
    "plt.plot(x, loss_scores_train, label='Train Loss')\n",
    "plt.xlabel('Epoch')\n",
    "plt.ylabel('Loss')\n",
    "plt.title('Training Loss over Epochs')\n",
    "plt.grid(True)\n",
    "plt.legend()"
   ]
  },
  {
   "cell_type": "code",
   "execution_count": 7,
   "metadata": {},
   "outputs": [
    {
     "data": {
      "image/png": "[encoded data removed]",
      "text/plain": [
       "<Figure size 640x480 with 1 Axes>"
      ]
     },
     "metadata": {},
     "output_type": "display_data"
    }
   ],
   "source": [
    "plt.figure()\n",
    "plt.plot(x, accuracy_scores_train, label='Train Accuracy')\n",
    "plt.xlabel('Epoch')\n",
    "plt.ylabel('Accuracy')\n",
    "plt.title('Training Accuracy over Epochs')\n",
    "plt.grid(True)\n",
    "plt.legend()\n",
    "plt.show()"
   ]
  },
  {
   "cell_type": "code",
   "execution_count": 8,
   "metadata": {},
   "outputs": [],
   "source": [
    "torch.save(model.state_dict(), \"bird_classifier_3.pth\")"
   ]
  },
  {
   "cell_type": "markdown",
   "metadata": {},
   "source": [
    "### Experiment 1 - Multihead\n",
    "\n",
    "baseline is one,  test 2 then 4 then 8"
   ]
  },
  {
   "cell_type": "markdown",
   "metadata": {},
   "source": [
    "2 heads"
   ]
  },
  {
   "cell_type": "code",
   "execution_count": 9,
   "metadata": {},
   "outputs": [
    {
     "name": "stdout",
     "output_type": "stream",
     "text": [
      "\n",
      "Epoch 1\n"
     ]
    },
    {
     "name": "stderr",
     "output_type": "stream",
     "text": [
      "TRAINIGN: 100%|██████████| 587/587 [00:23<00:00, 24.73it/s]\n",
      "TESTING: 100%|██████████| 147/147 [00:06<00:00, 21.08it/s]\n"
     ]
    },
    {
     "name": "stdout",
     "output_type": "stream",
     "text": [
      "Train Acc: 0.2294 | Train Loss: 2.1087 | Test Acc: 0.2452 | Test Loss: 1.9736139482381392\n",
      "\n",
      "Epoch 2\n"
     ]
    },
    {
     "name": "stderr",
     "output_type": "stream",
     "text": [
      "TRAINIGN: 100%|██████████| 587/587 [00:24<00:00, 23.60it/s]\n",
      "TESTING: 100%|██████████| 147/147 [00:06<00:00, 22.87it/s]\n"
     ]
    },
    {
     "name": "stdout",
     "output_type": "stream",
     "text": [
      "Train Acc: 0.2680 | Train Loss: 1.9668 | Test Acc: 0.2732 | Test Loss: 1.9313360395885648\n",
      "\n",
      "Epoch 3\n"
     ]
    },
    {
     "name": "stderr",
     "output_type": "stream",
     "text": [
      "TRAINIGN: 100%|██████████| 587/587 [00:26<00:00, 22.06it/s]\n",
      "TESTING: 100%|██████████| 147/147 [00:06<00:00, 24.24it/s]\n"
     ]
    },
    {
     "name": "stdout",
     "output_type": "stream",
     "text": [
      "Train Acc: 0.2853 | Train Loss: 1.9132 | Test Acc: 0.2877 | Test Loss: 1.9179053347126966\n",
      "\n",
      "Epoch 4\n"
     ]
    },
    {
     "name": "stderr",
     "output_type": "stream",
     "text": [
      "TRAINIGN: 100%|██████████| 587/587 [00:25<00:00, 23.05it/s]\n",
      "TESTING: 100%|██████████| 147/147 [00:05<00:00, 25.40it/s]\n"
     ]
    },
    {
     "name": "stdout",
     "output_type": "stream",
     "text": [
      "Train Acc: 0.2956 | Train Loss: 1.8818 | Test Acc: 0.2983 | Test Loss: 1.8510905706963572\n",
      "\n",
      "Epoch 5\n"
     ]
    },
    {
     "name": "stderr",
     "output_type": "stream",
     "text": [
      "TRAINIGN: 100%|██████████| 587/587 [00:25<00:00, 23.00it/s]\n",
      "TESTING: 100%|██████████| 147/147 [00:06<00:00, 22.47it/s]\n"
     ]
    },
    {
     "name": "stdout",
     "output_type": "stream",
     "text": [
      "Train Acc: 0.3046 | Train Loss: 1.8553 | Test Acc: 0.3068 | Test Loss: 1.8033982085532883\n",
      "\n",
      "Epoch 6\n"
     ]
    },
    {
     "name": "stderr",
     "output_type": "stream",
     "text": [
      "TRAINIGN: 100%|██████████| 587/587 [00:25<00:00, 23.28it/s]\n",
      "TESTING: 100%|██████████| 147/147 [00:06<00:00, 23.10it/s]\n"
     ]
    },
    {
     "name": "stdout",
     "output_type": "stream",
     "text": [
      "Train Acc: 0.3126 | Train Loss: 1.8225 | Test Acc: 0.3142 | Test Loss: 1.8267573483136235\n",
      "\n",
      "Epoch 7\n"
     ]
    },
    {
     "name": "stderr",
     "output_type": "stream",
     "text": [
      "TRAINIGN: 100%|██████████| 587/587 [00:25<00:00, 23.40it/s]\n",
      "TESTING: 100%|██████████| 147/147 [00:06<00:00, 21.82it/s]\n"
     ]
    },
    {
     "name": "stdout",
     "output_type": "stream",
     "text": [
      "Train Acc: 0.3189 | Train Loss: 1.8098 | Test Acc: 0.3201 | Test Loss: 1.8112346744861731\n",
      "\n",
      "Epoch 8\n"
     ]
    },
    {
     "name": "stderr",
     "output_type": "stream",
     "text": [
      "TRAINIGN: 100%|██████████| 587/587 [00:24<00:00, 24.42it/s]\n",
      "TESTING: 100%|██████████| 147/147 [00:06<00:00, 21.12it/s]\n"
     ]
    },
    {
     "name": "stdout",
     "output_type": "stream",
     "text": [
      "Train Acc: 0.3245 | Train Loss: 1.7960 | Test Acc: 0.3256 | Test Loss: 1.7991932411583103\n",
      "\n",
      "Epoch 9\n"
     ]
    },
    {
     "name": "stderr",
     "output_type": "stream",
     "text": [
      "TRAINIGN: 100%|██████████| 587/587 [00:23<00:00, 24.63it/s]\n",
      "TESTING: 100%|██████████| 147/147 [00:06<00:00, 23.41it/s]\n"
     ]
    },
    {
     "name": "stdout",
     "output_type": "stream",
     "text": [
      "Train Acc: 0.3293 | Train Loss: 1.7816 | Test Acc: 0.3302 | Test Loss: 1.8260950539387812\n",
      "\n",
      "Epoch 10\n"
     ]
    },
    {
     "name": "stderr",
     "output_type": "stream",
     "text": [
      "TRAINIGN: 100%|██████████| 587/587 [00:25<00:00, 23.27it/s]\n",
      "TESTING: 100%|██████████| 147/147 [00:06<00:00, 22.28it/s]\n"
     ]
    },
    {
     "name": "stdout",
     "output_type": "stream",
     "text": [
      "Train Acc: 0.3337 | Train Loss: 1.7715 | Test Acc: 0.3343 | Test Loss: 1.8091089019970017\n",
      "\n",
      "Epoch 11\n"
     ]
    },
    {
     "name": "stderr",
     "output_type": "stream",
     "text": [
      "TRAINIGN: 100%|██████████| 587/587 [00:25<00:00, 23.45it/s]\n",
      "TESTING: 100%|██████████| 147/147 [00:06<00:00, 23.47it/s]\n"
     ]
    },
    {
     "name": "stdout",
     "output_type": "stream",
     "text": [
      "Train Acc: 0.3373 | Train Loss: 1.7677 | Test Acc: 0.3381 | Test Loss: 1.7449698894202303\n",
      "\n",
      "Epoch 12\n"
     ]
    },
    {
     "name": "stderr",
     "output_type": "stream",
     "text": [
      "TRAINIGN: 100%|██████████| 587/587 [00:23<00:00, 24.49it/s]\n",
      "TESTING: 100%|██████████| 147/147 [00:06<00:00, 23.06it/s]\n"
     ]
    },
    {
     "name": "stdout",
     "output_type": "stream",
     "text": [
      "Train Acc: 0.3407 | Train Loss: 1.7644 | Test Acc: 0.3414 | Test Loss: 1.7654309621473558\n",
      "\n",
      "Epoch 13\n"
     ]
    },
    {
     "name": "stderr",
     "output_type": "stream",
     "text": [
      "TRAINIGN: 100%|██████████| 587/587 [00:23<00:00, 24.65it/s]\n",
      "TESTING: 100%|██████████| 147/147 [00:06<00:00, 22.99it/s]\n"
     ]
    },
    {
     "name": "stdout",
     "output_type": "stream",
     "text": [
      "Train Acc: 0.3438 | Train Loss: 1.7485 | Test Acc: 0.3446 | Test Loss: 1.7186804985513493\n",
      "\n",
      "Epoch 14\n"
     ]
    },
    {
     "name": "stderr",
     "output_type": "stream",
     "text": [
      "TRAINIGN: 100%|██████████| 587/587 [00:24<00:00, 23.87it/s]\n",
      "TESTING: 100%|██████████| 147/147 [00:06<00:00, 22.64it/s]\n"
     ]
    },
    {
     "name": "stdout",
     "output_type": "stream",
     "text": [
      "Train Acc: 0.3470 | Train Loss: 1.7378 | Test Acc: 0.3475 | Test Loss: 1.7501134758903867\n",
      "No improvement. Early stopping counter: 1/3\n",
      "\n",
      "Epoch 15\n"
     ]
    },
    {
     "name": "stderr",
     "output_type": "stream",
     "text": [
      "TRAINIGN: 100%|██████████| 587/587 [00:24<00:00, 24.03it/s]\n",
      "TESTING: 100%|██████████| 147/147 [00:06<00:00, 24.13it/s]\n"
     ]
    },
    {
     "name": "stdout",
     "output_type": "stream",
     "text": [
      "Train Acc: 0.3496 | Train Loss: 1.7327 | Test Acc: 0.3501 | Test Loss: 1.7315869509768325\n",
      "\n",
      "Epoch 16\n"
     ]
    },
    {
     "name": "stderr",
     "output_type": "stream",
     "text": [
      "TRAINIGN: 100%|██████████| 587/587 [00:25<00:00, 23.12it/s]\n",
      "TESTING: 100%|██████████| 147/147 [00:06<00:00, 23.32it/s]\n"
     ]
    },
    {
     "name": "stdout",
     "output_type": "stream",
     "text": [
      "Train Acc: 0.3521 | Train Loss: 1.7303 | Test Acc: 0.3527 | Test Loss: 1.735285640573826\n",
      "No improvement. Early stopping counter: 1/3\n",
      "\n",
      "Epoch 17\n"
     ]
    },
    {
     "name": "stderr",
     "output_type": "stream",
     "text": [
      "TRAINIGN: 100%|██████████| 587/587 [00:24<00:00, 24.36it/s]\n",
      "TESTING: 100%|██████████| 147/147 [00:06<00:00, 22.70it/s]\n"
     ]
    },
    {
     "name": "stdout",
     "output_type": "stream",
     "text": [
      "Train Acc: 0.3545 | Train Loss: 1.7276 | Test Acc: 0.3550 | Test Loss: 1.705773002436372\n",
      "\n",
      "Epoch 18\n"
     ]
    },
    {
     "name": "stderr",
     "output_type": "stream",
     "text": [
      "TRAINIGN: 100%|██████████| 587/587 [00:25<00:00, 22.80it/s]\n",
      "TESTING: 100%|██████████| 147/147 [00:06<00:00, 21.69it/s]\n"
     ]
    },
    {
     "name": "stdout",
     "output_type": "stream",
     "text": [
      "Train Acc: 0.3568 | Train Loss: 1.7184 | Test Acc: 0.3572 | Test Loss: 1.7474919695432494\n",
      "No improvement. Early stopping counter: 1/3\n",
      "\n",
      "Epoch 19\n"
     ]
    },
    {
     "name": "stderr",
     "output_type": "stream",
     "text": [
      "TRAINIGN: 100%|██████████| 587/587 [00:25<00:00, 23.22it/s]\n",
      "TESTING: 100%|██████████| 147/147 [00:06<00:00, 22.54it/s]\n"
     ]
    },
    {
     "name": "stdout",
     "output_type": "stream",
     "text": [
      "Train Acc: 0.3588 | Train Loss: 1.7157 | Test Acc: 0.3594 | Test Loss: 1.6916118835916325\n",
      "\n",
      "Epoch 20\n"
     ]
    },
    {
     "name": "stderr",
     "output_type": "stream",
     "text": [
      "TRAINIGN: 100%|██████████| 587/587 [00:26<00:00, 22.57it/s]\n",
      "TESTING: 100%|██████████| 147/147 [00:06<00:00, 23.13it/s]\n"
     ]
    },
    {
     "name": "stdout",
     "output_type": "stream",
     "text": [
      "Train Acc: 0.3608 | Train Loss: 1.7144 | Test Acc: 0.3613 | Test Loss: 1.7077689519544847\n",
      "No improvement. Early stopping counter: 1/3\n",
      "\n",
      "Epoch 21\n"
     ]
    },
    {
     "name": "stderr",
     "output_type": "stream",
     "text": [
      "TRAINIGN: 100%|██████████| 587/587 [00:26<00:00, 22.40it/s]\n",
      "TESTING: 100%|██████████| 147/147 [00:06<00:00, 22.74it/s]\n"
     ]
    },
    {
     "name": "stdout",
     "output_type": "stream",
     "text": [
      "Train Acc: 0.3628 | Train Loss: 1.7042 | Test Acc: 0.3632 | Test Loss: 1.6919340933261275\n",
      "\n",
      "Epoch 22\n"
     ]
    },
    {
     "name": "stderr",
     "output_type": "stream",
     "text": [
      "TRAINIGN: 100%|██████████| 587/587 [00:26<00:00, 22.47it/s]\n",
      "TESTING: 100%|██████████| 147/147 [00:06<00:00, 24.16it/s]\n"
     ]
    },
    {
     "name": "stdout",
     "output_type": "stream",
     "text": [
      "Train Acc: 0.3645 | Train Loss: 1.7077 | Test Acc: 0.3649 | Test Loss: 1.6835313897554567\n",
      "No improvement. Early stopping counter: 1/3\n",
      "\n",
      "Epoch 23\n"
     ]
    },
    {
     "name": "stderr",
     "output_type": "stream",
     "text": [
      "TRAINIGN: 100%|██████████| 587/587 [00:24<00:00, 24.08it/s]\n",
      "TESTING: 100%|██████████| 147/147 [00:06<00:00, 24.42it/s]\n"
     ]
    },
    {
     "name": "stdout",
     "output_type": "stream",
     "text": [
      "Train Acc: 0.3661 | Train Loss: 1.6984 | Test Acc: 0.3664 | Test Loss: 1.6953626935984814\n",
      "\n",
      "Epoch 24\n"
     ]
    },
    {
     "name": "stderr",
     "output_type": "stream",
     "text": [
      "TRAINIGN: 100%|██████████| 587/587 [00:25<00:00, 22.91it/s]\n",
      "TESTING: 100%|██████████| 147/147 [00:06<00:00, 22.82it/s]\n"
     ]
    },
    {
     "name": "stdout",
     "output_type": "stream",
     "text": [
      "Train Acc: 0.3676 | Train Loss: 1.6942 | Test Acc: 0.3680 | Test Loss: 1.6744469793475405\n",
      "No improvement. Early stopping counter: 1/3\n",
      "\n",
      "Epoch 25\n"
     ]
    },
    {
     "name": "stderr",
     "output_type": "stream",
     "text": [
      "TRAINIGN: 100%|██████████| 587/587 [00:24<00:00, 23.58it/s]\n",
      "TESTING: 100%|██████████| 147/147 [00:06<00:00, 24.32it/s]\n"
     ]
    },
    {
     "name": "stdout",
     "output_type": "stream",
     "text": [
      "Train Acc: 0.3690 | Train Loss: 1.7015 | Test Acc: 0.3694 | Test Loss: 1.672696050332517\n",
      "No improvement. Early stopping counter: 2/3\n",
      "\n",
      "Epoch 26\n"
     ]
    },
    {
     "name": "stderr",
     "output_type": "stream",
     "text": [
      "TRAINIGN: 100%|██████████| 587/587 [00:25<00:00, 23.44it/s]\n",
      "TESTING: 100%|██████████| 147/147 [00:06<00:00, 23.68it/s]\n"
     ]
    },
    {
     "name": "stdout",
     "output_type": "stream",
     "text": [
      "Train Acc: 0.3704 | Train Loss: 1.6894 | Test Acc: 0.3708 | Test Loss: 1.6789445276974009\n",
      "\n",
      "Epoch 27\n"
     ]
    },
    {
     "name": "stderr",
     "output_type": "stream",
     "text": [
      "TRAINIGN: 100%|██████████| 587/587 [00:23<00:00, 24.54it/s]\n",
      "TESTING: 100%|██████████| 147/147 [00:06<00:00, 22.97it/s]\n"
     ]
    },
    {
     "name": "stdout",
     "output_type": "stream",
     "text": [
      "Train Acc: 0.3718 | Train Loss: 1.6866 | Test Acc: 0.3720 | Test Loss: 1.6844978218986875\n",
      "No improvement. Early stopping counter: 1/3\n",
      "\n",
      "Epoch 28\n"
     ]
    },
    {
     "name": "stderr",
     "output_type": "stream",
     "text": [
      "TRAINIGN: 100%|██████████| 587/587 [00:23<00:00, 24.67it/s]\n",
      "TESTING: 100%|██████████| 147/147 [00:06<00:00, 23.12it/s]\n"
     ]
    },
    {
     "name": "stdout",
     "output_type": "stream",
     "text": [
      "Train Acc: 0.3730 | Train Loss: 1.6879 | Test Acc: 0.3732 | Test Loss: 1.6779660408188697\n",
      "No improvement. Early stopping counter: 2/3\n",
      "\n",
      "Epoch 29\n"
     ]
    },
    {
     "name": "stderr",
     "output_type": "stream",
     "text": [
      "TRAINIGN: 100%|██████████| 587/587 [00:25<00:00, 22.73it/s]\n",
      "TESTING: 100%|██████████| 147/147 [00:06<00:00, 22.47it/s]\n"
     ]
    },
    {
     "name": "stdout",
     "output_type": "stream",
     "text": [
      "Train Acc: 0.3742 | Train Loss: 1.6869 | Test Acc: 0.3744 | Test Loss: 1.7098598885698384\n",
      "\n",
      "Epoch 30\n"
     ]
    },
    {
     "name": "stderr",
     "output_type": "stream",
     "text": [
      "TRAINIGN: 100%|██████████| 587/587 [00:25<00:00, 23.42it/s]\n",
      "TESTING: 100%|██████████| 147/147 [00:06<00:00, 23.32it/s]\n"
     ]
    },
    {
     "name": "stdout",
     "output_type": "stream",
     "text": [
      "Train Acc: 0.3752 | Train Loss: 1.6801 | Test Acc: 0.3755 | Test Loss: 1.6913984705801723\n",
      "No improvement. Early stopping counter: 1/3\n",
      "\n",
      "Epoch 31\n"
     ]
    },
    {
     "name": "stderr",
     "output_type": "stream",
     "text": [
      "TRAINIGN: 100%|██████████| 587/587 [00:24<00:00, 24.02it/s]\n",
      "TESTING: 100%|██████████| 147/147 [00:06<00:00, 22.58it/s]\n"
     ]
    },
    {
     "name": "stdout",
     "output_type": "stream",
     "text": [
      "Train Acc: 0.3764 | Train Loss: 1.6770 | Test Acc: 0.3767 | Test Loss: 1.6729031955303788\n",
      "No improvement. Early stopping counter: 2/3\n",
      "\n",
      "Epoch 32\n"
     ]
    },
    {
     "name": "stderr",
     "output_type": "stream",
     "text": [
      "TRAINIGN: 100%|██████████| 587/587 [00:24<00:00, 24.20it/s]\n",
      "TESTING: 100%|██████████| 147/147 [00:06<00:00, 23.03it/s]\n"
     ]
    },
    {
     "name": "stdout",
     "output_type": "stream",
     "text": [
      "Train Acc: 0.3775 | Train Loss: 1.6800 | Test Acc: 0.3777 | Test Loss: 1.6712741932901396\n",
      "\n",
      "Epoch 33\n"
     ]
    },
    {
     "name": "stderr",
     "output_type": "stream",
     "text": [
      "TRAINIGN: 100%|██████████| 587/587 [00:24<00:00, 23.86it/s]\n",
      "TESTING: 100%|██████████| 147/147 [00:06<00:00, 24.23it/s]\n"
     ]
    },
    {
     "name": "stdout",
     "output_type": "stream",
     "text": [
      "Train Acc: 0.3785 | Train Loss: 1.6761 | Test Acc: 0.3786 | Test Loss: 1.7125783866765547\n",
      "No improvement. Early stopping counter: 1/3\n",
      "\n",
      "Epoch 34\n"
     ]
    },
    {
     "name": "stderr",
     "output_type": "stream",
     "text": [
      "TRAINIGN: 100%|██████████| 587/587 [00:23<00:00, 25.11it/s]\n",
      "TESTING: 100%|██████████| 147/147 [00:06<00:00, 24.01it/s]\n"
     ]
    },
    {
     "name": "stdout",
     "output_type": "stream",
     "text": [
      "Train Acc: 0.3794 | Train Loss: 1.6712 | Test Acc: 0.3795 | Test Loss: 1.690087374375791\n",
      "No improvement. Early stopping counter: 2/3\n",
      "\n",
      "Epoch 35\n"
     ]
    },
    {
     "name": "stderr",
     "output_type": "stream",
     "text": [
      "TRAINIGN: 100%|██████████| 587/587 [00:23<00:00, 25.14it/s]\n",
      "TESTING: 100%|██████████| 147/147 [00:06<00:00, 24.20it/s]"
     ]
    },
    {
     "name": "stdout",
     "output_type": "stream",
     "text": [
      "Train Acc: 0.3802 | Train Loss: 1.6697 | Test Acc: 0.3805 | Test Loss: 1.6624160340043153\n",
      "No improvement. Early stopping counter: 3/3\n",
      "Early stopping triggered.\n"
     ]
    },
    {
     "name": "stderr",
     "output_type": "stream",
     "text": [
      "\n"
     ]
    }
   ],
   "source": [
    "device = torch.device(\"cuda\" if torch.cuda.is_available() else \"cpu\")\n",
    "\n",
    "model_multihead_2 = BirdClassifier(cnn_state=False, head_count= 2).to(device)\n",
    "criterion = nn.CrossEntropyLoss().to(device)\n",
    "optimizer = optim.Adam(model_multihead_2.parameters(), lr=3e-4)\n",
    "accuracy_score = Accuracy(task = 'multiclass', num_classes = 10).to(device)\n",
    "\n",
    "\n",
    "patience = 3\n",
    "min_delta = 3e-3\n",
    "best_accuracy = 0\n",
    "counter = 0\n",
    "best_test_acc = 0\n",
    "\n",
    "loss_scores_train_multihead_2 = []\n",
    "accuracy_scores_train_multihead_2 = []\n",
    "\n",
    "loss_scores_test_multihead_2 = []\n",
    "accuracy_scores_test_multihead_2 = []\n",
    "\n",
    "for epoch in range(200):  \n",
    "    print(f\"\\nEpoch {epoch+1}\")\n",
    "    train_acc, train_loss = train_model(model_multihead_2, training_dataset, criterion, optimizer, accuracy_score, device)\n",
    "    test_acc, test_loss = test_model(model_multihead_2, testing_dataset, criterion, accuracy_score, device)\n",
    "    \n",
    "    accuracy_scores_train_multihead_2.append(train_acc)\n",
    "    loss_scores_train_multihead_2.append(train_loss)\n",
    "\n",
    "    accuracy_scores_test_multihead_2.append(test_acc)\n",
    "    loss_scores_test_multihead_2.append(test_loss)\n",
    "    print(f\"Train Acc: {train_acc:.4f} | Train Loss: {train_loss:.4f} | Test Acc: {test_acc:.4f} | Test Loss: {test_loss}\")\n",
    "    \n",
    "    if test_acc - best_test_acc > min_delta:\n",
    "        best_test_acc = test_acc\n",
    "        counter = 0\n",
    "    else:\n",
    "        counter += 1\n",
    "        print(f\"No improvement. Early stopping counter: {counter}/{patience}\")\n",
    "        if counter >= patience:\n",
    "            print(\"Early stopping triggered.\")\n",
    "            break"
   ]
  },
  {
   "cell_type": "markdown",
   "metadata": {},
   "source": [
    "4 heads"
   ]
  },
  {
   "cell_type": "code",
   "execution_count": 10,
   "metadata": {},
   "outputs": [
    {
     "name": "stdout",
     "output_type": "stream",
     "text": [
      "\n",
      "Epoch 1\n"
     ]
    },
    {
     "name": "stderr",
     "output_type": "stream",
     "text": [
      "TRAINIGN: 100%|██████████| 587/587 [00:26<00:00, 22.56it/s]\n",
      "TESTING: 100%|██████████| 147/147 [00:06<00:00, 21.92it/s]\n"
     ]
    },
    {
     "name": "stdout",
     "output_type": "stream",
     "text": [
      "Train Acc: 0.2595 | Train Loss: 2.0431 | Test Acc: 0.2704 | Test Loss: 1.9362640956632133\n",
      "\n",
      "Epoch 2\n"
     ]
    },
    {
     "name": "stderr",
     "output_type": "stream",
     "text": [
      "TRAINIGN: 100%|██████████| 587/587 [00:24<00:00, 23.84it/s]\n",
      "TESTING: 100%|██████████| 147/147 [00:06<00:00, 23.60it/s]\n"
     ]
    },
    {
     "name": "stdout",
     "output_type": "stream",
     "text": [
      "Train Acc: 0.2915 | Train Loss: 1.9089 | Test Acc: 0.2969 | Test Loss: 1.843114193604917\n",
      "\n",
      "Epoch 3\n"
     ]
    },
    {
     "name": "stderr",
     "output_type": "stream",
     "text": [
      "TRAINIGN: 100%|██████████| 587/587 [00:26<00:00, 22.41it/s]\n",
      "TESTING: 100%|██████████| 147/147 [00:06<00:00, 23.79it/s]\n"
     ]
    },
    {
     "name": "stdout",
     "output_type": "stream",
     "text": [
      "Train Acc: 0.3098 | Train Loss: 1.8492 | Test Acc: 0.3130 | Test Loss: 1.8202411577004154\n",
      "\n",
      "Epoch 4\n"
     ]
    },
    {
     "name": "stderr",
     "output_type": "stream",
     "text": [
      "TRAINIGN: 100%|██████████| 587/587 [00:25<00:00, 23.31it/s]\n",
      "TESTING: 100%|██████████| 147/147 [00:06<00:00, 22.60it/s]\n"
     ]
    },
    {
     "name": "stdout",
     "output_type": "stream",
     "text": [
      "Train Acc: 0.3218 | Train Loss: 1.8093 | Test Acc: 0.3239 | Test Loss: 1.831742291547814\n",
      "\n",
      "Epoch 5\n"
     ]
    },
    {
     "name": "stderr",
     "output_type": "stream",
     "text": [
      "TRAINIGN: 100%|██████████| 587/587 [00:24<00:00, 23.48it/s]\n",
      "TESTING: 100%|██████████| 147/147 [00:06<00:00, 23.34it/s]\n"
     ]
    },
    {
     "name": "stdout",
     "output_type": "stream",
     "text": [
      "Train Acc: 0.3312 | Train Loss: 1.7852 | Test Acc: 0.3331 | Test Loss: 1.7546913567043485\n",
      "\n",
      "Epoch 6\n"
     ]
    },
    {
     "name": "stderr",
     "output_type": "stream",
     "text": [
      "TRAINIGN: 100%|██████████| 587/587 [00:25<00:00, 23.44it/s]\n",
      "TESTING: 100%|██████████| 147/147 [00:06<00:00, 23.36it/s]\n"
     ]
    },
    {
     "name": "stdout",
     "output_type": "stream",
     "text": [
      "Train Acc: 0.3384 | Train Loss: 1.7629 | Test Acc: 0.3403 | Test Loss: 1.7152314688883672\n",
      "\n",
      "Epoch 7\n"
     ]
    },
    {
     "name": "stderr",
     "output_type": "stream",
     "text": [
      "TRAINIGN: 100%|██████████| 587/587 [00:24<00:00, 24.24it/s]\n",
      "TESTING: 100%|██████████| 147/147 [00:06<00:00, 22.31it/s]\n"
     ]
    },
    {
     "name": "stdout",
     "output_type": "stream",
     "text": [
      "Train Acc: 0.3451 | Train Loss: 1.7418 | Test Acc: 0.3466 | Test Loss: 1.7256662359043045\n",
      "\n",
      "Epoch 8\n"
     ]
    },
    {
     "name": "stderr",
     "output_type": "stream",
     "text": [
      "TRAINIGN: 100%|██████████| 587/587 [00:24<00:00, 23.79it/s]\n",
      "TESTING: 100%|██████████| 147/147 [00:06<00:00, 22.40it/s]\n"
     ]
    },
    {
     "name": "stdout",
     "output_type": "stream",
     "text": [
      "Train Acc: 0.3507 | Train Loss: 1.7244 | Test Acc: 0.3521 | Test Loss: 1.712647592940298\n",
      "\n",
      "Epoch 9\n"
     ]
    },
    {
     "name": "stderr",
     "output_type": "stream",
     "text": [
      "TRAINIGN: 100%|██████████| 587/587 [00:24<00:00, 24.03it/s]\n",
      "TESTING: 100%|██████████| 147/147 [00:06<00:00, 22.58it/s]\n"
     ]
    },
    {
     "name": "stdout",
     "output_type": "stream",
     "text": [
      "Train Acc: 0.3556 | Train Loss: 1.7131 | Test Acc: 0.3568 | Test Loss: 1.6972615483666764\n",
      "\n",
      "Epoch 10\n"
     ]
    },
    {
     "name": "stderr",
     "output_type": "stream",
     "text": [
      "TRAINIGN: 100%|██████████| 587/587 [00:23<00:00, 24.64it/s]\n",
      "TESTING: 100%|██████████| 147/147 [00:06<00:00, 23.56it/s]\n"
     ]
    },
    {
     "name": "stdout",
     "output_type": "stream",
     "text": [
      "Train Acc: 0.3599 | Train Loss: 1.7019 | Test Acc: 0.3611 | Test Loss: 1.6637468735376995\n",
      "\n",
      "Epoch 11\n"
     ]
    },
    {
     "name": "stderr",
     "output_type": "stream",
     "text": [
      "TRAINIGN: 100%|██████████| 587/587 [00:25<00:00, 23.43it/s]\n",
      "TESTING: 100%|██████████| 147/147 [00:06<00:00, 23.05it/s]\n"
     ]
    },
    {
     "name": "stdout",
     "output_type": "stream",
     "text": [
      "Train Acc: 0.3638 | Train Loss: 1.6904 | Test Acc: 0.3648 | Test Loss: 1.6606654593733703\n",
      "\n",
      "Epoch 12\n"
     ]
    },
    {
     "name": "stderr",
     "output_type": "stream",
     "text": [
      "TRAINIGN: 100%|██████████| 587/587 [00:24<00:00, 24.27it/s]\n",
      "TESTING: 100%|██████████| 147/147 [00:06<00:00, 22.47it/s]\n"
     ]
    },
    {
     "name": "stdout",
     "output_type": "stream",
     "text": [
      "Train Acc: 0.3674 | Train Loss: 1.6829 | Test Acc: 0.3682 | Test Loss: 1.6750502910743765\n",
      "\n",
      "Epoch 13\n"
     ]
    },
    {
     "name": "stderr",
     "output_type": "stream",
     "text": [
      "TRAINIGN: 100%|██████████| 587/587 [00:24<00:00, 24.35it/s]\n",
      "TESTING: 100%|██████████| 147/147 [00:06<00:00, 23.37it/s]\n"
     ]
    },
    {
     "name": "stdout",
     "output_type": "stream",
     "text": [
      "Train Acc: 0.3705 | Train Loss: 1.6791 | Test Acc: 0.3713 | Test Loss: 1.637947779123475\n",
      "\n",
      "Epoch 14\n"
     ]
    },
    {
     "name": "stderr",
     "output_type": "stream",
     "text": [
      "TRAINIGN: 100%|██████████| 587/587 [00:25<00:00, 23.27it/s]\n",
      "TESTING: 100%|██████████| 147/147 [00:06<00:00, 22.82it/s]\n"
     ]
    },
    {
     "name": "stdout",
     "output_type": "stream",
     "text": [
      "Train Acc: 0.3736 | Train Loss: 1.6686 | Test Acc: 0.3744 | Test Loss: 1.629761707215082\n",
      "\n",
      "Epoch 15\n"
     ]
    },
    {
     "name": "stderr",
     "output_type": "stream",
     "text": [
      "TRAINIGN: 100%|██████████| 587/587 [00:24<00:00, 23.74it/s]\n",
      "TESTING: 100%|██████████| 147/147 [00:06<00:00, 22.38it/s]\n"
     ]
    },
    {
     "name": "stdout",
     "output_type": "stream",
     "text": [
      "Train Acc: 0.3764 | Train Loss: 1.6607 | Test Acc: 0.3772 | Test Loss: 1.624064993696148\n",
      "No improvement. Early stopping counter: 1/3\n",
      "\n",
      "Epoch 16\n"
     ]
    },
    {
     "name": "stderr",
     "output_type": "stream",
     "text": [
      "TRAINIGN: 100%|██████████| 587/587 [00:24<00:00, 24.36it/s]\n",
      "TESTING: 100%|██████████| 147/147 [00:06<00:00, 22.49it/s]\n"
     ]
    },
    {
     "name": "stdout",
     "output_type": "stream",
     "text": [
      "Train Acc: 0.3791 | Train Loss: 1.6566 | Test Acc: 0.3798 | Test Loss: 1.633488647791804\n",
      "\n",
      "Epoch 17\n"
     ]
    },
    {
     "name": "stderr",
     "output_type": "stream",
     "text": [
      "TRAINIGN: 100%|██████████| 587/587 [00:24<00:00, 23.92it/s]\n",
      "TESTING: 100%|██████████| 147/147 [00:06<00:00, 23.39it/s]\n"
     ]
    },
    {
     "name": "stdout",
     "output_type": "stream",
     "text": [
      "Train Acc: 0.3816 | Train Loss: 1.6466 | Test Acc: 0.3820 | Test Loss: 1.6557954987701105\n",
      "No improvement. Early stopping counter: 1/3\n",
      "\n",
      "Epoch 18\n"
     ]
    },
    {
     "name": "stderr",
     "output_type": "stream",
     "text": [
      "TRAINIGN: 100%|██████████| 587/587 [00:23<00:00, 24.49it/s]\n",
      "TESTING: 100%|██████████| 147/147 [00:06<00:00, 22.94it/s]\n"
     ]
    },
    {
     "name": "stdout",
     "output_type": "stream",
     "text": [
      "Train Acc: 0.3837 | Train Loss: 1.6394 | Test Acc: 0.3843 | Test Loss: 1.602023526924808\n",
      "\n",
      "Epoch 19\n"
     ]
    },
    {
     "name": "stderr",
     "output_type": "stream",
     "text": [
      "TRAINIGN: 100%|██████████| 587/587 [00:25<00:00, 23.01it/s]\n",
      "TESTING: 100%|██████████| 147/147 [00:06<00:00, 24.21it/s]\n"
     ]
    },
    {
     "name": "stdout",
     "output_type": "stream",
     "text": [
      "Train Acc: 0.3858 | Train Loss: 1.6405 | Test Acc: 0.3863 | Test Loss: 1.643773571974566\n",
      "No improvement. Early stopping counter: 1/3\n",
      "\n",
      "Epoch 20\n"
     ]
    },
    {
     "name": "stderr",
     "output_type": "stream",
     "text": [
      "TRAINIGN: 100%|██████████| 587/587 [00:23<00:00, 25.15it/s]\n",
      "TESTING: 100%|██████████| 147/147 [00:06<00:00, 22.63it/s]\n"
     ]
    },
    {
     "name": "stdout",
     "output_type": "stream",
     "text": [
      "Train Acc: 0.3879 | Train Loss: 1.6296 | Test Acc: 0.3884 | Test Loss: 1.6085256751702757\n",
      "\n",
      "Epoch 21\n"
     ]
    },
    {
     "name": "stderr",
     "output_type": "stream",
     "text": [
      "TRAINIGN: 100%|██████████| 587/587 [00:24<00:00, 24.45it/s]\n",
      "TESTING: 100%|██████████| 147/147 [00:06<00:00, 24.14it/s]\n"
     ]
    },
    {
     "name": "stdout",
     "output_type": "stream",
     "text": [
      "Train Acc: 0.3896 | Train Loss: 1.6297 | Test Acc: 0.3901 | Test Loss: 1.626920834690535\n",
      "No improvement. Early stopping counter: 1/3\n",
      "\n",
      "Epoch 22\n"
     ]
    },
    {
     "name": "stderr",
     "output_type": "stream",
     "text": [
      "TRAINIGN: 100%|██████████| 587/587 [00:24<00:00, 24.40it/s]\n",
      "TESTING: 100%|██████████| 147/147 [00:06<00:00, 21.03it/s]\n"
     ]
    },
    {
     "name": "stdout",
     "output_type": "stream",
     "text": [
      "Train Acc: 0.3913 | Train Loss: 1.6203 | Test Acc: 0.3918 | Test Loss: 1.5882493679215308\n",
      "\n",
      "Epoch 23\n"
     ]
    },
    {
     "name": "stderr",
     "output_type": "stream",
     "text": [
      "TRAINIGN: 100%|██████████| 587/587 [00:26<00:00, 22.38it/s]\n",
      "TESTING: 100%|██████████| 147/147 [00:06<00:00, 23.70it/s]\n"
     ]
    },
    {
     "name": "stdout",
     "output_type": "stream",
     "text": [
      "Train Acc: 0.3931 | Train Loss: 1.6146 | Test Acc: 0.3936 | Test Loss: 1.5823193456039948\n",
      "No improvement. Early stopping counter: 1/3\n",
      "\n",
      "Epoch 24\n"
     ]
    },
    {
     "name": "stderr",
     "output_type": "stream",
     "text": [
      "TRAINIGN: 100%|██████████| 587/587 [00:24<00:00, 24.27it/s]\n",
      "TESTING: 100%|██████████| 147/147 [00:06<00:00, 23.75it/s]\n"
     ]
    },
    {
     "name": "stdout",
     "output_type": "stream",
     "text": [
      "Train Acc: 0.3947 | Train Loss: 1.6151 | Test Acc: 0.3951 | Test Loss: 1.5801183942223893\n",
      "\n",
      "Epoch 25\n"
     ]
    },
    {
     "name": "stderr",
     "output_type": "stream",
     "text": [
      "TRAINIGN: 100%|██████████| 587/587 [00:24<00:00, 24.28it/s]\n",
      "TESTING: 100%|██████████| 147/147 [00:06<00:00, 22.57it/s]\n"
     ]
    },
    {
     "name": "stdout",
     "output_type": "stream",
     "text": [
      "Train Acc: 0.3964 | Train Loss: 1.6057 | Test Acc: 0.3968 | Test Loss: 1.5871915549648052\n",
      "No improvement. Early stopping counter: 1/3\n",
      "\n",
      "Epoch 26\n"
     ]
    },
    {
     "name": "stderr",
     "output_type": "stream",
     "text": [
      "TRAINIGN: 100%|██████████| 587/587 [00:25<00:00, 23.31it/s]\n",
      "TESTING: 100%|██████████| 147/147 [00:06<00:00, 24.22it/s]\n"
     ]
    },
    {
     "name": "stdout",
     "output_type": "stream",
     "text": [
      "Train Acc: 0.3980 | Train Loss: 1.6006 | Test Acc: 0.3984 | Test Loss: 1.586274199745282\n",
      "\n",
      "Epoch 27\n"
     ]
    },
    {
     "name": "stderr",
     "output_type": "stream",
     "text": [
      "TRAINIGN: 100%|██████████| 587/587 [00:25<00:00, 23.20it/s]\n",
      "TESTING: 100%|██████████| 147/147 [00:06<00:00, 23.00it/s]\n"
     ]
    },
    {
     "name": "stdout",
     "output_type": "stream",
     "text": [
      "Train Acc: 0.3995 | Train Loss: 1.5985 | Test Acc: 0.3999 | Test Loss: 1.5793486063172217\n",
      "No improvement. Early stopping counter: 1/3\n",
      "\n",
      "Epoch 28\n"
     ]
    },
    {
     "name": "stderr",
     "output_type": "stream",
     "text": [
      "TRAINIGN: 100%|██████████| 587/587 [00:23<00:00, 24.55it/s]\n",
      "TESTING: 100%|██████████| 147/147 [00:06<00:00, 23.90it/s]\n"
     ]
    },
    {
     "name": "stdout",
     "output_type": "stream",
     "text": [
      "Train Acc: 0.4011 | Train Loss: 1.5900 | Test Acc: 0.4014 | Test Loss: 1.578190340476782\n",
      "No improvement. Early stopping counter: 2/3\n",
      "\n",
      "Epoch 29\n"
     ]
    },
    {
     "name": "stderr",
     "output_type": "stream",
     "text": [
      "TRAINIGN: 100%|██████████| 587/587 [00:24<00:00, 24.01it/s]\n",
      "TESTING: 100%|██████████| 147/147 [00:05<00:00, 24.51it/s]\n"
     ]
    },
    {
     "name": "stdout",
     "output_type": "stream",
     "text": [
      "Train Acc: 0.4025 | Train Loss: 1.5868 | Test Acc: 0.4028 | Test Loss: 1.5754593294494006\n",
      "\n",
      "Epoch 30\n"
     ]
    },
    {
     "name": "stderr",
     "output_type": "stream",
     "text": [
      "TRAINIGN: 100%|██████████| 587/587 [00:23<00:00, 25.01it/s]\n",
      "TESTING: 100%|██████████| 147/147 [00:06<00:00, 24.03it/s]\n"
     ]
    },
    {
     "name": "stdout",
     "output_type": "stream",
     "text": [
      "Train Acc: 0.4039 | Train Loss: 1.5817 | Test Acc: 0.4043 | Test Loss: 1.564076576914106\n",
      "No improvement. Early stopping counter: 1/3\n",
      "\n",
      "Epoch 31\n"
     ]
    },
    {
     "name": "stderr",
     "output_type": "stream",
     "text": [
      "TRAINIGN: 100%|██████████| 587/587 [00:24<00:00, 23.88it/s]\n",
      "TESTING: 100%|██████████| 147/147 [00:06<00:00, 24.45it/s]\n"
     ]
    },
    {
     "name": "stdout",
     "output_type": "stream",
     "text": [
      "Train Acc: 0.4054 | Train Loss: 1.5794 | Test Acc: 0.4057 | Test Loss: 1.575057568193293\n",
      "No improvement. Early stopping counter: 2/3\n",
      "\n",
      "Epoch 32\n"
     ]
    },
    {
     "name": "stderr",
     "output_type": "stream",
     "text": [
      "TRAINIGN: 100%|██████████| 587/587 [00:24<00:00, 24.43it/s]\n",
      "TESTING: 100%|██████████| 147/147 [00:06<00:00, 22.29it/s]\n"
     ]
    },
    {
     "name": "stdout",
     "output_type": "stream",
     "text": [
      "Train Acc: 0.4066 | Train Loss: 1.5772 | Test Acc: 0.4070 | Test Loss: 1.5286394982110887\n",
      "\n",
      "Epoch 33\n"
     ]
    },
    {
     "name": "stderr",
     "output_type": "stream",
     "text": [
      "TRAINIGN: 100%|██████████| 587/587 [00:23<00:00, 24.52it/s]\n",
      "TESTING: 100%|██████████| 147/147 [00:06<00:00, 24.02it/s]\n"
     ]
    },
    {
     "name": "stdout",
     "output_type": "stream",
     "text": [
      "Train Acc: 0.4080 | Train Loss: 1.5752 | Test Acc: 0.4083 | Test Loss: 1.527288140082846\n",
      "No improvement. Early stopping counter: 1/3\n",
      "\n",
      "Epoch 34\n"
     ]
    },
    {
     "name": "stderr",
     "output_type": "stream",
     "text": [
      "TRAINIGN: 100%|██████████| 587/587 [00:22<00:00, 25.65it/s]\n",
      "TESTING: 100%|██████████| 147/147 [00:06<00:00, 23.72it/s]\n"
     ]
    },
    {
     "name": "stdout",
     "output_type": "stream",
     "text": [
      "Train Acc: 0.4092 | Train Loss: 1.5633 | Test Acc: 0.4096 | Test Loss: 1.5411193289724336\n",
      "No improvement. Early stopping counter: 2/3\n",
      "\n",
      "Epoch 35\n"
     ]
    },
    {
     "name": "stderr",
     "output_type": "stream",
     "text": [
      "TRAINIGN: 100%|██████████| 587/587 [00:24<00:00, 23.92it/s]\n",
      "TESTING: 100%|██████████| 147/147 [00:06<00:00, 24.11it/s]\n"
     ]
    },
    {
     "name": "stdout",
     "output_type": "stream",
     "text": [
      "Train Acc: 0.4105 | Train Loss: 1.5635 | Test Acc: 0.4108 | Test Loss: 1.5452864226840792\n",
      "\n",
      "Epoch 36\n"
     ]
    },
    {
     "name": "stderr",
     "output_type": "stream",
     "text": [
      "TRAINIGN: 100%|██████████| 587/587 [00:23<00:00, 25.00it/s]\n",
      "TESTING: 100%|██████████| 147/147 [00:06<00:00, 24.32it/s]\n"
     ]
    },
    {
     "name": "stdout",
     "output_type": "stream",
     "text": [
      "Train Acc: 0.4117 | Train Loss: 1.5600 | Test Acc: 0.4120 | Test Loss: 1.5554205252199758\n",
      "No improvement. Early stopping counter: 1/3\n",
      "\n",
      "Epoch 37\n"
     ]
    },
    {
     "name": "stderr",
     "output_type": "stream",
     "text": [
      "TRAINIGN: 100%|██████████| 587/587 [00:24<00:00, 24.45it/s]\n",
      "TESTING: 100%|██████████| 147/147 [00:06<00:00, 24.09it/s]\n"
     ]
    },
    {
     "name": "stdout",
     "output_type": "stream",
     "text": [
      "Train Acc: 0.4128 | Train Loss: 1.5589 | Test Acc: 0.4131 | Test Loss: 1.5670965342294603\n",
      "No improvement. Early stopping counter: 2/3\n",
      "\n",
      "Epoch 38\n"
     ]
    },
    {
     "name": "stderr",
     "output_type": "stream",
     "text": [
      "TRAINIGN: 100%|██████████| 587/587 [00:24<00:00, 23.80it/s]\n",
      "TESTING: 100%|██████████| 147/147 [00:06<00:00, 23.32it/s]\n"
     ]
    },
    {
     "name": "stdout",
     "output_type": "stream",
     "text": [
      "Train Acc: 0.4140 | Train Loss: 1.5516 | Test Acc: 0.4143 | Test Loss: 1.5307976007461548\n",
      "\n",
      "Epoch 39\n"
     ]
    },
    {
     "name": "stderr",
     "output_type": "stream",
     "text": [
      "TRAINIGN: 100%|██████████| 587/587 [00:24<00:00, 24.10it/s]\n",
      "TESTING: 100%|██████████| 147/147 [00:05<00:00, 24.93it/s]\n"
     ]
    },
    {
     "name": "stdout",
     "output_type": "stream",
     "text": [
      "Train Acc: 0.4151 | Train Loss: 1.5495 | Test Acc: 0.4154 | Test Loss: 1.5404855434586402\n",
      "No improvement. Early stopping counter: 1/3\n",
      "\n",
      "Epoch 40\n"
     ]
    },
    {
     "name": "stderr",
     "output_type": "stream",
     "text": [
      "TRAINIGN: 100%|██████████| 587/587 [00:24<00:00, 24.05it/s]\n",
      "TESTING: 100%|██████████| 147/147 [00:06<00:00, 21.55it/s]\n"
     ]
    },
    {
     "name": "stdout",
     "output_type": "stream",
     "text": [
      "Train Acc: 0.4162 | Train Loss: 1.5480 | Test Acc: 0.4165 | Test Loss: 1.5314647267464878\n",
      "No improvement. Early stopping counter: 2/3\n",
      "\n",
      "Epoch 41\n"
     ]
    },
    {
     "name": "stderr",
     "output_type": "stream",
     "text": [
      "TRAINIGN: 100%|██████████| 587/587 [00:23<00:00, 24.90it/s]\n",
      "TESTING: 100%|██████████| 147/147 [00:06<00:00, 22.94it/s]\n"
     ]
    },
    {
     "name": "stdout",
     "output_type": "stream",
     "text": [
      "Train Acc: 0.4173 | Train Loss: 1.5442 | Test Acc: 0.4175 | Test Loss: 1.5442534003938948\n",
      "\n",
      "Epoch 42\n"
     ]
    },
    {
     "name": "stderr",
     "output_type": "stream",
     "text": [
      "TRAINIGN: 100%|██████████| 587/587 [00:24<00:00, 24.12it/s]\n",
      "TESTING: 100%|██████████| 147/147 [00:06<00:00, 22.90it/s]\n"
     ]
    },
    {
     "name": "stdout",
     "output_type": "stream",
     "text": [
      "Train Acc: 0.4183 | Train Loss: 1.5431 | Test Acc: 0.4185 | Test Loss: 1.5070850119298818\n",
      "No improvement. Early stopping counter: 1/3\n",
      "\n",
      "Epoch 43\n"
     ]
    },
    {
     "name": "stderr",
     "output_type": "stream",
     "text": [
      "TRAINIGN: 100%|██████████| 587/587 [00:24<00:00, 24.19it/s]\n",
      "TESTING: 100%|██████████| 147/147 [00:06<00:00, 23.35it/s]\n"
     ]
    },
    {
     "name": "stdout",
     "output_type": "stream",
     "text": [
      "Train Acc: 0.4193 | Train Loss: 1.5430 | Test Acc: 0.4196 | Test Loss: 1.516853659331393\n",
      "No improvement. Early stopping counter: 2/3\n",
      "\n",
      "Epoch 44\n"
     ]
    },
    {
     "name": "stderr",
     "output_type": "stream",
     "text": [
      "TRAINIGN: 100%|██████████| 587/587 [00:23<00:00, 25.32it/s]\n",
      "TESTING: 100%|██████████| 147/147 [00:06<00:00, 23.09it/s]\n"
     ]
    },
    {
     "name": "stdout",
     "output_type": "stream",
     "text": [
      "Train Acc: 0.4203 | Train Loss: 1.5360 | Test Acc: 0.4205 | Test Loss: 1.5301619346449975\n",
      "\n",
      "Epoch 45\n"
     ]
    },
    {
     "name": "stderr",
     "output_type": "stream",
     "text": [
      "TRAINIGN: 100%|██████████| 587/587 [00:24<00:00, 23.59it/s]\n",
      "TESTING: 100%|██████████| 147/147 [00:06<00:00, 22.62it/s]\n"
     ]
    },
    {
     "name": "stdout",
     "output_type": "stream",
     "text": [
      "Train Acc: 0.4212 | Train Loss: 1.5358 | Test Acc: 0.4214 | Test Loss: 1.5234094906826408\n",
      "No improvement. Early stopping counter: 1/3\n",
      "\n",
      "Epoch 46\n"
     ]
    },
    {
     "name": "stderr",
     "output_type": "stream",
     "text": [
      "TRAINIGN: 100%|██████████| 587/587 [00:25<00:00, 23.19it/s]\n",
      "TESTING: 100%|██████████| 147/147 [00:06<00:00, 23.96it/s]\n"
     ]
    },
    {
     "name": "stdout",
     "output_type": "stream",
     "text": [
      "Train Acc: 0.4221 | Train Loss: 1.5320 | Test Acc: 0.4223 | Test Loss: 1.5227145191763534\n",
      "No improvement. Early stopping counter: 2/3\n",
      "\n",
      "Epoch 47\n"
     ]
    },
    {
     "name": "stderr",
     "output_type": "stream",
     "text": [
      "TRAINIGN: 100%|██████████| 587/587 [00:24<00:00, 24.21it/s]\n",
      "TESTING: 100%|██████████| 147/147 [00:06<00:00, 22.23it/s]"
     ]
    },
    {
     "name": "stdout",
     "output_type": "stream",
     "text": [
      "Train Acc: 0.4230 | Train Loss: 1.5324 | Test Acc: 0.4233 | Test Loss: 1.5139153360509547\n",
      "No improvement. Early stopping counter: 3/3\n",
      "Early stopping triggered.\n"
     ]
    },
    {
     "name": "stderr",
     "output_type": "stream",
     "text": [
      "\n"
     ]
    }
   ],
   "source": [
    "device = torch.device(\"cuda\" if torch.cuda.is_available() else \"cpu\")\n",
    "\n",
    "model_multihead_4 = BirdClassifier(cnn_state=False, head_count = 4).to(device)\n",
    "criterion = nn.CrossEntropyLoss().to(device)\n",
    "optimizer = optim.Adam(model_multihead_4.parameters(), lr=3e-4)\n",
    "accuracy_score = Accuracy(task = 'multiclass', num_classes = 10).to(device)\n",
    "\n",
    "\n",
    "patience = 3\n",
    "min_delta = 3e-3\n",
    "best_accuracy = 0\n",
    "counter = 0\n",
    "best_test_acc = 0\n",
    "\n",
    "loss_scores_train_multihead_4 = []\n",
    "accuracy_scores_train_multihead_4 = []\n",
    "\n",
    "loss_scores_test_multihead_4 = []\n",
    "accuracy_scores_test_multihead_4 = []\n",
    "\n",
    "for epoch in range(200):  \n",
    "    print(f\"\\nEpoch {epoch+1}\")\n",
    "    train_acc, train_loss = train_model(model_multihead_4, training_dataset, criterion, optimizer, accuracy_score, device)\n",
    "    test_acc, test_loss = test_model(model_multihead_4, testing_dataset, criterion, accuracy_score, device)\n",
    "    \n",
    "    accuracy_scores_train_multihead_4.append(train_acc)\n",
    "    loss_scores_train_multihead_4.append(train_loss)\n",
    "\n",
    "    accuracy_scores_test_multihead_4.append(test_acc)\n",
    "    loss_scores_test_multihead_4.append(test_loss)\n",
    "    print(f\"Train Acc: {train_acc:.4f} | Train Loss: {train_loss:.4f} | Test Acc: {test_acc:.4f} | Test Loss: {test_loss}\")\n",
    "    \n",
    "    if test_acc - best_test_acc > min_delta:\n",
    "        best_test_acc = test_acc\n",
    "        counter = 0\n",
    "    else:\n",
    "        counter += 1\n",
    "        print(f\"No improvement. Early stopping counter: {counter}/{patience}\")\n",
    "        if counter >= patience:\n",
    "            print(\"Early stopping triggered.\")\n",
    "            break"
   ]
  },
  {
   "cell_type": "markdown",
   "metadata": {},
   "source": [
    "8 head"
   ]
  },
  {
   "cell_type": "code",
   "execution_count": 11,
   "metadata": {},
   "outputs": [
    {
     "name": "stdout",
     "output_type": "stream",
     "text": [
      "\n",
      "Epoch 1\n"
     ]
    },
    {
     "name": "stderr",
     "output_type": "stream",
     "text": [
      "TRAINIGN:   0%|          | 0/587 [00:00<?, ?it/s]"
     ]
    },
    {
     "name": "stderr",
     "output_type": "stream",
     "text": [
      "TRAINIGN: 100%|██████████| 587/587 [00:24<00:00, 23.56it/s]\n",
      "TESTING: 100%|██████████| 147/147 [00:06<00:00, 22.87it/s]\n"
     ]
    },
    {
     "name": "stdout",
     "output_type": "stream",
     "text": [
      "Train Acc: 0.2782 | Train Loss: 2.0041 | Test Acc: 0.2929 | Test Loss: 1.8376840539530022\n",
      "\n",
      "Epoch 2\n"
     ]
    },
    {
     "name": "stderr",
     "output_type": "stream",
     "text": [
      "TRAINIGN: 100%|██████████| 587/587 [00:26<00:00, 22.31it/s]\n",
      "TESTING: 100%|██████████| 147/147 [00:06<00:00, 22.62it/s]\n"
     ]
    },
    {
     "name": "stdout",
     "output_type": "stream",
     "text": [
      "Train Acc: 0.3150 | Train Loss: 1.8494 | Test Acc: 0.3201 | Test Loss: 1.8290764263698034\n",
      "\n",
      "Epoch 3\n"
     ]
    },
    {
     "name": "stderr",
     "output_type": "stream",
     "text": [
      "TRAINIGN: 100%|██████████| 587/587 [00:25<00:00, 22.69it/s]\n",
      "TESTING: 100%|██████████| 147/147 [00:06<00:00, 21.32it/s]\n"
     ]
    },
    {
     "name": "stdout",
     "output_type": "stream",
     "text": [
      "Train Acc: 0.3336 | Train Loss: 1.7898 | Test Acc: 0.3360 | Test Loss: 1.8054463076753682\n",
      "\n",
      "Epoch 4\n"
     ]
    },
    {
     "name": "stderr",
     "output_type": "stream",
     "text": [
      "TRAINIGN: 100%|██████████| 587/587 [00:26<00:00, 21.91it/s]\n",
      "TESTING: 100%|██████████| 147/147 [00:06<00:00, 22.71it/s]\n"
     ]
    },
    {
     "name": "stdout",
     "output_type": "stream",
     "text": [
      "Train Acc: 0.3451 | Train Loss: 1.7551 | Test Acc: 0.3475 | Test Loss: 1.729558809273908\n",
      "\n",
      "Epoch 5\n"
     ]
    },
    {
     "name": "stderr",
     "output_type": "stream",
     "text": [
      "TRAINIGN: 100%|██████████| 587/587 [00:23<00:00, 24.59it/s]\n",
      "TESTING: 100%|██████████| 147/147 [00:06<00:00, 23.10it/s]\n"
     ]
    },
    {
     "name": "stdout",
     "output_type": "stream",
     "text": [
      "Train Acc: 0.3553 | Train Loss: 1.7220 | Test Acc: 0.3577 | Test Loss: 1.6680301127790593\n",
      "\n",
      "Epoch 6\n"
     ]
    },
    {
     "name": "stderr",
     "output_type": "stream",
     "text": [
      "TRAINIGN: 100%|██████████| 587/587 [00:24<00:00, 23.86it/s]\n",
      "TESTING: 100%|██████████| 147/147 [00:06<00:00, 22.96it/s]\n"
     ]
    },
    {
     "name": "stdout",
     "output_type": "stream",
     "text": [
      "Train Acc: 0.3633 | Train Loss: 1.6983 | Test Acc: 0.3648 | Test Loss: 1.6880966003249291\n",
      "\n",
      "Epoch 7\n"
     ]
    },
    {
     "name": "stderr",
     "output_type": "stream",
     "text": [
      "TRAINIGN: 100%|██████████| 587/587 [00:25<00:00, 23.30it/s]\n",
      "TESTING: 100%|██████████| 147/147 [00:06<00:00, 23.01it/s]\n"
     ]
    },
    {
     "name": "stdout",
     "output_type": "stream",
     "text": [
      "Train Acc: 0.3699 | Train Loss: 1.6782 | Test Acc: 0.3712 | Test Loss: 1.7034949412962206\n",
      "\n",
      "Epoch 8\n"
     ]
    },
    {
     "name": "stderr",
     "output_type": "stream",
     "text": [
      "TRAINIGN: 100%|██████████| 587/587 [00:25<00:00, 23.47it/s]\n",
      "TESTING: 100%|██████████| 147/147 [00:06<00:00, 24.01it/s]\n"
     ]
    },
    {
     "name": "stdout",
     "output_type": "stream",
     "text": [
      "Train Acc: 0.3760 | Train Loss: 1.6608 | Test Acc: 0.3774 | Test Loss: 1.6191902387709844\n",
      "\n",
      "Epoch 9\n"
     ]
    },
    {
     "name": "stderr",
     "output_type": "stream",
     "text": [
      "TRAINIGN: 100%|██████████| 587/587 [00:24<00:00, 23.56it/s]\n",
      "TESTING: 100%|██████████| 147/147 [00:06<00:00, 22.99it/s]\n"
     ]
    },
    {
     "name": "stdout",
     "output_type": "stream",
     "text": [
      "Train Acc: 0.3814 | Train Loss: 1.6443 | Test Acc: 0.3825 | Test Loss: 1.6293868175169237\n",
      "\n",
      "Epoch 10\n"
     ]
    },
    {
     "name": "stderr",
     "output_type": "stream",
     "text": [
      "TRAINIGN: 100%|██████████| 587/587 [00:24<00:00, 23.76it/s]\n",
      "TESTING: 100%|██████████| 147/147 [00:06<00:00, 22.30it/s]\n"
     ]
    },
    {
     "name": "stdout",
     "output_type": "stream",
     "text": [
      "Train Acc: 0.3864 | Train Loss: 1.6340 | Test Acc: 0.3874 | Test Loss: 1.6304285274881896\n",
      "\n",
      "Epoch 11\n"
     ]
    },
    {
     "name": "stderr",
     "output_type": "stream",
     "text": [
      "TRAINIGN: 100%|██████████| 587/587 [00:23<00:00, 24.50it/s]\n",
      "TESTING: 100%|██████████| 147/147 [00:06<00:00, 23.08it/s]\n"
     ]
    },
    {
     "name": "stdout",
     "output_type": "stream",
     "text": [
      "Train Acc: 0.3907 | Train Loss: 1.6217 | Test Acc: 0.3918 | Test Loss: 1.5962930552813472\n",
      "\n",
      "Epoch 12\n"
     ]
    },
    {
     "name": "stderr",
     "output_type": "stream",
     "text": [
      "TRAINIGN: 100%|██████████| 587/587 [00:24<00:00, 24.33it/s]\n",
      "TESTING: 100%|██████████| 147/147 [00:06<00:00, 23.61it/s]\n"
     ]
    },
    {
     "name": "stdout",
     "output_type": "stream",
     "text": [
      "Train Acc: 0.3946 | Train Loss: 1.6138 | Test Acc: 0.3955 | Test Loss: 1.588264248809036\n",
      "\n",
      "Epoch 13\n"
     ]
    },
    {
     "name": "stderr",
     "output_type": "stream",
     "text": [
      "TRAINIGN: 100%|██████████| 587/587 [00:24<00:00, 24.10it/s]\n",
      "TESTING: 100%|██████████| 147/147 [00:06<00:00, 22.84it/s]\n"
     ]
    },
    {
     "name": "stdout",
     "output_type": "stream",
     "text": [
      "Train Acc: 0.3982 | Train Loss: 1.6002 | Test Acc: 0.3992 | Test Loss: 1.5514932660018506\n",
      "\n",
      "Epoch 14\n"
     ]
    },
    {
     "name": "stderr",
     "output_type": "stream",
     "text": [
      "TRAINIGN: 100%|██████████| 587/587 [00:24<00:00, 24.12it/s]\n",
      "TESTING: 100%|██████████| 147/147 [00:06<00:00, 24.21it/s]\n"
     ]
    },
    {
     "name": "stdout",
     "output_type": "stream",
     "text": [
      "Train Acc: 0.4016 | Train Loss: 1.5899 | Test Acc: 0.4024 | Test Loss: 1.574568596015982\n",
      "\n",
      "Epoch 15\n"
     ]
    },
    {
     "name": "stderr",
     "output_type": "stream",
     "text": [
      "TRAINIGN: 100%|██████████| 587/587 [00:24<00:00, 23.74it/s]\n",
      "TESTING: 100%|██████████| 147/147 [00:06<00:00, 22.77it/s]\n"
     ]
    },
    {
     "name": "stdout",
     "output_type": "stream",
     "text": [
      "Train Acc: 0.4047 | Train Loss: 1.5829 | Test Acc: 0.4055 | Test Loss: 1.566573681474543\n",
      "\n",
      "Epoch 16\n"
     ]
    },
    {
     "name": "stderr",
     "output_type": "stream",
     "text": [
      "TRAINIGN: 100%|██████████| 587/587 [00:23<00:00, 24.89it/s]\n",
      "TESTING: 100%|██████████| 147/147 [00:06<00:00, 24.20it/s]\n"
     ]
    },
    {
     "name": "stdout",
     "output_type": "stream",
     "text": [
      "Train Acc: 0.4077 | Train Loss: 1.5736 | Test Acc: 0.4082 | Test Loss: 1.61675387418189\n",
      "No improvement. Early stopping counter: 1/3\n",
      "\n",
      "Epoch 17\n"
     ]
    },
    {
     "name": "stderr",
     "output_type": "stream",
     "text": [
      "TRAINIGN: 100%|██████████| 587/587 [00:24<00:00, 24.19it/s]\n",
      "TESTING: 100%|██████████| 147/147 [00:06<00:00, 22.89it/s]\n"
     ]
    },
    {
     "name": "stdout",
     "output_type": "stream",
     "text": [
      "Train Acc: 0.4102 | Train Loss: 1.5650 | Test Acc: 0.4109 | Test Loss: 1.5355897306584987\n",
      "\n",
      "Epoch 18\n"
     ]
    },
    {
     "name": "stderr",
     "output_type": "stream",
     "text": [
      "TRAINIGN: 100%|██████████| 587/587 [00:25<00:00, 23.26it/s]\n",
      "TESTING: 100%|██████████| 147/147 [00:06<00:00, 23.89it/s]\n"
     ]
    },
    {
     "name": "stdout",
     "output_type": "stream",
     "text": [
      "Train Acc: 0.4127 | Train Loss: 1.5627 | Test Acc: 0.4133 | Test Loss: 1.5583392195150154\n",
      "No improvement. Early stopping counter: 1/3\n",
      "\n",
      "Epoch 19\n"
     ]
    },
    {
     "name": "stderr",
     "output_type": "stream",
     "text": [
      "TRAINIGN: 100%|██████████| 587/587 [00:24<00:00, 24.28it/s]\n",
      "TESTING: 100%|██████████| 147/147 [00:06<00:00, 22.48it/s]\n"
     ]
    },
    {
     "name": "stdout",
     "output_type": "stream",
     "text": [
      "Train Acc: 0.4152 | Train Loss: 1.5538 | Test Acc: 0.4159 | Test Loss: 1.5358113520810392\n",
      "\n",
      "Epoch 20\n"
     ]
    },
    {
     "name": "stderr",
     "output_type": "stream",
     "text": [
      "TRAINIGN: 100%|██████████| 587/587 [00:24<00:00, 23.85it/s]\n",
      "TESTING: 100%|██████████| 147/147 [00:06<00:00, 23.64it/s]\n"
     ]
    },
    {
     "name": "stdout",
     "output_type": "stream",
     "text": [
      "Train Acc: 0.4175 | Train Loss: 1.5449 | Test Acc: 0.4180 | Test Loss: 1.5281595218749273\n",
      "No improvement. Early stopping counter: 1/3\n",
      "\n",
      "Epoch 21\n"
     ]
    },
    {
     "name": "stderr",
     "output_type": "stream",
     "text": [
      "TRAINIGN: 100%|██████████| 587/587 [00:24<00:00, 23.83it/s]\n",
      "TESTING: 100%|██████████| 147/147 [00:06<00:00, 23.43it/s]\n"
     ]
    },
    {
     "name": "stdout",
     "output_type": "stream",
     "text": [
      "Train Acc: 0.4197 | Train Loss: 1.5404 | Test Acc: 0.4202 | Test Loss: 1.5395702780509481\n",
      "\n",
      "Epoch 22\n"
     ]
    },
    {
     "name": "stderr",
     "output_type": "stream",
     "text": [
      "TRAINIGN: 100%|██████████| 587/587 [00:23<00:00, 24.66it/s]\n",
      "TESTING: 100%|██████████| 147/147 [00:06<00:00, 22.95it/s]\n"
     ]
    },
    {
     "name": "stdout",
     "output_type": "stream",
     "text": [
      "Train Acc: 0.4218 | Train Loss: 1.5339 | Test Acc: 0.4223 | Test Loss: 1.497181611807168\n",
      "No improvement. Early stopping counter: 1/3\n",
      "\n",
      "Epoch 23\n"
     ]
    },
    {
     "name": "stderr",
     "output_type": "stream",
     "text": [
      "TRAINIGN: 100%|██████████| 587/587 [00:24<00:00, 24.44it/s]\n",
      "TESTING: 100%|██████████| 147/147 [00:06<00:00, 23.81it/s]\n"
     ]
    },
    {
     "name": "stdout",
     "output_type": "stream",
     "text": [
      "Train Acc: 0.4240 | Train Loss: 1.5242 | Test Acc: 0.4244 | Test Loss: 1.5597695509592693\n",
      "\n",
      "Epoch 24\n"
     ]
    },
    {
     "name": "stderr",
     "output_type": "stream",
     "text": [
      "TRAINIGN: 100%|██████████| 587/587 [00:23<00:00, 24.66it/s]\n",
      "TESTING: 100%|██████████| 147/147 [00:06<00:00, 24.01it/s]\n"
     ]
    },
    {
     "name": "stdout",
     "output_type": "stream",
     "text": [
      "Train Acc: 0.4259 | Train Loss: 1.5216 | Test Acc: 0.4262 | Test Loss: 1.551411999326174\n",
      "No improvement. Early stopping counter: 1/3\n",
      "\n",
      "Epoch 25\n"
     ]
    },
    {
     "name": "stderr",
     "output_type": "stream",
     "text": [
      "TRAINIGN: 100%|██████████| 587/587 [00:23<00:00, 24.52it/s]\n",
      "TESTING: 100%|██████████| 147/147 [00:06<00:00, 23.44it/s]\n"
     ]
    },
    {
     "name": "stdout",
     "output_type": "stream",
     "text": [
      "Train Acc: 0.4277 | Train Loss: 1.5172 | Test Acc: 0.4281 | Test Loss: 1.514462638874443\n",
      "\n",
      "Epoch 26\n"
     ]
    },
    {
     "name": "stderr",
     "output_type": "stream",
     "text": [
      "TRAINIGN: 100%|██████████| 587/587 [00:24<00:00, 23.66it/s]\n",
      "TESTING: 100%|██████████| 147/147 [00:06<00:00, 22.87it/s]\n"
     ]
    },
    {
     "name": "stdout",
     "output_type": "stream",
     "text": [
      "Train Acc: 0.4295 | Train Loss: 1.5120 | Test Acc: 0.4299 | Test Loss: 1.5133031501251013\n",
      "No improvement. Early stopping counter: 1/3\n",
      "\n",
      "Epoch 27\n"
     ]
    },
    {
     "name": "stderr",
     "output_type": "stream",
     "text": [
      "TRAINIGN: 100%|██████████| 587/587 [00:24<00:00, 23.50it/s]\n",
      "TESTING: 100%|██████████| 147/147 [00:06<00:00, 22.55it/s]\n"
     ]
    },
    {
     "name": "stdout",
     "output_type": "stream",
     "text": [
      "Train Acc: 0.4311 | Train Loss: 1.5083 | Test Acc: 0.4315 | Test Loss: 1.501851782506826\n",
      "\n",
      "Epoch 28\n"
     ]
    },
    {
     "name": "stderr",
     "output_type": "stream",
     "text": [
      "TRAINIGN: 100%|██████████| 587/587 [00:24<00:00, 24.00it/s]\n",
      "TESTING: 100%|██████████| 147/147 [00:06<00:00, 23.29it/s]\n"
     ]
    },
    {
     "name": "stdout",
     "output_type": "stream",
     "text": [
      "Train Acc: 0.4328 | Train Loss: 1.5019 | Test Acc: 0.4332 | Test Loss: 1.4845954139216417\n",
      "No improvement. Early stopping counter: 1/3\n",
      "\n",
      "Epoch 29\n"
     ]
    },
    {
     "name": "stderr",
     "output_type": "stream",
     "text": [
      "TRAINIGN: 100%|██████████| 587/587 [00:24<00:00, 24.35it/s]\n",
      "TESTING: 100%|██████████| 147/147 [00:06<00:00, 22.80it/s]\n"
     ]
    },
    {
     "name": "stdout",
     "output_type": "stream",
     "text": [
      "Train Acc: 0.4345 | Train Loss: 1.4977 | Test Acc: 0.4348 | Test Loss: 1.4881826744598596\n",
      "\n",
      "Epoch 30\n"
     ]
    },
    {
     "name": "stderr",
     "output_type": "stream",
     "text": [
      "TRAINIGN: 100%|██████████| 587/587 [00:23<00:00, 24.56it/s]\n",
      "TESTING: 100%|██████████| 147/147 [00:06<00:00, 23.68it/s]\n"
     ]
    },
    {
     "name": "stdout",
     "output_type": "stream",
     "text": [
      "Train Acc: 0.4360 | Train Loss: 1.4943 | Test Acc: 0.4364 | Test Loss: 1.4810815490021998\n",
      "No improvement. Early stopping counter: 1/3\n",
      "\n",
      "Epoch 31\n"
     ]
    },
    {
     "name": "stderr",
     "output_type": "stream",
     "text": [
      "TRAINIGN: 100%|██████████| 587/587 [00:25<00:00, 23.14it/s]\n",
      "TESTING: 100%|██████████| 147/147 [00:06<00:00, 23.70it/s]\n"
     ]
    },
    {
     "name": "stdout",
     "output_type": "stream",
     "text": [
      "Train Acc: 0.4375 | Train Loss: 1.4928 | Test Acc: 0.4377 | Test Loss: 1.521694033324313\n",
      "No improvement. Early stopping counter: 2/3\n",
      "\n",
      "Epoch 32\n"
     ]
    },
    {
     "name": "stderr",
     "output_type": "stream",
     "text": [
      "TRAINIGN: 100%|██████████| 587/587 [00:24<00:00, 24.24it/s]\n",
      "TESTING: 100%|██████████| 147/147 [00:06<00:00, 22.33it/s]\n"
     ]
    },
    {
     "name": "stdout",
     "output_type": "stream",
     "text": [
      "Train Acc: 0.4388 | Train Loss: 1.4878 | Test Acc: 0.4391 | Test Loss: 1.5000267847865618\n",
      "\n",
      "Epoch 33\n"
     ]
    },
    {
     "name": "stderr",
     "output_type": "stream",
     "text": [
      "TRAINIGN: 100%|██████████| 587/587 [00:24<00:00, 24.36it/s]\n",
      "TESTING: 100%|██████████| 147/147 [00:06<00:00, 23.64it/s]\n"
     ]
    },
    {
     "name": "stdout",
     "output_type": "stream",
     "text": [
      "Train Acc: 0.4402 | Train Loss: 1.4823 | Test Acc: 0.4405 | Test Loss: 1.472038663163477\n",
      "No improvement. Early stopping counter: 1/3\n",
      "\n",
      "Epoch 34\n"
     ]
    },
    {
     "name": "stderr",
     "output_type": "stream",
     "text": [
      "TRAINIGN: 100%|██████████| 587/587 [00:23<00:00, 24.81it/s]\n",
      "TESTING: 100%|██████████| 147/147 [00:06<00:00, 23.65it/s]\n"
     ]
    },
    {
     "name": "stdout",
     "output_type": "stream",
     "text": [
      "Train Acc: 0.4416 | Train Loss: 1.4719 | Test Acc: 0.4419 | Test Loss: 1.4789586399688202\n",
      "No improvement. Early stopping counter: 2/3\n",
      "\n",
      "Epoch 35\n"
     ]
    },
    {
     "name": "stderr",
     "output_type": "stream",
     "text": [
      "TRAINIGN: 100%|██████████| 587/587 [00:25<00:00, 23.41it/s]\n",
      "TESTING: 100%|██████████| 147/147 [00:06<00:00, 21.78it/s]\n"
     ]
    },
    {
     "name": "stdout",
     "output_type": "stream",
     "text": [
      "Train Acc: 0.4429 | Train Loss: 1.4718 | Test Acc: 0.4432 | Test Loss: 1.4668763259641167\n",
      "\n",
      "Epoch 36\n"
     ]
    },
    {
     "name": "stderr",
     "output_type": "stream",
     "text": [
      "TRAINIGN: 100%|██████████| 587/587 [00:25<00:00, 23.37it/s]\n",
      "TESTING: 100%|██████████| 147/147 [00:06<00:00, 23.29it/s]\n"
     ]
    },
    {
     "name": "stdout",
     "output_type": "stream",
     "text": [
      "Train Acc: 0.4441 | Train Loss: 1.4710 | Test Acc: 0.4444 | Test Loss: 1.4557108822323026\n",
      "No improvement. Early stopping counter: 1/3\n",
      "\n",
      "Epoch 37\n"
     ]
    },
    {
     "name": "stderr",
     "output_type": "stream",
     "text": [
      "TRAINIGN: 100%|██████████| 587/587 [00:24<00:00, 24.07it/s]\n",
      "TESTING: 100%|██████████| 147/147 [00:06<00:00, 22.51it/s]\n"
     ]
    },
    {
     "name": "stdout",
     "output_type": "stream",
     "text": [
      "Train Acc: 0.4454 | Train Loss: 1.4652 | Test Acc: 0.4457 | Test Loss: 1.4532004943510302\n",
      "No improvement. Early stopping counter: 2/3\n",
      "\n",
      "Epoch 38\n"
     ]
    },
    {
     "name": "stderr",
     "output_type": "stream",
     "text": [
      "TRAINIGN: 100%|██████████| 587/587 [00:24<00:00, 23.57it/s]\n",
      "TESTING: 100%|██████████| 147/147 [00:06<00:00, 21.60it/s]\n"
     ]
    },
    {
     "name": "stdout",
     "output_type": "stream",
     "text": [
      "Train Acc: 0.4466 | Train Loss: 1.4627 | Test Acc: 0.4469 | Test Loss: 1.472671080608757\n",
      "\n",
      "Epoch 39\n"
     ]
    },
    {
     "name": "stderr",
     "output_type": "stream",
     "text": [
      "TRAINIGN: 100%|██████████| 587/587 [00:25<00:00, 22.91it/s]\n",
      "TESTING: 100%|██████████| 147/147 [00:06<00:00, 23.63it/s]\n"
     ]
    },
    {
     "name": "stdout",
     "output_type": "stream",
     "text": [
      "Train Acc: 0.4477 | Train Loss: 1.4664 | Test Acc: 0.4480 | Test Loss: 1.500238790804026\n",
      "No improvement. Early stopping counter: 1/3\n",
      "\n",
      "Epoch 40\n"
     ]
    },
    {
     "name": "stderr",
     "output_type": "stream",
     "text": [
      "TRAINIGN: 100%|██████████| 587/587 [00:25<00:00, 23.07it/s]\n",
      "TESTING: 100%|██████████| 147/147 [00:06<00:00, 22.89it/s]\n"
     ]
    },
    {
     "name": "stdout",
     "output_type": "stream",
     "text": [
      "Train Acc: 0.4488 | Train Loss: 1.4628 | Test Acc: 0.4491 | Test Loss: 1.4764470105268517\n",
      "No improvement. Early stopping counter: 2/3\n",
      "\n",
      "Epoch 41\n"
     ]
    },
    {
     "name": "stderr",
     "output_type": "stream",
     "text": [
      "TRAINIGN: 100%|██████████| 587/587 [00:24<00:00, 24.43it/s]\n",
      "TESTING: 100%|██████████| 147/147 [00:06<00:00, 22.00it/s]\n"
     ]
    },
    {
     "name": "stdout",
     "output_type": "stream",
     "text": [
      "Train Acc: 0.4499 | Train Loss: 1.4569 | Test Acc: 0.4501 | Test Loss: 1.4443031241293667\n",
      "\n",
      "Epoch 42\n"
     ]
    },
    {
     "name": "stderr",
     "output_type": "stream",
     "text": [
      "TRAINIGN: 100%|██████████| 587/587 [00:24<00:00, 23.73it/s]\n",
      "TESTING: 100%|██████████| 147/147 [00:06<00:00, 21.58it/s]\n"
     ]
    },
    {
     "name": "stdout",
     "output_type": "stream",
     "text": [
      "Train Acc: 0.4509 | Train Loss: 1.4549 | Test Acc: 0.4511 | Test Loss: 1.4721062969999248\n",
      "No improvement. Early stopping counter: 1/3\n",
      "\n",
      "Epoch 43\n"
     ]
    },
    {
     "name": "stderr",
     "output_type": "stream",
     "text": [
      "TRAINIGN: 100%|██████████| 587/587 [00:25<00:00, 22.69it/s]\n",
      "TESTING: 100%|██████████| 147/147 [00:06<00:00, 22.44it/s]\n"
     ]
    },
    {
     "name": "stdout",
     "output_type": "stream",
     "text": [
      "Train Acc: 0.4520 | Train Loss: 1.4530 | Test Acc: 0.4521 | Test Loss: 1.4766628442167424\n",
      "No improvement. Early stopping counter: 2/3\n",
      "\n",
      "Epoch 44\n"
     ]
    },
    {
     "name": "stderr",
     "output_type": "stream",
     "text": [
      "TRAINIGN: 100%|██████████| 587/587 [00:25<00:00, 22.92it/s]\n",
      "TESTING: 100%|██████████| 147/147 [00:06<00:00, 22.72it/s]\n"
     ]
    },
    {
     "name": "stdout",
     "output_type": "stream",
     "text": [
      "Train Acc: 0.4529 | Train Loss: 1.4481 | Test Acc: 0.4531 | Test Loss: 1.4589665236116267\n",
      "\n",
      "Epoch 45\n"
     ]
    },
    {
     "name": "stderr",
     "output_type": "stream",
     "text": [
      "TRAINIGN: 100%|██████████| 587/587 [00:24<00:00, 24.26it/s]\n",
      "TESTING: 100%|██████████| 147/147 [00:06<00:00, 22.97it/s]\n"
     ]
    },
    {
     "name": "stdout",
     "output_type": "stream",
     "text": [
      "Train Acc: 0.4539 | Train Loss: 1.4465 | Test Acc: 0.4541 | Test Loss: 1.441009406329823\n",
      "No improvement. Early stopping counter: 1/3\n",
      "\n",
      "Epoch 46\n"
     ]
    },
    {
     "name": "stderr",
     "output_type": "stream",
     "text": [
      "TRAINIGN: 100%|██████████| 587/587 [00:24<00:00, 23.82it/s]\n",
      "TESTING: 100%|██████████| 147/147 [00:06<00:00, 24.09it/s]\n"
     ]
    },
    {
     "name": "stdout",
     "output_type": "stream",
     "text": [
      "Train Acc: 0.4549 | Train Loss: 1.4407 | Test Acc: 0.4551 | Test Loss: 1.44783985655324\n",
      "No improvement. Early stopping counter: 2/3\n",
      "\n",
      "Epoch 47\n"
     ]
    },
    {
     "name": "stderr",
     "output_type": "stream",
     "text": [
      "TRAINIGN: 100%|██████████| 587/587 [00:24<00:00, 23.96it/s]\n",
      "TESTING: 100%|██████████| 147/147 [00:06<00:00, 22.52it/s]"
     ]
    },
    {
     "name": "stdout",
     "output_type": "stream",
     "text": [
      "Train Acc: 0.4558 | Train Loss: 1.4433 | Test Acc: 0.4560 | Test Loss: 1.464443291936602\n",
      "No improvement. Early stopping counter: 3/3\n",
      "Early stopping triggered.\n"
     ]
    },
    {
     "name": "stderr",
     "output_type": "stream",
     "text": [
      "\n"
     ]
    }
   ],
   "source": [
    "device = torch.device(\"cuda\" if torch.cuda.is_available() else \"cpu\")\n",
    "\n",
    "model_multihead_8 = BirdClassifier(cnn_state=False, head_count = 8).to(device)\n",
    "criterion = nn.CrossEntropyLoss().to(device)\n",
    "optimizer = optim.Adam(model_multihead_8.parameters(), lr=3e-4)\n",
    "accuracy_score = Accuracy(task = 'multiclass', num_classes = 10).to(device)\n",
    "\n",
    "\n",
    "patience = 3\n",
    "min_delta = 3e-3\n",
    "best_accuracy = 0\n",
    "counter = 0\n",
    "best_test_acc = 0\n",
    "\n",
    "loss_scores_train_multihead_8 = []\n",
    "accuracy_scores_train_multihead_8 = []\n",
    "\n",
    "loss_scores_test_multihead_8 = []\n",
    "accuracy_scores_test_multihead_8 = []\n",
    "\n",
    "for epoch in range(200):  \n",
    "    print(f\"\\nEpoch {epoch+1}\")\n",
    "    train_acc, train_loss = train_model(model_multihead_8, training_dataset, criterion, optimizer, accuracy_score, device)\n",
    "    test_acc, test_loss = test_model(model_multihead_8, testing_dataset, criterion, accuracy_score, device)\n",
    "    \n",
    "    accuracy_scores_train_multihead_8.append(train_acc)\n",
    "    loss_scores_train_multihead_8.append(train_loss)\n",
    "\n",
    "    accuracy_scores_test_multihead_8.append(test_acc)\n",
    "    loss_scores_test_multihead_8.append(test_loss)\n",
    "    print(f\"Train Acc: {train_acc:.4f} | Train Loss: {train_loss:.4f} | Test Acc: {test_acc:.4f} | Test Loss: {test_loss}\")\n",
    "    \n",
    "    if test_acc - best_test_acc > min_delta:\n",
    "        best_test_acc = test_acc\n",
    "        counter = 0\n",
    "    else:\n",
    "        counter += 1\n",
    "        print(f\"No improvement. Early stopping counter: {counter}/{patience}\")\n",
    "        if counter >= patience:\n",
    "            print(\"Early stopping triggered.\")\n",
    "            break"
   ]
  },
  {
   "cell_type": "markdown",
   "metadata": {},
   "source": [
    "### Increaseing Layers\n",
    "2 then 4 then 8"
   ]
  },
  {
   "cell_type": "code",
   "execution_count": 12,
   "metadata": {},
   "outputs": [
    {
     "name": "stdout",
     "output_type": "stream",
     "text": [
      "\n",
      "Epoch 1\n"
     ]
    },
    {
     "name": "stderr",
     "output_type": "stream",
     "text": [
      "TRAINIGN:   0%|          | 0/587 [00:00<?, ?it/s]"
     ]
    },
    {
     "name": "stderr",
     "output_type": "stream",
     "text": [
      "TRAINIGN: 100%|██████████| 587/587 [00:24<00:00, 24.30it/s]\n",
      "TESTING: 100%|██████████| 147/147 [00:06<00:00, 23.82it/s]\n"
     ]
    },
    {
     "name": "stdout",
     "output_type": "stream",
     "text": [
      "Train Acc: 0.2582 | Train Loss: 2.0444 | Test Acc: 0.2680 | Test Loss: 1.9556572469724278\n",
      "\n",
      "Epoch 2\n"
     ]
    },
    {
     "name": "stderr",
     "output_type": "stream",
     "text": [
      "TRAINIGN: 100%|██████████| 587/587 [00:25<00:00, 22.88it/s]\n",
      "TESTING: 100%|██████████| 147/147 [00:06<00:00, 22.88it/s]\n"
     ]
    },
    {
     "name": "stdout",
     "output_type": "stream",
     "text": [
      "Train Acc: 0.2916 | Train Loss: 1.9000 | Test Acc: 0.2949 | Test Loss: 1.9029295663444363\n",
      "\n",
      "Epoch 3\n"
     ]
    },
    {
     "name": "stderr",
     "output_type": "stream",
     "text": [
      "TRAINIGN: 100%|██████████| 587/587 [00:24<00:00, 23.57it/s]\n",
      "TESTING: 100%|██████████| 147/147 [00:06<00:00, 22.05it/s]\n"
     ]
    },
    {
     "name": "stdout",
     "output_type": "stream",
     "text": [
      "Train Acc: 0.3089 | Train Loss: 1.8318 | Test Acc: 0.3112 | Test Loss: 1.8761470066446837\n",
      "\n",
      "Epoch 4\n"
     ]
    },
    {
     "name": "stderr",
     "output_type": "stream",
     "text": [
      "TRAINIGN: 100%|██████████| 587/587 [00:24<00:00, 24.13it/s]\n",
      "TESTING: 100%|██████████| 147/147 [00:06<00:00, 22.64it/s]\n"
     ]
    },
    {
     "name": "stdout",
     "output_type": "stream",
     "text": [
      "Train Acc: 0.3223 | Train Loss: 1.7845 | Test Acc: 0.3257 | Test Loss: 1.760538212296103\n",
      "\n",
      "Epoch 5\n"
     ]
    },
    {
     "name": "stderr",
     "output_type": "stream",
     "text": [
      "TRAINIGN: 100%|██████████| 587/587 [00:23<00:00, 24.86it/s]\n",
      "TESTING: 100%|██████████| 147/147 [00:06<00:00, 24.47it/s]\n"
     ]
    },
    {
     "name": "stdout",
     "output_type": "stream",
     "text": [
      "Train Acc: 0.3340 | Train Loss: 1.7549 | Test Acc: 0.3360 | Test Loss: 1.7704130654432335\n",
      "\n",
      "Epoch 6\n"
     ]
    },
    {
     "name": "stderr",
     "output_type": "stream",
     "text": [
      "TRAINIGN: 100%|██████████| 587/587 [00:24<00:00, 23.50it/s]\n",
      "TESTING: 100%|██████████| 147/147 [00:06<00:00, 22.20it/s]\n"
     ]
    },
    {
     "name": "stdout",
     "output_type": "stream",
     "text": [
      "Train Acc: 0.3427 | Train Loss: 1.7301 | Test Acc: 0.3445 | Test Loss: 1.7614409688378678\n",
      "\n",
      "Epoch 7\n"
     ]
    },
    {
     "name": "stderr",
     "output_type": "stream",
     "text": [
      "TRAINIGN: 100%|██████████| 587/587 [00:24<00:00, 23.70it/s]\n",
      "TESTING: 100%|██████████| 147/147 [00:06<00:00, 23.31it/s]\n"
     ]
    },
    {
     "name": "stdout",
     "output_type": "stream",
     "text": [
      "Train Acc: 0.3501 | Train Loss: 1.7085 | Test Acc: 0.3519 | Test Loss: 1.7045003094640718\n",
      "\n",
      "Epoch 8\n"
     ]
    },
    {
     "name": "stderr",
     "output_type": "stream",
     "text": [
      "TRAINIGN: 100%|██████████| 587/587 [00:25<00:00, 22.61it/s]\n",
      "TESTING: 100%|██████████| 147/147 [00:06<00:00, 22.47it/s]\n"
     ]
    },
    {
     "name": "stdout",
     "output_type": "stream",
     "text": [
      "Train Acc: 0.3569 | Train Loss: 1.6969 | Test Acc: 0.3580 | Test Loss: 1.7314529597353774\n",
      "\n",
      "Epoch 9\n"
     ]
    },
    {
     "name": "stderr",
     "output_type": "stream",
     "text": [
      "TRAINIGN: 100%|██████████| 587/587 [00:25<00:00, 22.96it/s]\n",
      "TESTING: 100%|██████████| 147/147 [00:06<00:00, 23.47it/s]\n"
     ]
    },
    {
     "name": "stdout",
     "output_type": "stream",
     "text": [
      "Train Acc: 0.3620 | Train Loss: 1.6853 | Test Acc: 0.3633 | Test Loss: 1.6983623107274373\n",
      "\n",
      "Epoch 10\n"
     ]
    },
    {
     "name": "stderr",
     "output_type": "stream",
     "text": [
      "TRAINIGN: 100%|██████████| 587/587 [00:25<00:00, 22.79it/s]\n",
      "TESTING: 100%|██████████| 147/147 [00:06<00:00, 23.40it/s]\n"
     ]
    },
    {
     "name": "stdout",
     "output_type": "stream",
     "text": [
      "Train Acc: 0.3669 | Train Loss: 1.6728 | Test Acc: 0.3682 | Test Loss: 1.6461967294718944\n",
      "\n",
      "Epoch 11\n"
     ]
    },
    {
     "name": "stderr",
     "output_type": "stream",
     "text": [
      "TRAINIGN: 100%|██████████| 587/587 [00:25<00:00, 22.93it/s]\n",
      "TESTING: 100%|██████████| 147/147 [00:06<00:00, 23.76it/s]\n"
     ]
    },
    {
     "name": "stdout",
     "output_type": "stream",
     "text": [
      "Train Acc: 0.3716 | Train Loss: 1.6599 | Test Acc: 0.3725 | Test Loss: 1.6403618012966752\n",
      "\n",
      "Epoch 12\n"
     ]
    },
    {
     "name": "stderr",
     "output_type": "stream",
     "text": [
      "TRAINIGN: 100%|██████████| 587/587 [00:25<00:00, 23.38it/s]\n",
      "TESTING: 100%|██████████| 147/147 [00:06<00:00, 22.81it/s]\n"
     ]
    },
    {
     "name": "stdout",
     "output_type": "stream",
     "text": [
      "Train Acc: 0.3757 | Train Loss: 1.6490 | Test Acc: 0.3762 | Test Loss: 1.7503932592820148\n",
      "\n",
      "Epoch 13\n"
     ]
    },
    {
     "name": "stderr",
     "output_type": "stream",
     "text": [
      "TRAINIGN: 100%|██████████| 587/587 [00:26<00:00, 22.05it/s]\n",
      "TESTING: 100%|██████████| 147/147 [00:06<00:00, 23.21it/s]\n"
     ]
    },
    {
     "name": "stdout",
     "output_type": "stream",
     "text": [
      "Train Acc: 0.3791 | Train Loss: 1.6357 | Test Acc: 0.3797 | Test Loss: 1.7076896745331434\n",
      "\n",
      "Epoch 14\n"
     ]
    },
    {
     "name": "stderr",
     "output_type": "stream",
     "text": [
      "TRAINIGN: 100%|██████████| 587/587 [00:24<00:00, 23.94it/s]\n",
      "TESTING: 100%|██████████| 147/147 [00:06<00:00, 22.74it/s]\n"
     ]
    },
    {
     "name": "stdout",
     "output_type": "stream",
     "text": [
      "Train Acc: 0.3822 | Train Loss: 1.6294 | Test Acc: 0.3830 | Test Loss: 1.6218093260615862\n",
      "\n",
      "Epoch 15\n"
     ]
    },
    {
     "name": "stderr",
     "output_type": "stream",
     "text": [
      "TRAINIGN: 100%|██████████| 587/587 [00:26<00:00, 22.55it/s]\n",
      "TESTING: 100%|██████████| 147/147 [00:06<00:00, 21.37it/s]\n"
     ]
    },
    {
     "name": "stdout",
     "output_type": "stream",
     "text": [
      "Train Acc: 0.3853 | Train Loss: 1.6237 | Test Acc: 0.3860 | Test Loss: 1.6158181185625038\n",
      "\n",
      "Epoch 16\n"
     ]
    },
    {
     "name": "stderr",
     "output_type": "stream",
     "text": [
      "TRAINIGN: 100%|██████████| 587/587 [00:23<00:00, 24.83it/s]\n",
      "TESTING: 100%|██████████| 147/147 [00:06<00:00, 23.92it/s]\n"
     ]
    },
    {
     "name": "stdout",
     "output_type": "stream",
     "text": [
      "Train Acc: 0.3884 | Train Loss: 1.6036 | Test Acc: 0.3890 | Test Loss: 1.6436840441762184\n",
      "No improvement. Early stopping counter: 1/3\n",
      "\n",
      "Epoch 17\n"
     ]
    },
    {
     "name": "stderr",
     "output_type": "stream",
     "text": [
      "TRAINIGN: 100%|██████████| 587/587 [00:25<00:00, 23.43it/s]\n",
      "TESTING: 100%|██████████| 147/147 [00:06<00:00, 22.49it/s]\n"
     ]
    },
    {
     "name": "stdout",
     "output_type": "stream",
     "text": [
      "Train Acc: 0.3912 | Train Loss: 1.6047 | Test Acc: 0.3917 | Test Loss: 1.6177426884774448\n",
      "\n",
      "Epoch 18\n"
     ]
    },
    {
     "name": "stderr",
     "output_type": "stream",
     "text": [
      "TRAINIGN: 100%|██████████| 587/587 [00:26<00:00, 22.56it/s]\n",
      "TESTING: 100%|██████████| 147/147 [00:06<00:00, 21.60it/s]\n"
     ]
    },
    {
     "name": "stdout",
     "output_type": "stream",
     "text": [
      "Train Acc: 0.3936 | Train Loss: 1.5989 | Test Acc: 0.3941 | Test Loss: 1.6139903863271077\n",
      "No improvement. Early stopping counter: 1/3\n",
      "\n",
      "Epoch 19\n"
     ]
    },
    {
     "name": "stderr",
     "output_type": "stream",
     "text": [
      "TRAINIGN: 100%|██████████| 587/587 [00:25<00:00, 22.80it/s]\n",
      "TESTING: 100%|██████████| 147/147 [00:06<00:00, 23.48it/s]\n"
     ]
    },
    {
     "name": "stdout",
     "output_type": "stream",
     "text": [
      "Train Acc: 0.3959 | Train Loss: 1.5900 | Test Acc: 0.3964 | Test Loss: 1.623449073356836\n",
      "\n",
      "Epoch 20\n"
     ]
    },
    {
     "name": "stderr",
     "output_type": "stream",
     "text": [
      "TRAINIGN: 100%|██████████| 587/587 [00:25<00:00, 22.76it/s]\n",
      "TESTING: 100%|██████████| 147/147 [00:06<00:00, 22.38it/s]\n"
     ]
    },
    {
     "name": "stdout",
     "output_type": "stream",
     "text": [
      "Train Acc: 0.3981 | Train Loss: 1.5861 | Test Acc: 0.3986 | Test Loss: 1.6336041770013823\n",
      "No improvement. Early stopping counter: 1/3\n",
      "\n",
      "Epoch 21\n"
     ]
    },
    {
     "name": "stderr",
     "output_type": "stream",
     "text": [
      "TRAINIGN: 100%|██████████| 587/587 [00:24<00:00, 24.29it/s]\n",
      "TESTING: 100%|██████████| 147/147 [00:06<00:00, 23.96it/s]\n"
     ]
    },
    {
     "name": "stdout",
     "output_type": "stream",
     "text": [
      "Train Acc: 0.4003 | Train Loss: 1.5792 | Test Acc: 0.4007 | Test Loss: 1.6395445137607807\n",
      "\n",
      "Epoch 22\n"
     ]
    },
    {
     "name": "stderr",
     "output_type": "stream",
     "text": [
      "TRAINIGN: 100%|██████████| 587/587 [00:25<00:00, 22.96it/s]\n",
      "TESTING: 100%|██████████| 147/147 [00:06<00:00, 22.92it/s]\n"
     ]
    },
    {
     "name": "stdout",
     "output_type": "stream",
     "text": [
      "Train Acc: 0.4022 | Train Loss: 1.5759 | Test Acc: 0.4027 | Test Loss: 1.5738959596270607\n",
      "No improvement. Early stopping counter: 1/3\n",
      "\n",
      "Epoch 23\n"
     ]
    },
    {
     "name": "stderr",
     "output_type": "stream",
     "text": [
      "TRAINIGN: 100%|██████████| 587/587 [00:23<00:00, 24.49it/s]\n",
      "TESTING: 100%|██████████| 147/147 [00:06<00:00, 22.61it/s]\n"
     ]
    },
    {
     "name": "stdout",
     "output_type": "stream",
     "text": [
      "Train Acc: 0.4043 | Train Loss: 1.5709 | Test Acc: 0.4046 | Test Loss: 1.6194726593640385\n",
      "\n",
      "Epoch 24\n"
     ]
    },
    {
     "name": "stderr",
     "output_type": "stream",
     "text": [
      "TRAINIGN: 100%|██████████| 587/587 [00:25<00:00, 23.27it/s]\n",
      "TESTING: 100%|██████████| 147/147 [00:06<00:00, 23.52it/s]\n"
     ]
    },
    {
     "name": "stdout",
     "output_type": "stream",
     "text": [
      "Train Acc: 0.4061 | Train Loss: 1.5624 | Test Acc: 0.4066 | Test Loss: 1.575782475017366\n",
      "No improvement. Early stopping counter: 1/3\n",
      "\n",
      "Epoch 25\n"
     ]
    },
    {
     "name": "stderr",
     "output_type": "stream",
     "text": [
      "TRAINIGN: 100%|██████████| 587/587 [00:26<00:00, 22.44it/s]\n",
      "TESTING: 100%|██████████| 147/147 [00:06<00:00, 24.17it/s]\n"
     ]
    },
    {
     "name": "stdout",
     "output_type": "stream",
     "text": [
      "Train Acc: 0.4080 | Train Loss: 1.5517 | Test Acc: 0.4084 | Test Loss: 1.5918265256751962\n",
      "\n",
      "Epoch 26\n"
     ]
    },
    {
     "name": "stderr",
     "output_type": "stream",
     "text": [
      "TRAINIGN: 100%|██████████| 587/587 [00:25<00:00, 22.83it/s]\n",
      "TESTING: 100%|██████████| 147/147 [00:06<00:00, 22.53it/s]\n"
     ]
    },
    {
     "name": "stdout",
     "output_type": "stream",
     "text": [
      "Train Acc: 0.4099 | Train Loss: 1.5439 | Test Acc: 0.4103 | Test Loss: 1.6188388714174025\n",
      "No improvement. Early stopping counter: 1/3\n",
      "\n",
      "Epoch 27\n"
     ]
    },
    {
     "name": "stderr",
     "output_type": "stream",
     "text": [
      "TRAINIGN: 100%|██████████| 587/587 [00:25<00:00, 23.44it/s]\n",
      "TESTING: 100%|██████████| 147/147 [00:06<00:00, 21.39it/s]\n"
     ]
    },
    {
     "name": "stdout",
     "output_type": "stream",
     "text": [
      "Train Acc: 0.4116 | Train Loss: 1.5409 | Test Acc: 0.4119 | Test Loss: 1.598564902941386\n",
      "\n",
      "Epoch 28\n"
     ]
    },
    {
     "name": "stderr",
     "output_type": "stream",
     "text": [
      "TRAINIGN: 100%|██████████| 587/587 [00:27<00:00, 21.72it/s]\n",
      "TESTING: 100%|██████████| 147/147 [00:06<00:00, 23.82it/s]\n"
     ]
    },
    {
     "name": "stdout",
     "output_type": "stream",
     "text": [
      "Train Acc: 0.4132 | Train Loss: 1.5351 | Test Acc: 0.4136 | Test Loss: 1.5499642203454258\n",
      "No improvement. Early stopping counter: 1/3\n",
      "\n",
      "Epoch 29\n"
     ]
    },
    {
     "name": "stderr",
     "output_type": "stream",
     "text": [
      "TRAINIGN: 100%|██████████| 587/587 [00:26<00:00, 21.77it/s]\n",
      "TESTING: 100%|██████████| 147/147 [00:06<00:00, 22.41it/s]\n"
     ]
    },
    {
     "name": "stdout",
     "output_type": "stream",
     "text": [
      "Train Acc: 0.4149 | Train Loss: 1.5350 | Test Acc: 0.4152 | Test Loss: 1.6266146436029552\n",
      "\n",
      "Epoch 30\n"
     ]
    },
    {
     "name": "stderr",
     "output_type": "stream",
     "text": [
      "TRAINIGN: 100%|██████████| 587/587 [00:26<00:00, 22.47it/s]\n",
      "TESTING: 100%|██████████| 147/147 [00:06<00:00, 23.21it/s]\n"
     ]
    },
    {
     "name": "stdout",
     "output_type": "stream",
     "text": [
      "Train Acc: 0.4164 | Train Loss: 1.5290 | Test Acc: 0.4167 | Test Loss: 1.5447319819002736\n",
      "No improvement. Early stopping counter: 1/3\n",
      "\n",
      "Epoch 31\n"
     ]
    },
    {
     "name": "stderr",
     "output_type": "stream",
     "text": [
      "TRAINIGN: 100%|██████████| 587/587 [00:26<00:00, 22.32it/s]\n",
      "TESTING: 100%|██████████| 147/147 [00:06<00:00, 21.72it/s]\n"
     ]
    },
    {
     "name": "stdout",
     "output_type": "stream",
     "text": [
      "Train Acc: 0.4180 | Train Loss: 1.5195 | Test Acc: 0.4184 | Test Loss: 1.5309709853866473\n",
      "\n",
      "Epoch 32\n"
     ]
    },
    {
     "name": "stderr",
     "output_type": "stream",
     "text": [
      "TRAINIGN: 100%|██████████| 587/587 [00:25<00:00, 23.19it/s]\n",
      "TESTING: 100%|██████████| 147/147 [00:06<00:00, 22.99it/s]\n"
     ]
    },
    {
     "name": "stdout",
     "output_type": "stream",
     "text": [
      "Train Acc: 0.4196 | Train Loss: 1.5160 | Test Acc: 0.4199 | Test Loss: 1.5327078712229827\n",
      "No improvement. Early stopping counter: 1/3\n",
      "\n",
      "Epoch 33\n"
     ]
    },
    {
     "name": "stderr",
     "output_type": "stream",
     "text": [
      "TRAINIGN: 100%|██████████| 587/587 [00:23<00:00, 24.68it/s]\n",
      "TESTING: 100%|██████████| 147/147 [00:06<00:00, 23.40it/s]\n"
     ]
    },
    {
     "name": "stdout",
     "output_type": "stream",
     "text": [
      "Train Acc: 0.4211 | Train Loss: 1.5127 | Test Acc: 0.4214 | Test Loss: 1.542065213326694\n",
      "\n",
      "Epoch 34\n"
     ]
    },
    {
     "name": "stderr",
     "output_type": "stream",
     "text": [
      "TRAINIGN: 100%|██████████| 587/587 [00:23<00:00, 24.54it/s]\n",
      "TESTING: 100%|██████████| 147/147 [00:06<00:00, 23.84it/s]\n"
     ]
    },
    {
     "name": "stdout",
     "output_type": "stream",
     "text": [
      "Train Acc: 0.4226 | Train Loss: 1.5044 | Test Acc: 0.4229 | Test Loss: 1.5195183397150365\n",
      "No improvement. Early stopping counter: 1/3\n",
      "\n",
      "Epoch 35\n"
     ]
    },
    {
     "name": "stderr",
     "output_type": "stream",
     "text": [
      "TRAINIGN: 100%|██████████| 587/587 [00:25<00:00, 23.44it/s]\n",
      "TESTING: 100%|██████████| 147/147 [00:06<00:00, 21.42it/s]\n"
     ]
    },
    {
     "name": "stdout",
     "output_type": "stream",
     "text": [
      "Train Acc: 0.4240 | Train Loss: 1.4993 | Test Acc: 0.4243 | Test Loss: 1.5295556053823354\n",
      "No improvement. Early stopping counter: 2/3\n",
      "\n",
      "Epoch 36\n"
     ]
    },
    {
     "name": "stderr",
     "output_type": "stream",
     "text": [
      "TRAINIGN: 100%|██████████| 587/587 [00:25<00:00, 23.22it/s]\n",
      "TESTING: 100%|██████████| 147/147 [00:06<00:00, 23.22it/s]\n"
     ]
    },
    {
     "name": "stdout",
     "output_type": "stream",
     "text": [
      "Train Acc: 0.4255 | Train Loss: 1.4911 | Test Acc: 0.4258 | Test Loss: 1.5251337241153329\n",
      "\n",
      "Epoch 37\n"
     ]
    },
    {
     "name": "stderr",
     "output_type": "stream",
     "text": [
      "TRAINIGN: 100%|██████████| 587/587 [00:24<00:00, 23.96it/s]\n",
      "TESTING: 100%|██████████| 147/147 [00:06<00:00, 22.01it/s]\n"
     ]
    },
    {
     "name": "stdout",
     "output_type": "stream",
     "text": [
      "Train Acc: 0.4269 | Train Loss: 1.4901 | Test Acc: 0.4272 | Test Loss: 1.4954029151371546\n",
      "No improvement. Early stopping counter: 1/3\n",
      "\n",
      "Epoch 38\n"
     ]
    },
    {
     "name": "stderr",
     "output_type": "stream",
     "text": [
      "TRAINIGN: 100%|██████████| 587/587 [00:24<00:00, 24.19it/s]\n",
      "TESTING: 100%|██████████| 147/147 [00:06<00:00, 22.76it/s]\n"
     ]
    },
    {
     "name": "stdout",
     "output_type": "stream",
     "text": [
      "Train Acc: 0.4283 | Train Loss: 1.4855 | Test Acc: 0.4286 | Test Loss: 1.509473299493595\n",
      "No improvement. Early stopping counter: 2/3\n",
      "\n",
      "Epoch 39\n"
     ]
    },
    {
     "name": "stderr",
     "output_type": "stream",
     "text": [
      "TRAINIGN: 100%|██████████| 587/587 [00:25<00:00, 22.86it/s]\n",
      "TESTING: 100%|██████████| 147/147 [00:06<00:00, 22.91it/s]\n"
     ]
    },
    {
     "name": "stdout",
     "output_type": "stream",
     "text": [
      "Train Acc: 0.4297 | Train Loss: 1.4831 | Test Acc: 0.4300 | Test Loss: 1.5123391508245143\n",
      "\n",
      "Epoch 40\n"
     ]
    },
    {
     "name": "stderr",
     "output_type": "stream",
     "text": [
      "TRAINIGN: 100%|██████████| 587/587 [00:24<00:00, 23.55it/s]\n",
      "TESTING: 100%|██████████| 147/147 [00:06<00:00, 23.24it/s]\n"
     ]
    },
    {
     "name": "stdout",
     "output_type": "stream",
     "text": [
      "Train Acc: 0.4310 | Train Loss: 1.4813 | Test Acc: 0.4312 | Test Loss: 1.5685210665877984\n",
      "No improvement. Early stopping counter: 1/3\n",
      "\n",
      "Epoch 41\n"
     ]
    },
    {
     "name": "stderr",
     "output_type": "stream",
     "text": [
      "TRAINIGN: 100%|██████████| 587/587 [00:25<00:00, 23.28it/s]\n",
      "TESTING: 100%|██████████| 147/147 [00:06<00:00, 22.09it/s]\n"
     ]
    },
    {
     "name": "stdout",
     "output_type": "stream",
     "text": [
      "Train Acc: 0.4322 | Train Loss: 1.4734 | Test Acc: 0.4324 | Test Loss: 1.5327473254430861\n",
      "No improvement. Early stopping counter: 2/3\n",
      "\n",
      "Epoch 42\n"
     ]
    },
    {
     "name": "stderr",
     "output_type": "stream",
     "text": [
      "TRAINIGN: 100%|██████████| 587/587 [00:24<00:00, 23.77it/s]\n",
      "TESTING: 100%|██████████| 147/147 [00:06<00:00, 23.23it/s]\n"
     ]
    },
    {
     "name": "stdout",
     "output_type": "stream",
     "text": [
      "Train Acc: 0.4334 | Train Loss: 1.4653 | Test Acc: 0.4336 | Test Loss: 1.552190714952897\n",
      "\n",
      "Epoch 43\n"
     ]
    },
    {
     "name": "stderr",
     "output_type": "stream",
     "text": [
      "TRAINIGN: 100%|██████████| 587/587 [00:25<00:00, 23.29it/s]\n",
      "TESTING: 100%|██████████| 147/147 [00:06<00:00, 23.17it/s]\n"
     ]
    },
    {
     "name": "stdout",
     "output_type": "stream",
     "text": [
      "Train Acc: 0.4345 | Train Loss: 1.4643 | Test Acc: 0.4347 | Test Loss: 1.52486041127419\n",
      "No improvement. Early stopping counter: 1/3\n",
      "\n",
      "Epoch 44\n"
     ]
    },
    {
     "name": "stderr",
     "output_type": "stream",
     "text": [
      "TRAINIGN: 100%|██████████| 587/587 [00:25<00:00, 23.05it/s]\n",
      "TESTING: 100%|██████████| 147/147 [00:06<00:00, 23.74it/s]\n"
     ]
    },
    {
     "name": "stdout",
     "output_type": "stream",
     "text": [
      "Train Acc: 0.4357 | Train Loss: 1.4585 | Test Acc: 0.4359 | Test Loss: 1.5219612981186432\n",
      "No improvement. Early stopping counter: 2/3\n",
      "\n",
      "Epoch 45\n"
     ]
    },
    {
     "name": "stderr",
     "output_type": "stream",
     "text": [
      "TRAINIGN: 100%|██████████| 587/587 [00:23<00:00, 24.54it/s]\n",
      "TESTING: 100%|██████████| 147/147 [00:06<00:00, 23.43it/s]\n"
     ]
    },
    {
     "name": "stdout",
     "output_type": "stream",
     "text": [
      "Train Acc: 0.4369 | Train Loss: 1.4560 | Test Acc: 0.4371 | Test Loss: 1.4794073267047907\n",
      "\n",
      "Epoch 46\n"
     ]
    },
    {
     "name": "stderr",
     "output_type": "stream",
     "text": [
      "TRAINIGN: 100%|██████████| 587/587 [00:24<00:00, 23.58it/s]\n",
      "TESTING: 100%|██████████| 147/147 [00:06<00:00, 22.17it/s]\n"
     ]
    },
    {
     "name": "stdout",
     "output_type": "stream",
     "text": [
      "Train Acc: 0.4381 | Train Loss: 1.4470 | Test Acc: 0.4383 | Test Loss: 1.5238165303963382\n",
      "No improvement. Early stopping counter: 1/3\n",
      "\n",
      "Epoch 47\n"
     ]
    },
    {
     "name": "stderr",
     "output_type": "stream",
     "text": [
      "TRAINIGN: 100%|██████████| 587/587 [00:24<00:00, 24.12it/s]\n",
      "TESTING: 100%|██████████| 147/147 [00:06<00:00, 23.48it/s]\n"
     ]
    },
    {
     "name": "stdout",
     "output_type": "stream",
     "text": [
      "Train Acc: 0.4391 | Train Loss: 1.4497 | Test Acc: 0.4394 | Test Loss: 1.448675174291442\n",
      "No improvement. Early stopping counter: 2/3\n",
      "\n",
      "Epoch 48\n"
     ]
    },
    {
     "name": "stderr",
     "output_type": "stream",
     "text": [
      "TRAINIGN: 100%|██████████| 587/587 [00:24<00:00, 24.28it/s]\n",
      "TESTING: 100%|██████████| 147/147 [00:06<00:00, 23.46it/s]\n"
     ]
    },
    {
     "name": "stdout",
     "output_type": "stream",
     "text": [
      "Train Acc: 0.4402 | Train Loss: 1.4440 | Test Acc: 0.4405 | Test Loss: 1.4668330108227372\n",
      "\n",
      "Epoch 49\n"
     ]
    },
    {
     "name": "stderr",
     "output_type": "stream",
     "text": [
      "TRAINIGN: 100%|██████████| 587/587 [00:24<00:00, 23.93it/s]\n",
      "TESTING: 100%|██████████| 147/147 [00:06<00:00, 23.02it/s]\n"
     ]
    },
    {
     "name": "stdout",
     "output_type": "stream",
     "text": [
      "Train Acc: 0.4413 | Train Loss: 1.4372 | Test Acc: 0.4415 | Test Loss: 1.4975914233395842\n",
      "No improvement. Early stopping counter: 1/3\n",
      "\n",
      "Epoch 50\n"
     ]
    },
    {
     "name": "stderr",
     "output_type": "stream",
     "text": [
      "TRAINIGN: 100%|██████████| 587/587 [00:23<00:00, 24.72it/s]\n",
      "TESTING: 100%|██████████| 147/147 [00:06<00:00, 23.00it/s]\n"
     ]
    },
    {
     "name": "stdout",
     "output_type": "stream",
     "text": [
      "Train Acc: 0.4424 | Train Loss: 1.4360 | Test Acc: 0.4425 | Test Loss: 1.5649053069199024\n",
      "No improvement. Early stopping counter: 2/3\n",
      "\n",
      "Epoch 51\n"
     ]
    },
    {
     "name": "stderr",
     "output_type": "stream",
     "text": [
      "TRAINIGN: 100%|██████████| 587/587 [00:24<00:00, 24.14it/s]\n",
      "TESTING: 100%|██████████| 147/147 [00:06<00:00, 23.92it/s]\n"
     ]
    },
    {
     "name": "stdout",
     "output_type": "stream",
     "text": [
      "Train Acc: 0.4434 | Train Loss: 1.4297 | Test Acc: 0.4436 | Test Loss: 1.4958235666054447\n",
      "\n",
      "Epoch 52\n"
     ]
    },
    {
     "name": "stderr",
     "output_type": "stream",
     "text": [
      "TRAINIGN: 100%|██████████| 587/587 [00:24<00:00, 23.58it/s]\n",
      "TESTING: 100%|██████████| 147/147 [00:06<00:00, 23.45it/s]\n"
     ]
    },
    {
     "name": "stdout",
     "output_type": "stream",
     "text": [
      "Train Acc: 0.4444 | Train Loss: 1.4294 | Test Acc: 0.4446 | Test Loss: 1.4761561674325645\n",
      "No improvement. Early stopping counter: 1/3\n",
      "\n",
      "Epoch 53\n"
     ]
    },
    {
     "name": "stderr",
     "output_type": "stream",
     "text": [
      "TRAINIGN: 100%|██████████| 587/587 [00:24<00:00, 24.34it/s]\n",
      "TESTING: 100%|██████████| 147/147 [00:06<00:00, 22.37it/s]\n"
     ]
    },
    {
     "name": "stdout",
     "output_type": "stream",
     "text": [
      "Train Acc: 0.4454 | Train Loss: 1.4244 | Test Acc: 0.4456 | Test Loss: 1.4874435371282149\n",
      "No improvement. Early stopping counter: 2/3\n",
      "\n",
      "Epoch 54\n"
     ]
    },
    {
     "name": "stderr",
     "output_type": "stream",
     "text": [
      "TRAINIGN: 100%|██████████| 587/587 [00:25<00:00, 23.26it/s]\n",
      "TESTING: 100%|██████████| 147/147 [00:06<00:00, 22.36it/s]\n"
     ]
    },
    {
     "name": "stdout",
     "output_type": "stream",
     "text": [
      "Train Acc: 0.4465 | Train Loss: 1.4233 | Test Acc: 0.4467 | Test Loss: 1.4994621625562914\n",
      "\n",
      "Epoch 55\n"
     ]
    },
    {
     "name": "stderr",
     "output_type": "stream",
     "text": [
      "TRAINIGN: 100%|██████████| 587/587 [00:25<00:00, 23.47it/s]\n",
      "TESTING: 100%|██████████| 147/147 [00:06<00:00, 22.52it/s]\n"
     ]
    },
    {
     "name": "stdout",
     "output_type": "stream",
     "text": [
      "Train Acc: 0.4475 | Train Loss: 1.4207 | Test Acc: 0.4477 | Test Loss: 1.4692258169861878\n",
      "No improvement. Early stopping counter: 1/3\n",
      "\n",
      "Epoch 56\n"
     ]
    },
    {
     "name": "stderr",
     "output_type": "stream",
     "text": [
      "TRAINIGN: 100%|██████████| 587/587 [00:23<00:00, 24.63it/s]\n",
      "TESTING: 100%|██████████| 147/147 [00:06<00:00, 23.34it/s]\n"
     ]
    },
    {
     "name": "stdout",
     "output_type": "stream",
     "text": [
      "Train Acc: 0.4485 | Train Loss: 1.4180 | Test Acc: 0.4487 | Test Loss: 1.4922307218824113\n",
      "No improvement. Early stopping counter: 2/3\n",
      "\n",
      "Epoch 57\n"
     ]
    },
    {
     "name": "stderr",
     "output_type": "stream",
     "text": [
      "TRAINIGN: 100%|██████████| 587/587 [00:24<00:00, 24.14it/s]\n",
      "TESTING: 100%|██████████| 147/147 [00:06<00:00, 23.32it/s]"
     ]
    },
    {
     "name": "stdout",
     "output_type": "stream",
     "text": [
      "Train Acc: 0.4495 | Train Loss: 1.4142 | Test Acc: 0.4496 | Test Loss: 1.4959788298120305\n",
      "No improvement. Early stopping counter: 3/3\n",
      "Early stopping triggered.\n"
     ]
    },
    {
     "name": "stderr",
     "output_type": "stream",
     "text": [
      "\n"
     ]
    }
   ],
   "source": [
    "device = torch.device(\"cuda\" if torch.cuda.is_available() else \"cpu\")\n",
    "model_multilayer_2 = BirdClassifier(cnn_state=False, dim= 256, layer_count=2, head_count = 1).to(device)\n",
    "criterion = nn.CrossEntropyLoss().to(device)\n",
    "optimizer = optim.Adam(model_multilayer_2.parameters(), lr=3e-4)\n",
    "accuracy_score = Accuracy(task = 'multiclass', num_classes = 10).to(device)\n",
    "\n",
    "\n",
    "patience = 3\n",
    "min_delta = 3e-3\n",
    "best_accuracy = 0\n",
    "counter = 0\n",
    "best_test_acc = 0\n",
    "\n",
    "loss_scores_train_multilayer_2 = []\n",
    "accuracy_scores_train_multilayer_2 = []\n",
    "\n",
    "loss_scores_test_multilayer_2 = []\n",
    "accuracy_scores_test_multilayer_2 = []\n",
    "\n",
    "for epoch in range(200):  \n",
    "    print(f\"\\nEpoch {epoch+1}\")\n",
    "    train_acc, train_loss = train_model(model_multilayer_2, training_dataset, criterion, optimizer, accuracy_score, device)\n",
    "    test_acc, test_loss = test_model(model_multilayer_2, testing_dataset, criterion, accuracy_score, device)\n",
    "    \n",
    "    accuracy_scores_train_multilayer_2.append(train_acc)\n",
    "    loss_scores_train_multilayer_2.append(train_loss)\n",
    "\n",
    "    accuracy_scores_test_multilayer_2.append(test_acc)\n",
    "    loss_scores_test_multilayer_2.append(test_loss)\n",
    "    print(f\"Train Acc: {train_acc:.4f} | Train Loss: {train_loss:.4f} | Test Acc: {test_acc:.4f} | Test Loss: {test_loss}\")\n",
    "    \n",
    "    if test_acc - best_test_acc > min_delta:\n",
    "        best_test_acc = test_acc\n",
    "        counter = 0\n",
    "    else:\n",
    "        counter += 1\n",
    "        print(f\"No improvement. Early stopping counter: {counter}/{patience}\")\n",
    "        if counter >= patience:\n",
    "            print(\"Early stopping triggered.\")\n",
    "            break"
   ]
  },
  {
   "cell_type": "markdown",
   "metadata": {},
   "source": [
    "4 layers"
   ]
  },
  {
   "cell_type": "code",
   "execution_count": 13,
   "metadata": {},
   "outputs": [
    {
     "name": "stdout",
     "output_type": "stream",
     "text": [
      "\n",
      "Epoch 1\n"
     ]
    },
    {
     "name": "stderr",
     "output_type": "stream",
     "text": [
      "TRAINIGN: 100%|██████████| 587/587 [00:24<00:00, 23.62it/s]\n",
      "TESTING: 100%|██████████| 147/147 [00:06<00:00, 22.53it/s]\n"
     ]
    },
    {
     "name": "stdout",
     "output_type": "stream",
     "text": [
      "Train Acc: 0.2690 | Train Loss: 2.0146 | Test Acc: 0.2840 | Test Loss: 1.8448884024911998\n",
      "\n",
      "Epoch 2\n"
     ]
    },
    {
     "name": "stderr",
     "output_type": "stream",
     "text": [
      "TRAINIGN: 100%|██████████| 587/587 [00:25<00:00, 22.93it/s]\n",
      "TESTING: 100%|██████████| 147/147 [00:06<00:00, 23.86it/s]\n"
     ]
    },
    {
     "name": "stdout",
     "output_type": "stream",
     "text": [
      "Train Acc: 0.3083 | Train Loss: 1.8535 | Test Acc: 0.3138 | Test Loss: 1.7962800450876457\n",
      "\n",
      "Epoch 3\n"
     ]
    },
    {
     "name": "stderr",
     "output_type": "stream",
     "text": [
      "TRAINIGN: 100%|██████████| 587/587 [00:24<00:00, 24.41it/s]\n",
      "TESTING: 100%|██████████| 147/147 [00:05<00:00, 24.64it/s]\n"
     ]
    },
    {
     "name": "stdout",
     "output_type": "stream",
     "text": [
      "Train Acc: 0.3282 | Train Loss: 1.7859 | Test Acc: 0.3318 | Test Loss: 1.7430940096070167\n",
      "\n",
      "Epoch 4\n"
     ]
    },
    {
     "name": "stderr",
     "output_type": "stream",
     "text": [
      "TRAINIGN: 100%|██████████| 587/587 [00:23<00:00, 25.03it/s]\n",
      "TESTING: 100%|██████████| 147/147 [00:06<00:00, 24.02it/s]\n"
     ]
    },
    {
     "name": "stdout",
     "output_type": "stream",
     "text": [
      "Train Acc: 0.3422 | Train Loss: 1.7451 | Test Acc: 0.3441 | Test Loss: 1.7868063855333394\n",
      "\n",
      "Epoch 5\n"
     ]
    },
    {
     "name": "stderr",
     "output_type": "stream",
     "text": [
      "TRAINIGN: 100%|██████████| 587/587 [00:25<00:00, 23.30it/s]\n",
      "TESTING: 100%|██████████| 147/147 [00:06<00:00, 21.20it/s]\n"
     ]
    },
    {
     "name": "stdout",
     "output_type": "stream",
     "text": [
      "Train Acc: 0.3521 | Train Loss: 1.7114 | Test Acc: 0.3541 | Test Loss: 1.7164161229620174\n",
      "\n",
      "Epoch 6\n"
     ]
    },
    {
     "name": "stderr",
     "output_type": "stream",
     "text": [
      "TRAINIGN: 100%|██████████| 587/587 [00:25<00:00, 22.58it/s]\n",
      "TESTING: 100%|██████████| 147/147 [00:06<00:00, 22.07it/s]\n"
     ]
    },
    {
     "name": "stdout",
     "output_type": "stream",
     "text": [
      "Train Acc: 0.3609 | Train Loss: 1.6819 | Test Acc: 0.3625 | Test Loss: 1.753816078309299\n",
      "\n",
      "Epoch 7\n"
     ]
    },
    {
     "name": "stderr",
     "output_type": "stream",
     "text": [
      "TRAINIGN: 100%|██████████| 587/587 [00:26<00:00, 22.02it/s]\n",
      "TESTING: 100%|██████████| 147/147 [00:06<00:00, 22.62it/s]\n"
     ]
    },
    {
     "name": "stdout",
     "output_type": "stream",
     "text": [
      "Train Acc: 0.3682 | Train Loss: 1.6606 | Test Acc: 0.3698 | Test Loss: 1.6520430474054246\n",
      "\n",
      "Epoch 8\n"
     ]
    },
    {
     "name": "stderr",
     "output_type": "stream",
     "text": [
      "TRAINIGN: 100%|██████████| 587/587 [00:25<00:00, 22.62it/s]\n",
      "TESTING: 100%|██████████| 147/147 [00:06<00:00, 23.11it/s]\n"
     ]
    },
    {
     "name": "stdout",
     "output_type": "stream",
     "text": [
      "Train Acc: 0.3751 | Train Loss: 1.6381 | Test Acc: 0.3767 | Test Loss: 1.6413907550630116\n",
      "\n",
      "Epoch 9\n"
     ]
    },
    {
     "name": "stderr",
     "output_type": "stream",
     "text": [
      "TRAINIGN: 100%|██████████| 587/587 [00:24<00:00, 23.69it/s]\n",
      "TESTING: 100%|██████████| 147/147 [00:06<00:00, 23.01it/s]\n"
     ]
    },
    {
     "name": "stdout",
     "output_type": "stream",
     "text": [
      "Train Acc: 0.3817 | Train Loss: 1.6119 | Test Acc: 0.3832 | Test Loss: 1.5783440312560724\n",
      "\n",
      "Epoch 10\n"
     ]
    },
    {
     "name": "stderr",
     "output_type": "stream",
     "text": [
      "TRAINIGN: 100%|██████████| 587/587 [00:25<00:00, 22.96it/s]\n",
      "TESTING: 100%|██████████| 147/147 [00:06<00:00, 22.53it/s]\n"
     ]
    },
    {
     "name": "stdout",
     "output_type": "stream",
     "text": [
      "Train Acc: 0.3876 | Train Loss: 1.5921 | Test Acc: 0.3888 | Test Loss: 1.610243092588827\n",
      "\n",
      "Epoch 11\n"
     ]
    },
    {
     "name": "stderr",
     "output_type": "stream",
     "text": [
      "TRAINIGN: 100%|██████████| 587/587 [00:25<00:00, 23.05it/s]\n",
      "TESTING: 100%|██████████| 147/147 [00:06<00:00, 23.37it/s]\n"
     ]
    },
    {
     "name": "stdout",
     "output_type": "stream",
     "text": [
      "Train Acc: 0.3931 | Train Loss: 1.5717 | Test Acc: 0.3944 | Test Loss: 1.5373573846557513\n",
      "\n",
      "Epoch 12\n"
     ]
    },
    {
     "name": "stderr",
     "output_type": "stream",
     "text": [
      "TRAINIGN: 100%|██████████| 587/587 [00:24<00:00, 23.51it/s]\n",
      "TESTING: 100%|██████████| 147/147 [00:06<00:00, 21.60it/s]\n"
     ]
    },
    {
     "name": "stdout",
     "output_type": "stream",
     "text": [
      "Train Acc: 0.3985 | Train Loss: 1.5563 | Test Acc: 0.3995 | Test Loss: 1.5559056899985488\n",
      "\n",
      "Epoch 13\n"
     ]
    },
    {
     "name": "stderr",
     "output_type": "stream",
     "text": [
      "TRAINIGN: 100%|██████████| 587/587 [00:26<00:00, 22.42it/s]\n",
      "TESTING: 100%|██████████| 147/147 [00:06<00:00, 23.07it/s]\n"
     ]
    },
    {
     "name": "stdout",
     "output_type": "stream",
     "text": [
      "Train Acc: 0.4033 | Train Loss: 1.5367 | Test Acc: 0.4043 | Test Loss: 1.535315726890045\n",
      "\n",
      "Epoch 14\n"
     ]
    },
    {
     "name": "stderr",
     "output_type": "stream",
     "text": [
      "TRAINIGN: 100%|██████████| 587/587 [00:25<00:00, 23.26it/s]\n",
      "TESTING: 100%|██████████| 147/147 [00:06<00:00, 22.00it/s]\n"
     ]
    },
    {
     "name": "stdout",
     "output_type": "stream",
     "text": [
      "Train Acc: 0.4080 | Train Loss: 1.5136 | Test Acc: 0.4089 | Test Loss: 1.5674011034219444\n",
      "\n",
      "Epoch 15\n"
     ]
    },
    {
     "name": "stderr",
     "output_type": "stream",
     "text": [
      "TRAINIGN: 100%|██████████| 587/587 [00:25<00:00, 23.08it/s]\n",
      "TESTING: 100%|██████████| 147/147 [00:06<00:00, 22.84it/s]\n"
     ]
    },
    {
     "name": "stdout",
     "output_type": "stream",
     "text": [
      "Train Acc: 0.4123 | Train Loss: 1.5032 | Test Acc: 0.4131 | Test Loss: 1.5589630676775563\n",
      "\n",
      "Epoch 16\n"
     ]
    },
    {
     "name": "stderr",
     "output_type": "stream",
     "text": [
      "TRAINIGN: 100%|██████████| 587/587 [00:24<00:00, 23.54it/s]\n",
      "TESTING: 100%|██████████| 147/147 [00:06<00:00, 22.05it/s]\n"
     ]
    },
    {
     "name": "stdout",
     "output_type": "stream",
     "text": [
      "Train Acc: 0.4163 | Train Loss: 1.4859 | Test Acc: 0.4173 | Test Loss: 1.4823604481560844\n",
      "\n",
      "Epoch 17\n"
     ]
    },
    {
     "name": "stderr",
     "output_type": "stream",
     "text": [
      "TRAINIGN: 100%|██████████| 587/587 [00:24<00:00, 23.96it/s]\n",
      "TESTING: 100%|██████████| 147/147 [00:06<00:00, 22.82it/s]\n"
     ]
    },
    {
     "name": "stdout",
     "output_type": "stream",
     "text": [
      "Train Acc: 0.4204 | Train Loss: 1.4763 | Test Acc: 0.4211 | Test Loss: 1.601205091898133\n",
      "\n",
      "Epoch 18\n"
     ]
    },
    {
     "name": "stderr",
     "output_type": "stream",
     "text": [
      "TRAINIGN: 100%|██████████| 587/587 [00:24<00:00, 24.02it/s]\n",
      "TESTING: 100%|██████████| 147/147 [00:06<00:00, 23.17it/s]\n"
     ]
    },
    {
     "name": "stdout",
     "output_type": "stream",
     "text": [
      "Train Acc: 0.4241 | Train Loss: 1.4582 | Test Acc: 0.4249 | Test Loss: 1.501180428225978\n",
      "\n",
      "Epoch 19\n"
     ]
    },
    {
     "name": "stderr",
     "output_type": "stream",
     "text": [
      "TRAINIGN: 100%|██████████| 587/587 [00:25<00:00, 22.94it/s]\n",
      "TESTING: 100%|██████████| 147/147 [00:06<00:00, 21.97it/s]\n"
     ]
    },
    {
     "name": "stdout",
     "output_type": "stream",
     "text": [
      "Train Acc: 0.4279 | Train Loss: 1.4407 | Test Acc: 0.4285 | Test Loss: 1.560676503343647\n",
      "\n",
      "Epoch 20\n"
     ]
    },
    {
     "name": "stderr",
     "output_type": "stream",
     "text": [
      "TRAINIGN: 100%|██████████| 587/587 [00:25<00:00, 22.71it/s]\n",
      "TESTING: 100%|██████████| 147/147 [00:06<00:00, 24.09it/s]\n"
     ]
    },
    {
     "name": "stdout",
     "output_type": "stream",
     "text": [
      "Train Acc: 0.4313 | Train Loss: 1.4336 | Test Acc: 0.4322 | Test Loss: 1.4566113681209332\n",
      "\n",
      "Epoch 21\n"
     ]
    },
    {
     "name": "stderr",
     "output_type": "stream",
     "text": [
      "TRAINIGN: 100%|██████████| 587/587 [00:25<00:00, 23.14it/s]\n",
      "TESTING: 100%|██████████| 147/147 [00:06<00:00, 23.39it/s]\n"
     ]
    },
    {
     "name": "stdout",
     "output_type": "stream",
     "text": [
      "Train Acc: 0.4351 | Train Loss: 1.4134 | Test Acc: 0.4357 | Test Loss: 1.490702635576936\n",
      "\n",
      "Epoch 22\n"
     ]
    },
    {
     "name": "stderr",
     "output_type": "stream",
     "text": [
      "TRAINIGN: 100%|██████████| 587/587 [00:24<00:00, 23.82it/s]\n",
      "TESTING: 100%|██████████| 147/147 [00:06<00:00, 23.30it/s]\n"
     ]
    },
    {
     "name": "stdout",
     "output_type": "stream",
     "text": [
      "Train Acc: 0.4384 | Train Loss: 1.4046 | Test Acc: 0.4391 | Test Loss: 1.4261985709067104\n",
      "\n",
      "Epoch 23\n"
     ]
    },
    {
     "name": "stderr",
     "output_type": "stream",
     "text": [
      "TRAINIGN: 100%|██████████| 587/587 [00:25<00:00, 23.24it/s]\n",
      "TESTING: 100%|██████████| 147/147 [00:06<00:00, 21.94it/s]\n"
     ]
    },
    {
     "name": "stdout",
     "output_type": "stream",
     "text": [
      "Train Acc: 0.4418 | Train Loss: 1.3884 | Test Acc: 0.4424 | Test Loss: 1.4449770677657354\n",
      "\n",
      "Epoch 24\n"
     ]
    },
    {
     "name": "stderr",
     "output_type": "stream",
     "text": [
      "TRAINIGN: 100%|██████████| 587/587 [00:24<00:00, 24.23it/s]\n",
      "TESTING: 100%|██████████| 147/147 [00:06<00:00, 23.34it/s]\n"
     ]
    },
    {
     "name": "stdout",
     "output_type": "stream",
     "text": [
      "Train Acc: 0.4450 | Train Loss: 1.3750 | Test Acc: 0.4455 | Test Loss: 1.4681685546628471\n",
      "\n",
      "Epoch 25\n"
     ]
    },
    {
     "name": "stderr",
     "output_type": "stream",
     "text": [
      "TRAINIGN: 100%|██████████| 587/587 [00:25<00:00, 22.88it/s]\n",
      "TESTING: 100%|██████████| 147/147 [00:06<00:00, 21.95it/s]\n"
     ]
    },
    {
     "name": "stdout",
     "output_type": "stream",
     "text": [
      "Train Acc: 0.4481 | Train Loss: 1.3678 | Test Acc: 0.4486 | Test Loss: 1.4496640283234266\n",
      "\n",
      "Epoch 26\n"
     ]
    },
    {
     "name": "stderr",
     "output_type": "stream",
     "text": [
      "TRAINIGN: 100%|██████████| 587/587 [00:25<00:00, 22.63it/s]\n",
      "TESTING: 100%|██████████| 147/147 [00:06<00:00, 21.06it/s]\n"
     ]
    },
    {
     "name": "stdout",
     "output_type": "stream",
     "text": [
      "Train Acc: 0.4510 | Train Loss: 1.3612 | Test Acc: 0.4515 | Test Loss: 1.438807417746304\n",
      "No improvement. Early stopping counter: 1/3\n",
      "\n",
      "Epoch 27\n"
     ]
    },
    {
     "name": "stderr",
     "output_type": "stream",
     "text": [
      "TRAINIGN: 100%|██████████| 587/587 [00:23<00:00, 25.05it/s]\n",
      "TESTING: 100%|██████████| 147/147 [00:05<00:00, 25.81it/s]\n"
     ]
    },
    {
     "name": "stdout",
     "output_type": "stream",
     "text": [
      "Train Acc: 0.4539 | Train Loss: 1.3440 | Test Acc: 0.4545 | Test Loss: 1.410063850636385\n",
      "\n",
      "Epoch 28\n"
     ]
    },
    {
     "name": "stderr",
     "output_type": "stream",
     "text": [
      "TRAINIGN: 100%|██████████| 587/587 [00:22<00:00, 25.83it/s]\n",
      "TESTING: 100%|██████████| 147/147 [00:05<00:00, 24.84it/s]\n"
     ]
    },
    {
     "name": "stdout",
     "output_type": "stream",
     "text": [
      "Train Acc: 0.4568 | Train Loss: 1.3356 | Test Acc: 0.4573 | Test Loss: 1.4130532336072856\n",
      "No improvement. Early stopping counter: 1/3\n",
      "\n",
      "Epoch 29\n"
     ]
    },
    {
     "name": "stderr",
     "output_type": "stream",
     "text": [
      "TRAINIGN: 100%|██████████| 587/587 [00:22<00:00, 25.54it/s]\n",
      "TESTING: 100%|██████████| 147/147 [00:06<00:00, 22.98it/s]\n"
     ]
    },
    {
     "name": "stdout",
     "output_type": "stream",
     "text": [
      "Train Acc: 0.4596 | Train Loss: 1.3266 | Test Acc: 0.4601 | Test Loss: 1.3816759136258339\n",
      "\n",
      "Epoch 30\n"
     ]
    },
    {
     "name": "stderr",
     "output_type": "stream",
     "text": [
      "TRAINIGN: 100%|██████████| 587/587 [00:23<00:00, 24.75it/s]\n",
      "TESTING: 100%|██████████| 147/147 [00:06<00:00, 22.42it/s]\n"
     ]
    },
    {
     "name": "stdout",
     "output_type": "stream",
     "text": [
      "Train Acc: 0.4623 | Train Loss: 1.3152 | Test Acc: 0.4627 | Test Loss: 1.4332294780380872\n",
      "No improvement. Early stopping counter: 1/3\n",
      "\n",
      "Epoch 31\n"
     ]
    },
    {
     "name": "stderr",
     "output_type": "stream",
     "text": [
      "TRAINIGN: 100%|██████████| 587/587 [00:23<00:00, 24.56it/s]\n",
      "TESTING: 100%|██████████| 147/147 [00:05<00:00, 25.07it/s]\n"
     ]
    },
    {
     "name": "stdout",
     "output_type": "stream",
     "text": [
      "Train Acc: 0.4649 | Train Loss: 1.3081 | Test Acc: 0.4653 | Test Loss: 1.395164703025299\n",
      "\n",
      "Epoch 32\n"
     ]
    },
    {
     "name": "stderr",
     "output_type": "stream",
     "text": [
      "TRAINIGN: 100%|██████████| 587/587 [00:22<00:00, 25.89it/s]\n",
      "TESTING: 100%|██████████| 147/147 [00:05<00:00, 24.54it/s]\n"
     ]
    },
    {
     "name": "stdout",
     "output_type": "stream",
     "text": [
      "Train Acc: 0.4675 | Train Loss: 1.2997 | Test Acc: 0.4680 | Test Loss: 1.3789855168790233\n",
      "No improvement. Early stopping counter: 1/3\n",
      "\n",
      "Epoch 33\n"
     ]
    },
    {
     "name": "stderr",
     "output_type": "stream",
     "text": [
      "TRAINIGN: 100%|██████████| 587/587 [00:22<00:00, 26.12it/s]\n",
      "TESTING: 100%|██████████| 147/147 [00:05<00:00, 26.09it/s]\n"
     ]
    },
    {
     "name": "stdout",
     "output_type": "stream",
     "text": [
      "Train Acc: 0.4700 | Train Loss: 1.2894 | Test Acc: 0.4705 | Test Loss: 1.3472701862555783\n",
      "\n",
      "Epoch 34\n"
     ]
    },
    {
     "name": "stderr",
     "output_type": "stream",
     "text": [
      "TRAINIGN: 100%|██████████| 587/587 [00:22<00:00, 26.04it/s]\n",
      "TESTING: 100%|██████████| 147/147 [00:06<00:00, 22.72it/s]\n"
     ]
    },
    {
     "name": "stdout",
     "output_type": "stream",
     "text": [
      "Train Acc: 0.4725 | Train Loss: 1.2811 | Test Acc: 0.4730 | Test Loss: 1.3603373259103217\n",
      "No improvement. Early stopping counter: 1/3\n",
      "\n",
      "Epoch 35\n"
     ]
    },
    {
     "name": "stderr",
     "output_type": "stream",
     "text": [
      "TRAINIGN: 100%|██████████| 587/587 [00:23<00:00, 25.20it/s]\n",
      "TESTING: 100%|██████████| 147/147 [00:06<00:00, 22.22it/s]\n"
     ]
    },
    {
     "name": "stdout",
     "output_type": "stream",
     "text": [
      "Train Acc: 0.4749 | Train Loss: 1.2742 | Test Acc: 0.4753 | Test Loss: 1.4050693734973467\n",
      "\n",
      "Epoch 36\n"
     ]
    },
    {
     "name": "stderr",
     "output_type": "stream",
     "text": [
      "TRAINIGN: 100%|██████████| 587/587 [00:23<00:00, 25.32it/s]\n",
      "TESTING: 100%|██████████| 147/147 [00:05<00:00, 25.24it/s]\n"
     ]
    },
    {
     "name": "stdout",
     "output_type": "stream",
     "text": [
      "Train Acc: 0.4772 | Train Loss: 1.2613 | Test Acc: 0.4775 | Test Loss: 1.4102716397266\n",
      "No improvement. Early stopping counter: 1/3\n",
      "\n",
      "Epoch 37\n"
     ]
    },
    {
     "name": "stderr",
     "output_type": "stream",
     "text": [
      "TRAINIGN: 100%|██████████| 587/587 [00:22<00:00, 26.38it/s]\n",
      "TESTING: 100%|██████████| 147/147 [00:06<00:00, 23.93it/s]\n"
     ]
    },
    {
     "name": "stdout",
     "output_type": "stream",
     "text": [
      "Train Acc: 0.4794 | Train Loss: 1.2529 | Test Acc: 0.4798 | Test Loss: 1.3451286039384855\n",
      "\n",
      "Epoch 38\n"
     ]
    },
    {
     "name": "stderr",
     "output_type": "stream",
     "text": [
      "TRAINIGN: 100%|██████████| 587/587 [00:21<00:00, 26.79it/s]\n",
      "TESTING: 100%|██████████| 147/147 [00:06<00:00, 23.98it/s]\n"
     ]
    },
    {
     "name": "stdout",
     "output_type": "stream",
     "text": [
      "Train Acc: 0.4816 | Train Loss: 1.2441 | Test Acc: 0.4821 | Test Loss: 1.3253668639935603\n",
      "No improvement. Early stopping counter: 1/3\n",
      "\n",
      "Epoch 39\n"
     ]
    },
    {
     "name": "stderr",
     "output_type": "stream",
     "text": [
      "TRAINIGN: 100%|██████████| 587/587 [00:23<00:00, 24.79it/s]\n",
      "TESTING: 100%|██████████| 147/147 [00:06<00:00, 23.45it/s]\n"
     ]
    },
    {
     "name": "stdout",
     "output_type": "stream",
     "text": [
      "Train Acc: 0.4839 | Train Loss: 1.2346 | Test Acc: 0.4842 | Test Loss: 1.3904964644081739\n",
      "\n",
      "Epoch 40\n"
     ]
    },
    {
     "name": "stderr",
     "output_type": "stream",
     "text": [
      "TRAINIGN: 100%|██████████| 587/587 [00:22<00:00, 25.61it/s]\n",
      "TESTING: 100%|██████████| 147/147 [00:06<00:00, 23.37it/s]\n"
     ]
    },
    {
     "name": "stdout",
     "output_type": "stream",
     "text": [
      "Train Acc: 0.4860 | Train Loss: 1.2331 | Test Acc: 0.4864 | Test Loss: 1.3681372570342758\n",
      "No improvement. Early stopping counter: 1/3\n",
      "\n",
      "Epoch 41\n"
     ]
    },
    {
     "name": "stderr",
     "output_type": "stream",
     "text": [
      "TRAINIGN: 100%|██████████| 587/587 [00:22<00:00, 25.59it/s]\n",
      "TESTING: 100%|██████████| 147/147 [00:06<00:00, 21.78it/s]\n"
     ]
    },
    {
     "name": "stdout",
     "output_type": "stream",
     "text": [
      "Train Acc: 0.4881 | Train Loss: 1.2258 | Test Acc: 0.4885 | Test Loss: 1.3190745257195973\n",
      "\n",
      "Epoch 42\n"
     ]
    },
    {
     "name": "stderr",
     "output_type": "stream",
     "text": [
      "TRAINIGN: 100%|██████████| 587/587 [00:23<00:00, 25.10it/s]\n",
      "TESTING: 100%|██████████| 147/147 [00:05<00:00, 25.08it/s]\n"
     ]
    },
    {
     "name": "stdout",
     "output_type": "stream",
     "text": [
      "Train Acc: 0.4902 | Train Loss: 1.2172 | Test Acc: 0.4905 | Test Loss: 1.3136463513990648\n",
      "No improvement. Early stopping counter: 1/3\n",
      "\n",
      "Epoch 43\n"
     ]
    },
    {
     "name": "stderr",
     "output_type": "stream",
     "text": [
      "TRAINIGN: 100%|██████████| 587/587 [00:22<00:00, 25.58it/s]\n",
      "TESTING: 100%|██████████| 147/147 [00:05<00:00, 25.16it/s]\n"
     ]
    },
    {
     "name": "stdout",
     "output_type": "stream",
     "text": [
      "Train Acc: 0.4922 | Train Loss: 1.2069 | Test Acc: 0.4926 | Test Loss: 1.3155285582250478\n",
      "\n",
      "Epoch 44\n"
     ]
    },
    {
     "name": "stderr",
     "output_type": "stream",
     "text": [
      "TRAINIGN: 100%|██████████| 587/587 [00:24<00:00, 23.93it/s]\n",
      "TESTING: 100%|██████████| 147/147 [00:06<00:00, 22.03it/s]\n"
     ]
    },
    {
     "name": "stdout",
     "output_type": "stream",
     "text": [
      "Train Acc: 0.4942 | Train Loss: 1.2074 | Test Acc: 0.4946 | Test Loss: 1.2875590612288235\n",
      "No improvement. Early stopping counter: 1/3\n",
      "\n",
      "Epoch 45\n"
     ]
    },
    {
     "name": "stderr",
     "output_type": "stream",
     "text": [
      "TRAINIGN: 100%|██████████| 587/587 [00:22<00:00, 25.80it/s]\n",
      "TESTING: 100%|██████████| 147/147 [00:05<00:00, 25.25it/s]\n"
     ]
    },
    {
     "name": "stdout",
     "output_type": "stream",
     "text": [
      "Train Acc: 0.4961 | Train Loss: 1.1994 | Test Acc: 0.4965 | Test Loss: 1.2947454359255681\n",
      "\n",
      "Epoch 46\n"
     ]
    },
    {
     "name": "stderr",
     "output_type": "stream",
     "text": [
      "TRAINIGN: 100%|██████████| 587/587 [00:23<00:00, 24.78it/s]\n",
      "TESTING: 100%|██████████| 147/147 [00:06<00:00, 22.54it/s]\n"
     ]
    },
    {
     "name": "stdout",
     "output_type": "stream",
     "text": [
      "Train Acc: 0.4981 | Train Loss: 1.1849 | Test Acc: 0.4985 | Test Loss: 1.2758692125884854\n",
      "No improvement. Early stopping counter: 1/3\n",
      "\n",
      "Epoch 47\n"
     ]
    },
    {
     "name": "stderr",
     "output_type": "stream",
     "text": [
      "TRAINIGN: 100%|██████████| 587/587 [00:22<00:00, 25.95it/s]\n",
      "TESTING: 100%|██████████| 147/147 [00:06<00:00, 23.22it/s]\n"
     ]
    },
    {
     "name": "stdout",
     "output_type": "stream",
     "text": [
      "Train Acc: 0.5000 | Train Loss: 1.1848 | Test Acc: 0.5003 | Test Loss: 1.317072567080154\n",
      "\n",
      "Epoch 48\n"
     ]
    },
    {
     "name": "stderr",
     "output_type": "stream",
     "text": [
      "TRAINIGN: 100%|██████████| 587/587 [00:24<00:00, 24.42it/s]\n",
      "TESTING: 100%|██████████| 147/147 [00:06<00:00, 22.68it/s]\n"
     ]
    },
    {
     "name": "stdout",
     "output_type": "stream",
     "text": [
      "Train Acc: 0.5018 | Train Loss: 1.1814 | Test Acc: 0.5022 | Test Loss: 1.3189718662476053\n",
      "No improvement. Early stopping counter: 1/3\n",
      "\n",
      "Epoch 49\n"
     ]
    },
    {
     "name": "stderr",
     "output_type": "stream",
     "text": [
      "TRAINIGN: 100%|██████████| 587/587 [00:22<00:00, 25.89it/s]\n",
      "TESTING: 100%|██████████| 147/147 [00:06<00:00, 23.80it/s]\n"
     ]
    },
    {
     "name": "stdout",
     "output_type": "stream",
     "text": [
      "Train Acc: 0.5036 | Train Loss: 1.1790 | Test Acc: 0.5038 | Test Loss: 1.4082560008074962\n",
      "\n",
      "Epoch 50\n"
     ]
    },
    {
     "name": "stderr",
     "output_type": "stream",
     "text": [
      "TRAINIGN: 100%|██████████| 587/587 [00:23<00:00, 24.81it/s]\n",
      "TESTING: 100%|██████████| 147/147 [00:06<00:00, 22.84it/s]\n"
     ]
    },
    {
     "name": "stdout",
     "output_type": "stream",
     "text": [
      "Train Acc: 0.5053 | Train Loss: 1.1661 | Test Acc: 0.5056 | Test Loss: 1.3063448095808223\n",
      "No improvement. Early stopping counter: 1/3\n",
      "\n",
      "Epoch 51\n"
     ]
    },
    {
     "name": "stderr",
     "output_type": "stream",
     "text": [
      "TRAINIGN: 100%|██████████| 587/587 [00:24<00:00, 24.36it/s]\n",
      "TESTING: 100%|██████████| 147/147 [00:06<00:00, 22.03it/s]\n"
     ]
    },
    {
     "name": "stdout",
     "output_type": "stream",
     "text": [
      "Train Acc: 0.5071 | Train Loss: 1.1654 | Test Acc: 0.5074 | Test Loss: 1.2562043228927924\n",
      "\n",
      "Epoch 52\n"
     ]
    },
    {
     "name": "stderr",
     "output_type": "stream",
     "text": [
      "TRAINIGN: 100%|██████████| 587/587 [00:26<00:00, 21.88it/s]\n",
      "TESTING: 100%|██████████| 147/147 [00:06<00:00, 22.64it/s]\n"
     ]
    },
    {
     "name": "stdout",
     "output_type": "stream",
     "text": [
      "Train Acc: 0.5088 | Train Loss: 1.1547 | Test Acc: 0.5091 | Test Loss: 1.240522324633436\n",
      "No improvement. Early stopping counter: 1/3\n",
      "\n",
      "Epoch 53\n"
     ]
    },
    {
     "name": "stderr",
     "output_type": "stream",
     "text": [
      "TRAINIGN: 100%|██████████| 587/587 [00:24<00:00, 23.76it/s]\n",
      "TESTING: 100%|██████████| 147/147 [00:06<00:00, 24.34it/s]\n"
     ]
    },
    {
     "name": "stdout",
     "output_type": "stream",
     "text": [
      "Train Acc: 0.5105 | Train Loss: 1.1470 | Test Acc: 0.5108 | Test Loss: 1.2656504503723716\n",
      "\n",
      "Epoch 54\n"
     ]
    },
    {
     "name": "stderr",
     "output_type": "stream",
     "text": [
      "TRAINIGN: 100%|██████████| 587/587 [00:24<00:00, 24.01it/s]\n",
      "TESTING: 100%|██████████| 147/147 [00:06<00:00, 22.90it/s]\n"
     ]
    },
    {
     "name": "stdout",
     "output_type": "stream",
     "text": [
      "Train Acc: 0.5122 | Train Loss: 1.1434 | Test Acc: 0.5125 | Test Loss: 1.2594000924201239\n",
      "No improvement. Early stopping counter: 1/3\n",
      "\n",
      "Epoch 55\n"
     ]
    },
    {
     "name": "stderr",
     "output_type": "stream",
     "text": [
      "TRAINIGN: 100%|██████████| 587/587 [00:25<00:00, 23.00it/s]\n",
      "TESTING: 100%|██████████| 147/147 [00:06<00:00, 22.49it/s]\n"
     ]
    },
    {
     "name": "stdout",
     "output_type": "stream",
     "text": [
      "Train Acc: 0.5139 | Train Loss: 1.1423 | Test Acc: 0.5141 | Test Loss: 1.2282183198701768\n",
      "\n",
      "Epoch 56\n"
     ]
    },
    {
     "name": "stderr",
     "output_type": "stream",
     "text": [
      "TRAINIGN: 100%|██████████| 587/587 [00:24<00:00, 24.28it/s]\n",
      "TESTING: 100%|██████████| 147/147 [00:06<00:00, 22.88it/s]\n"
     ]
    },
    {
     "name": "stdout",
     "output_type": "stream",
     "text": [
      "Train Acc: 0.5155 | Train Loss: 1.1312 | Test Acc: 0.5157 | Test Loss: 1.3031811418176509\n",
      "No improvement. Early stopping counter: 1/3\n",
      "\n",
      "Epoch 57\n"
     ]
    },
    {
     "name": "stderr",
     "output_type": "stream",
     "text": [
      "TRAINIGN: 100%|██████████| 587/587 [00:25<00:00, 23.33it/s]\n",
      "TESTING: 100%|██████████| 147/147 [00:06<00:00, 22.61it/s]\n"
     ]
    },
    {
     "name": "stdout",
     "output_type": "stream",
     "text": [
      "Train Acc: 0.5171 | Train Loss: 1.1262 | Test Acc: 0.5173 | Test Loss: 1.2468703672999428\n",
      "\n",
      "Epoch 58\n"
     ]
    },
    {
     "name": "stderr",
     "output_type": "stream",
     "text": [
      "TRAINIGN: 100%|██████████| 587/587 [00:25<00:00, 23.01it/s]\n",
      "TESTING: 100%|██████████| 147/147 [00:06<00:00, 22.51it/s]\n"
     ]
    },
    {
     "name": "stdout",
     "output_type": "stream",
     "text": [
      "Train Acc: 0.5186 | Train Loss: 1.1238 | Test Acc: 0.5188 | Test Loss: 1.3537516326320416\n",
      "No improvement. Early stopping counter: 1/3\n",
      "\n",
      "Epoch 59\n"
     ]
    },
    {
     "name": "stderr",
     "output_type": "stream",
     "text": [
      "TRAINIGN: 100%|██████████| 587/587 [00:24<00:00, 23.77it/s]\n",
      "TESTING: 100%|██████████| 147/147 [00:06<00:00, 22.53it/s]\n"
     ]
    },
    {
     "name": "stdout",
     "output_type": "stream",
     "text": [
      "Train Acc: 0.5201 | Train Loss: 1.1136 | Test Acc: 0.5203 | Test Loss: 1.268133637856464\n",
      "No improvement. Early stopping counter: 2/3\n",
      "\n",
      "Epoch 60\n"
     ]
    },
    {
     "name": "stderr",
     "output_type": "stream",
     "text": [
      "TRAINIGN: 100%|██████████| 587/587 [00:24<00:00, 23.73it/s]\n",
      "TESTING: 100%|██████████| 147/147 [00:06<00:00, 23.83it/s]\n"
     ]
    },
    {
     "name": "stdout",
     "output_type": "stream",
     "text": [
      "Train Acc: 0.5216 | Train Loss: 1.1108 | Test Acc: 0.5218 | Test Loss: 1.2436442071077776\n",
      "\n",
      "Epoch 61\n"
     ]
    },
    {
     "name": "stderr",
     "output_type": "stream",
     "text": [
      "TRAINIGN: 100%|██████████| 587/587 [00:24<00:00, 24.36it/s]\n",
      "TESTING: 100%|██████████| 147/147 [00:06<00:00, 23.13it/s]\n"
     ]
    },
    {
     "name": "stdout",
     "output_type": "stream",
     "text": [
      "Train Acc: 0.5231 | Train Loss: 1.1075 | Test Acc: 0.5233 | Test Loss: 1.2127080624606335\n",
      "No improvement. Early stopping counter: 1/3\n",
      "\n",
      "Epoch 62\n"
     ]
    },
    {
     "name": "stderr",
     "output_type": "stream",
     "text": [
      "TRAINIGN: 100%|██████████| 587/587 [00:24<00:00, 23.60it/s]\n",
      "TESTING: 100%|██████████| 147/147 [00:06<00:00, 23.29it/s]\n"
     ]
    },
    {
     "name": "stdout",
     "output_type": "stream",
     "text": [
      "Train Acc: 0.5245 | Train Loss: 1.1050 | Test Acc: 0.5247 | Test Loss: 1.2692996137807158\n",
      "No improvement. Early stopping counter: 2/3\n",
      "\n",
      "Epoch 63\n"
     ]
    },
    {
     "name": "stderr",
     "output_type": "stream",
     "text": [
      "TRAINIGN: 100%|██████████| 587/587 [00:26<00:00, 22.17it/s]\n",
      "TESTING: 100%|██████████| 147/147 [00:06<00:00, 22.58it/s]\n"
     ]
    },
    {
     "name": "stdout",
     "output_type": "stream",
     "text": [
      "Train Acc: 0.5259 | Train Loss: 1.0947 | Test Acc: 0.5261 | Test Loss: 1.3380639111103654\n",
      "\n",
      "Epoch 64\n"
     ]
    },
    {
     "name": "stderr",
     "output_type": "stream",
     "text": [
      "TRAINIGN: 100%|██████████| 587/587 [00:26<00:00, 22.55it/s]\n",
      "TESTING: 100%|██████████| 147/147 [00:06<00:00, 21.27it/s]\n"
     ]
    },
    {
     "name": "stdout",
     "output_type": "stream",
     "text": [
      "Train Acc: 0.5273 | Train Loss: 1.0894 | Test Acc: 0.5275 | Test Loss: 1.2144947781854747\n",
      "No improvement. Early stopping counter: 1/3\n",
      "\n",
      "Epoch 65\n"
     ]
    },
    {
     "name": "stderr",
     "output_type": "stream",
     "text": [
      "TRAINIGN: 100%|██████████| 587/587 [00:25<00:00, 22.59it/s]\n",
      "TESTING: 100%|██████████| 147/147 [00:06<00:00, 22.93it/s]\n"
     ]
    },
    {
     "name": "stdout",
     "output_type": "stream",
     "text": [
      "Train Acc: 0.5287 | Train Loss: 1.0898 | Test Acc: 0.5289 | Test Loss: 1.2215997698355694\n",
      "No improvement. Early stopping counter: 2/3\n",
      "\n",
      "Epoch 66\n"
     ]
    },
    {
     "name": "stderr",
     "output_type": "stream",
     "text": [
      "TRAINIGN: 100%|██████████| 587/587 [00:25<00:00, 23.27it/s]\n",
      "TESTING: 100%|██████████| 147/147 [00:06<00:00, 21.71it/s]\n"
     ]
    },
    {
     "name": "stdout",
     "output_type": "stream",
     "text": [
      "Train Acc: 0.5301 | Train Loss: 1.0774 | Test Acc: 0.5303 | Test Loss: 1.2304644329207284\n",
      "\n",
      "Epoch 67\n"
     ]
    },
    {
     "name": "stderr",
     "output_type": "stream",
     "text": [
      "TRAINIGN: 100%|██████████| 587/587 [00:25<00:00, 23.10it/s]\n",
      "TESTING: 100%|██████████| 147/147 [00:06<00:00, 21.69it/s]\n"
     ]
    },
    {
     "name": "stdout",
     "output_type": "stream",
     "text": [
      "Train Acc: 0.5315 | Train Loss: 1.0727 | Test Acc: 0.5317 | Test Loss: 1.2294419667347758\n",
      "No improvement. Early stopping counter: 1/3\n",
      "\n",
      "Epoch 68\n"
     ]
    },
    {
     "name": "stderr",
     "output_type": "stream",
     "text": [
      "TRAINIGN: 100%|██████████| 587/587 [00:25<00:00, 23.27it/s]\n",
      "TESTING: 100%|██████████| 147/147 [00:06<00:00, 22.26it/s]\n"
     ]
    },
    {
     "name": "stdout",
     "output_type": "stream",
     "text": [
      "Train Acc: 0.5329 | Train Loss: 1.0716 | Test Acc: 0.5331 | Test Loss: 1.209237939646455\n",
      "No improvement. Early stopping counter: 2/3\n",
      "\n",
      "Epoch 69\n"
     ]
    },
    {
     "name": "stderr",
     "output_type": "stream",
     "text": [
      "TRAINIGN: 100%|██████████| 587/587 [00:24<00:00, 23.70it/s]\n",
      "TESTING: 100%|██████████| 147/147 [00:06<00:00, 22.34it/s]\n"
     ]
    },
    {
     "name": "stdout",
     "output_type": "stream",
     "text": [
      "Train Acc: 0.5342 | Train Loss: 1.0708 | Test Acc: 0.5344 | Test Loss: 1.1981178015267768\n",
      "\n",
      "Epoch 70\n"
     ]
    },
    {
     "name": "stderr",
     "output_type": "stream",
     "text": [
      "TRAINIGN: 100%|██████████| 587/587 [00:24<00:00, 23.68it/s]\n",
      "TESTING: 100%|██████████| 147/147 [00:06<00:00, 23.33it/s]\n"
     ]
    },
    {
     "name": "stdout",
     "output_type": "stream",
     "text": [
      "Train Acc: 0.5355 | Train Loss: 1.0649 | Test Acc: 0.5357 | Test Loss: 1.2241459087449678\n",
      "No improvement. Early stopping counter: 1/3\n",
      "\n",
      "Epoch 71\n"
     ]
    },
    {
     "name": "stderr",
     "output_type": "stream",
     "text": [
      "TRAINIGN: 100%|██████████| 587/587 [00:24<00:00, 23.48it/s]\n",
      "TESTING: 100%|██████████| 147/147 [00:06<00:00, 22.38it/s]\n"
     ]
    },
    {
     "name": "stdout",
     "output_type": "stream",
     "text": [
      "Train Acc: 0.5368 | Train Loss: 1.0605 | Test Acc: 0.5370 | Test Loss: 1.1929603985377721\n",
      "No improvement. Early stopping counter: 2/3\n",
      "\n",
      "Epoch 72\n"
     ]
    },
    {
     "name": "stderr",
     "output_type": "stream",
     "text": [
      "TRAINIGN: 100%|██████████| 587/587 [00:25<00:00, 23.22it/s]\n",
      "TESTING: 100%|██████████| 147/147 [00:06<00:00, 23.51it/s]\n"
     ]
    },
    {
     "name": "stdout",
     "output_type": "stream",
     "text": [
      "Train Acc: 0.5381 | Train Loss: 1.0523 | Test Acc: 0.5382 | Test Loss: 1.3215191173715657\n",
      "\n",
      "Epoch 73\n"
     ]
    },
    {
     "name": "stderr",
     "output_type": "stream",
     "text": [
      "TRAINIGN: 100%|██████████| 587/587 [00:26<00:00, 22.55it/s]\n",
      "TESTING: 100%|██████████| 147/147 [00:06<00:00, 21.74it/s]\n"
     ]
    },
    {
     "name": "stdout",
     "output_type": "stream",
     "text": [
      "Train Acc: 0.5392 | Train Loss: 1.0567 | Test Acc: 0.5394 | Test Loss: 1.2164646849340321\n",
      "No improvement. Early stopping counter: 1/3\n",
      "\n",
      "Epoch 74\n"
     ]
    },
    {
     "name": "stderr",
     "output_type": "stream",
     "text": [
      "TRAINIGN: 100%|██████████| 587/587 [00:26<00:00, 22.47it/s]\n",
      "TESTING: 100%|██████████| 147/147 [00:06<00:00, 22.07it/s]\n"
     ]
    },
    {
     "name": "stdout",
     "output_type": "stream",
     "text": [
      "Train Acc: 0.5405 | Train Loss: 1.0496 | Test Acc: 0.5406 | Test Loss: 1.2495470687645633\n",
      "No improvement. Early stopping counter: 2/3\n",
      "\n",
      "Epoch 75\n"
     ]
    },
    {
     "name": "stderr",
     "output_type": "stream",
     "text": [
      "TRAINIGN: 100%|██████████| 587/587 [00:25<00:00, 22.91it/s]\n",
      "TESTING: 100%|██████████| 147/147 [00:06<00:00, 22.59it/s]\n"
     ]
    },
    {
     "name": "stdout",
     "output_type": "stream",
     "text": [
      "Train Acc: 0.5416 | Train Loss: 1.0447 | Test Acc: 0.5418 | Test Loss: 1.209209404429611\n",
      "\n",
      "Epoch 76\n"
     ]
    },
    {
     "name": "stderr",
     "output_type": "stream",
     "text": [
      "TRAINIGN: 100%|██████████| 587/587 [00:25<00:00, 22.70it/s]\n",
      "TESTING: 100%|██████████| 147/147 [00:06<00:00, 22.75it/s]\n"
     ]
    },
    {
     "name": "stdout",
     "output_type": "stream",
     "text": [
      "Train Acc: 0.5429 | Train Loss: 1.0351 | Test Acc: 0.5430 | Test Loss: 1.2470355070367152\n",
      "No improvement. Early stopping counter: 1/3\n",
      "\n",
      "Epoch 77\n"
     ]
    },
    {
     "name": "stderr",
     "output_type": "stream",
     "text": [
      "TRAINIGN: 100%|██████████| 587/587 [00:25<00:00, 23.23it/s]\n",
      "TESTING: 100%|██████████| 147/147 [00:06<00:00, 21.82it/s]\n"
     ]
    },
    {
     "name": "stdout",
     "output_type": "stream",
     "text": [
      "Train Acc: 0.5441 | Train Loss: 1.0316 | Test Acc: 0.5443 | Test Loss: 1.2029163537382268\n",
      "No improvement. Early stopping counter: 2/3\n",
      "\n",
      "Epoch 78\n"
     ]
    },
    {
     "name": "stderr",
     "output_type": "stream",
     "text": [
      "TRAINIGN: 100%|██████████| 587/587 [00:24<00:00, 23.55it/s]\n",
      "TESTING: 100%|██████████| 147/147 [00:06<00:00, 23.00it/s]\n"
     ]
    },
    {
     "name": "stdout",
     "output_type": "stream",
     "text": [
      "Train Acc: 0.5453 | Train Loss: 1.0255 | Test Acc: 0.5455 | Test Loss: 1.198672404500092\n",
      "\n",
      "Epoch 79\n"
     ]
    },
    {
     "name": "stderr",
     "output_type": "stream",
     "text": [
      "TRAINIGN: 100%|██████████| 587/587 [00:24<00:00, 24.01it/s]\n",
      "TESTING: 100%|██████████| 147/147 [00:06<00:00, 22.39it/s]\n"
     ]
    },
    {
     "name": "stdout",
     "output_type": "stream",
     "text": [
      "Train Acc: 0.5465 | Train Loss: 1.0231 | Test Acc: 0.5466 | Test Loss: 1.197078901083291\n",
      "No improvement. Early stopping counter: 1/3\n",
      "\n",
      "Epoch 80\n"
     ]
    },
    {
     "name": "stderr",
     "output_type": "stream",
     "text": [
      "TRAINIGN: 100%|██████████| 587/587 [00:24<00:00, 23.80it/s]\n",
      "TESTING: 100%|██████████| 147/147 [00:06<00:00, 23.57it/s]\n"
     ]
    },
    {
     "name": "stdout",
     "output_type": "stream",
     "text": [
      "Train Acc: 0.5476 | Train Loss: 1.0212 | Test Acc: 0.5478 | Test Loss: 1.2265303252505608\n",
      "No improvement. Early stopping counter: 2/3\n",
      "\n",
      "Epoch 81\n"
     ]
    },
    {
     "name": "stderr",
     "output_type": "stream",
     "text": [
      "TRAINIGN: 100%|██████████| 587/587 [00:25<00:00, 22.98it/s]\n",
      "TESTING: 100%|██████████| 147/147 [00:06<00:00, 22.09it/s]\n"
     ]
    },
    {
     "name": "stdout",
     "output_type": "stream",
     "text": [
      "Train Acc: 0.5488 | Train Loss: 1.0173 | Test Acc: 0.5489 | Test Loss: 1.248389134196197\n",
      "\n",
      "Epoch 82\n"
     ]
    },
    {
     "name": "stderr",
     "output_type": "stream",
     "text": [
      "TRAINIGN: 100%|██████████| 587/587 [00:24<00:00, 23.97it/s]\n",
      "TESTING: 100%|██████████| 147/147 [00:06<00:00, 22.85it/s]\n"
     ]
    },
    {
     "name": "stdout",
     "output_type": "stream",
     "text": [
      "Train Acc: 0.5499 | Train Loss: 1.0146 | Test Acc: 0.5500 | Test Loss: 1.1914351975836721\n",
      "No improvement. Early stopping counter: 1/3\n",
      "\n",
      "Epoch 83\n"
     ]
    },
    {
     "name": "stderr",
     "output_type": "stream",
     "text": [
      "TRAINIGN: 100%|██████████| 587/587 [00:25<00:00, 23.00it/s]\n",
      "TESTING: 100%|██████████| 147/147 [00:06<00:00, 24.09it/s]\n"
     ]
    },
    {
     "name": "stdout",
     "output_type": "stream",
     "text": [
      "Train Acc: 0.5510 | Train Loss: 1.0057 | Test Acc: 0.5512 | Test Loss: 1.224959858015281\n",
      "No improvement. Early stopping counter: 2/3\n",
      "\n",
      "Epoch 84\n"
     ]
    },
    {
     "name": "stderr",
     "output_type": "stream",
     "text": [
      "TRAINIGN: 100%|██████████| 587/587 [00:24<00:00, 23.68it/s]\n",
      "TESTING: 100%|██████████| 147/147 [00:06<00:00, 22.72it/s]\n"
     ]
    },
    {
     "name": "stdout",
     "output_type": "stream",
     "text": [
      "Train Acc: 0.5521 | Train Loss: 1.0116 | Test Acc: 0.5523 | Test Loss: 1.2344266358686953\n",
      "\n",
      "Epoch 85\n"
     ]
    },
    {
     "name": "stderr",
     "output_type": "stream",
     "text": [
      "TRAINIGN: 100%|██████████| 587/587 [00:24<00:00, 23.54it/s]\n",
      "TESTING: 100%|██████████| 147/147 [00:06<00:00, 23.46it/s]\n"
     ]
    },
    {
     "name": "stdout",
     "output_type": "stream",
     "text": [
      "Train Acc: 0.5532 | Train Loss: 1.0076 | Test Acc: 0.5533 | Test Loss: 1.1654866933822632\n",
      "No improvement. Early stopping counter: 1/3\n",
      "\n",
      "Epoch 86\n"
     ]
    },
    {
     "name": "stderr",
     "output_type": "stream",
     "text": [
      "TRAINIGN: 100%|██████████| 587/587 [00:25<00:00, 23.46it/s]\n",
      "TESTING: 100%|██████████| 147/147 [00:06<00:00, 23.47it/s]\n"
     ]
    },
    {
     "name": "stdout",
     "output_type": "stream",
     "text": [
      "Train Acc: 0.5543 | Train Loss: 0.9996 | Test Acc: 0.5544 | Test Loss: 1.154588703395558\n",
      "No improvement. Early stopping counter: 2/3\n",
      "\n",
      "Epoch 87\n"
     ]
    },
    {
     "name": "stderr",
     "output_type": "stream",
     "text": [
      "TRAINIGN: 100%|██████████| 587/587 [00:28<00:00, 20.50it/s]\n",
      "TESTING: 100%|██████████| 147/147 [00:06<00:00, 21.34it/s]\n"
     ]
    },
    {
     "name": "stdout",
     "output_type": "stream",
     "text": [
      "Train Acc: 0.5553 | Train Loss: 0.9971 | Test Acc: 0.5555 | Test Loss: 1.2108750055436375\n",
      "\n",
      "Epoch 88\n"
     ]
    },
    {
     "name": "stderr",
     "output_type": "stream",
     "text": [
      "TRAINIGN: 100%|██████████| 587/587 [00:29<00:00, 19.65it/s]\n",
      "TESTING: 100%|██████████| 147/147 [00:07<00:00, 19.35it/s]\n"
     ]
    },
    {
     "name": "stdout",
     "output_type": "stream",
     "text": [
      "Train Acc: 0.5564 | Train Loss: 0.9994 | Test Acc: 0.5565 | Test Loss: 1.2141243418057759\n",
      "No improvement. Early stopping counter: 1/3\n",
      "\n",
      "Epoch 89\n"
     ]
    },
    {
     "name": "stderr",
     "output_type": "stream",
     "text": [
      "TRAINIGN: 100%|██████████| 587/587 [00:31<00:00, 18.49it/s]\n",
      "TESTING: 100%|██████████| 147/147 [00:07<00:00, 18.50it/s]\n"
     ]
    },
    {
     "name": "stdout",
     "output_type": "stream",
     "text": [
      "Train Acc: 0.5574 | Train Loss: 0.9818 | Test Acc: 0.5575 | Test Loss: 1.1855466807780624\n",
      "No improvement. Early stopping counter: 2/3\n",
      "\n",
      "Epoch 90\n"
     ]
    },
    {
     "name": "stderr",
     "output_type": "stream",
     "text": [
      "TRAINIGN: 100%|██████████| 587/587 [00:29<00:00, 19.92it/s]\n",
      "TESTING: 100%|██████████| 147/147 [00:07<00:00, 19.51it/s]\n"
     ]
    },
    {
     "name": "stdout",
     "output_type": "stream",
     "text": [
      "Train Acc: 0.5584 | Train Loss: 0.9897 | Test Acc: 0.5586 | Test Loss: 1.1773607017231635\n",
      "\n",
      "Epoch 91\n"
     ]
    },
    {
     "name": "stderr",
     "output_type": "stream",
     "text": [
      "TRAINIGN: 100%|██████████| 587/587 [00:28<00:00, 20.46it/s]\n",
      "TESTING: 100%|██████████| 147/147 [00:07<00:00, 20.70it/s]\n"
     ]
    },
    {
     "name": "stdout",
     "output_type": "stream",
     "text": [
      "Train Acc: 0.5595 | Train Loss: 0.9798 | Test Acc: 0.5596 | Test Loss: 1.1825202752132804\n",
      "No improvement. Early stopping counter: 1/3\n",
      "\n",
      "Epoch 92\n"
     ]
    },
    {
     "name": "stderr",
     "output_type": "stream",
     "text": [
      "TRAINIGN: 100%|██████████| 587/587 [00:27<00:00, 21.03it/s]\n",
      "TESTING: 100%|██████████| 147/147 [00:07<00:00, 19.55it/s]\n"
     ]
    },
    {
     "name": "stdout",
     "output_type": "stream",
     "text": [
      "Train Acc: 0.5605 | Train Loss: 0.9781 | Test Acc: 0.5606 | Test Loss: 1.1914055546124775\n",
      "No improvement. Early stopping counter: 2/3\n",
      "\n",
      "Epoch 93\n"
     ]
    },
    {
     "name": "stderr",
     "output_type": "stream",
     "text": [
      "TRAINIGN: 100%|██████████| 587/587 [00:28<00:00, 20.56it/s]\n",
      "TESTING: 100%|██████████| 147/147 [00:07<00:00, 20.35it/s]\n"
     ]
    },
    {
     "name": "stdout",
     "output_type": "stream",
     "text": [
      "Train Acc: 0.5615 | Train Loss: 0.9728 | Test Acc: 0.5616 | Test Loss: 1.194534716962957\n",
      "\n",
      "Epoch 94\n"
     ]
    },
    {
     "name": "stderr",
     "output_type": "stream",
     "text": [
      "TRAINIGN: 100%|██████████| 587/587 [00:29<00:00, 19.68it/s]\n",
      "TESTING: 100%|██████████| 147/147 [00:06<00:00, 21.95it/s]\n"
     ]
    },
    {
     "name": "stdout",
     "output_type": "stream",
     "text": [
      "Train Acc: 0.5625 | Train Loss: 0.9746 | Test Acc: 0.5626 | Test Loss: 1.2001034313318681\n",
      "No improvement. Early stopping counter: 1/3\n",
      "\n",
      "Epoch 95\n"
     ]
    },
    {
     "name": "stderr",
     "output_type": "stream",
     "text": [
      "TRAINIGN: 100%|██████████| 587/587 [00:27<00:00, 21.04it/s]\n",
      "TESTING: 100%|██████████| 147/147 [00:07<00:00, 20.16it/s]\n"
     ]
    },
    {
     "name": "stdout",
     "output_type": "stream",
     "text": [
      "Train Acc: 0.5634 | Train Loss: 0.9717 | Test Acc: 0.5636 | Test Loss: 1.1780869303917398\n",
      "No improvement. Early stopping counter: 2/3\n",
      "\n",
      "Epoch 96\n"
     ]
    },
    {
     "name": "stderr",
     "output_type": "stream",
     "text": [
      "TRAINIGN: 100%|██████████| 587/587 [00:29<00:00, 19.91it/s]\n",
      "TESTING: 100%|██████████| 147/147 [00:07<00:00, 19.81it/s]"
     ]
    },
    {
     "name": "stdout",
     "output_type": "stream",
     "text": [
      "Train Acc: 0.5644 | Train Loss: 0.9683 | Test Acc: 0.5646 | Test Loss: 1.149754678310991\n",
      "No improvement. Early stopping counter: 3/3\n",
      "Early stopping triggered.\n"
     ]
    },
    {
     "name": "stderr",
     "output_type": "stream",
     "text": [
      "\n"
     ]
    }
   ],
   "source": [
    "device = torch.device(\"cuda\" if torch.cuda.is_available() else \"cpu\")\n",
    "model_multilayer_4 = BirdClassifier(cnn_state=False, dim= 256, layer_count=4, head_count = 1).to(device)\n",
    "criterion = nn.CrossEntropyLoss().to(device)\n",
    "optimizer = optim.Adam(model_multilayer_4.parameters(), lr=3e-4)\n",
    "accuracy_score = Accuracy(task = 'multiclass', num_classes = 10).to(device)\n",
    "\n",
    "\n",
    "patience = 3\n",
    "min_delta = 3e-3\n",
    "best_accuracy = 0\n",
    "counter = 0\n",
    "best_test_acc = 0\n",
    "\n",
    "loss_scores_train_multilayer_4 = []\n",
    "accuracy_scores_train_multilayer_4 = []\n",
    "\n",
    "loss_scores_test_multilayer_4 = []\n",
    "accuracy_scores_test_multilayer_4 = []\n",
    "\n",
    "for epoch in range(200):  \n",
    "    print(f\"\\nEpoch {epoch+1}\")\n",
    "    train_acc, train_loss = train_model(model_multilayer_4, training_dataset, criterion, optimizer, accuracy_score, device)\n",
    "    test_acc, test_loss = test_model(model_multilayer_4, testing_dataset, criterion, accuracy_score, device)\n",
    "    \n",
    "    accuracy_scores_train_multilayer_4.append(train_acc)\n",
    "    loss_scores_train_multilayer_4.append(train_loss)\n",
    "\n",
    "    accuracy_scores_test_multilayer_4.append(test_acc)\n",
    "    loss_scores_test_multilayer_4.append(test_loss)\n",
    "    print(f\"Train Acc: {train_acc:.4f} | Train Loss: {train_loss:.4f} | Test Acc: {test_acc:.4f} | Test Loss: {test_loss}\")\n",
    "    \n",
    "    if test_acc - best_test_acc > min_delta:\n",
    "        best_test_acc = test_acc\n",
    "        counter = 0\n",
    "    else:\n",
    "        counter += 1\n",
    "        print(f\"No improvement. Early stopping counter: {counter}/{patience}\")\n",
    "        if counter >= patience:\n",
    "            print(\"Early stopping triggered.\")\n",
    "            break"
   ]
  },
  {
   "cell_type": "markdown",
   "metadata": {},
   "source": [
    "8 layers"
   ]
  },
  {
   "cell_type": "code",
   "execution_count": 14,
   "metadata": {},
   "outputs": [
    {
     "name": "stdout",
     "output_type": "stream",
     "text": [
      "\n",
      "Epoch 1\n"
     ]
    },
    {
     "name": "stderr",
     "output_type": "stream",
     "text": [
      "TRAINIGN: 100%|██████████| 587/587 [00:30<00:00, 19.02it/s]\n",
      "TESTING: 100%|██████████| 147/147 [00:07<00:00, 19.38it/s]\n"
     ]
    },
    {
     "name": "stdout",
     "output_type": "stream",
     "text": [
      "Train Acc: 0.2853 | Train Loss: 1.9857 | Test Acc: 0.2916 | Test Loss: 2.015604251096038\n",
      "\n",
      "Epoch 2\n"
     ]
    },
    {
     "name": "stderr",
     "output_type": "stream",
     "text": [
      "TRAINIGN: 100%|██████████| 587/587 [00:31<00:00, 18.43it/s]\n",
      "TESTING: 100%|██████████| 147/147 [00:07<00:00, 19.96it/s]\n"
     ]
    },
    {
     "name": "stdout",
     "output_type": "stream",
     "text": [
      "Train Acc: 0.3234 | Train Loss: 1.7970 | Test Acc: 0.3294 | Test Loss: 1.7362116056234658\n",
      "\n",
      "Epoch 3\n"
     ]
    },
    {
     "name": "stderr",
     "output_type": "stream",
     "text": [
      "TRAINIGN: 100%|██████████| 587/587 [00:31<00:00, 18.38it/s]\n",
      "TESTING: 100%|██████████| 147/147 [00:07<00:00, 19.17it/s]\n"
     ]
    },
    {
     "name": "stdout",
     "output_type": "stream",
     "text": [
      "Train Acc: 0.3449 | Train Loss: 1.7305 | Test Acc: 0.3492 | Test Loss: 1.652961177079856\n",
      "\n",
      "Epoch 4\n"
     ]
    },
    {
     "name": "stderr",
     "output_type": "stream",
     "text": [
      "TRAINIGN: 100%|██████████| 587/587 [00:30<00:00, 19.13it/s]\n",
      "TESTING: 100%|██████████| 147/147 [00:08<00:00, 16.88it/s]\n"
     ]
    },
    {
     "name": "stdout",
     "output_type": "stream",
     "text": [
      "Train Acc: 0.3605 | Train Loss: 1.6830 | Test Acc: 0.3640 | Test Loss: 1.619792180807412\n",
      "\n",
      "Epoch 5\n"
     ]
    },
    {
     "name": "stderr",
     "output_type": "stream",
     "text": [
      "TRAINIGN: 100%|██████████| 587/587 [00:34<00:00, 16.92it/s]\n",
      "TESTING: 100%|██████████| 147/147 [00:08<00:00, 16.61it/s]\n"
     ]
    },
    {
     "name": "stdout",
     "output_type": "stream",
     "text": [
      "Train Acc: 0.3731 | Train Loss: 1.6465 | Test Acc: 0.3754 | Test Loss: 1.6336027359475895\n",
      "\n",
      "Epoch 6\n"
     ]
    },
    {
     "name": "stderr",
     "output_type": "stream",
     "text": [
      "TRAINIGN: 100%|██████████| 587/587 [00:35<00:00, 16.62it/s]\n",
      "TESTING: 100%|██████████| 147/147 [00:08<00:00, 17.84it/s]\n"
     ]
    },
    {
     "name": "stdout",
     "output_type": "stream",
     "text": [
      "Train Acc: 0.3822 | Train Loss: 1.6201 | Test Acc: 0.3842 | Test Loss: 1.597583017381681\n",
      "\n",
      "Epoch 7\n"
     ]
    },
    {
     "name": "stderr",
     "output_type": "stream",
     "text": [
      "TRAINIGN: 100%|██████████| 587/587 [00:33<00:00, 17.29it/s]\n",
      "TESTING: 100%|██████████| 147/147 [00:07<00:00, 18.64it/s]\n"
     ]
    },
    {
     "name": "stdout",
     "output_type": "stream",
     "text": [
      "Train Acc: 0.3906 | Train Loss: 1.5900 | Test Acc: 0.3924 | Test Loss: 1.5644619951442795\n",
      "\n",
      "Epoch 8\n"
     ]
    },
    {
     "name": "stderr",
     "output_type": "stream",
     "text": [
      "TRAINIGN: 100%|██████████| 587/587 [00:33<00:00, 17.52it/s]\n",
      "TESTING: 100%|██████████| 147/147 [00:08<00:00, 18.14it/s]\n"
     ]
    },
    {
     "name": "stdout",
     "output_type": "stream",
     "text": [
      "Train Acc: 0.3986 | Train Loss: 1.5611 | Test Acc: 0.4006 | Test Loss: 1.4930924217717176\n",
      "\n",
      "Epoch 9\n"
     ]
    },
    {
     "name": "stderr",
     "output_type": "stream",
     "text": [
      "TRAINIGN: 100%|██████████| 587/587 [00:33<00:00, 17.69it/s]\n",
      "TESTING: 100%|██████████| 147/147 [00:07<00:00, 18.51it/s]\n"
     ]
    },
    {
     "name": "stdout",
     "output_type": "stream",
     "text": [
      "Train Acc: 0.4062 | Train Loss: 1.5364 | Test Acc: 0.4075 | Test Loss: 1.5740609606918023\n",
      "\n",
      "Epoch 10\n"
     ]
    },
    {
     "name": "stderr",
     "output_type": "stream",
     "text": [
      "TRAINIGN: 100%|██████████| 587/587 [00:33<00:00, 17.48it/s]\n",
      "TESTING: 100%|██████████| 147/147 [00:07<00:00, 18.40it/s]\n"
     ]
    },
    {
     "name": "stdout",
     "output_type": "stream",
     "text": [
      "Train Acc: 0.4124 | Train Loss: 1.5151 | Test Acc: 0.4138 | Test Loss: 1.4923672343597931\n",
      "\n",
      "Epoch 11\n"
     ]
    },
    {
     "name": "stderr",
     "output_type": "stream",
     "text": [
      "TRAINIGN: 100%|██████████| 587/587 [00:33<00:00, 17.48it/s]\n",
      "TESTING: 100%|██████████| 147/147 [00:08<00:00, 17.29it/s]\n"
     ]
    },
    {
     "name": "stdout",
     "output_type": "stream",
     "text": [
      "Train Acc: 0.4184 | Train Loss: 1.4931 | Test Acc: 0.4196 | Test Loss: 1.5285626366024925\n",
      "\n",
      "Epoch 12\n"
     ]
    },
    {
     "name": "stderr",
     "output_type": "stream",
     "text": [
      "TRAINIGN: 100%|██████████| 587/587 [00:34<00:00, 17.12it/s]\n",
      "TESTING: 100%|██████████| 147/147 [00:08<00:00, 17.89it/s]\n"
     ]
    },
    {
     "name": "stdout",
     "output_type": "stream",
     "text": [
      "Train Acc: 0.4237 | Train Loss: 1.4770 | Test Acc: 0.4248 | Test Loss: 1.5021989240127356\n",
      "\n",
      "Epoch 13\n"
     ]
    },
    {
     "name": "stderr",
     "output_type": "stream",
     "text": [
      "TRAINIGN: 100%|██████████| 587/587 [00:34<00:00, 17.22it/s]\n",
      "TESTING: 100%|██████████| 147/147 [00:08<00:00, 17.67it/s]\n"
     ]
    },
    {
     "name": "stdout",
     "output_type": "stream",
     "text": [
      "Train Acc: 0.4289 | Train Loss: 1.4592 | Test Acc: 0.4299 | Test Loss: 1.4769696143208717\n",
      "\n",
      "Epoch 14\n"
     ]
    },
    {
     "name": "stderr",
     "output_type": "stream",
     "text": [
      "TRAINIGN: 100%|██████████| 587/587 [00:34<00:00, 17.15it/s]\n",
      "TESTING: 100%|██████████| 147/147 [00:08<00:00, 17.66it/s]\n"
     ]
    },
    {
     "name": "stdout",
     "output_type": "stream",
     "text": [
      "Train Acc: 0.4337 | Train Loss: 1.4348 | Test Acc: 0.4343 | Test Loss: 1.6055136992006886\n",
      "\n",
      "Epoch 15\n"
     ]
    },
    {
     "name": "stderr",
     "output_type": "stream",
     "text": [
      "TRAINIGN: 100%|██████████| 587/587 [00:34<00:00, 17.11it/s]\n",
      "TESTING: 100%|██████████| 147/147 [00:08<00:00, 17.18it/s]\n"
     ]
    },
    {
     "name": "stdout",
     "output_type": "stream",
     "text": [
      "Train Acc: 0.4381 | Train Loss: 1.4196 | Test Acc: 0.4391 | Test Loss: 1.4259830624067864\n",
      "\n",
      "Epoch 16\n"
     ]
    },
    {
     "name": "stderr",
     "output_type": "stream",
     "text": [
      "TRAINIGN: 100%|██████████| 587/587 [00:33<00:00, 17.32it/s]\n",
      "TESTING: 100%|██████████| 147/147 [00:08<00:00, 17.56it/s]\n"
     ]
    },
    {
     "name": "stdout",
     "output_type": "stream",
     "text": [
      "Train Acc: 0.4427 | Train Loss: 1.4011 | Test Acc: 0.4433 | Test Loss: 1.5032923416215547\n",
      "\n",
      "Epoch 17\n"
     ]
    },
    {
     "name": "stderr",
     "output_type": "stream",
     "text": [
      "TRAINIGN: 100%|██████████| 587/587 [00:34<00:00, 17.14it/s]\n",
      "TESTING: 100%|██████████| 147/147 [00:08<00:00, 18.06it/s]\n"
     ]
    },
    {
     "name": "stdout",
     "output_type": "stream",
     "text": [
      "Train Acc: 0.4467 | Train Loss: 1.3907 | Test Acc: 0.4475 | Test Loss: 1.4269104490474778\n",
      "\n",
      "Epoch 18\n"
     ]
    },
    {
     "name": "stderr",
     "output_type": "stream",
     "text": [
      "TRAINIGN: 100%|██████████| 587/587 [00:33<00:00, 17.53it/s]\n",
      "TESTING: 100%|██████████| 147/147 [00:08<00:00, 17.70it/s]\n"
     ]
    },
    {
     "name": "stdout",
     "output_type": "stream",
     "text": [
      "Train Acc: 0.4509 | Train Loss: 1.3679 | Test Acc: 0.4517 | Test Loss: 1.3645977961773774\n",
      "\n",
      "Epoch 19\n"
     ]
    },
    {
     "name": "stderr",
     "output_type": "stream",
     "text": [
      "TRAINIGN: 100%|██████████| 587/587 [00:36<00:00, 16.21it/s]\n",
      "TESTING: 100%|██████████| 147/147 [00:09<00:00, 15.56it/s]\n"
     ]
    },
    {
     "name": "stdout",
     "output_type": "stream",
     "text": [
      "Train Acc: 0.4550 | Train Loss: 1.3548 | Test Acc: 0.4558 | Test Loss: 1.3965168789941438\n",
      "\n",
      "Epoch 20\n"
     ]
    },
    {
     "name": "stderr",
     "output_type": "stream",
     "text": [
      "TRAINIGN: 100%|██████████| 587/587 [00:36<00:00, 16.05it/s]\n",
      "TESTING: 100%|██████████| 147/147 [00:09<00:00, 15.69it/s]\n"
     ]
    },
    {
     "name": "stdout",
     "output_type": "stream",
     "text": [
      "Train Acc: 0.4589 | Train Loss: 1.3387 | Test Acc: 0.4597 | Test Loss: 1.3718928909626136\n",
      "\n",
      "Epoch 21\n"
     ]
    },
    {
     "name": "stderr",
     "output_type": "stream",
     "text": [
      "TRAINIGN: 100%|██████████| 587/587 [00:35<00:00, 16.42it/s]\n",
      "TESTING: 100%|██████████| 147/147 [00:08<00:00, 17.51it/s]\n"
     ]
    },
    {
     "name": "stdout",
     "output_type": "stream",
     "text": [
      "Train Acc: 0.4627 | Train Loss: 1.3318 | Test Acc: 0.4634 | Test Loss: 1.3783454477381545\n",
      "\n",
      "Epoch 22\n"
     ]
    },
    {
     "name": "stderr",
     "output_type": "stream",
     "text": [
      "TRAINIGN: 100%|██████████| 587/587 [00:36<00:00, 16.00it/s]\n",
      "TESTING: 100%|██████████| 147/147 [00:08<00:00, 16.83it/s]\n"
     ]
    },
    {
     "name": "stdout",
     "output_type": "stream",
     "text": [
      "Train Acc: 0.4661 | Train Loss: 1.3204 | Test Acc: 0.4668 | Test Loss: 1.3592369479386985\n",
      "\n",
      "Epoch 23\n"
     ]
    },
    {
     "name": "stderr",
     "output_type": "stream",
     "text": [
      "TRAINIGN: 100%|██████████| 587/587 [00:34<00:00, 17.09it/s]\n",
      "TESTING: 100%|██████████| 147/147 [00:09<00:00, 16.04it/s]\n"
     ]
    },
    {
     "name": "stdout",
     "output_type": "stream",
     "text": [
      "Train Acc: 0.4696 | Train Loss: 1.3035 | Test Acc: 0.4703 | Test Loss: 1.3397955987729182\n",
      "\n",
      "Epoch 24\n"
     ]
    },
    {
     "name": "stderr",
     "output_type": "stream",
     "text": [
      "TRAINIGN: 100%|██████████| 587/587 [00:34<00:00, 16.81it/s]\n",
      "TESTING: 100%|██████████| 147/147 [00:08<00:00, 16.49it/s]\n"
     ]
    },
    {
     "name": "stdout",
     "output_type": "stream",
     "text": [
      "Train Acc: 0.4729 | Train Loss: 1.3021 | Test Acc: 0.4736 | Test Loss: 1.3235543325644772\n",
      "\n",
      "Epoch 25\n"
     ]
    },
    {
     "name": "stderr",
     "output_type": "stream",
     "text": [
      "TRAINIGN: 100%|██████████| 587/587 [00:33<00:00, 17.30it/s]\n",
      "TESTING: 100%|██████████| 147/147 [00:08<00:00, 17.11it/s]\n"
     ]
    },
    {
     "name": "stdout",
     "output_type": "stream",
     "text": [
      "Train Acc: 0.4762 | Train Loss: 1.2758 | Test Acc: 0.4768 | Test Loss: 1.3340032145279606\n",
      "\n",
      "Epoch 26\n"
     ]
    },
    {
     "name": "stderr",
     "output_type": "stream",
     "text": [
      "TRAINIGN: 100%|██████████| 587/587 [00:33<00:00, 17.57it/s]\n",
      "TESTING: 100%|██████████| 147/147 [00:08<00:00, 17.56it/s]\n"
     ]
    },
    {
     "name": "stdout",
     "output_type": "stream",
     "text": [
      "Train Acc: 0.4794 | Train Loss: 1.2709 | Test Acc: 0.4800 | Test Loss: 1.3388883325518395\n",
      "\n",
      "Epoch 27\n"
     ]
    },
    {
     "name": "stderr",
     "output_type": "stream",
     "text": [
      "TRAINIGN: 100%|██████████| 587/587 [00:34<00:00, 17.19it/s]\n",
      "TESTING: 100%|██████████| 147/147 [00:08<00:00, 18.10it/s]\n"
     ]
    },
    {
     "name": "stdout",
     "output_type": "stream",
     "text": [
      "Train Acc: 0.4825 | Train Loss: 1.2591 | Test Acc: 0.4830 | Test Loss: 1.2828988059848345\n",
      "\n",
      "Epoch 28\n"
     ]
    },
    {
     "name": "stderr",
     "output_type": "stream",
     "text": [
      "TRAINIGN: 100%|██████████| 587/587 [00:34<00:00, 17.20it/s]\n",
      "TESTING: 100%|██████████| 147/147 [00:08<00:00, 17.03it/s]\n"
     ]
    },
    {
     "name": "stdout",
     "output_type": "stream",
     "text": [
      "Train Acc: 0.4855 | Train Loss: 1.2414 | Test Acc: 0.4860 | Test Loss: 1.3099805530236692\n",
      "\n",
      "Epoch 29\n"
     ]
    },
    {
     "name": "stderr",
     "output_type": "stream",
     "text": [
      "TRAINIGN: 100%|██████████| 587/587 [00:34<00:00, 17.23it/s]\n",
      "TESTING: 100%|██████████| 147/147 [00:08<00:00, 17.16it/s]\n"
     ]
    },
    {
     "name": "stdout",
     "output_type": "stream",
     "text": [
      "Train Acc: 0.4885 | Train Loss: 1.2351 | Test Acc: 0.4889 | Test Loss: 1.3252923391303237\n",
      "No improvement. Early stopping counter: 1/3\n",
      "\n",
      "Epoch 30\n"
     ]
    },
    {
     "name": "stderr",
     "output_type": "stream",
     "text": [
      "TRAINIGN: 100%|██████████| 587/587 [00:34<00:00, 17.00it/s]\n",
      "TESTING: 100%|██████████| 147/147 [00:08<00:00, 17.47it/s]\n"
     ]
    },
    {
     "name": "stdout",
     "output_type": "stream",
     "text": [
      "Train Acc: 0.4913 | Train Loss: 1.2187 | Test Acc: 0.4918 | Test Loss: 1.367690511706735\n",
      "\n",
      "Epoch 31\n"
     ]
    },
    {
     "name": "stderr",
     "output_type": "stream",
     "text": [
      "TRAINIGN: 100%|██████████| 587/587 [00:30<00:00, 19.10it/s]\n",
      "TESTING: 100%|██████████| 147/147 [00:07<00:00, 19.37it/s]\n"
     ]
    },
    {
     "name": "stdout",
     "output_type": "stream",
     "text": [
      "Train Acc: 0.4941 | Train Loss: 1.2093 | Test Acc: 0.4945 | Test Loss: 1.331220922015962\n",
      "No improvement. Early stopping counter: 1/3\n",
      "\n",
      "Epoch 32\n"
     ]
    },
    {
     "name": "stderr",
     "output_type": "stream",
     "text": [
      "TRAINIGN: 100%|██████████| 587/587 [00:31<00:00, 18.75it/s]\n",
      "TESTING: 100%|██████████| 147/147 [00:07<00:00, 18.71it/s]\n"
     ]
    },
    {
     "name": "stdout",
     "output_type": "stream",
     "text": [
      "Train Acc: 0.4967 | Train Loss: 1.2007 | Test Acc: 0.4973 | Test Loss: 1.2556386788686116\n",
      "\n",
      "Epoch 33\n"
     ]
    },
    {
     "name": "stderr",
     "output_type": "stream",
     "text": [
      "TRAINIGN: 100%|██████████| 587/587 [00:31<00:00, 18.45it/s]\n",
      "TESTING: 100%|██████████| 147/147 [00:07<00:00, 19.18it/s]\n"
     ]
    },
    {
     "name": "stdout",
     "output_type": "stream",
     "text": [
      "Train Acc: 0.4994 | Train Loss: 1.1932 | Test Acc: 0.4999 | Test Loss: 1.3081680982291293\n",
      "No improvement. Early stopping counter: 1/3\n",
      "\n",
      "Epoch 34\n"
     ]
    },
    {
     "name": "stderr",
     "output_type": "stream",
     "text": [
      "TRAINIGN: 100%|██████████| 587/587 [00:30<00:00, 19.16it/s]\n",
      "TESTING: 100%|██████████| 147/147 [00:07<00:00, 18.71it/s]\n"
     ]
    },
    {
     "name": "stdout",
     "output_type": "stream",
     "text": [
      "Train Acc: 0.5020 | Train Loss: 1.1824 | Test Acc: 0.5025 | Test Loss: 1.2459132140185558\n",
      "\n",
      "Epoch 35\n"
     ]
    },
    {
     "name": "stderr",
     "output_type": "stream",
     "text": [
      "TRAINIGN: 100%|██████████| 587/587 [00:31<00:00, 18.54it/s]\n",
      "TESTING: 100%|██████████| 147/147 [00:07<00:00, 18.95it/s]\n"
     ]
    },
    {
     "name": "stdout",
     "output_type": "stream",
     "text": [
      "Train Acc: 0.5045 | Train Loss: 1.1742 | Test Acc: 0.5050 | Test Loss: 1.25374446799155\n",
      "No improvement. Early stopping counter: 1/3\n",
      "\n",
      "Epoch 36\n"
     ]
    },
    {
     "name": "stderr",
     "output_type": "stream",
     "text": [
      "TRAINIGN: 100%|██████████| 587/587 [00:31<00:00, 18.60it/s]\n",
      "TESTING: 100%|██████████| 147/147 [00:07<00:00, 18.51it/s]\n"
     ]
    },
    {
     "name": "stdout",
     "output_type": "stream",
     "text": [
      "Train Acc: 0.5071 | Train Loss: 1.1627 | Test Acc: 0.5074 | Test Loss: 1.2633715458467705\n",
      "\n",
      "Epoch 37\n"
     ]
    },
    {
     "name": "stderr",
     "output_type": "stream",
     "text": [
      "TRAINIGN: 100%|██████████| 587/587 [00:31<00:00, 18.72it/s]\n",
      "TESTING: 100%|██████████| 147/147 [00:07<00:00, 18.72it/s]\n"
     ]
    },
    {
     "name": "stdout",
     "output_type": "stream",
     "text": [
      "Train Acc: 0.5095 | Train Loss: 1.1523 | Test Acc: 0.5099 | Test Loss: 1.2582791804456386\n",
      "No improvement. Early stopping counter: 1/3\n",
      "\n",
      "Epoch 38\n"
     ]
    },
    {
     "name": "stderr",
     "output_type": "stream",
     "text": [
      "TRAINIGN: 100%|██████████| 587/587 [00:31<00:00, 18.56it/s]\n",
      "TESTING: 100%|██████████| 147/147 [00:08<00:00, 16.65it/s]\n"
     ]
    },
    {
     "name": "stdout",
     "output_type": "stream",
     "text": [
      "Train Acc: 0.5118 | Train Loss: 1.1443 | Test Acc: 0.5122 | Test Loss: 1.308976517648113\n",
      "\n",
      "Epoch 39\n"
     ]
    },
    {
     "name": "stderr",
     "output_type": "stream",
     "text": [
      "TRAINIGN: 100%|██████████| 587/587 [00:33<00:00, 17.54it/s]\n",
      "TESTING: 100%|██████████| 147/147 [00:07<00:00, 19.04it/s]\n"
     ]
    },
    {
     "name": "stdout",
     "output_type": "stream",
     "text": [
      "Train Acc: 0.5141 | Train Loss: 1.1384 | Test Acc: 0.5145 | Test Loss: 1.2466164458365667\n",
      "No improvement. Early stopping counter: 1/3\n",
      "\n",
      "Epoch 40\n"
     ]
    },
    {
     "name": "stderr",
     "output_type": "stream",
     "text": [
      "TRAINIGN: 100%|██████████| 587/587 [00:30<00:00, 19.15it/s]\n",
      "TESTING: 100%|██████████| 147/147 [00:08<00:00, 18.03it/s]\n"
     ]
    },
    {
     "name": "stdout",
     "output_type": "stream",
     "text": [
      "Train Acc: 0.5164 | Train Loss: 1.1234 | Test Acc: 0.5168 | Test Loss: 1.26353251447483\n",
      "\n",
      "Epoch 41\n"
     ]
    },
    {
     "name": "stderr",
     "output_type": "stream",
     "text": [
      "TRAINIGN: 100%|██████████| 587/587 [00:30<00:00, 19.06it/s]\n",
      "TESTING: 100%|██████████| 147/147 [00:07<00:00, 18.98it/s]\n"
     ]
    },
    {
     "name": "stdout",
     "output_type": "stream",
     "text": [
      "Train Acc: 0.5186 | Train Loss: 1.1148 | Test Acc: 0.5190 | Test Loss: 1.2362727948597498\n",
      "No improvement. Early stopping counter: 1/3\n",
      "\n",
      "Epoch 42\n"
     ]
    },
    {
     "name": "stderr",
     "output_type": "stream",
     "text": [
      "TRAINIGN: 100%|██████████| 587/587 [00:30<00:00, 19.17it/s]\n",
      "TESTING: 100%|██████████| 147/147 [00:07<00:00, 18.58it/s]\n"
     ]
    },
    {
     "name": "stdout",
     "output_type": "stream",
     "text": [
      "Train Acc: 0.5208 | Train Loss: 1.1075 | Test Acc: 0.5212 | Test Loss: 1.2238517237358353\n",
      "\n",
      "Epoch 43\n"
     ]
    },
    {
     "name": "stderr",
     "output_type": "stream",
     "text": [
      "TRAINIGN: 100%|██████████| 587/587 [00:32<00:00, 18.29it/s]\n",
      "TESTING: 100%|██████████| 147/147 [00:07<00:00, 18.94it/s]\n"
     ]
    },
    {
     "name": "stdout",
     "output_type": "stream",
     "text": [
      "Train Acc: 0.5230 | Train Loss: 1.0983 | Test Acc: 0.5233 | Test Loss: 1.2510564582688468\n",
      "No improvement. Early stopping counter: 1/3\n",
      "\n",
      "Epoch 44\n"
     ]
    },
    {
     "name": "stderr",
     "output_type": "stream",
     "text": [
      "TRAINIGN: 100%|██████████| 587/587 [00:31<00:00, 18.46it/s]\n",
      "TESTING: 100%|██████████| 147/147 [00:07<00:00, 19.58it/s]\n"
     ]
    },
    {
     "name": "stdout",
     "output_type": "stream",
     "text": [
      "Train Acc: 0.5251 | Train Loss: 1.0934 | Test Acc: 0.5254 | Test Loss: 1.2153085506692225\n",
      "\n",
      "Epoch 45\n"
     ]
    },
    {
     "name": "stderr",
     "output_type": "stream",
     "text": [
      "TRAINIGN: 100%|██████████| 587/587 [00:30<00:00, 19.21it/s]\n",
      "TESTING: 100%|██████████| 147/147 [00:07<00:00, 19.60it/s]\n"
     ]
    },
    {
     "name": "stdout",
     "output_type": "stream",
     "text": [
      "Train Acc: 0.5272 | Train Loss: 1.0831 | Test Acc: 0.5275 | Test Loss: 1.245255665714238\n",
      "No improvement. Early stopping counter: 1/3\n",
      "\n",
      "Epoch 46\n"
     ]
    },
    {
     "name": "stderr",
     "output_type": "stream",
     "text": [
      "TRAINIGN: 100%|██████████| 587/587 [00:31<00:00, 18.55it/s]\n",
      "TESTING: 100%|██████████| 147/147 [00:07<00:00, 18.93it/s]\n"
     ]
    },
    {
     "name": "stdout",
     "output_type": "stream",
     "text": [
      "Train Acc: 0.5292 | Train Loss: 1.0758 | Test Acc: 0.5296 | Test Loss: 1.2015715910463918\n",
      "\n",
      "Epoch 47\n"
     ]
    },
    {
     "name": "stderr",
     "output_type": "stream",
     "text": [
      "TRAINIGN: 100%|██████████| 587/587 [00:30<00:00, 19.51it/s]\n",
      "TESTING: 100%|██████████| 147/147 [00:07<00:00, 19.32it/s]\n"
     ]
    },
    {
     "name": "stdout",
     "output_type": "stream",
     "text": [
      "Train Acc: 0.5313 | Train Loss: 1.0726 | Test Acc: 0.5316 | Test Loss: 1.232064809523472\n",
      "No improvement. Early stopping counter: 1/3\n",
      "\n",
      "Epoch 48\n"
     ]
    },
    {
     "name": "stderr",
     "output_type": "stream",
     "text": [
      "TRAINIGN: 100%|██████████| 587/587 [00:30<00:00, 19.14it/s]\n",
      "TESTING: 100%|██████████| 147/147 [00:07<00:00, 19.78it/s]\n"
     ]
    },
    {
     "name": "stdout",
     "output_type": "stream",
     "text": [
      "Train Acc: 0.5333 | Train Loss: 1.0546 | Test Acc: 0.5336 | Test Loss: 1.200987527970554\n",
      "\n",
      "Epoch 49\n"
     ]
    },
    {
     "name": "stderr",
     "output_type": "stream",
     "text": [
      "TRAINIGN: 100%|██████████| 587/587 [00:31<00:00, 18.43it/s]\n",
      "TESTING: 100%|██████████| 147/147 [00:07<00:00, 18.47it/s]\n"
     ]
    },
    {
     "name": "stdout",
     "output_type": "stream",
     "text": [
      "Train Acc: 0.5353 | Train Loss: 1.0496 | Test Acc: 0.5355 | Test Loss: 1.2399185210669121\n",
      "No improvement. Early stopping counter: 1/3\n",
      "\n",
      "Epoch 50\n"
     ]
    },
    {
     "name": "stderr",
     "output_type": "stream",
     "text": [
      "TRAINIGN: 100%|██████████| 587/587 [00:30<00:00, 19.07it/s]\n",
      "TESTING: 100%|██████████| 147/147 [00:07<00:00, 18.44it/s]\n"
     ]
    },
    {
     "name": "stdout",
     "output_type": "stream",
     "text": [
      "Train Acc: 0.5372 | Train Loss: 1.0409 | Test Acc: 0.5374 | Test Loss: 1.2811784582073187\n",
      "\n",
      "Epoch 51\n"
     ]
    },
    {
     "name": "stderr",
     "output_type": "stream",
     "text": [
      "TRAINIGN: 100%|██████████| 587/587 [00:32<00:00, 18.29it/s]\n",
      "TESTING: 100%|██████████| 147/147 [00:08<00:00, 18.18it/s]\n"
     ]
    },
    {
     "name": "stdout",
     "output_type": "stream",
     "text": [
      "Train Acc: 0.5390 | Train Loss: 1.0386 | Test Acc: 0.5393 | Test Loss: 1.206964680126735\n",
      "No improvement. Early stopping counter: 1/3\n",
      "\n",
      "Epoch 52\n"
     ]
    },
    {
     "name": "stderr",
     "output_type": "stream",
     "text": [
      "TRAINIGN: 100%|██████████| 587/587 [00:30<00:00, 18.97it/s]\n",
      "TESTING: 100%|██████████| 147/147 [00:07<00:00, 19.78it/s]\n"
     ]
    },
    {
     "name": "stdout",
     "output_type": "stream",
     "text": [
      "Train Acc: 0.5409 | Train Loss: 1.0230 | Test Acc: 0.5412 | Test Loss: 1.2357260191521677\n",
      "\n",
      "Epoch 53\n"
     ]
    },
    {
     "name": "stderr",
     "output_type": "stream",
     "text": [
      "TRAINIGN: 100%|██████████| 587/587 [00:30<00:00, 19.19it/s]\n",
      "TESTING: 100%|██████████| 147/147 [00:07<00:00, 19.48it/s]\n"
     ]
    },
    {
     "name": "stdout",
     "output_type": "stream",
     "text": [
      "Train Acc: 0.5428 | Train Loss: 1.0166 | Test Acc: 0.5431 | Test Loss: 1.1862848733558136\n",
      "No improvement. Early stopping counter: 1/3\n",
      "\n",
      "Epoch 54\n"
     ]
    },
    {
     "name": "stderr",
     "output_type": "stream",
     "text": [
      "TRAINIGN: 100%|██████████| 587/587 [00:32<00:00, 18.25it/s]\n",
      "TESTING: 100%|██████████| 147/147 [00:07<00:00, 19.24it/s]\n"
     ]
    },
    {
     "name": "stdout",
     "output_type": "stream",
     "text": [
      "Train Acc: 0.5447 | Train Loss: 1.0143 | Test Acc: 0.5449 | Test Loss: 1.2127873285287092\n",
      "\n",
      "Epoch 55\n"
     ]
    },
    {
     "name": "stderr",
     "output_type": "stream",
     "text": [
      "TRAINIGN: 100%|██████████| 587/587 [00:30<00:00, 19.32it/s]\n",
      "TESTING: 100%|██████████| 147/147 [00:07<00:00, 19.63it/s]\n"
     ]
    },
    {
     "name": "stdout",
     "output_type": "stream",
     "text": [
      "Train Acc: 0.5464 | Train Loss: 1.0039 | Test Acc: 0.5467 | Test Loss: 1.233808355672019\n",
      "No improvement. Early stopping counter: 1/3\n",
      "\n",
      "Epoch 56\n"
     ]
    },
    {
     "name": "stderr",
     "output_type": "stream",
     "text": [
      "TRAINIGN: 100%|██████████| 587/587 [00:30<00:00, 19.04it/s]\n",
      "TESTING: 100%|██████████| 147/147 [00:07<00:00, 19.07it/s]\n"
     ]
    },
    {
     "name": "stdout",
     "output_type": "stream",
     "text": [
      "Train Acc: 0.5482 | Train Loss: 0.9933 | Test Acc: 0.5485 | Test Loss: 1.2136103583841908\n",
      "\n",
      "Epoch 57\n"
     ]
    },
    {
     "name": "stderr",
     "output_type": "stream",
     "text": [
      "TRAINIGN: 100%|██████████| 587/587 [00:33<00:00, 17.47it/s]\n",
      "TESTING: 100%|██████████| 147/147 [00:08<00:00, 17.90it/s]\n"
     ]
    },
    {
     "name": "stdout",
     "output_type": "stream",
     "text": [
      "Train Acc: 0.5500 | Train Loss: 0.9847 | Test Acc: 0.5502 | Test Loss: 1.2432159079986365\n",
      "No improvement. Early stopping counter: 1/3\n",
      "\n",
      "Epoch 58\n"
     ]
    },
    {
     "name": "stderr",
     "output_type": "stream",
     "text": [
      "TRAINIGN: 100%|██████████| 587/587 [00:33<00:00, 17.47it/s]\n",
      "TESTING: 100%|██████████| 147/147 [00:08<00:00, 18.30it/s]\n"
     ]
    },
    {
     "name": "stdout",
     "output_type": "stream",
     "text": [
      "Train Acc: 0.5517 | Train Loss: 0.9754 | Test Acc: 0.5520 | Test Loss: 1.16986153604222\n",
      "\n",
      "Epoch 59\n"
     ]
    },
    {
     "name": "stderr",
     "output_type": "stream",
     "text": [
      "TRAINIGN: 100%|██████████| 587/587 [00:34<00:00, 17.14it/s]\n",
      "TESTING: 100%|██████████| 147/147 [00:08<00:00, 17.29it/s]\n"
     ]
    },
    {
     "name": "stdout",
     "output_type": "stream",
     "text": [
      "Train Acc: 0.5535 | Train Loss: 0.9723 | Test Acc: 0.5537 | Test Loss: 1.1835776307955892\n",
      "No improvement. Early stopping counter: 1/3\n",
      "\n",
      "Epoch 60\n"
     ]
    },
    {
     "name": "stderr",
     "output_type": "stream",
     "text": [
      "TRAINIGN: 100%|██████████| 587/587 [00:36<00:00, 16.12it/s]\n",
      "TESTING: 100%|██████████| 147/147 [00:07<00:00, 18.49it/s]\n"
     ]
    },
    {
     "name": "stdout",
     "output_type": "stream",
     "text": [
      "Train Acc: 0.5552 | Train Loss: 0.9656 | Test Acc: 0.5555 | Test Loss: 1.1744553272415992\n",
      "\n",
      "Epoch 61\n"
     ]
    },
    {
     "name": "stderr",
     "output_type": "stream",
     "text": [
      "TRAINIGN: 100%|██████████| 587/587 [00:31<00:00, 18.84it/s]\n",
      "TESTING: 100%|██████████| 147/147 [00:07<00:00, 18.93it/s]\n"
     ]
    },
    {
     "name": "stdout",
     "output_type": "stream",
     "text": [
      "Train Acc: 0.5569 | Train Loss: 0.9595 | Test Acc: 0.5572 | Test Loss: 1.1941948752014004\n",
      "No improvement. Early stopping counter: 1/3\n",
      "\n",
      "Epoch 62\n"
     ]
    },
    {
     "name": "stderr",
     "output_type": "stream",
     "text": [
      "TRAINIGN: 100%|██████████| 587/587 [00:30<00:00, 19.29it/s]\n",
      "TESTING: 100%|██████████| 147/147 [00:07<00:00, 19.56it/s]\n"
     ]
    },
    {
     "name": "stdout",
     "output_type": "stream",
     "text": [
      "Train Acc: 0.5586 | Train Loss: 0.9517 | Test Acc: 0.5588 | Test Loss: 1.2724213077097524\n",
      "\n",
      "Epoch 63\n"
     ]
    },
    {
     "name": "stderr",
     "output_type": "stream",
     "text": [
      "TRAINIGN: 100%|██████████| 587/587 [00:31<00:00, 18.62it/s]\n",
      "TESTING: 100%|██████████| 147/147 [00:07<00:00, 18.89it/s]\n"
     ]
    },
    {
     "name": "stdout",
     "output_type": "stream",
     "text": [
      "Train Acc: 0.5602 | Train Loss: 0.9455 | Test Acc: 0.5604 | Test Loss: 1.2397476588787675\n",
      "No improvement. Early stopping counter: 1/3\n",
      "\n",
      "Epoch 64\n"
     ]
    },
    {
     "name": "stderr",
     "output_type": "stream",
     "text": [
      "TRAINIGN: 100%|██████████| 587/587 [00:30<00:00, 19.08it/s]\n",
      "TESTING: 100%|██████████| 147/147 [00:07<00:00, 19.18it/s]\n"
     ]
    },
    {
     "name": "stdout",
     "output_type": "stream",
     "text": [
      "Train Acc: 0.5619 | Train Loss: 0.9343 | Test Acc: 0.5621 | Test Loss: 1.230610184523524\n",
      "\n",
      "Epoch 65\n"
     ]
    },
    {
     "name": "stderr",
     "output_type": "stream",
     "text": [
      "TRAINIGN: 100%|██████████| 587/587 [00:31<00:00, 18.80it/s]\n",
      "TESTING: 100%|██████████| 147/147 [00:07<00:00, 18.95it/s]\n"
     ]
    },
    {
     "name": "stdout",
     "output_type": "stream",
     "text": [
      "Train Acc: 0.5635 | Train Loss: 0.9289 | Test Acc: 0.5637 | Test Loss: 1.2247465098796249\n",
      "No improvement. Early stopping counter: 1/3\n",
      "\n",
      "Epoch 66\n"
     ]
    },
    {
     "name": "stderr",
     "output_type": "stream",
     "text": [
      "TRAINIGN: 100%|██████████| 587/587 [00:31<00:00, 18.84it/s]\n",
      "TESTING: 100%|██████████| 147/147 [00:07<00:00, 19.69it/s]\n"
     ]
    },
    {
     "name": "stdout",
     "output_type": "stream",
     "text": [
      "Train Acc: 0.5651 | Train Loss: 0.9195 | Test Acc: 0.5652 | Test Loss: 1.2302317270616285\n",
      "\n",
      "Epoch 67\n"
     ]
    },
    {
     "name": "stderr",
     "output_type": "stream",
     "text": [
      "TRAINIGN: 100%|██████████| 587/587 [00:30<00:00, 19.39it/s]\n",
      "TESTING: 100%|██████████| 147/147 [00:07<00:00, 19.48it/s]\n"
     ]
    },
    {
     "name": "stdout",
     "output_type": "stream",
     "text": [
      "Train Acc: 0.5666 | Train Loss: 0.9138 | Test Acc: 0.5668 | Test Loss: 1.2305431357857322\n",
      "No improvement. Early stopping counter: 1/3\n",
      "\n",
      "Epoch 68\n"
     ]
    },
    {
     "name": "stderr",
     "output_type": "stream",
     "text": [
      "TRAINIGN: 100%|██████████| 587/587 [00:30<00:00, 19.31it/s]\n",
      "TESTING: 100%|██████████| 147/147 [00:07<00:00, 19.37it/s]\n"
     ]
    },
    {
     "name": "stdout",
     "output_type": "stream",
     "text": [
      "Train Acc: 0.5682 | Train Loss: 0.9058 | Test Acc: 0.5684 | Test Loss: 1.2467625145198538\n",
      "\n",
      "Epoch 69\n"
     ]
    },
    {
     "name": "stderr",
     "output_type": "stream",
     "text": [
      "TRAINIGN: 100%|██████████| 587/587 [00:30<00:00, 19.29it/s]\n",
      "TESTING: 100%|██████████| 147/147 [00:07<00:00, 18.90it/s]\n"
     ]
    },
    {
     "name": "stdout",
     "output_type": "stream",
     "text": [
      "Train Acc: 0.5697 | Train Loss: 0.9052 | Test Acc: 0.5699 | Test Loss: 1.174806535649462\n",
      "No improvement. Early stopping counter: 1/3\n",
      "\n",
      "Epoch 70\n"
     ]
    },
    {
     "name": "stderr",
     "output_type": "stream",
     "text": [
      "TRAINIGN: 100%|██████████| 587/587 [00:30<00:00, 19.24it/s]\n",
      "TESTING: 100%|██████████| 147/147 [00:07<00:00, 18.68it/s]\n"
     ]
    },
    {
     "name": "stdout",
     "output_type": "stream",
     "text": [
      "Train Acc: 0.5713 | Train Loss: 0.8964 | Test Acc: 0.5715 | Test Loss: 1.2427102051624634\n",
      "\n",
      "Epoch 71\n"
     ]
    },
    {
     "name": "stderr",
     "output_type": "stream",
     "text": [
      "TRAINIGN: 100%|██████████| 587/587 [00:32<00:00, 18.15it/s]\n",
      "TESTING: 100%|██████████| 147/147 [00:07<00:00, 18.92it/s]\n"
     ]
    },
    {
     "name": "stdout",
     "output_type": "stream",
     "text": [
      "Train Acc: 0.5728 | Train Loss: 0.8888 | Test Acc: 0.5730 | Test Loss: 1.2062022300804554\n",
      "No improvement. Early stopping counter: 1/3\n",
      "\n",
      "Epoch 72\n"
     ]
    },
    {
     "name": "stderr",
     "output_type": "stream",
     "text": [
      "TRAINIGN: 100%|██████████| 587/587 [00:32<00:00, 18.00it/s]\n",
      "TESTING: 100%|██████████| 147/147 [00:07<00:00, 18.61it/s]\n"
     ]
    },
    {
     "name": "stdout",
     "output_type": "stream",
     "text": [
      "Train Acc: 0.5743 | Train Loss: 0.8893 | Test Acc: 0.5744 | Test Loss: 1.228010114358396\n",
      "No improvement. Early stopping counter: 2/3\n",
      "\n",
      "Epoch 73\n"
     ]
    },
    {
     "name": "stderr",
     "output_type": "stream",
     "text": [
      "TRAINIGN: 100%|██████████| 587/587 [00:33<00:00, 17.34it/s]\n",
      "TESTING: 100%|██████████| 147/147 [00:08<00:00, 17.70it/s]\n"
     ]
    },
    {
     "name": "stdout",
     "output_type": "stream",
     "text": [
      "Train Acc: 0.5758 | Train Loss: 0.8732 | Test Acc: 0.5759 | Test Loss: 1.2413760788586674\n",
      "\n",
      "Epoch 74\n"
     ]
    },
    {
     "name": "stderr",
     "output_type": "stream",
     "text": [
      "TRAINIGN: 100%|██████████| 587/587 [00:31<00:00, 18.74it/s]\n",
      "TESTING: 100%|██████████| 147/147 [00:07<00:00, 19.40it/s]\n"
     ]
    },
    {
     "name": "stdout",
     "output_type": "stream",
     "text": [
      "Train Acc: 0.5772 | Train Loss: 0.8669 | Test Acc: 0.5774 | Test Loss: 1.2302956382433574\n",
      "No improvement. Early stopping counter: 1/3\n",
      "\n",
      "Epoch 75\n"
     ]
    },
    {
     "name": "stderr",
     "output_type": "stream",
     "text": [
      "TRAINIGN: 100%|██████████| 587/587 [00:31<00:00, 18.92it/s]\n",
      "TESTING: 100%|██████████| 147/147 [00:07<00:00, 19.18it/s]\n"
     ]
    },
    {
     "name": "stdout",
     "output_type": "stream",
     "text": [
      "Train Acc: 0.5787 | Train Loss: 0.8620 | Test Acc: 0.5788 | Test Loss: 1.2597282601862538\n",
      "No improvement. Early stopping counter: 2/3\n",
      "\n",
      "Epoch 76\n"
     ]
    },
    {
     "name": "stderr",
     "output_type": "stream",
     "text": [
      "TRAINIGN: 100%|██████████| 587/587 [00:30<00:00, 19.28it/s]\n",
      "TESTING: 100%|██████████| 147/147 [00:07<00:00, 19.01it/s]\n"
     ]
    },
    {
     "name": "stdout",
     "output_type": "stream",
     "text": [
      "Train Acc: 0.5801 | Train Loss: 0.8516 | Test Acc: 0.5803 | Test Loss: 1.2324755795958902\n",
      "\n",
      "Epoch 77\n"
     ]
    },
    {
     "name": "stderr",
     "output_type": "stream",
     "text": [
      "TRAINIGN: 100%|██████████| 587/587 [00:31<00:00, 18.57it/s]\n",
      "TESTING: 100%|██████████| 147/147 [00:07<00:00, 19.04it/s]\n"
     ]
    },
    {
     "name": "stdout",
     "output_type": "stream",
     "text": [
      "Train Acc: 0.5815 | Train Loss: 0.8479 | Test Acc: 0.5817 | Test Loss: 1.214943915402808\n",
      "No improvement. Early stopping counter: 1/3\n",
      "\n",
      "Epoch 78\n"
     ]
    },
    {
     "name": "stderr",
     "output_type": "stream",
     "text": [
      "TRAINIGN: 100%|██████████| 587/587 [00:31<00:00, 18.63it/s]\n",
      "TESTING: 100%|██████████| 147/147 [00:07<00:00, 19.61it/s]\n"
     ]
    },
    {
     "name": "stdout",
     "output_type": "stream",
     "text": [
      "Train Acc: 0.5830 | Train Loss: 0.8446 | Test Acc: 0.5831 | Test Loss: 1.2453311653364272\n",
      "No improvement. Early stopping counter: 2/3\n",
      "\n",
      "Epoch 79\n"
     ]
    },
    {
     "name": "stderr",
     "output_type": "stream",
     "text": [
      "TRAINIGN: 100%|██████████| 587/587 [00:31<00:00, 18.66it/s]\n",
      "TESTING: 100%|██████████| 147/147 [00:07<00:00, 18.99it/s]\n"
     ]
    },
    {
     "name": "stdout",
     "output_type": "stream",
     "text": [
      "Train Acc: 0.5844 | Train Loss: 0.8315 | Test Acc: 0.5845 | Test Loss: 1.2733642499463087\n",
      "\n",
      "Epoch 80\n"
     ]
    },
    {
     "name": "stderr",
     "output_type": "stream",
     "text": [
      "TRAINIGN: 100%|██████████| 587/587 [00:31<00:00, 18.71it/s]\n",
      "TESTING: 100%|██████████| 147/147 [00:07<00:00, 19.31it/s]\n"
     ]
    },
    {
     "name": "stdout",
     "output_type": "stream",
     "text": [
      "Train Acc: 0.5858 | Train Loss: 0.8267 | Test Acc: 0.5859 | Test Loss: 1.2421441836421991\n",
      "No improvement. Early stopping counter: 1/3\n",
      "\n",
      "Epoch 81\n"
     ]
    },
    {
     "name": "stderr",
     "output_type": "stream",
     "text": [
      "TRAINIGN: 100%|██████████| 587/587 [00:32<00:00, 18.31it/s]\n",
      "TESTING: 100%|██████████| 147/147 [00:07<00:00, 18.44it/s]\n"
     ]
    },
    {
     "name": "stdout",
     "output_type": "stream",
     "text": [
      "Train Acc: 0.5871 | Train Loss: 0.8283 | Test Acc: 0.5873 | Test Loss: 1.2245097756385803\n",
      "No improvement. Early stopping counter: 2/3\n",
      "\n",
      "Epoch 82\n"
     ]
    },
    {
     "name": "stderr",
     "output_type": "stream",
     "text": [
      "TRAINIGN: 100%|██████████| 587/587 [00:30<00:00, 18.96it/s]\n",
      "TESTING: 100%|██████████| 147/147 [00:07<00:00, 19.32it/s]\n"
     ]
    },
    {
     "name": "stdout",
     "output_type": "stream",
     "text": [
      "Train Acc: 0.5885 | Train Loss: 0.8214 | Test Acc: 0.5886 | Test Loss: 1.213988906266738\n",
      "\n",
      "Epoch 83\n"
     ]
    },
    {
     "name": "stderr",
     "output_type": "stream",
     "text": [
      "TRAINIGN: 100%|██████████| 587/587 [00:31<00:00, 18.64it/s]\n",
      "TESTING: 100%|██████████| 147/147 [00:07<00:00, 19.03it/s]\n"
     ]
    },
    {
     "name": "stdout",
     "output_type": "stream",
     "text": [
      "Train Acc: 0.5899 | Train Loss: 0.8068 | Test Acc: 0.5900 | Test Loss: 1.2655122057110273\n",
      "No improvement. Early stopping counter: 1/3\n",
      "\n",
      "Epoch 84\n"
     ]
    },
    {
     "name": "stderr",
     "output_type": "stream",
     "text": [
      "TRAINIGN: 100%|██████████| 587/587 [00:31<00:00, 18.34it/s]\n",
      "TESTING: 100%|██████████| 147/147 [00:07<00:00, 19.19it/s]\n"
     ]
    },
    {
     "name": "stdout",
     "output_type": "stream",
     "text": [
      "Train Acc: 0.5912 | Train Loss: 0.8060 | Test Acc: 0.5913 | Test Loss: 1.3024863320953992\n",
      "No improvement. Early stopping counter: 2/3\n",
      "\n",
      "Epoch 85\n"
     ]
    },
    {
     "name": "stderr",
     "output_type": "stream",
     "text": [
      "TRAINIGN: 100%|██████████| 587/587 [00:31<00:00, 18.39it/s]\n",
      "TESTING: 100%|██████████| 147/147 [00:07<00:00, 19.48it/s]\n"
     ]
    },
    {
     "name": "stdout",
     "output_type": "stream",
     "text": [
      "Train Acc: 0.5925 | Train Loss: 0.7968 | Test Acc: 0.5926 | Test Loss: 1.235003257284359\n",
      "\n",
      "Epoch 86\n"
     ]
    },
    {
     "name": "stderr",
     "output_type": "stream",
     "text": [
      "TRAINIGN: 100%|██████████| 587/587 [00:31<00:00, 18.71it/s]\n",
      "TESTING: 100%|██████████| 147/147 [00:07<00:00, 19.20it/s]\n"
     ]
    },
    {
     "name": "stdout",
     "output_type": "stream",
     "text": [
      "Train Acc: 0.5938 | Train Loss: 0.7989 | Test Acc: 0.5939 | Test Loss: 1.258203722587248\n",
      "No improvement. Early stopping counter: 1/3\n",
      "\n",
      "Epoch 87\n"
     ]
    },
    {
     "name": "stderr",
     "output_type": "stream",
     "text": [
      "TRAINIGN: 100%|██████████| 587/587 [00:30<00:00, 19.26it/s]\n",
      "TESTING: 100%|██████████| 147/147 [00:07<00:00, 18.84it/s]\n"
     ]
    },
    {
     "name": "stdout",
     "output_type": "stream",
     "text": [
      "Train Acc: 0.5951 | Train Loss: 0.7854 | Test Acc: 0.5952 | Test Loss: 1.2483793594399277\n",
      "No improvement. Early stopping counter: 2/3\n",
      "\n",
      "Epoch 88\n"
     ]
    },
    {
     "name": "stderr",
     "output_type": "stream",
     "text": [
      "TRAINIGN: 100%|██████████| 587/587 [00:31<00:00, 18.46it/s]\n",
      "TESTING: 100%|██████████| 147/147 [00:07<00:00, 19.47it/s]\n"
     ]
    },
    {
     "name": "stdout",
     "output_type": "stream",
     "text": [
      "Train Acc: 0.5964 | Train Loss: 0.7804 | Test Acc: 0.5965 | Test Loss: 1.2538584782963706\n",
      "\n",
      "Epoch 89\n"
     ]
    },
    {
     "name": "stderr",
     "output_type": "stream",
     "text": [
      "TRAINIGN: 100%|██████████| 587/587 [00:32<00:00, 18.33it/s]\n",
      "TESTING: 100%|██████████| 147/147 [00:07<00:00, 18.49it/s]\n"
     ]
    },
    {
     "name": "stdout",
     "output_type": "stream",
     "text": [
      "Train Acc: 0.5977 | Train Loss: 0.7731 | Test Acc: 0.5978 | Test Loss: 1.2285065306287233\n",
      "No improvement. Early stopping counter: 1/3\n",
      "\n",
      "Epoch 90\n"
     ]
    },
    {
     "name": "stderr",
     "output_type": "stream",
     "text": [
      "TRAINIGN: 100%|██████████| 587/587 [00:30<00:00, 19.37it/s]\n",
      "TESTING: 100%|██████████| 147/147 [00:07<00:00, 18.78it/s]\n"
     ]
    },
    {
     "name": "stdout",
     "output_type": "stream",
     "text": [
      "Train Acc: 0.5990 | Train Loss: 0.7710 | Test Acc: 0.5991 | Test Loss: 1.2719022339704085\n",
      "No improvement. Early stopping counter: 2/3\n",
      "\n",
      "Epoch 91\n"
     ]
    },
    {
     "name": "stderr",
     "output_type": "stream",
     "text": [
      "TRAINIGN: 100%|██████████| 587/587 [00:32<00:00, 18.07it/s]\n",
      "TESTING: 100%|██████████| 147/147 [00:08<00:00, 18.31it/s]\n"
     ]
    },
    {
     "name": "stdout",
     "output_type": "stream",
     "text": [
      "Train Acc: 0.6002 | Train Loss: 0.7655 | Test Acc: 0.6003 | Test Loss: 1.281290341396721\n",
      "\n",
      "Epoch 92\n"
     ]
    },
    {
     "name": "stderr",
     "output_type": "stream",
     "text": [
      "TRAINIGN: 100%|██████████| 587/587 [00:32<00:00, 18.11it/s]\n",
      "TESTING: 100%|██████████| 147/147 [00:07<00:00, 18.39it/s]\n"
     ]
    },
    {
     "name": "stdout",
     "output_type": "stream",
     "text": [
      "Train Acc: 0.6015 | Train Loss: 0.7599 | Test Acc: 0.6016 | Test Loss: 1.2358009693573933\n",
      "No improvement. Early stopping counter: 1/3\n",
      "\n",
      "Epoch 93\n"
     ]
    },
    {
     "name": "stderr",
     "output_type": "stream",
     "text": [
      "TRAINIGN: 100%|██████████| 587/587 [00:30<00:00, 18.97it/s]\n",
      "TESTING: 100%|██████████| 147/147 [00:07<00:00, 19.05it/s]\n"
     ]
    },
    {
     "name": "stdout",
     "output_type": "stream",
     "text": [
      "Train Acc: 0.6027 | Train Loss: 0.7529 | Test Acc: 0.6028 | Test Loss: 1.2849587984636528\n",
      "No improvement. Early stopping counter: 2/3\n",
      "\n",
      "Epoch 94\n"
     ]
    },
    {
     "name": "stderr",
     "output_type": "stream",
     "text": [
      "TRAINIGN: 100%|██████████| 587/587 [00:32<00:00, 18.30it/s]\n",
      "TESTING: 100%|██████████| 147/147 [00:07<00:00, 18.58it/s]\n"
     ]
    },
    {
     "name": "stdout",
     "output_type": "stream",
     "text": [
      "Train Acc: 0.6040 | Train Loss: 0.7382 | Test Acc: 0.6041 | Test Loss: 1.2603216503753143\n",
      "\n",
      "Epoch 95\n"
     ]
    },
    {
     "name": "stderr",
     "output_type": "stream",
     "text": [
      "TRAINIGN: 100%|██████████| 587/587 [00:30<00:00, 19.19it/s]\n",
      "TESTING: 100%|██████████| 147/147 [00:07<00:00, 18.72it/s]\n"
     ]
    },
    {
     "name": "stdout",
     "output_type": "stream",
     "text": [
      "Train Acc: 0.6052 | Train Loss: 0.7333 | Test Acc: 0.6053 | Test Loss: 1.274080705075037\n",
      "No improvement. Early stopping counter: 1/3\n",
      "\n",
      "Epoch 96\n"
     ]
    },
    {
     "name": "stderr",
     "output_type": "stream",
     "text": [
      "TRAINIGN: 100%|██████████| 587/587 [00:31<00:00, 18.81it/s]\n",
      "TESTING: 100%|██████████| 147/147 [00:07<00:00, 18.69it/s]\n"
     ]
    },
    {
     "name": "stdout",
     "output_type": "stream",
     "text": [
      "Train Acc: 0.6065 | Train Loss: 0.7371 | Test Acc: 0.6065 | Test Loss: 1.2616321643193562\n",
      "No improvement. Early stopping counter: 2/3\n",
      "\n",
      "Epoch 97\n"
     ]
    },
    {
     "name": "stderr",
     "output_type": "stream",
     "text": [
      "TRAINIGN: 100%|██████████| 587/587 [00:34<00:00, 17.22it/s]\n",
      "TESTING: 100%|██████████| 147/147 [00:07<00:00, 19.34it/s]\n"
     ]
    },
    {
     "name": "stdout",
     "output_type": "stream",
     "text": [
      "Train Acc: 0.6077 | Train Loss: 0.7277 | Test Acc: 0.6078 | Test Loss: 1.2999983162296063\n",
      "\n",
      "Epoch 98\n"
     ]
    },
    {
     "name": "stderr",
     "output_type": "stream",
     "text": [
      "TRAINIGN: 100%|██████████| 587/587 [00:30<00:00, 19.10it/s]\n",
      "TESTING: 100%|██████████| 147/147 [00:07<00:00, 18.87it/s]\n"
     ]
    },
    {
     "name": "stdout",
     "output_type": "stream",
     "text": [
      "Train Acc: 0.6089 | Train Loss: 0.7133 | Test Acc: 0.6090 | Test Loss: 1.2974915484181877\n",
      "No improvement. Early stopping counter: 1/3\n",
      "\n",
      "Epoch 99\n"
     ]
    },
    {
     "name": "stderr",
     "output_type": "stream",
     "text": [
      "TRAINIGN: 100%|██████████| 587/587 [00:31<00:00, 18.87it/s]\n",
      "TESTING: 100%|██████████| 147/147 [00:07<00:00, 19.29it/s]\n"
     ]
    },
    {
     "name": "stdout",
     "output_type": "stream",
     "text": [
      "Train Acc: 0.6101 | Train Loss: 0.7074 | Test Acc: 0.6102 | Test Loss: 1.322790006796519\n",
      "No improvement. Early stopping counter: 2/3\n",
      "\n",
      "Epoch 100\n"
     ]
    },
    {
     "name": "stderr",
     "output_type": "stream",
     "text": [
      "TRAINIGN: 100%|██████████| 587/587 [00:31<00:00, 18.79it/s]\n",
      "TESTING: 100%|██████████| 147/147 [00:07<00:00, 18.58it/s]\n"
     ]
    },
    {
     "name": "stdout",
     "output_type": "stream",
     "text": [
      "Train Acc: 0.6113 | Train Loss: 0.7143 | Test Acc: 0.6114 | Test Loss: 1.3386901840060748\n",
      "\n",
      "Epoch 101\n"
     ]
    },
    {
     "name": "stderr",
     "output_type": "stream",
     "text": [
      "TRAINIGN: 100%|██████████| 587/587 [00:30<00:00, 19.09it/s]\n",
      "TESTING: 100%|██████████| 147/147 [00:07<00:00, 18.85it/s]\n"
     ]
    },
    {
     "name": "stdout",
     "output_type": "stream",
     "text": [
      "Train Acc: 0.6125 | Train Loss: 0.7046 | Test Acc: 0.6125 | Test Loss: 1.3355865742073578\n",
      "No improvement. Early stopping counter: 1/3\n",
      "\n",
      "Epoch 102\n"
     ]
    },
    {
     "name": "stderr",
     "output_type": "stream",
     "text": [
      "TRAINIGN: 100%|██████████| 587/587 [00:31<00:00, 18.69it/s]\n",
      "TESTING: 100%|██████████| 147/147 [00:07<00:00, 19.04it/s]\n"
     ]
    },
    {
     "name": "stdout",
     "output_type": "stream",
     "text": [
      "Train Acc: 0.6137 | Train Loss: 0.6928 | Test Acc: 0.6137 | Test Loss: 1.3319561396326338\n",
      "No improvement. Early stopping counter: 2/3\n",
      "\n",
      "Epoch 103\n"
     ]
    },
    {
     "name": "stderr",
     "output_type": "stream",
     "text": [
      "TRAINIGN: 100%|██████████| 587/587 [00:31<00:00, 18.53it/s]\n",
      "TESTING: 100%|██████████| 147/147 [00:08<00:00, 18.13it/s]\n"
     ]
    },
    {
     "name": "stdout",
     "output_type": "stream",
     "text": [
      "Train Acc: 0.6148 | Train Loss: 0.6919 | Test Acc: 0.6148 | Test Loss: 1.3952525695975946\n",
      "\n",
      "Epoch 104\n"
     ]
    },
    {
     "name": "stderr",
     "output_type": "stream",
     "text": [
      "TRAINIGN: 100%|██████████| 587/587 [00:31<00:00, 18.89it/s]\n",
      "TESTING: 100%|██████████| 147/147 [00:07<00:00, 18.49it/s]\n"
     ]
    },
    {
     "name": "stdout",
     "output_type": "stream",
     "text": [
      "Train Acc: 0.6159 | Train Loss: 0.6857 | Test Acc: 0.6160 | Test Loss: 1.401128356959544\n",
      "No improvement. Early stopping counter: 1/3\n",
      "\n",
      "Epoch 105\n"
     ]
    },
    {
     "name": "stderr",
     "output_type": "stream",
     "text": [
      "TRAINIGN: 100%|██████████| 587/587 [00:31<00:00, 18.51it/s]\n",
      "TESTING: 100%|██████████| 147/147 [00:07<00:00, 19.77it/s]\n"
     ]
    },
    {
     "name": "stdout",
     "output_type": "stream",
     "text": [
      "Train Acc: 0.6171 | Train Loss: 0.6830 | Test Acc: 0.6171 | Test Loss: 1.3574671639877112\n",
      "No improvement. Early stopping counter: 2/3\n",
      "\n",
      "Epoch 106\n"
     ]
    },
    {
     "name": "stderr",
     "output_type": "stream",
     "text": [
      "TRAINIGN: 100%|██████████| 587/587 [00:31<00:00, 18.86it/s]\n",
      "TESTING: 100%|██████████| 147/147 [00:07<00:00, 18.92it/s]\n"
     ]
    },
    {
     "name": "stdout",
     "output_type": "stream",
     "text": [
      "Train Acc: 0.6182 | Train Loss: 0.6753 | Test Acc: 0.6183 | Test Loss: 1.3521463911549574\n",
      "\n",
      "Epoch 107\n"
     ]
    },
    {
     "name": "stderr",
     "output_type": "stream",
     "text": [
      "TRAINIGN: 100%|██████████| 587/587 [00:31<00:00, 18.81it/s]\n",
      "TESTING: 100%|██████████| 147/147 [00:08<00:00, 18.37it/s]\n"
     ]
    },
    {
     "name": "stdout",
     "output_type": "stream",
     "text": [
      "Train Acc: 0.6194 | Train Loss: 0.6691 | Test Acc: 0.6194 | Test Loss: 1.37452716851721\n",
      "No improvement. Early stopping counter: 1/3\n",
      "\n",
      "Epoch 108\n"
     ]
    },
    {
     "name": "stderr",
     "output_type": "stream",
     "text": [
      "TRAINIGN: 100%|██████████| 587/587 [00:32<00:00, 18.08it/s]\n",
      "TESTING: 100%|██████████| 147/147 [00:07<00:00, 19.19it/s]\n"
     ]
    },
    {
     "name": "stdout",
     "output_type": "stream",
     "text": [
      "Train Acc: 0.6205 | Train Loss: 0.6596 | Test Acc: 0.6206 | Test Loss: 1.3620113702047438\n",
      "No improvement. Early stopping counter: 2/3\n",
      "\n",
      "Epoch 109\n"
     ]
    },
    {
     "name": "stderr",
     "output_type": "stream",
     "text": [
      "TRAINIGN: 100%|██████████| 587/587 [00:31<00:00, 18.39it/s]\n",
      "TESTING: 100%|██████████| 147/147 [00:07<00:00, 18.65it/s]\n"
     ]
    },
    {
     "name": "stdout",
     "output_type": "stream",
     "text": [
      "Train Acc: 0.6216 | Train Loss: 0.6582 | Test Acc: 0.6217 | Test Loss: 1.3447983378455752\n",
      "\n",
      "Epoch 110\n"
     ]
    },
    {
     "name": "stderr",
     "output_type": "stream",
     "text": [
      "TRAINIGN: 100%|██████████| 587/587 [00:32<00:00, 17.81it/s]\n",
      "TESTING: 100%|██████████| 147/147 [00:08<00:00, 16.60it/s]\n"
     ]
    },
    {
     "name": "stdout",
     "output_type": "stream",
     "text": [
      "Train Acc: 0.6228 | Train Loss: 0.6548 | Test Acc: 0.6228 | Test Loss: 1.3219720818558518\n",
      "No improvement. Early stopping counter: 1/3\n",
      "\n",
      "Epoch 111\n"
     ]
    },
    {
     "name": "stderr",
     "output_type": "stream",
     "text": [
      "TRAINIGN: 100%|██████████| 587/587 [00:33<00:00, 17.32it/s]\n",
      "TESTING: 100%|██████████| 147/147 [00:08<00:00, 16.51it/s]\n"
     ]
    },
    {
     "name": "stdout",
     "output_type": "stream",
     "text": [
      "Train Acc: 0.6239 | Train Loss: 0.6478 | Test Acc: 0.6239 | Test Loss: 1.3399651014074987\n",
      "No improvement. Early stopping counter: 2/3\n",
      "\n",
      "Epoch 112\n"
     ]
    },
    {
     "name": "stderr",
     "output_type": "stream",
     "text": [
      "TRAINIGN: 100%|██████████| 587/587 [00:33<00:00, 17.35it/s]\n",
      "TESTING: 100%|██████████| 147/147 [00:08<00:00, 17.11it/s]\n"
     ]
    },
    {
     "name": "stdout",
     "output_type": "stream",
     "text": [
      "Train Acc: 0.6250 | Train Loss: 0.6394 | Test Acc: 0.6251 | Test Loss: 1.3953070887902967\n",
      "\n",
      "Epoch 113\n"
     ]
    },
    {
     "name": "stderr",
     "output_type": "stream",
     "text": [
      "TRAINIGN: 100%|██████████| 587/587 [00:32<00:00, 17.83it/s]\n",
      "TESTING: 100%|██████████| 147/147 [00:07<00:00, 18.87it/s]\n"
     ]
    },
    {
     "name": "stdout",
     "output_type": "stream",
     "text": [
      "Train Acc: 0.6261 | Train Loss: 0.6332 | Test Acc: 0.6261 | Test Loss: 1.3756827971562235\n",
      "No improvement. Early stopping counter: 1/3\n",
      "\n",
      "Epoch 114\n"
     ]
    },
    {
     "name": "stderr",
     "output_type": "stream",
     "text": [
      "TRAINIGN: 100%|██████████| 587/587 [00:33<00:00, 17.74it/s]\n",
      "TESTING: 100%|██████████| 147/147 [00:09<00:00, 15.57it/s]\n"
     ]
    },
    {
     "name": "stdout",
     "output_type": "stream",
     "text": [
      "Train Acc: 0.6272 | Train Loss: 0.6278 | Test Acc: 0.6273 | Test Loss: 1.3453064204073277\n",
      "No improvement. Early stopping counter: 2/3\n",
      "\n",
      "Epoch 115\n"
     ]
    },
    {
     "name": "stderr",
     "output_type": "stream",
     "text": [
      "TRAINIGN: 100%|██████████| 587/587 [00:34<00:00, 16.91it/s]\n",
      "TESTING: 100%|██████████| 147/147 [00:08<00:00, 17.47it/s]\n"
     ]
    },
    {
     "name": "stdout",
     "output_type": "stream",
     "text": [
      "Train Acc: 0.6284 | Train Loss: 0.6209 | Test Acc: 0.6284 | Test Loss: 1.3911441519957821\n",
      "\n",
      "Epoch 116\n"
     ]
    },
    {
     "name": "stderr",
     "output_type": "stream",
     "text": [
      "TRAINIGN: 100%|██████████| 587/587 [00:32<00:00, 17.94it/s]\n",
      "TESTING: 100%|██████████| 147/147 [00:08<00:00, 17.09it/s]\n"
     ]
    },
    {
     "name": "stdout",
     "output_type": "stream",
     "text": [
      "Train Acc: 0.6294 | Train Loss: 0.6195 | Test Acc: 0.6295 | Test Loss: 1.4213310776113652\n",
      "No improvement. Early stopping counter: 1/3\n",
      "\n",
      "Epoch 117\n"
     ]
    },
    {
     "name": "stderr",
     "output_type": "stream",
     "text": [
      "TRAINIGN: 100%|██████████| 587/587 [00:33<00:00, 17.46it/s]\n",
      "TESTING: 100%|██████████| 147/147 [00:08<00:00, 18.07it/s]\n"
     ]
    },
    {
     "name": "stdout",
     "output_type": "stream",
     "text": [
      "Train Acc: 0.6305 | Train Loss: 0.6098 | Test Acc: 0.6305 | Test Loss: 1.408674397436129\n",
      "No improvement. Early stopping counter: 2/3\n",
      "\n",
      "Epoch 118\n"
     ]
    },
    {
     "name": "stderr",
     "output_type": "stream",
     "text": [
      "TRAINIGN: 100%|██████████| 587/587 [00:31<00:00, 18.43it/s]\n",
      "TESTING: 100%|██████████| 147/147 [00:07<00:00, 19.08it/s]\n"
     ]
    },
    {
     "name": "stdout",
     "output_type": "stream",
     "text": [
      "Train Acc: 0.6316 | Train Loss: 0.6122 | Test Acc: 0.6316 | Test Loss: 1.4345190370974898\n",
      "\n",
      "Epoch 119\n"
     ]
    },
    {
     "name": "stderr",
     "output_type": "stream",
     "text": [
      "TRAINIGN: 100%|██████████| 587/587 [00:31<00:00, 18.57it/s]\n",
      "TESTING: 100%|██████████| 147/147 [00:07<00:00, 18.39it/s]\n"
     ]
    },
    {
     "name": "stdout",
     "output_type": "stream",
     "text": [
      "Train Acc: 0.6326 | Train Loss: 0.6085 | Test Acc: 0.6327 | Test Loss: 1.4097607565574906\n",
      "No improvement. Early stopping counter: 1/3\n",
      "\n",
      "Epoch 120\n"
     ]
    },
    {
     "name": "stderr",
     "output_type": "stream",
     "text": [
      "TRAINIGN: 100%|██████████| 587/587 [00:30<00:00, 19.39it/s]\n",
      "TESTING: 100%|██████████| 147/147 [00:07<00:00, 19.02it/s]\n"
     ]
    },
    {
     "name": "stdout",
     "output_type": "stream",
     "text": [
      "Train Acc: 0.6337 | Train Loss: 0.5984 | Test Acc: 0.6337 | Test Loss: 1.4274990509967416\n",
      "No improvement. Early stopping counter: 2/3\n",
      "\n",
      "Epoch 121\n"
     ]
    },
    {
     "name": "stderr",
     "output_type": "stream",
     "text": [
      "TRAINIGN: 100%|██████████| 587/587 [00:32<00:00, 18.32it/s]\n",
      "TESTING: 100%|██████████| 147/147 [00:07<00:00, 18.86it/s]\n"
     ]
    },
    {
     "name": "stdout",
     "output_type": "stream",
     "text": [
      "Train Acc: 0.6348 | Train Loss: 0.5929 | Test Acc: 0.6348 | Test Loss: 1.3893229961395264\n",
      "\n",
      "Epoch 122\n"
     ]
    },
    {
     "name": "stderr",
     "output_type": "stream",
     "text": [
      "TRAINIGN: 100%|██████████| 587/587 [00:32<00:00, 18.21it/s]\n",
      "TESTING: 100%|██████████| 147/147 [00:08<00:00, 17.87it/s]\n"
     ]
    },
    {
     "name": "stdout",
     "output_type": "stream",
     "text": [
      "Train Acc: 0.6358 | Train Loss: 0.5905 | Test Acc: 0.6358 | Test Loss: 1.477342889422462\n",
      "No improvement. Early stopping counter: 1/3\n",
      "\n",
      "Epoch 123\n"
     ]
    },
    {
     "name": "stderr",
     "output_type": "stream",
     "text": [
      "TRAINIGN: 100%|██████████| 587/587 [00:32<00:00, 18.33it/s]\n",
      "TESTING: 100%|██████████| 147/147 [00:07<00:00, 18.60it/s]\n"
     ]
    },
    {
     "name": "stdout",
     "output_type": "stream",
     "text": [
      "Train Acc: 0.6369 | Train Loss: 0.5815 | Test Acc: 0.6369 | Test Loss: 1.4722550478922267\n",
      "No improvement. Early stopping counter: 2/3\n",
      "\n",
      "Epoch 124\n"
     ]
    },
    {
     "name": "stderr",
     "output_type": "stream",
     "text": [
      "TRAINIGN: 100%|██████████| 587/587 [00:33<00:00, 17.74it/s]\n",
      "TESTING: 100%|██████████| 147/147 [00:07<00:00, 18.89it/s]\n"
     ]
    },
    {
     "name": "stdout",
     "output_type": "stream",
     "text": [
      "Train Acc: 0.6379 | Train Loss: 0.5814 | Test Acc: 0.6379 | Test Loss: 1.4331580015266834\n",
      "\n",
      "Epoch 125\n"
     ]
    },
    {
     "name": "stderr",
     "output_type": "stream",
     "text": [
      "TRAINIGN: 100%|██████████| 587/587 [00:31<00:00, 18.75it/s]\n",
      "TESTING: 100%|██████████| 147/147 [00:07<00:00, 19.01it/s]\n"
     ]
    },
    {
     "name": "stdout",
     "output_type": "stream",
     "text": [
      "Train Acc: 0.6389 | Train Loss: 0.5751 | Test Acc: 0.6389 | Test Loss: 1.43202742021911\n",
      "No improvement. Early stopping counter: 1/3\n",
      "\n",
      "Epoch 126\n"
     ]
    },
    {
     "name": "stderr",
     "output_type": "stream",
     "text": [
      "TRAINIGN: 100%|██████████| 587/587 [00:32<00:00, 18.07it/s]\n",
      "TESTING: 100%|██████████| 147/147 [00:08<00:00, 18.06it/s]\n"
     ]
    },
    {
     "name": "stdout",
     "output_type": "stream",
     "text": [
      "Train Acc: 0.6399 | Train Loss: 0.5688 | Test Acc: 0.6399 | Test Loss: 1.4874589808133183\n",
      "No improvement. Early stopping counter: 2/3\n",
      "\n",
      "Epoch 127\n"
     ]
    },
    {
     "name": "stderr",
     "output_type": "stream",
     "text": [
      "TRAINIGN: 100%|██████████| 587/587 [00:31<00:00, 18.36it/s]\n",
      "TESTING: 100%|██████████| 147/147 [00:07<00:00, 18.45it/s]\n"
     ]
    },
    {
     "name": "stdout",
     "output_type": "stream",
     "text": [
      "Train Acc: 0.6409 | Train Loss: 0.5637 | Test Acc: 0.6409 | Test Loss: 1.4815562626942484\n",
      "\n",
      "Epoch 128\n"
     ]
    },
    {
     "name": "stderr",
     "output_type": "stream",
     "text": [
      "TRAINIGN: 100%|██████████| 587/587 [00:31<00:00, 18.70it/s]\n",
      "TESTING: 100%|██████████| 147/147 [00:07<00:00, 19.15it/s]\n"
     ]
    },
    {
     "name": "stdout",
     "output_type": "stream",
     "text": [
      "Train Acc: 0.6420 | Train Loss: 0.5587 | Test Acc: 0.6419 | Test Loss: 1.5454803040238465\n",
      "No improvement. Early stopping counter: 1/3\n",
      "\n",
      "Epoch 129\n"
     ]
    },
    {
     "name": "stderr",
     "output_type": "stream",
     "text": [
      "TRAINIGN: 100%|██████████| 587/587 [00:31<00:00, 18.42it/s]\n",
      "TESTING: 100%|██████████| 147/147 [00:07<00:00, 18.44it/s]\n"
     ]
    },
    {
     "name": "stdout",
     "output_type": "stream",
     "text": [
      "Train Acc: 0.6430 | Train Loss: 0.5537 | Test Acc: 0.6430 | Test Loss: 1.5103978210565996\n",
      "No improvement. Early stopping counter: 2/3\n",
      "\n",
      "Epoch 130\n"
     ]
    },
    {
     "name": "stderr",
     "output_type": "stream",
     "text": [
      "TRAINIGN: 100%|██████████| 587/587 [00:31<00:00, 18.89it/s]\n",
      "TESTING: 100%|██████████| 147/147 [00:07<00:00, 19.37it/s]\n"
     ]
    },
    {
     "name": "stdout",
     "output_type": "stream",
     "text": [
      "Train Acc: 0.6440 | Train Loss: 0.5547 | Test Acc: 0.6440 | Test Loss: 1.4794964080765134\n",
      "\n",
      "Epoch 131\n"
     ]
    },
    {
     "name": "stderr",
     "output_type": "stream",
     "text": [
      "TRAINIGN: 100%|██████████| 587/587 [00:31<00:00, 18.56it/s]\n",
      "TESTING: 100%|██████████| 147/147 [00:08<00:00, 18.25it/s]\n"
     ]
    },
    {
     "name": "stdout",
     "output_type": "stream",
     "text": [
      "Train Acc: 0.6450 | Train Loss: 0.5414 | Test Acc: 0.6450 | Test Loss: 1.4581639628832033\n",
      "No improvement. Early stopping counter: 1/3\n",
      "\n",
      "Epoch 132\n"
     ]
    },
    {
     "name": "stderr",
     "output_type": "stream",
     "text": [
      "TRAINIGN: 100%|██████████| 587/587 [00:31<00:00, 18.81it/s]\n",
      "TESTING: 100%|██████████| 147/147 [00:08<00:00, 18.19it/s]\n"
     ]
    },
    {
     "name": "stdout",
     "output_type": "stream",
     "text": [
      "Train Acc: 0.6460 | Train Loss: 0.5404 | Test Acc: 0.6460 | Test Loss: 1.4799524079374715\n",
      "No improvement. Early stopping counter: 2/3\n",
      "\n",
      "Epoch 133\n"
     ]
    },
    {
     "name": "stderr",
     "output_type": "stream",
     "text": [
      "TRAINIGN: 100%|██████████| 587/587 [00:32<00:00, 18.27it/s]\n",
      "TESTING: 100%|██████████| 147/147 [00:07<00:00, 18.60it/s]\n"
     ]
    },
    {
     "name": "stdout",
     "output_type": "stream",
     "text": [
      "Train Acc: 0.6470 | Train Loss: 0.5341 | Test Acc: 0.6470 | Test Loss: 1.5417296558010334\n",
      "\n",
      "Epoch 134\n"
     ]
    },
    {
     "name": "stderr",
     "output_type": "stream",
     "text": [
      "TRAINIGN: 100%|██████████| 587/587 [00:32<00:00, 18.26it/s]\n",
      "TESTING: 100%|██████████| 147/147 [00:07<00:00, 18.54it/s]\n"
     ]
    },
    {
     "name": "stdout",
     "output_type": "stream",
     "text": [
      "Train Acc: 0.6480 | Train Loss: 0.5328 | Test Acc: 0.6479 | Test Loss: 1.569717255579371\n",
      "No improvement. Early stopping counter: 1/3\n",
      "\n",
      "Epoch 135\n"
     ]
    },
    {
     "name": "stderr",
     "output_type": "stream",
     "text": [
      "TRAINIGN: 100%|██████████| 587/587 [00:31<00:00, 18.80it/s]\n",
      "TESTING: 100%|██████████| 147/147 [00:07<00:00, 18.97it/s]\n"
     ]
    },
    {
     "name": "stdout",
     "output_type": "stream",
     "text": [
      "Train Acc: 0.6489 | Train Loss: 0.5263 | Test Acc: 0.6489 | Test Loss: 1.55181468546796\n",
      "No improvement. Early stopping counter: 2/3\n",
      "\n",
      "Epoch 136\n"
     ]
    },
    {
     "name": "stderr",
     "output_type": "stream",
     "text": [
      "TRAINIGN: 100%|██████████| 587/587 [00:31<00:00, 18.39it/s]\n",
      "TESTING: 100%|██████████| 147/147 [00:07<00:00, 18.95it/s]"
     ]
    },
    {
     "name": "stdout",
     "output_type": "stream",
     "text": [
      "Train Acc: 0.6499 | Train Loss: 0.5181 | Test Acc: 0.6499 | Test Loss: 1.5819086687905448\n",
      "No improvement. Early stopping counter: 3/3\n",
      "Early stopping triggered.\n"
     ]
    },
    {
     "name": "stderr",
     "output_type": "stream",
     "text": [
      "\n"
     ]
    }
   ],
   "source": [
    "device = torch.device(\"cuda\" if torch.cuda.is_available() else \"cpu\")\n",
    "model_multilayer_8 = BirdClassifier(cnn_state=False, dim= 256, layer_count=8, head_count = 1).to(device)\n",
    "criterion = nn.CrossEntropyLoss().to(device)\n",
    "optimizer = optim.Adam(model_multilayer_8.parameters(), lr=3e-4)\n",
    "accuracy_score = Accuracy(task = 'multiclass', num_classes = 10).to(device)\n",
    "\n",
    "\n",
    "patience = 3\n",
    "min_delta = 3e-3\n",
    "best_accuracy = 0\n",
    "counter = 0\n",
    "best_test_acc = 0\n",
    "\n",
    "loss_scores_train_multilayer_8 = []\n",
    "accuracy_scores_train_multilayer_8 = []\n",
    "\n",
    "loss_scores_test_multilayer_8 = []\n",
    "accuracy_scores_test_multilayer_8 = []\n",
    "\n",
    "for epoch in range(200):  \n",
    "    print(f\"\\nEpoch {epoch+1}\")\n",
    "    train_acc, train_loss = train_model(model_multilayer_8, training_dataset, criterion, optimizer, accuracy_score, device)\n",
    "    test_acc, test_loss = test_model(model_multilayer_8, testing_dataset, criterion, accuracy_score, device)\n",
    "    \n",
    "    accuracy_scores_train_multilayer_8.append(train_acc)\n",
    "    loss_scores_train_multilayer_8.append(train_loss)\n",
    "\n",
    "    accuracy_scores_test_multilayer_8.append(test_acc)\n",
    "    loss_scores_test_multilayer_8.append(test_loss)\n",
    "    print(f\"Train Acc: {train_acc:.4f} | Train Loss: {train_loss:.4f} | Test Acc: {test_acc:.4f} | Test Loss: {test_loss}\")\n",
    "    \n",
    "    if test_acc - best_test_acc > min_delta:\n",
    "        best_test_acc = test_acc\n",
    "        counter = 0\n",
    "    else:\n",
    "        counter += 1\n",
    "        print(f\"No improvement. Early stopping counter: {counter}/{patience}\")\n",
    "        if counter >= patience:\n",
    "            print(\"Early stopping triggered.\")\n",
    "            break"
   ]
  },
  {
   "cell_type": "markdown",
   "metadata": {},
   "source": [
    "# Results Dataframe - ViT"
   ]
  },
  {
   "cell_type": "code",
   "execution_count": 18,
   "metadata": {},
   "outputs": [
    {
     "data": {
      "text/html": [
       "<div>\n",
       "<style scoped>\n",
       "    .dataframe tbody tr th:only-of-type {\n",
       "        vertical-align: middle;\n",
       "    }\n",
       "\n",
       "    .dataframe tbody tr th {\n",
       "        vertical-align: top;\n",
       "    }\n",
       "\n",
       "    .dataframe thead th {\n",
       "        text-align: right;\n",
       "    }\n",
       "</style>\n",
       "<table border=\"1\" class=\"dataframe\">\n",
       "  <thead>\n",
       "    <tr style=\"text-align: right;\">\n",
       "      <th></th>\n",
       "      <th>loss_base_train</th>\n",
       "      <th>loss_2_heads_train</th>\n",
       "      <th>loss_4_heads_train</th>\n",
       "      <th>loss_8_heads_train</th>\n",
       "      <th>loss_2_layers_train</th>\n",
       "      <th>loss_4_layers_train</th>\n",
       "      <th>loss_8_layers_train</th>\n",
       "      <th>acc_base_train</th>\n",
       "      <th>acc_2_heads_train</th>\n",
       "      <th>acc_4_heads_train</th>\n",
       "      <th>...</th>\n",
       "      <th>loss_2_layers_test</th>\n",
       "      <th>loss_4_layers_test</th>\n",
       "      <th>loss_8_layers_test</th>\n",
       "      <th>acc_base_test</th>\n",
       "      <th>acc_2_heads_test</th>\n",
       "      <th>acc_4_heads_test</th>\n",
       "      <th>acc_8_heads_test</th>\n",
       "      <th>acc_2_layers_test</th>\n",
       "      <th>acc_4_layers_test</th>\n",
       "      <th>acc_8_layers_test</th>\n",
       "    </tr>\n",
       "  </thead>\n",
       "  <tbody>\n",
       "    <tr>\n",
       "      <th>0</th>\n",
       "      <td>2.146070</td>\n",
       "      <td>2.108703</td>\n",
       "      <td>2.043094</td>\n",
       "      <td>2.004141</td>\n",
       "      <td>2.044402</td>\n",
       "      <td>2.014608</td>\n",
       "      <td>1.985711</td>\n",
       "      <td>0.199936</td>\n",
       "      <td>0.229396</td>\n",
       "      <td>0.259549</td>\n",
       "      <td>...</td>\n",
       "      <td>1.955657</td>\n",
       "      <td>1.844888</td>\n",
       "      <td>2.015604</td>\n",
       "      <td>0.207680</td>\n",
       "      <td>0.245184</td>\n",
       "      <td>0.270350</td>\n",
       "      <td>0.292917</td>\n",
       "      <td>0.268006</td>\n",
       "      <td>0.284010</td>\n",
       "      <td>0.291638</td>\n",
       "    </tr>\n",
       "    <tr>\n",
       "      <th>1</th>\n",
       "      <td>2.043333</td>\n",
       "      <td>1.966786</td>\n",
       "      <td>1.908869</td>\n",
       "      <td>1.849407</td>\n",
       "      <td>1.900015</td>\n",
       "      <td>1.853478</td>\n",
       "      <td>1.797012</td>\n",
       "      <td>0.223855</td>\n",
       "      <td>0.268000</td>\n",
       "      <td>0.291476</td>\n",
       "      <td>...</td>\n",
       "      <td>1.902930</td>\n",
       "      <td>1.796280</td>\n",
       "      <td>1.736212</td>\n",
       "      <td>0.227497</td>\n",
       "      <td>0.273227</td>\n",
       "      <td>0.296870</td>\n",
       "      <td>0.320139</td>\n",
       "      <td>0.294920</td>\n",
       "      <td>0.313811</td>\n",
       "      <td>0.329420</td>\n",
       "    </tr>\n",
       "    <tr>\n",
       "      <th>2</th>\n",
       "      <td>1.997655</td>\n",
       "      <td>1.913185</td>\n",
       "      <td>1.849224</td>\n",
       "      <td>1.789793</td>\n",
       "      <td>1.831760</td>\n",
       "      <td>1.785927</td>\n",
       "      <td>1.730481</td>\n",
       "      <td>0.239859</td>\n",
       "      <td>0.285316</td>\n",
       "      <td>0.309776</td>\n",
       "      <td>...</td>\n",
       "      <td>1.876147</td>\n",
       "      <td>1.743094</td>\n",
       "      <td>1.652961</td>\n",
       "      <td>0.242762</td>\n",
       "      <td>0.287661</td>\n",
       "      <td>0.312983</td>\n",
       "      <td>0.335997</td>\n",
       "      <td>0.311150</td>\n",
       "      <td>0.331806</td>\n",
       "      <td>0.349216</td>\n",
       "    </tr>\n",
       "    <tr>\n",
       "      <th>3</th>\n",
       "      <td>1.966213</td>\n",
       "      <td>1.881809</td>\n",
       "      <td>1.809316</td>\n",
       "      <td>1.755141</td>\n",
       "      <td>1.784462</td>\n",
       "      <td>1.745094</td>\n",
       "      <td>1.683028</td>\n",
       "      <td>0.252078</td>\n",
       "      <td>0.295599</td>\n",
       "      <td>0.321781</td>\n",
       "      <td>...</td>\n",
       "      <td>1.760538</td>\n",
       "      <td>1.786806</td>\n",
       "      <td>1.619792</td>\n",
       "      <td>0.253617</td>\n",
       "      <td>0.298281</td>\n",
       "      <td>0.323874</td>\n",
       "      <td>0.347463</td>\n",
       "      <td>0.325653</td>\n",
       "      <td>0.344107</td>\n",
       "      <td>0.364042</td>\n",
       "    </tr>\n",
       "    <tr>\n",
       "      <th>4</th>\n",
       "      <td>1.944088</td>\n",
       "      <td>1.855255</td>\n",
       "      <td>1.785239</td>\n",
       "      <td>1.721999</td>\n",
       "      <td>1.754871</td>\n",
       "      <td>1.711375</td>\n",
       "      <td>1.646465</td>\n",
       "      <td>0.261190</td>\n",
       "      <td>0.304629</td>\n",
       "      <td>0.331186</td>\n",
       "      <td>...</td>\n",
       "      <td>1.770413</td>\n",
       "      <td>1.716416</td>\n",
       "      <td>1.633603</td>\n",
       "      <td>0.262692</td>\n",
       "      <td>0.306840</td>\n",
       "      <td>0.333063</td>\n",
       "      <td>0.357727</td>\n",
       "      <td>0.336004</td>\n",
       "      <td>0.354066</td>\n",
       "      <td>0.375418</td>\n",
       "    </tr>\n",
       "    <tr>\n",
       "      <th>...</th>\n",
       "      <td>...</td>\n",
       "      <td>...</td>\n",
       "      <td>...</td>\n",
       "      <td>...</td>\n",
       "      <td>...</td>\n",
       "      <td>...</td>\n",
       "      <td>...</td>\n",
       "      <td>...</td>\n",
       "      <td>...</td>\n",
       "      <td>...</td>\n",
       "      <td>...</td>\n",
       "      <td>...</td>\n",
       "      <td>...</td>\n",
       "      <td>...</td>\n",
       "      <td>...</td>\n",
       "      <td>...</td>\n",
       "      <td>...</td>\n",
       "      <td>...</td>\n",
       "      <td>...</td>\n",
       "      <td>...</td>\n",
       "      <td>...</td>\n",
       "    </tr>\n",
       "    <tr>\n",
       "      <th>131</th>\n",
       "      <td>NaN</td>\n",
       "      <td>NaN</td>\n",
       "      <td>NaN</td>\n",
       "      <td>NaN</td>\n",
       "      <td>NaN</td>\n",
       "      <td>NaN</td>\n",
       "      <td>0.540410</td>\n",
       "      <td>NaN</td>\n",
       "      <td>NaN</td>\n",
       "      <td>NaN</td>\n",
       "      <td>...</td>\n",
       "      <td>NaN</td>\n",
       "      <td>NaN</td>\n",
       "      <td>1.479952</td>\n",
       "      <td>NaN</td>\n",
       "      <td>NaN</td>\n",
       "      <td>NaN</td>\n",
       "      <td>NaN</td>\n",
       "      <td>NaN</td>\n",
       "      <td>NaN</td>\n",
       "      <td>0.645976</td>\n",
       "    </tr>\n",
       "    <tr>\n",
       "      <th>132</th>\n",
       "      <td>NaN</td>\n",
       "      <td>NaN</td>\n",
       "      <td>NaN</td>\n",
       "      <td>NaN</td>\n",
       "      <td>NaN</td>\n",
       "      <td>NaN</td>\n",
       "      <td>0.534138</td>\n",
       "      <td>NaN</td>\n",
       "      <td>NaN</td>\n",
       "      <td>NaN</td>\n",
       "      <td>...</td>\n",
       "      <td>NaN</td>\n",
       "      <td>NaN</td>\n",
       "      <td>1.541730</td>\n",
       "      <td>NaN</td>\n",
       "      <td>NaN</td>\n",
       "      <td>NaN</td>\n",
       "      <td>NaN</td>\n",
       "      <td>NaN</td>\n",
       "      <td>NaN</td>\n",
       "      <td>0.646981</td>\n",
       "    </tr>\n",
       "    <tr>\n",
       "      <th>133</th>\n",
       "      <td>NaN</td>\n",
       "      <td>NaN</td>\n",
       "      <td>NaN</td>\n",
       "      <td>NaN</td>\n",
       "      <td>NaN</td>\n",
       "      <td>NaN</td>\n",
       "      <td>0.532762</td>\n",
       "      <td>NaN</td>\n",
       "      <td>NaN</td>\n",
       "      <td>NaN</td>\n",
       "      <td>...</td>\n",
       "      <td>NaN</td>\n",
       "      <td>NaN</td>\n",
       "      <td>1.569717</td>\n",
       "      <td>NaN</td>\n",
       "      <td>NaN</td>\n",
       "      <td>NaN</td>\n",
       "      <td>NaN</td>\n",
       "      <td>NaN</td>\n",
       "      <td>NaN</td>\n",
       "      <td>0.647947</td>\n",
       "    </tr>\n",
       "    <tr>\n",
       "      <th>134</th>\n",
       "      <td>NaN</td>\n",
       "      <td>NaN</td>\n",
       "      <td>NaN</td>\n",
       "      <td>NaN</td>\n",
       "      <td>NaN</td>\n",
       "      <td>NaN</td>\n",
       "      <td>0.526259</td>\n",
       "      <td>NaN</td>\n",
       "      <td>NaN</td>\n",
       "      <td>NaN</td>\n",
       "      <td>...</td>\n",
       "      <td>NaN</td>\n",
       "      <td>NaN</td>\n",
       "      <td>1.551815</td>\n",
       "      <td>NaN</td>\n",
       "      <td>NaN</td>\n",
       "      <td>NaN</td>\n",
       "      <td>NaN</td>\n",
       "      <td>NaN</td>\n",
       "      <td>NaN</td>\n",
       "      <td>0.648919</td>\n",
       "    </tr>\n",
       "    <tr>\n",
       "      <th>135</th>\n",
       "      <td>NaN</td>\n",
       "      <td>NaN</td>\n",
       "      <td>NaN</td>\n",
       "      <td>NaN</td>\n",
       "      <td>NaN</td>\n",
       "      <td>NaN</td>\n",
       "      <td>0.518057</td>\n",
       "      <td>NaN</td>\n",
       "      <td>NaN</td>\n",
       "      <td>NaN</td>\n",
       "      <td>...</td>\n",
       "      <td>NaN</td>\n",
       "      <td>NaN</td>\n",
       "      <td>1.581909</td>\n",
       "      <td>NaN</td>\n",
       "      <td>NaN</td>\n",
       "      <td>NaN</td>\n",
       "      <td>NaN</td>\n",
       "      <td>NaN</td>\n",
       "      <td>NaN</td>\n",
       "      <td>0.649893</td>\n",
       "    </tr>\n",
       "  </tbody>\n",
       "</table>\n",
       "<p>136 rows × 28 columns</p>\n",
       "</div>"
      ],
      "text/plain": [
       "     loss_base_train  loss_2_heads_train  loss_4_heads_train  \\\n",
       "0           2.146070            2.108703            2.043094   \n",
       "1           2.043333            1.966786            1.908869   \n",
       "2           1.997655            1.913185            1.849224   \n",
       "3           1.966213            1.881809            1.809316   \n",
       "4           1.944088            1.855255            1.785239   \n",
       "..               ...                 ...                 ...   \n",
       "131              NaN                 NaN                 NaN   \n",
       "132              NaN                 NaN                 NaN   \n",
       "133              NaN                 NaN                 NaN   \n",
       "134              NaN                 NaN                 NaN   \n",
       "135              NaN                 NaN                 NaN   \n",
       "\n",
       "     loss_8_heads_train  loss_2_layers_train  loss_4_layers_train  \\\n",
       "0              2.004141             2.044402             2.014608   \n",
       "1              1.849407             1.900015             1.853478   \n",
       "2              1.789793             1.831760             1.785927   \n",
       "3              1.755141             1.784462             1.745094   \n",
       "4              1.721999             1.754871             1.711375   \n",
       "..                  ...                  ...                  ...   \n",
       "131                 NaN                  NaN                  NaN   \n",
       "132                 NaN                  NaN                  NaN   \n",
       "133                 NaN                  NaN                  NaN   \n",
       "134                 NaN                  NaN                  NaN   \n",
       "135                 NaN                  NaN                  NaN   \n",
       "\n",
       "     loss_8_layers_train  acc_base_train  acc_2_heads_train  \\\n",
       "0               1.985711        0.199936           0.229396   \n",
       "1               1.797012        0.223855           0.268000   \n",
       "2               1.730481        0.239859           0.285316   \n",
       "3               1.683028        0.252078           0.295599   \n",
       "4               1.646465        0.261190           0.304629   \n",
       "..                   ...             ...                ...   \n",
       "131             0.540410             NaN                NaN   \n",
       "132             0.534138             NaN                NaN   \n",
       "133             0.532762             NaN                NaN   \n",
       "134             0.526259             NaN                NaN   \n",
       "135             0.518057             NaN                NaN   \n",
       "\n",
       "     acc_4_heads_train  ...  loss_2_layers_test  loss_4_layers_test  \\\n",
       "0             0.259549  ...            1.955657            1.844888   \n",
       "1             0.291476  ...            1.902930            1.796280   \n",
       "2             0.309776  ...            1.876147            1.743094   \n",
       "3             0.321781  ...            1.760538            1.786806   \n",
       "4             0.331186  ...            1.770413            1.716416   \n",
       "..                 ...  ...                 ...                 ...   \n",
       "131                NaN  ...                 NaN                 NaN   \n",
       "132                NaN  ...                 NaN                 NaN   \n",
       "133                NaN  ...                 NaN                 NaN   \n",
       "134                NaN  ...                 NaN                 NaN   \n",
       "135                NaN  ...                 NaN                 NaN   \n",
       "\n",
       "     loss_8_layers_test  acc_base_test  acc_2_heads_test  acc_4_heads_test  \\\n",
       "0              2.015604       0.207680          0.245184          0.270350   \n",
       "1              1.736212       0.227497          0.273227          0.296870   \n",
       "2              1.652961       0.242762          0.287661          0.312983   \n",
       "3              1.619792       0.253617          0.298281          0.323874   \n",
       "4              1.633603       0.262692          0.306840          0.333063   \n",
       "..                  ...            ...               ...               ...   \n",
       "131            1.479952            NaN               NaN               NaN   \n",
       "132            1.541730            NaN               NaN               NaN   \n",
       "133            1.569717            NaN               NaN               NaN   \n",
       "134            1.551815            NaN               NaN               NaN   \n",
       "135            1.581909            NaN               NaN               NaN   \n",
       "\n",
       "     acc_8_heads_test  acc_2_layers_test  acc_4_layers_test  acc_8_layers_test  \n",
       "0            0.292917           0.268006           0.284010           0.291638  \n",
       "1            0.320139           0.294920           0.313811           0.329420  \n",
       "2            0.335997           0.311150           0.331806           0.349216  \n",
       "3            0.347463           0.325653           0.344107           0.364042  \n",
       "4            0.357727           0.336004           0.354066           0.375418  \n",
       "..                ...                ...                ...                ...  \n",
       "131               NaN                NaN                NaN           0.645976  \n",
       "132               NaN                NaN                NaN           0.646981  \n",
       "133               NaN                NaN                NaN           0.647947  \n",
       "134               NaN                NaN                NaN           0.648919  \n",
       "135               NaN                NaN                NaN           0.649893  \n",
       "\n",
       "[136 rows x 28 columns]"
      ]
     },
     "execution_count": 18,
     "metadata": {},
     "output_type": "execute_result"
    }
   ],
   "source": [
    "from itertools import zip_longest\n",
    "column_names = ['loss_base_train', \n",
    "                'loss_2_heads_train', \n",
    "                'loss_4_heads_train', \n",
    "                'loss_8_heads_train',\n",
    "                'loss_2_layers_train',\n",
    "                'loss_4_layers_train',\n",
    "                'loss_8_layers_train',\n",
    "                'acc_base_train',\n",
    "                'acc_2_heads_train',\n",
    "                'acc_4_heads_train',\n",
    "                'acc_8_heads_train',\n",
    "                'acc_2_layers_train',\n",
    "                'acc_4_layers_train',\n",
    "                'acc_8_layers_train',\n",
    "                #test\n",
    "                'loss_base_test', \n",
    "                'loss_2_heads_test', \n",
    "                'loss_4_heads_test', \n",
    "                'loss_8_heads_test',\n",
    "                'loss_2_layers_test',\n",
    "                'loss_4_layers_test',\n",
    "                'loss_8_layers_test',\n",
    "                'acc_base_test',\n",
    "                'acc_2_heads_test',\n",
    "                'acc_4_heads_test',\n",
    "                'acc_8_heads_test',\n",
    "                'acc_2_layers_test',\n",
    "                'acc_4_layers_test',\n",
    "                'acc_8_layers_test'\n",
    "]\n",
    "\n",
    "\n",
    "raw_data = [loss_scores_train, \n",
    "            loss_scores_train_multihead_2, \n",
    "            loss_scores_train_multihead_4, \n",
    "            loss_scores_train_multihead_8,\n",
    "            loss_scores_train_multilayer_2,\n",
    "            loss_scores_train_multilayer_4,\n",
    "            loss_scores_train_multilayer_8,\n",
    "            accuracy_scores_train,\n",
    "            accuracy_scores_train_multihead_2,\n",
    "            accuracy_scores_train_multihead_4,\n",
    "            accuracy_scores_train_multihead_8,\n",
    "            accuracy_scores_train_multilayer_2,\n",
    "            accuracy_scores_train_multilayer_4,\n",
    "            accuracy_scores_train_multilayer_8,\n",
    "            #test\n",
    "            loss_scores_test, \n",
    "            loss_scores_test_multihead_2, \n",
    "            loss_scores_test_multihead_4, \n",
    "            loss_scores_test_multihead_8,\n",
    "            loss_scores_test_multilayer_2,\n",
    "            loss_scores_test_multilayer_4,\n",
    "            loss_scores_test_multilayer_8,\n",
    "            accuracy_scores_test,\n",
    "            accuracy_scores_test_multihead_2,\n",
    "            accuracy_scores_test_multihead_4,\n",
    "            accuracy_scores_test_multihead_8,\n",
    "            accuracy_scores_test_multilayer_2,\n",
    "            accuracy_scores_test_multilayer_4,\n",
    "            accuracy_scores_test_multilayer_8,\n",
    "]\n",
    "\n",
    "\n",
    "vit_results_df = pd.DataFrame(list(zip_longest(*raw_data)), columns = column_names)\n",
    "vit_results_df"
   ]
  },
  {
   "cell_type": "code",
   "execution_count": 20,
   "metadata": {},
   "outputs": [],
   "source": [
    "vit_results_df.to_csv('/home/exouser/VSCODE_NN/ViT_Testing.csv')"
   ]
  },
  {
   "cell_type": "code",
   "execution_count": 54,
   "metadata": {},
   "outputs": [
    {
     "data": {
      "image/png": "[encoded data removed]",
      "text/plain": [
       "<Figure size 640x480 with 1 Axes>"
      ]
     },
     "metadata": {},
     "output_type": "display_data"
    }
   ],
   "source": [
    "Headcount_Loss = sns.lineplot(data = vit_results_df[['loss_base_test', 'loss_2_heads_test', 'loss_4_heads_test', 'loss_8_heads_test']])\n",
    "plt.title(\"Headcount Loss Results at Inference\")\n",
    "plt.xlabel('Epoch count')\n",
    "plt.ylabel('Loss')\n",
    "plt.legend(title = 'Data')\n",
    "plt.grid(True)\n",
    "plt.savefig('/home/exouser/VSCODE_NN/plots/head_loss.png')\n",
    "plt.show()"
   ]
  },
  {
   "cell_type": "code",
   "execution_count": 53,
   "metadata": {},
   "outputs": [
    {
     "data": {
      "image/png": "[encoded data removed]",
      "text/plain": [
       "<Figure size 640x480 with 1 Axes>"
      ]
     },
     "metadata": {},
     "output_type": "display_data"
    }
   ],
   "source": [
    "Headcount_accuracy = sns.lineplot(data = vit_results_df[['acc_base_test', 'acc_2_heads_test', 'acc_4_heads_test', 'acc_8_heads_test']])\n",
    "plt.title(\"Headcount Accuracy Results at Inference\")\n",
    "plt.xlabel('Epoch count')\n",
    "plt.ylabel('Accuracy (%)')\n",
    "plt.legend(title = 'Data')\n",
    "plt.grid(True)\n",
    "plt.savefig('/home/exouser/VSCODE_NN/plots/head_acc.png')\n",
    "plt.show()"
   ]
  },
  {
   "cell_type": "code",
   "execution_count": 52,
   "metadata": {},
   "outputs": [
    {
     "data": {
      "image/png": "[encoded data removed]",
      "text/plain": [
       "<Figure size 640x480 with 1 Axes>"
      ]
     },
     "metadata": {},
     "output_type": "display_data"
    }
   ],
   "source": [
    "Layercount_loss = sns.lineplot(data = vit_results_df[['loss_base_test', 'loss_2_layers_test', 'loss_4_layers_test', 'loss_8_layers_test']])\n",
    "plt.title(\"Layercount Loss Results at Inference\")\n",
    "plt.xlabel('Epoch count')\n",
    "plt.ylabel('Loss')\n",
    "plt.legend(title = 'Data')\n",
    "plt.grid(True)\n",
    "plt.savefig('/home/exouser/VSCODE_NN/plots/layer_loss.png')\n",
    "plt.show()"
   ]
  },
  {
   "cell_type": "code",
   "execution_count": 51,
   "metadata": {},
   "outputs": [
    {
     "data": {
      "image/png": "[encoded data removed]",
      "text/plain": [
       "<Figure size 640x480 with 1 Axes>"
      ]
     },
     "metadata": {},
     "output_type": "display_data"
    }
   ],
   "source": [
    "Layercount_acc = sns.lineplot(data = vit_results_df[['acc_base_test', 'acc_2_layers_test', 'acc_4_layers_test', 'acc_8_layers_test']])\n",
    "plt.title(\"Layercount Accuracy Results at Inference\")\n",
    "plt.xlabel('Epoch count')\n",
    "plt.ylabel('Loss')\n",
    "plt.legend(title = 'Data')\n",
    "plt.grid(True)\n",
    "plt.savefig('/home/exouser/VSCODE_NN/plots/layer_acc.png')\n",
    "plt.show()"
   ]
  },
  {
   "cell_type": "markdown",
   "metadata": {},
   "source": [
    "# Adding A CNN (if Time)"
   ]
  },
  {
   "cell_type": "markdown",
   "metadata": {},
   "source": [
    "we need to update the cnn to be less in depth the make it more indepth, we could do 3 tests where each gets more in depth. We need to make the cnn dynamic however. image size should not be fixed, we are convoluting down to a 16x16. This acts as the pixel count in the Vit, ViT Pixel count will be readjusted to 1 ( no issue on computation, this is waht convolution is for)."
   ]
  },
  {
   "cell_type": "code",
   "execution_count": 46,
   "metadata": {},
   "outputs": [],
   "source": [
    "class BirdClassifier_update(nn.Module):\n",
    "    def __init__(self,\n",
    "                 cnn_state=False, # Whether to use CNN before ViT\n",
    "                 image_size=256,\n",
    "                 patch_size=16,\n",
    "                 num_class=10,\n",
    "                 dim=256,\n",
    "                 layer_count=1,\n",
    "                 head_count=1,\n",
    "                 transformer_ff_neurons=256,\n",
    "                 transformer_dropout=0.2):\n",
    "        super().__init__()\n",
    "        \n",
    "        self.cnn_state = cnn_state\n",
    "        self.image_size = image_size\n",
    "\n",
    "        if cnn_state:\n",
    "            self.cnn = nn.Sequential(\n",
    "                nn.Conv2d(3, 16, kernel_size=3, stride=4, padding=2), \n",
    "                nn.ReLU(),\n",
    "                nn.MaxPool2d(kernel_size=3, stride=2),\n",
    "                \n",
    "                nn.Conv2d(16, 32, kernel_size=3, padding=2),\n",
    "                nn.ReLU(),\n",
    "                nn.MaxPool2d(kernel_size=3, stride=2),\n",
    "\n",
    "                nn.Conv2d(32,3, kernel_size=3, padding=1),\n",
    "                nn.ReLU(),\n",
    "\n",
    "                nn.ReLU(),\n",
    "                nn.AdaptiveAvgPool2d((self.image_size, self.image_size))  # Resize to ViT input\n",
    "            )\n",
    "\n",
    "        self.vision_transformer = ViT(\n",
    "            image_size=self.image_size,\n",
    "            patch_size=patch_size,\n",
    "            num_classes=num_class,\n",
    "            dim=dim,\n",
    "            depth=layer_count,\n",
    "            heads=head_count,\n",
    "            mlp_dim=transformer_ff_neurons,\n",
    "            dropout=transformer_dropout,\n",
    "            emb_dropout=transformer_dropout,\n",
    "            channels=3\n",
    "        )\n",
    "        \n",
    "\n",
    "    def forward(self, x):\n",
    "        if self.cnn_state:\n",
    "            x = self.cnn(x)\n",
    "            #print(x.shape)\n",
    "            #batch_size, channels, height, width = x.size()\n",
    "            #x = x.flatten(2)\n",
    "            #unfold = nn.Unfold(kernel_size = 16, stride = 16)\n",
    "            #x = unfold(x)\n",
    "            #x = x.flatten(2)\n",
    "            #print(x.shape)\n",
    "            #x = x.transpose(1,2)\n",
    "            #print(x.shape)\n",
    "        #print(x.shape)\n",
    "        x = self.vision_transformer(x)\n",
    "        return x\n",
    "\n"
   ]
  },
  {
   "cell_type": "code",
   "execution_count": null,
   "metadata": {},
   "outputs": [
    {
     "name": "stdout",
     "output_type": "stream",
     "text": [
      "\n",
      "Epoch 1\n"
     ]
    },
    {
     "name": "stderr",
     "output_type": "stream",
     "text": [
      "TRAINIGN:   0%|          | 0/587 [00:00<?, ?it/s]"
     ]
    },
    {
     "name": "stderr",
     "output_type": "stream",
     "text": [
      "TRAINIGN: 100%|██████████| 587/587 [00:29<00:00, 19.90it/s]\n",
      "TESTING: 100%|██████████| 147/147 [00:07<00:00, 19.37it/s]\n"
     ]
    },
    {
     "name": "stdout",
     "output_type": "stream",
     "text": [
      "Train Acc: 0.1806 | Train Loss: 2.1672 | Test Acc: 0.1915 | Test Loss: 2.0388369933277573\n",
      "\n",
      "Epoch 2\n"
     ]
    },
    {
     "name": "stderr",
     "output_type": "stream",
     "text": [
      "TRAINIGN: 100%|██████████| 587/587 [00:30<00:00, 19.38it/s]\n",
      "TESTING: 100%|██████████| 147/147 [00:07<00:00, 19.33it/s]\n"
     ]
    },
    {
     "name": "stdout",
     "output_type": "stream",
     "text": [
      "Train Acc: 0.2048 | Train Loss: 2.0631 | Test Acc: 0.2086 | Test Loss: 2.0110756977885758\n",
      "\n",
      "Epoch 3\n"
     ]
    },
    {
     "name": "stderr",
     "output_type": "stream",
     "text": [
      "TRAINIGN: 100%|██████████| 587/587 [00:28<00:00, 20.25it/s]\n",
      "TESTING: 100%|██████████| 147/147 [00:07<00:00, 19.37it/s]\n"
     ]
    },
    {
     "name": "stdout",
     "output_type": "stream",
     "text": [
      "Train Acc: 0.2196 | Train Loss: 2.0126 | Test Acc: 0.2226 | Test Loss: 1.9703841817622283\n",
      "\n",
      "Epoch 4\n"
     ]
    },
    {
     "name": "stderr",
     "output_type": "stream",
     "text": [
      "TRAINIGN: 100%|██████████| 587/587 [00:29<00:00, 19.84it/s]\n",
      "TESTING: 100%|██████████| 147/147 [00:07<00:00, 19.25it/s]\n"
     ]
    },
    {
     "name": "stdout",
     "output_type": "stream",
     "text": [
      "Train Acc: 0.2298 | Train Loss: 1.9918 | Test Acc: 0.2319 | Test Loss: 1.9576609069798268\n",
      "\n",
      "Epoch 5\n"
     ]
    },
    {
     "name": "stderr",
     "output_type": "stream",
     "text": [
      "TRAINIGN: 100%|██████████| 587/587 [00:28<00:00, 20.59it/s]\n",
      "TESTING: 100%|██████████| 147/147 [00:07<00:00, 20.30it/s]\n"
     ]
    },
    {
     "name": "stdout",
     "output_type": "stream",
     "text": [
      "Train Acc: 0.2374 | Train Loss: 1.9826 | Test Acc: 0.2391 | Test Loss: 1.9687287580399286\n",
      "\n",
      "Epoch 6\n"
     ]
    },
    {
     "name": "stderr",
     "output_type": "stream",
     "text": [
      "TRAINIGN: 100%|██████████| 587/587 [00:27<00:00, 21.47it/s]\n",
      "TESTING: 100%|██████████| 147/147 [00:07<00:00, 20.80it/s]\n"
     ]
    },
    {
     "name": "stdout",
     "output_type": "stream",
     "text": [
      "Train Acc: 0.2444 | Train Loss: 1.9605 | Test Acc: 0.2463 | Test Loss: 1.9279996813560019\n",
      "\n",
      "Epoch 7\n"
     ]
    },
    {
     "name": "stderr",
     "output_type": "stream",
     "text": [
      "TRAINIGN: 100%|██████████| 587/587 [00:27<00:00, 20.99it/s]\n",
      "TESTING: 100%|██████████| 147/147 [00:07<00:00, 20.64it/s]\n"
     ]
    },
    {
     "name": "stdout",
     "output_type": "stream",
     "text": [
      "Train Acc: 0.2512 | Train Loss: 1.9426 | Test Acc: 0.2521 | Test Loss: 2.0224578867153244\n",
      "\n",
      "Epoch 8\n"
     ]
    },
    {
     "name": "stderr",
     "output_type": "stream",
     "text": [
      "TRAINIGN: 100%|██████████| 587/587 [00:29<00:00, 20.06it/s]\n",
      "TESTING: 100%|██████████| 147/147 [00:08<00:00, 18.06it/s]\n"
     ]
    },
    {
     "name": "stdout",
     "output_type": "stream",
     "text": [
      "Train Acc: 0.2564 | Train Loss: 1.9348 | Test Acc: 0.2576 | Test Loss: 1.934128357439625\n",
      "\n",
      "Epoch 9\n"
     ]
    },
    {
     "name": "stderr",
     "output_type": "stream",
     "text": [
      "TRAINIGN: 100%|██████████| 587/587 [00:28<00:00, 20.96it/s]\n",
      "TESTING: 100%|██████████| 147/147 [00:07<00:00, 20.39it/s]\n"
     ]
    },
    {
     "name": "stdout",
     "output_type": "stream",
     "text": [
      "Train Acc: 0.2611 | Train Loss: 1.9264 | Test Acc: 0.2622 | Test Loss: 1.9089815795016127\n",
      "\n",
      "Epoch 10\n"
     ]
    },
    {
     "name": "stderr",
     "output_type": "stream",
     "text": [
      "TRAINIGN: 100%|██████████| 587/587 [00:27<00:00, 21.19it/s]\n",
      "TESTING: 100%|██████████| 147/147 [00:07<00:00, 20.61it/s]\n"
     ]
    },
    {
     "name": "stdout",
     "output_type": "stream",
     "text": [
      "Train Acc: 0.2661 | Train Loss: 1.9054 | Test Acc: 0.2671 | Test Loss: 1.9134614427073473\n",
      "\n",
      "Epoch 11\n"
     ]
    },
    {
     "name": "stderr",
     "output_type": "stream",
     "text": [
      "TRAINIGN: 100%|██████████| 587/587 [00:26<00:00, 21.77it/s]\n",
      "TESTING: 100%|██████████| 147/147 [00:07<00:00, 20.40it/s]\n"
     ]
    },
    {
     "name": "stdout",
     "output_type": "stream",
     "text": [
      "Train Acc: 0.2706 | Train Loss: 1.8897 | Test Acc: 0.2716 | Test Loss: 1.9017056834941009\n",
      "\n",
      "Epoch 12\n"
     ]
    },
    {
     "name": "stderr",
     "output_type": "stream",
     "text": [
      "TRAINIGN: 100%|██████████| 587/587 [00:27<00:00, 21.49it/s]\n",
      "TESTING: 100%|██████████| 147/147 [00:07<00:00, 20.30it/s]\n"
     ]
    },
    {
     "name": "stdout",
     "output_type": "stream",
     "text": [
      "Train Acc: 0.2736 | Train Loss: 1.9180 | Test Acc: 0.2734 | Test Loss: 1.985227176121303\n",
      "No improvement. Early stopping counter: 1/3\n",
      "\n",
      "Epoch 13\n"
     ]
    },
    {
     "name": "stderr",
     "output_type": "stream",
     "text": [
      "TRAINIGN: 100%|██████████| 587/587 [00:27<00:00, 21.56it/s]\n",
      "TESTING: 100%|██████████| 147/147 [00:07<00:00, 20.26it/s]\n"
     ]
    },
    {
     "name": "stdout",
     "output_type": "stream",
     "text": [
      "Train Acc: 0.2759 | Train Loss: 1.8937 | Test Acc: 0.2767 | Test Loss: 1.8886986687069847\n",
      "\n",
      "Epoch 14\n"
     ]
    },
    {
     "name": "stderr",
     "output_type": "stream",
     "text": [
      "TRAINIGN: 100%|██████████| 587/587 [00:27<00:00, 21.73it/s]\n",
      "TESTING: 100%|██████████| 147/147 [00:07<00:00, 20.60it/s]\n"
     ]
    },
    {
     "name": "stdout",
     "output_type": "stream",
     "text": [
      "Train Acc: 0.2791 | Train Loss: 1.8877 | Test Acc: 0.2797 | Test Loss: 1.8744094712393624\n",
      "No improvement. Early stopping counter: 1/3\n",
      "\n",
      "Epoch 15\n"
     ]
    },
    {
     "name": "stderr",
     "output_type": "stream",
     "text": [
      "TRAINIGN: 100%|██████████| 587/587 [00:26<00:00, 21.82it/s]\n",
      "TESTING: 100%|██████████| 147/147 [00:07<00:00, 20.32it/s]\n"
     ]
    },
    {
     "name": "stdout",
     "output_type": "stream",
     "text": [
      "Train Acc: 0.2821 | Train Loss: 1.8680 | Test Acc: 0.2827 | Test Loss: 1.8754129020535215\n",
      "\n",
      "Epoch 16\n"
     ]
    },
    {
     "name": "stderr",
     "output_type": "stream",
     "text": [
      "TRAINIGN: 100%|██████████| 587/587 [00:27<00:00, 21.36it/s]\n",
      "TESTING: 100%|██████████| 147/147 [00:07<00:00, 20.81it/s]\n"
     ]
    },
    {
     "name": "stdout",
     "output_type": "stream",
     "text": [
      "Train Acc: 0.2855 | Train Loss: 1.8425 | Test Acc: 0.2860 | Test Loss: 1.868752620658096\n",
      "\n",
      "Epoch 17\n"
     ]
    },
    {
     "name": "stderr",
     "output_type": "stream",
     "text": [
      "TRAINIGN: 100%|██████████| 587/587 [00:27<00:00, 21.09it/s]\n",
      "TESTING: 100%|██████████| 147/147 [00:07<00:00, 19.79it/s]\n"
     ]
    },
    {
     "name": "stdout",
     "output_type": "stream",
     "text": [
      "Train Acc: 0.2884 | Train Loss: 1.8461 | Test Acc: 0.2889 | Test Loss: 1.8679249116352625\n",
      "No improvement. Early stopping counter: 1/3\n",
      "\n",
      "Epoch 18\n"
     ]
    },
    {
     "name": "stderr",
     "output_type": "stream",
     "text": [
      "TRAINIGN: 100%|██████████| 587/587 [00:27<00:00, 21.00it/s]\n",
      "TESTING: 100%|██████████| 147/147 [00:07<00:00, 20.05it/s]\n"
     ]
    },
    {
     "name": "stdout",
     "output_type": "stream",
     "text": [
      "Train Acc: 0.2909 | Train Loss: 1.8505 | Test Acc: 0.2914 | Test Loss: 1.8825860810117656\n",
      "\n",
      "Epoch 19\n"
     ]
    },
    {
     "name": "stderr",
     "output_type": "stream",
     "text": [
      "TRAINIGN: 100%|██████████| 587/587 [00:28<00:00, 20.76it/s]\n",
      "TESTING: 100%|██████████| 147/147 [00:07<00:00, 19.55it/s]\n"
     ]
    },
    {
     "name": "stdout",
     "output_type": "stream",
     "text": [
      "Train Acc: 0.2936 | Train Loss: 1.8266 | Test Acc: 0.2941 | Test Loss: 1.864881242213606\n",
      "No improvement. Early stopping counter: 1/3\n",
      "\n",
      "Epoch 20\n"
     ]
    },
    {
     "name": "stderr",
     "output_type": "stream",
     "text": [
      "TRAINIGN: 100%|██████████| 587/587 [00:30<00:00, 19.09it/s]\n",
      "TESTING: 100%|██████████| 147/147 [00:07<00:00, 19.64it/s]\n"
     ]
    },
    {
     "name": "stdout",
     "output_type": "stream",
     "text": [
      "Train Acc: 0.2961 | Train Loss: 1.8232 | Test Acc: 0.2966 | Test Loss: 1.8182378926244722\n",
      "\n",
      "Epoch 21\n"
     ]
    },
    {
     "name": "stderr",
     "output_type": "stream",
     "text": [
      "TRAINIGN: 100%|██████████| 587/587 [00:27<00:00, 21.42it/s]\n",
      "TESTING: 100%|██████████| 147/147 [00:07<00:00, 20.23it/s]\n"
     ]
    },
    {
     "name": "stdout",
     "output_type": "stream",
     "text": [
      "Train Acc: 0.2977 | Train Loss: 1.8729 | Test Acc: 0.2974 | Test Loss: 1.9976103013875532\n",
      "No improvement. Early stopping counter: 1/3\n",
      "\n",
      "Epoch 22\n"
     ]
    },
    {
     "name": "stderr",
     "output_type": "stream",
     "text": [
      "TRAINIGN: 100%|██████████| 587/587 [00:27<00:00, 21.28it/s]\n",
      "TESTING: 100%|██████████| 147/147 [00:07<00:00, 20.30it/s]\n"
     ]
    },
    {
     "name": "stdout",
     "output_type": "stream",
     "text": [
      "Train Acc: 0.2973 | Train Loss: 1.9382 | Test Acc: 0.2974 | Test Loss: 1.8997593866724547\n",
      "No improvement. Early stopping counter: 2/3\n",
      "\n",
      "Epoch 23\n"
     ]
    },
    {
     "name": "stderr",
     "output_type": "stream",
     "text": [
      "TRAINIGN: 100%|██████████| 587/587 [00:27<00:00, 21.01it/s]\n",
      "TESTING: 100%|██████████| 147/147 [00:07<00:00, 20.59it/s]"
     ]
    },
    {
     "name": "stdout",
     "output_type": "stream",
     "text": [
      "Train Acc: 0.2980 | Train Loss: 1.8987 | Test Acc: 0.2982 | Test Loss: 1.9077521619342623\n",
      "No improvement. Early stopping counter: 3/3\n",
      "Early stopping triggered.\n"
     ]
    },
    {
     "name": "stderr",
     "output_type": "stream",
     "text": [
      "\n"
     ]
    }
   ],
   "source": [
    "device = torch.device(\"cuda\" if torch.cuda.is_available() else \"cpu\")\n",
    "model_cnn_1 = BirdClassifier_update(cnn_state=True, dim= 256, layer_count=1, head_count = 1).to(device)\n",
    "criterion = nn.CrossEntropyLoss().to(device)\n",
    "optimizer = optim.Adam(model_cnn_1.parameters(), lr=3e-4)\n",
    "accuracy_score = Accuracy(task = 'multiclass', num_classes = 10).to(device)\n",
    "\n",
    "\n",
    "patience = 3\n",
    "min_delta = 3e-3\n",
    "best_accuracy = 0\n",
    "counter = 0\n",
    "best_test_acc = 0\n",
    "\n",
    "loss_scores_train_cnn_1 = []\n",
    "accuracy_scores_train_cnn_1 = []\n",
    "\n",
    "loss_scores_test_cnn_1 = []\n",
    "accuracy_scores_test_cnn_1 = []\n",
    "\n",
    "for epoch in range(200):  \n",
    "    print(f\"\\nEpoch {epoch+1}\")\n",
    "    train_acc, train_loss = train_model(model_cnn_1, training_dataset, criterion, optimizer, accuracy_score, device)\n",
    "    test_acc, test_loss = test_model(model_cnn_1, testing_dataset, criterion, accuracy_score, device)\n",
    "    \n",
    "    accuracy_scores_train_cnn_1.append(train_acc)\n",
    "    loss_scores_train_cnn_1.append(train_loss)\n",
    "\n",
    "    accuracy_scores_test_cnn_1.append(test_acc)\n",
    "    loss_scores_test_cnn_1.append(test_loss)\n",
    "    print(f\"Train Acc: {train_acc:.4f} | Train Loss: {train_loss:.4f} | Test Acc: {test_acc:.4f} | Test Loss: {test_loss}\")\n",
    "    \n",
    "    if test_acc - best_test_acc > min_delta:\n",
    "        best_test_acc = test_acc\n",
    "        counter = 0\n",
    "    else:\n",
    "        counter += 1\n",
    "        print(f\"No improvement. Early stopping counter: {counter}/{patience}\")\n",
    "        if counter >= patience:\n",
    "            print(\"Early stopping triggered.\")\n",
    "            break"
   ]
  },
  {
   "cell_type": "code",
   "execution_count": 48,
   "metadata": {},
   "outputs": [],
   "source": [
    "class BirdClassifier_update(nn.Module):\n",
    "    def __init__(self,\n",
    "                 cnn_state=False, # Whether to use CNN before ViT\n",
    "                 image_size=256,\n",
    "                 patch_size=16,\n",
    "                 num_class=10,\n",
    "                 dim=256,\n",
    "                 layer_count=1,\n",
    "                 head_count=1,\n",
    "                 transformer_ff_neurons=256,\n",
    "                 transformer_dropout=0.2):\n",
    "        super().__init__()\n",
    "        \n",
    "        self.cnn_state = cnn_state\n",
    "        self.image_size = image_size\n",
    "\n",
    "        if cnn_state:\n",
    "            self.cnn = nn.Sequential(\n",
    "                nn.Conv2d(3, 6, kernel_size=3, stride=4, padding=2), \n",
    "                nn.ReLU(),\n",
    "                nn.MaxPool2d(kernel_size=3, stride=2),\n",
    "                \n",
    "                nn.Conv2d(6, 12, kernel_size=3),\n",
    "                nn.ReLU(),\n",
    "                nn.MaxPool2d(kernel_size=3, stride=1),\n",
    "\n",
    "                nn.Conv2d(12,16, kernel_size=3, padding=1),\n",
    "                nn.ReLU(),\n",
    "                \n",
    "                nn.Conv2d(16, 12, kernel_size = 3, stride = 1),\n",
    "                nn.ReLU(),\n",
    "                \n",
    "                nn.Conv2d(12, 3, kernel_size = 3, stride = 1),\n",
    "                nn.ReLU(),\n",
    "                nn.AdaptiveAvgPool2d((self.image_size, self.image_size))  # Resize to ViT input\n",
    "            )\n",
    "\n",
    "        self.vision_transformer = ViT(\n",
    "            image_size=self.image_size,\n",
    "            patch_size=patch_size,\n",
    "            num_classes=num_class,\n",
    "            dim=dim,\n",
    "            depth=layer_count,\n",
    "            heads=head_count,\n",
    "            mlp_dim=transformer_ff_neurons,\n",
    "            dropout=transformer_dropout,\n",
    "            emb_dropout=transformer_dropout,\n",
    "            channels=3\n",
    "        )\n",
    "        \n",
    "\n",
    "    def forward(self, x):\n",
    "        if self.cnn_state:\n",
    "            x = self.cnn(x)\n",
    "            #print(x.shape)\n",
    "            #batch_size, channels, height, width = x.size()\n",
    "            #x = x.flatten(2)\n",
    "            #unfold = nn.Unfold(kernel_size = 16, stride = 16)\n",
    "            #x = unfold(x)\n",
    "            #x = x.flatten(2)\n",
    "            #print(x.shape)\n",
    "            #x = x.transpose(1,2)\n",
    "            #print(x.shape)\n",
    "        #print(x.shape)\n",
    "        x = self.vision_transformer(x)\n",
    "        return x\n"
   ]
  },
  {
   "cell_type": "code",
   "execution_count": 49,
   "metadata": {},
   "outputs": [
    {
     "name": "stdout",
     "output_type": "stream",
     "text": [
      "\n",
      "Epoch 1\n"
     ]
    },
    {
     "name": "stderr",
     "output_type": "stream",
     "text": [
      "TRAINIGN: 100%|██████████| 587/587 [00:28<00:00, 20.75it/s]\n",
      "TESTING: 100%|██████████| 147/147 [00:07<00:00, 20.33it/s]\n"
     ]
    },
    {
     "name": "stdout",
     "output_type": "stream",
     "text": [
      "Train Acc: 0.3242 | Train Loss: 1.8708 | Test Acc: 0.3242 | Test Loss: 1.9033184992212828\n",
      "\n",
      "Epoch 2\n"
     ]
    },
    {
     "name": "stderr",
     "output_type": "stream",
     "text": [
      "TRAINIGN: 100%|██████████| 587/587 [00:28<00:00, 20.77it/s]\n",
      "TESTING: 100%|██████████| 147/147 [00:07<00:00, 19.68it/s]\n"
     ]
    },
    {
     "name": "stdout",
     "output_type": "stream",
     "text": [
      "Train Acc: 0.3252 | Train Loss: 1.8697 | Test Acc: 0.3248 | Test Loss: 1.9108031160977421\n",
      "No improvement. Early stopping counter: 1/3\n",
      "\n",
      "Epoch 3\n"
     ]
    },
    {
     "name": "stderr",
     "output_type": "stream",
     "text": [
      "TRAINIGN: 100%|██████████| 587/587 [00:29<00:00, 20.02it/s]\n",
      "TESTING: 100%|██████████| 147/147 [00:07<00:00, 19.72it/s]\n"
     ]
    },
    {
     "name": "stdout",
     "output_type": "stream",
     "text": [
      "Train Acc: 0.3250 | Train Loss: 1.8677 | Test Acc: 0.3251 | Test Loss: 1.9056321804215308\n",
      "No improvement. Early stopping counter: 2/3\n",
      "\n",
      "Epoch 4\n"
     ]
    },
    {
     "name": "stderr",
     "output_type": "stream",
     "text": [
      "TRAINIGN: 100%|██████████| 587/587 [00:30<00:00, 19.43it/s]\n",
      "TESTING: 100%|██████████| 147/147 [00:08<00:00, 17.20it/s]"
     ]
    },
    {
     "name": "stdout",
     "output_type": "stream",
     "text": [
      "Train Acc: 0.3254 | Train Loss: 1.8693 | Test Acc: 0.3253 | Test Loss: 1.9070118568381484\n",
      "No improvement. Early stopping counter: 3/3\n",
      "Early stopping triggered.\n"
     ]
    },
    {
     "name": "stderr",
     "output_type": "stream",
     "text": [
      "\n"
     ]
    }
   ],
   "source": [
    "device = torch.device(\"cuda\" if torch.cuda.is_available() else \"cpu\")\n",
    "model_cnn_2 = BirdClassifier_update(cnn_state=True, dim= 256, layer_count=1, head_count = 1).to(device)\n",
    "criterion = nn.CrossEntropyLoss().to(device)\n",
    "optimizer = optim.Adam(model_cnn_2.parameters(), lr=3e-4)\n",
    "accuracy_score = Accuracy(task = 'multiclass', num_classes = 10).to(device)\n",
    "\n",
    "\n",
    "patience = 3\n",
    "min_delta = 3e-3\n",
    "best_accuracy = 0\n",
    "counter = 0\n",
    "best_test_acc = 0\n",
    "\n",
    "loss_scores_train_cnn_2 = []\n",
    "accuracy_scores_train_cnn_2 = []\n",
    "\n",
    "loss_scores_test_cnn_2 = []\n",
    "accuracy_scores_test_cnn_2 = []\n",
    "\n",
    "for epoch in range(200):  \n",
    "    print(f\"\\nEpoch {epoch+1}\")\n",
    "    train_acc, train_loss = train_model(model_cnn_1, training_dataset, criterion, optimizer, accuracy_score, device)\n",
    "    test_acc, test_loss = test_model(model_cnn_1, testing_dataset, criterion, accuracy_score, device)\n",
    "    \n",
    "    accuracy_scores_train_cnn_2.append(train_acc)\n",
    "    loss_scores_train_cnn_2.append(train_loss)\n",
    "\n",
    "    accuracy_scores_test_cnn_2.append(test_acc)\n",
    "    loss_scores_test_cnn_2.append(test_loss)\n",
    "    print(f\"Train Acc: {train_acc:.4f} | Train Loss: {train_loss:.4f} | Test Acc: {test_acc:.4f} | Test Loss: {test_loss}\")\n",
    "    \n",
    "    if test_acc - best_test_acc > min_delta:\n",
    "        best_test_acc = test_acc\n",
    "        counter = 0\n",
    "    else:\n",
    "        counter += 1\n",
    "        print(f\"No improvement. Early stopping counter: {counter}/{patience}\")\n",
    "        if counter >= patience:\n",
    "            print(\"Early stopping triggered.\")\n",
    "            break"
   ]
  },
  {
   "cell_type": "code",
   "execution_count": 52,
   "metadata": {},
   "outputs": [
    {
     "data": {
      "text/html": [
       "<div>\n",
       "<style scoped>\n",
       "    .dataframe tbody tr th:only-of-type {\n",
       "        vertical-align: middle;\n",
       "    }\n",
       "\n",
       "    .dataframe tbody tr th {\n",
       "        vertical-align: top;\n",
       "    }\n",
       "\n",
       "    .dataframe thead th {\n",
       "        text-align: right;\n",
       "    }\n",
       "</style>\n",
       "<table border=\"1\" class=\"dataframe\">\n",
       "  <thead>\n",
       "    <tr style=\"text-align: right;\">\n",
       "      <th></th>\n",
       "      <th>loss_cnn_1_train</th>\n",
       "      <th>loss_cnn_2_train</th>\n",
       "      <th>acc_cnn_1_train</th>\n",
       "      <th>acc_cnn_2_train</th>\n",
       "      <th>loss_cnn_1_test</th>\n",
       "      <th>loss_cnn_2_test</th>\n",
       "      <th>acc_cnn_1_test</th>\n",
       "      <th>acc_cnn_2_test</th>\n",
       "    </tr>\n",
       "  </thead>\n",
       "  <tbody>\n",
       "    <tr>\n",
       "      <th>0</th>\n",
       "      <td>2.167231</td>\n",
       "      <td>1.870849</td>\n",
       "      <td>0.180624</td>\n",
       "      <td>0.324224</td>\n",
       "      <td>2.038837</td>\n",
       "      <td>1.903318</td>\n",
       "      <td>0.191485</td>\n",
       "      <td>0.324177</td>\n",
       "    </tr>\n",
       "    <tr>\n",
       "      <th>1</th>\n",
       "      <td>2.063125</td>\n",
       "      <td>1.869720</td>\n",
       "      <td>0.204818</td>\n",
       "      <td>0.325216</td>\n",
       "      <td>2.011076</td>\n",
       "      <td>1.910803</td>\n",
       "      <td>0.208639</td>\n",
       "      <td>0.324795</td>\n",
       "    </tr>\n",
       "    <tr>\n",
       "      <th>2</th>\n",
       "      <td>2.012576</td>\n",
       "      <td>1.867733</td>\n",
       "      <td>0.219570</td>\n",
       "      <td>0.324990</td>\n",
       "      <td>1.970384</td>\n",
       "      <td>1.905632</td>\n",
       "      <td>0.222554</td>\n",
       "      <td>0.325065</td>\n",
       "    </tr>\n",
       "    <tr>\n",
       "      <th>3</th>\n",
       "      <td>1.991794</td>\n",
       "      <td>1.869298</td>\n",
       "      <td>0.229809</td>\n",
       "      <td>0.325393</td>\n",
       "      <td>1.957661</td>\n",
       "      <td>1.907012</td>\n",
       "      <td>0.231866</td>\n",
       "      <td>0.325312</td>\n",
       "    </tr>\n",
       "    <tr>\n",
       "      <th>4</th>\n",
       "      <td>1.982638</td>\n",
       "      <td>NaN</td>\n",
       "      <td>0.237368</td>\n",
       "      <td>NaN</td>\n",
       "      <td>1.968729</td>\n",
       "      <td>NaN</td>\n",
       "      <td>0.239119</td>\n",
       "      <td>NaN</td>\n",
       "    </tr>\n",
       "    <tr>\n",
       "      <th>5</th>\n",
       "      <td>1.960532</td>\n",
       "      <td>NaN</td>\n",
       "      <td>0.244425</td>\n",
       "      <td>NaN</td>\n",
       "      <td>1.928000</td>\n",
       "      <td>NaN</td>\n",
       "      <td>0.246292</td>\n",
       "      <td>NaN</td>\n",
       "    </tr>\n",
       "    <tr>\n",
       "      <th>6</th>\n",
       "      <td>1.942591</td>\n",
       "      <td>NaN</td>\n",
       "      <td>0.251211</td>\n",
       "      <td>NaN</td>\n",
       "      <td>2.022458</td>\n",
       "      <td>NaN</td>\n",
       "      <td>0.252113</td>\n",
       "      <td>NaN</td>\n",
       "    </tr>\n",
       "    <tr>\n",
       "      <th>7</th>\n",
       "      <td>1.934768</td>\n",
       "      <td>NaN</td>\n",
       "      <td>0.256370</td>\n",
       "      <td>NaN</td>\n",
       "      <td>1.934128</td>\n",
       "      <td>NaN</td>\n",
       "      <td>0.257557</td>\n",
       "      <td>NaN</td>\n",
       "    </tr>\n",
       "    <tr>\n",
       "      <th>8</th>\n",
       "      <td>1.926355</td>\n",
       "      <td>NaN</td>\n",
       "      <td>0.261072</td>\n",
       "      <td>NaN</td>\n",
       "      <td>1.908982</td>\n",
       "      <td>NaN</td>\n",
       "      <td>0.262236</td>\n",
       "      <td>NaN</td>\n",
       "    </tr>\n",
       "    <tr>\n",
       "      <th>9</th>\n",
       "      <td>1.905414</td>\n",
       "      <td>NaN</td>\n",
       "      <td>0.266120</td>\n",
       "      <td>NaN</td>\n",
       "      <td>1.913461</td>\n",
       "      <td>NaN</td>\n",
       "      <td>0.267081</td>\n",
       "      <td>NaN</td>\n",
       "    </tr>\n",
       "    <tr>\n",
       "      <th>10</th>\n",
       "      <td>1.889709</td>\n",
       "      <td>NaN</td>\n",
       "      <td>0.270602</td>\n",
       "      <td>NaN</td>\n",
       "      <td>1.901706</td>\n",
       "      <td>NaN</td>\n",
       "      <td>0.271569</td>\n",
       "      <td>NaN</td>\n",
       "    </tr>\n",
       "    <tr>\n",
       "      <th>11</th>\n",
       "      <td>1.918006</td>\n",
       "      <td>NaN</td>\n",
       "      <td>0.273595</td>\n",
       "      <td>NaN</td>\n",
       "      <td>1.985227</td>\n",
       "      <td>NaN</td>\n",
       "      <td>0.273440</td>\n",
       "      <td>NaN</td>\n",
       "    </tr>\n",
       "    <tr>\n",
       "      <th>12</th>\n",
       "      <td>1.893653</td>\n",
       "      <td>NaN</td>\n",
       "      <td>0.275912</td>\n",
       "      <td>NaN</td>\n",
       "      <td>1.888699</td>\n",
       "      <td>NaN</td>\n",
       "      <td>0.276748</td>\n",
       "      <td>NaN</td>\n",
       "    </tr>\n",
       "    <tr>\n",
       "      <th>13</th>\n",
       "      <td>1.887727</td>\n",
       "      <td>NaN</td>\n",
       "      <td>0.279068</td>\n",
       "      <td>NaN</td>\n",
       "      <td>1.874409</td>\n",
       "      <td>NaN</td>\n",
       "      <td>0.279691</td>\n",
       "      <td>NaN</td>\n",
       "    </tr>\n",
       "    <tr>\n",
       "      <th>14</th>\n",
       "      <td>1.867959</td>\n",
       "      <td>NaN</td>\n",
       "      <td>0.282055</td>\n",
       "      <td>NaN</td>\n",
       "      <td>1.875413</td>\n",
       "      <td>NaN</td>\n",
       "      <td>0.282666</td>\n",
       "      <td>NaN</td>\n",
       "    </tr>\n",
       "    <tr>\n",
       "      <th>15</th>\n",
       "      <td>1.842478</td>\n",
       "      <td>NaN</td>\n",
       "      <td>0.285478</td>\n",
       "      <td>NaN</td>\n",
       "      <td>1.868753</td>\n",
       "      <td>NaN</td>\n",
       "      <td>0.286002</td>\n",
       "      <td>NaN</td>\n",
       "    </tr>\n",
       "    <tr>\n",
       "      <th>16</th>\n",
       "      <td>1.846108</td>\n",
       "      <td>NaN</td>\n",
       "      <td>0.288403</td>\n",
       "      <td>NaN</td>\n",
       "      <td>1.867925</td>\n",
       "      <td>NaN</td>\n",
       "      <td>0.288943</td>\n",
       "      <td>NaN</td>\n",
       "    </tr>\n",
       "    <tr>\n",
       "      <th>17</th>\n",
       "      <td>1.850544</td>\n",
       "      <td>NaN</td>\n",
       "      <td>0.290944</td>\n",
       "      <td>NaN</td>\n",
       "      <td>1.882586</td>\n",
       "      <td>NaN</td>\n",
       "      <td>0.291354</td>\n",
       "      <td>NaN</td>\n",
       "    </tr>\n",
       "    <tr>\n",
       "      <th>18</th>\n",
       "      <td>1.826607</td>\n",
       "      <td>NaN</td>\n",
       "      <td>0.293604</td>\n",
       "      <td>NaN</td>\n",
       "      <td>1.864881</td>\n",
       "      <td>NaN</td>\n",
       "      <td>0.294065</td>\n",
       "      <td>NaN</td>\n",
       "    </tr>\n",
       "    <tr>\n",
       "      <th>19</th>\n",
       "      <td>1.823215</td>\n",
       "      <td>NaN</td>\n",
       "      <td>0.296088</td>\n",
       "      <td>NaN</td>\n",
       "      <td>1.818238</td>\n",
       "      <td>NaN</td>\n",
       "      <td>0.296621</td>\n",
       "      <td>NaN</td>\n",
       "    </tr>\n",
       "    <tr>\n",
       "      <th>20</th>\n",
       "      <td>1.872873</td>\n",
       "      <td>NaN</td>\n",
       "      <td>0.297689</td>\n",
       "      <td>NaN</td>\n",
       "      <td>1.997610</td>\n",
       "      <td>NaN</td>\n",
       "      <td>0.297410</td>\n",
       "      <td>NaN</td>\n",
       "    </tr>\n",
       "    <tr>\n",
       "      <th>21</th>\n",
       "      <td>1.938229</td>\n",
       "      <td>NaN</td>\n",
       "      <td>0.297286</td>\n",
       "      <td>NaN</td>\n",
       "      <td>1.899759</td>\n",
       "      <td>NaN</td>\n",
       "      <td>0.297441</td>\n",
       "      <td>NaN</td>\n",
       "    </tr>\n",
       "    <tr>\n",
       "      <th>22</th>\n",
       "      <td>1.898700</td>\n",
       "      <td>NaN</td>\n",
       "      <td>0.297984</td>\n",
       "      <td>NaN</td>\n",
       "      <td>1.907752</td>\n",
       "      <td>NaN</td>\n",
       "      <td>0.298185</td>\n",
       "      <td>NaN</td>\n",
       "    </tr>\n",
       "  </tbody>\n",
       "</table>\n",
       "</div>"
      ],
      "text/plain": [
       "    loss_cnn_1_train  loss_cnn_2_train  acc_cnn_1_train  acc_cnn_2_train  \\\n",
       "0           2.167231          1.870849         0.180624         0.324224   \n",
       "1           2.063125          1.869720         0.204818         0.325216   \n",
       "2           2.012576          1.867733         0.219570         0.324990   \n",
       "3           1.991794          1.869298         0.229809         0.325393   \n",
       "4           1.982638               NaN         0.237368              NaN   \n",
       "5           1.960532               NaN         0.244425              NaN   \n",
       "6           1.942591               NaN         0.251211              NaN   \n",
       "7           1.934768               NaN         0.256370              NaN   \n",
       "8           1.926355               NaN         0.261072              NaN   \n",
       "9           1.905414               NaN         0.266120              NaN   \n",
       "10          1.889709               NaN         0.270602              NaN   \n",
       "11          1.918006               NaN         0.273595              NaN   \n",
       "12          1.893653               NaN         0.275912              NaN   \n",
       "13          1.887727               NaN         0.279068              NaN   \n",
       "14          1.867959               NaN         0.282055              NaN   \n",
       "15          1.842478               NaN         0.285478              NaN   \n",
       "16          1.846108               NaN         0.288403              NaN   \n",
       "17          1.850544               NaN         0.290944              NaN   \n",
       "18          1.826607               NaN         0.293604              NaN   \n",
       "19          1.823215               NaN         0.296088              NaN   \n",
       "20          1.872873               NaN         0.297689              NaN   \n",
       "21          1.938229               NaN         0.297286              NaN   \n",
       "22          1.898700               NaN         0.297984              NaN   \n",
       "\n",
       "    loss_cnn_1_test  loss_cnn_2_test  acc_cnn_1_test  acc_cnn_2_test  \n",
       "0          2.038837         1.903318        0.191485        0.324177  \n",
       "1          2.011076         1.910803        0.208639        0.324795  \n",
       "2          1.970384         1.905632        0.222554        0.325065  \n",
       "3          1.957661         1.907012        0.231866        0.325312  \n",
       "4          1.968729              NaN        0.239119             NaN  \n",
       "5          1.928000              NaN        0.246292             NaN  \n",
       "6          2.022458              NaN        0.252113             NaN  \n",
       "7          1.934128              NaN        0.257557             NaN  \n",
       "8          1.908982              NaN        0.262236             NaN  \n",
       "9          1.913461              NaN        0.267081             NaN  \n",
       "10         1.901706              NaN        0.271569             NaN  \n",
       "11         1.985227              NaN        0.273440             NaN  \n",
       "12         1.888699              NaN        0.276748             NaN  \n",
       "13         1.874409              NaN        0.279691             NaN  \n",
       "14         1.875413              NaN        0.282666             NaN  \n",
       "15         1.868753              NaN        0.286002             NaN  \n",
       "16         1.867925              NaN        0.288943             NaN  \n",
       "17         1.882586              NaN        0.291354             NaN  \n",
       "18         1.864881              NaN        0.294065             NaN  \n",
       "19         1.818238              NaN        0.296621             NaN  \n",
       "20         1.997610              NaN        0.297410             NaN  \n",
       "21         1.899759              NaN        0.297441             NaN  \n",
       "22         1.907752              NaN        0.298185             NaN  "
      ]
     },
     "execution_count": 52,
     "metadata": {},
     "output_type": "execute_result"
    }
   ],
   "source": [
    "from itertools import zip_longest\n",
    "column_names = [ \n",
    "                'loss_cnn_1_train',\n",
    "                'loss_cnn_2_train',\n",
    "           \n",
    "                'acc_cnn_1_train',\n",
    "                'acc_cnn_2_train',\n",
    "                #test\n",
    "            \n",
    "                'loss_cnn_1_test',\n",
    "                'loss_cnn_2_test',\n",
    "        \n",
    "                'acc_cnn_1_test',\n",
    "                'acc_cnn_2_test',\n",
    "]\n",
    "\n",
    "\n",
    "raw_data = [\n",
    "            loss_scores_train_cnn_1,\n",
    "            loss_scores_train_cnn_2,\n",
    "     \n",
    "            accuracy_scores_train_cnn_1,\n",
    "            accuracy_scores_train_cnn_2,\n",
    "            #test\n",
    "         \n",
    "            loss_scores_test_cnn_1,\n",
    "            loss_scores_test_cnn_2,\n",
    "    \n",
    "            accuracy_scores_test_cnn_1,\n",
    "            accuracy_scores_test_cnn_2\n",
    "]\n",
    "\n",
    "\n",
    "cnn_results_df = pd.DataFrame(list(zip_longest(*raw_data)), columns = column_names)\n",
    "cnn_results_df"
   ]
  },
  {
   "cell_type": "code",
   "execution_count": 53,
   "metadata": {},
   "outputs": [],
   "source": [
    "cnn_results_df.to_csv('/home/exouser/VSCODE_NN/CNN_Testing.csv')"
   ]
  },
  {
   "cell_type": "code",
   "execution_count": null,
   "metadata": {},
   "outputs": [],
   "source": []
  }
 ],
 "metadata": {
  "kernelspec": {
   "display_name": ".venv",
   "language": "python",
   "name": "python3"
  },
  "language_info": {
   "codemirror_mode": {
    "name": "ipython",
    "version": 3
   },
   "file_extension": ".py",
   "mimetype": "text/x-python",
   "name": "python",
   "nbconvert_exporter": "python",
   "pygments_lexer": "ipython3",
   "version": "3.12.3"
  }
 },
 "nbformat": 4,
 "nbformat_minor": 2
}
