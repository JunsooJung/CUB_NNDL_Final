{
 "cells": [
  {
   "cell_type": "markdown",
   "id": "538538c1",
   "metadata": {},
   "source": [
    "Buteo_jamaicensis_filtered_images: 4952 images\n",
    "Ardea_herodias_filtered_images: 4929 images\n",
    "Coragyps_atratus_filtered_images: 4929 images\n",
    "Parus_major_filtered_images: 4890 images\n",
    "Bubo_virginianus_filtered_images: 4823 images\n",
    "Branta_canadensis_filtered_images: 4821 images\n",
    "Corvus_cornix_filtered_images: 4821 images\n",
    "Turdus_merula_filtered_images: 4691 images\n",
    "Anas_platyrhynchos_filtered_images: 4081 images\n",
    "Cardinalis_cardinalis_filtered_images: 3990 images"
   ]
  },
  {
   "cell_type": "code",
   "execution_count": null,
   "id": "a6b0dc1d",
   "metadata": {},
   "outputs": [],
   "source": [
    "import torch\n",
    "import torch.nn as nn\n",
    "import torch.optim as optim\n",
    "import torch.nn.functional as F\n",
    "\n",
    "class AlexNet(nn.Module):\n",
    "    def __init__(self, num_classes=10):\n",
    "        super(AlexNet, self).__init__()\n",
    "        \n",
    "        self.conv1 = nn.Conv2d(3, 64, kernel_size=11, stride=4, padding=2)\n",
    "        self.conv2 = nn.Conv2d(64, 192, kernel_size=5, padding=2)\n",
    "        self.conv3 = nn.Conv2d(192, 384, kernel_size=3, padding=1)\n",
    "        self.conv4 = nn.Conv2d(384, 256, kernel_size=3, padding=1)\n",
    "        self.conv5 = nn.Conv2d(256, 256, kernel_size=3, padding=1)\n",
    "\n",
    "        self.pool = nn.MaxPool2d(kernel_size=3, stride=2, padding=1)\n",
    "\n",
    "        self.fc1 = nn.Linear(256 * 2 * 2, 4096)  \n",
    "        self.fc2 = nn.Linear(4096, 4096)\n",
    "        self.fc3 = nn.Linear(4096, num_classes)\n",
    "    \n",
    "    def forward(self, x):\n",
    "\n",
    "        x = self.pool(F.relu(self.conv1(x)))\n",
    "        x = self.pool(F.relu(self.conv2(x)))\n",
    "        x = self.pool(F.relu(self.conv3(x)))\n",
    "        x = self.pool(F.relu(self.conv4(x)))\n",
    "        x = self.pool(F.relu(self.conv5(x)))\n",
    "\n",
    "        x = x.view(x.size(0), -1)\n",
    "\n",
    "        x = F.relu(self.fc1(x))\n",
    "        x = F.relu(self.fc2(x))\n",
    "        x = self.fc3(x)\n",
    "\n",
    "        return x\n",
    "\n",
    "model = AlexNet(num_classes=10)  "
   ]
  },
  {
   "cell_type": "code",
   "execution_count": 2,
   "id": "ecff0fd3",
   "metadata": {},
   "outputs": [
    {
     "name": "stderr",
     "output_type": "stream",
     "text": [
      "c:\\Users\\wyatt\\AppData\\Local\\Programs\\Python\\Python312\\Lib\\site-packages\\tqdm\\auto.py:21: TqdmWarning: IProgress not found. Please update jupyter and ipywidgets. See https://ipywidgets.readthedocs.io/en/stable/user_install.html\n",
      "  from .autonotebook import tqdm as notebook_tqdm\n"
     ]
    }
   ],
   "source": [
    "from torchmetrics.classification import Accuracy\n",
    "from torch.optim.lr_scheduler import ReduceLROnPlateau, StepLR\n",
    "from tqdm import tqdm\n",
    "from torchvision import datasets, transforms\n",
    "from torch.utils.data import DataLoader,Subset,random_split\n",
    "import random\n",
    "\n",
    "data_path = r\"C:\\Users\\wyatt\\OneDrive\\Documents\\college\\cu_boulder\\sem4\\deep_learning\\Final\\all_filtered_species\\filtered_species\"\n",
    "batch_size = 64\n",
    "\n",
    "transform = transforms.Compose([\n",
    "    transforms.CenterCrop((256, 256)),  #Resize to minimum of all sizes - Will update size in cnn architecture\n",
    "    transforms.RandomHorizontalFlip(p = 0.25),\n",
    "    transforms.RandomRotation(degrees = 30),\n",
    "    transforms.ToTensor(),\n",
    "    transforms.Normalize(mean=[0.485, 0.456, 0.406], \n",
    "                         std=[0.229, 0.224, 0.225])\n",
    "])\n",
    "\n",
    "data = datasets.ImageFolder(root=data_path, transform=transform)\n",
    "\n",
    "\n",
    "subset_size = 5000\n",
    "indices = random.sample(range(len(data)), subset_size)\n",
    "data_subset = Subset(data, indices)\n",
    "\n",
    "#change data_subset <-> data for train from whole data\n",
    "train_size = int(0.8 * len(data))\n",
    "test_size = len(data) - train_size\n",
    "training, testing = random_split(data, [train_size, test_size], generator=torch.Generator().manual_seed(1111))\n",
    "\n",
    "training_dataset = DataLoader(training, batch_size=batch_size, shuffle=True, num_workers=6, pin_memory=True)\n",
    "testing_dataset = DataLoader(testing, batch_size=batch_size, shuffle=True, num_workers=6, pin_memory=True)"
   ]
  },
  {
   "cell_type": "code",
   "execution_count": 3,
   "id": "a7b4b0e2",
   "metadata": {},
   "outputs": [],
   "source": [
    "def train_model(model, dataloader, criterion, optimizer_metric, accuracy_metric, device):\n",
    "    model.train()\n",
    "    net_loss = 0\n",
    "    for images, labels in tqdm(dataloader, desc = \"TRAINIGN\"):\n",
    "        images, labels = images.to(device), labels.to(device)\n",
    "        y_hat = model(images)\n",
    "        loss = criterion(y_hat, labels)\n",
    "        optimizer_metric.zero_grad()\n",
    "        loss.backward()\n",
    "        optimizer_metric.step()\n",
    "        accuracy_metric.update(y_hat, labels)\n",
    "        net_loss += loss.item()\n",
    "    \n",
    "    epoch_accuracy = accuracy_metric.compute().item()\n",
    "    epoch_loss = net_loss/(len(dataloader))\n",
    "\n",
    "    return epoch_accuracy, epoch_loss\n",
    "\n",
    "def test_model(model, dataloader, criterion, accuracy_metric, device):\n",
    "    model.eval()\n",
    "    net_loss = 0\n",
    "    for images, labels in tqdm(dataloader, desc = \"TESTING\"):\n",
    "        image, label = images.to(device), labels.to(device)\n",
    "        y_hat = model(image)\n",
    "        loss = criterion(y_hat, label)\n",
    "        accuracy_metric.update(y_hat, label)\n",
    "        net_loss += loss.item()\n",
    "    \n",
    "    epoch_accuracy = accuracy_metric.compute().item()\n",
    "    epoch_loss = net_loss/(len(dataloader))\n",
    "\n",
    "    return epoch_accuracy, epoch_loss"
   ]
  },
  {
   "cell_type": "code",
   "execution_count": 4,
   "id": "636c843f",
   "metadata": {},
   "outputs": [
    {
     "name": "stdout",
     "output_type": "stream",
     "text": [
      "\n",
      "Epoch 1\n"
     ]
    },
    {
     "name": "stderr",
     "output_type": "stream",
     "text": [
      "TRAINIGN: 100%|██████████| 587/587 [00:28<00:00, 20.68it/s]\n",
      "TESTING: 100%|██████████| 147/147 [00:17<00:00,  8.56it/s]\n"
     ]
    },
    {
     "name": "stdout",
     "output_type": "stream",
     "text": [
      "Train Acc: 0.2443 | Train Loss: 2.0336 | Test Acc: 0.2578 | Test Loss: 1.8945759891652736\n",
      "\n",
      "Epoch 2\n"
     ]
    },
    {
     "name": "stderr",
     "output_type": "stream",
     "text": [
      "TRAINIGN: 100%|██████████| 587/587 [00:28<00:00, 20.38it/s]\n",
      "TESTING: 100%|██████████| 147/147 [00:17<00:00,  8.55it/s]\n"
     ]
    },
    {
     "name": "stdout",
     "output_type": "stream",
     "text": [
      "Train Acc: 0.3115 | Train Loss: 1.7556 | Test Acc: 0.3246 | Test Loss: 1.6170103047169795\n",
      "\n",
      "Epoch 3\n"
     ]
    },
    {
     "name": "stderr",
     "output_type": "stream",
     "text": [
      "TRAINIGN: 100%|██████████| 587/587 [00:30<00:00, 19.27it/s]\n",
      "TESTING: 100%|██████████| 147/147 [00:17<00:00,  8.28it/s]\n"
     ]
    },
    {
     "name": "stdout",
     "output_type": "stream",
     "text": [
      "Train Acc: 0.3702 | Train Loss: 1.4999 | Test Acc: 0.3794 | Test Loss: 1.4350029586934718\n",
      "\n",
      "Epoch 4\n"
     ]
    },
    {
     "name": "stderr",
     "output_type": "stream",
     "text": [
      "TRAINIGN: 100%|██████████| 587/587 [00:30<00:00, 19.04it/s]\n",
      "TESTING: 100%|██████████| 147/147 [00:17<00:00,  8.22it/s]\n"
     ]
    },
    {
     "name": "stdout",
     "output_type": "stream",
     "text": [
      "Train Acc: 0.4124 | Train Loss: 1.3640 | Test Acc: 0.4194 | Test Loss: 1.3271928685052055\n",
      "\n",
      "Epoch 5\n"
     ]
    },
    {
     "name": "stderr",
     "output_type": "stream",
     "text": [
      "TRAINIGN: 100%|██████████| 587/587 [00:30<00:00, 19.14it/s]\n",
      "TESTING: 100%|██████████| 147/147 [00:17<00:00,  8.30it/s]\n"
     ]
    },
    {
     "name": "stdout",
     "output_type": "stream",
     "text": [
      "Train Acc: 0.4452 | Train Loss: 1.2586 | Test Acc: 0.4500 | Test Loss: 1.2866767344831609\n",
      "\n",
      "Epoch 6\n"
     ]
    },
    {
     "name": "stderr",
     "output_type": "stream",
     "text": [
      "TRAINIGN: 100%|██████████| 587/587 [00:30<00:00, 19.25it/s]\n",
      "TESTING: 100%|██████████| 147/147 [00:17<00:00,  8.28it/s]\n"
     ]
    },
    {
     "name": "stdout",
     "output_type": "stream",
     "text": [
      "Train Acc: 0.4706 | Train Loss: 1.1846 | Test Acc: 0.4749 | Test Loss: 1.2006987033247136\n",
      "\n",
      "Epoch 7\n"
     ]
    },
    {
     "name": "stderr",
     "output_type": "stream",
     "text": [
      "TRAINIGN: 100%|██████████| 587/587 [00:30<00:00, 18.98it/s]\n",
      "TESTING: 100%|██████████| 147/147 [00:17<00:00,  8.30it/s]\n"
     ]
    },
    {
     "name": "stdout",
     "output_type": "stream",
     "text": [
      "Train Acc: 0.4917 | Train Loss: 1.1274 | Test Acc: 0.4949 | Test Loss: 1.1643989588938604\n",
      "\n",
      "Epoch 8\n"
     ]
    },
    {
     "name": "stderr",
     "output_type": "stream",
     "text": [
      "TRAINIGN: 100%|██████████| 587/587 [00:30<00:00, 18.99it/s]\n",
      "TESTING: 100%|██████████| 147/147 [00:18<00:00,  8.09it/s]\n"
     ]
    },
    {
     "name": "stdout",
     "output_type": "stream",
     "text": [
      "Train Acc: 0.5094 | Train Loss: 1.0820 | Test Acc: 0.5121 | Test Loss: 1.1477025727025505\n",
      "\n",
      "Epoch 9\n"
     ]
    },
    {
     "name": "stderr",
     "output_type": "stream",
     "text": [
      "TRAINIGN: 100%|██████████| 587/587 [00:31<00:00, 18.36it/s]\n",
      "TESTING: 100%|██████████| 147/147 [00:17<00:00,  8.26it/s]\n"
     ]
    },
    {
     "name": "stdout",
     "output_type": "stream",
     "text": [
      "Train Acc: 0.5248 | Train Loss: 1.0343 | Test Acc: 0.5270 | Test Loss: 1.1256679791171535\n",
      "\n",
      "Epoch 10\n"
     ]
    },
    {
     "name": "stderr",
     "output_type": "stream",
     "text": [
      "TRAINIGN: 100%|██████████| 587/587 [00:30<00:00, 19.02it/s]\n",
      "TESTING: 100%|██████████| 147/147 [00:17<00:00,  8.24it/s]\n"
     ]
    },
    {
     "name": "stdout",
     "output_type": "stream",
     "text": [
      "Train Acc: 0.5379 | Train Loss: 1.0001 | Test Acc: 0.5397 | Test Loss: 1.097668153088109\n",
      "\n",
      "Epoch 11\n"
     ]
    },
    {
     "name": "stderr",
     "output_type": "stream",
     "text": [
      "TRAINIGN: 100%|██████████| 587/587 [00:31<00:00, 18.55it/s]\n",
      "TESTING: 100%|██████████| 147/147 [00:17<00:00,  8.22it/s]\n"
     ]
    },
    {
     "name": "stdout",
     "output_type": "stream",
     "text": [
      "Train Acc: 0.5498 | Train Loss: 0.9563 | Test Acc: 0.5512 | Test Loss: 1.10859398979719\n",
      "\n",
      "Epoch 12\n"
     ]
    },
    {
     "name": "stderr",
     "output_type": "stream",
     "text": [
      "TRAINIGN: 100%|██████████| 587/587 [00:31<00:00, 18.92it/s]\n",
      "TESTING: 100%|██████████| 147/147 [00:17<00:00,  8.23it/s]\n"
     ]
    },
    {
     "name": "stdout",
     "output_type": "stream",
     "text": [
      "Train Acc: 0.5604 | Train Loss: 0.9303 | Test Acc: 0.5618 | Test Loss: 1.0845463077227275\n",
      "\n",
      "Epoch 13\n"
     ]
    },
    {
     "name": "stderr",
     "output_type": "stream",
     "text": [
      "TRAINIGN: 100%|██████████| 587/587 [00:31<00:00, 18.90it/s]\n",
      "TESTING: 100%|██████████| 147/147 [00:17<00:00,  8.22it/s]\n"
     ]
    },
    {
     "name": "stdout",
     "output_type": "stream",
     "text": [
      "Train Acc: 0.5701 | Train Loss: 0.9003 | Test Acc: 0.5712 | Test Loss: 1.0746503293919725\n",
      "\n",
      "Epoch 14\n"
     ]
    },
    {
     "name": "stderr",
     "output_type": "stream",
     "text": [
      "TRAINIGN: 100%|██████████| 587/587 [00:31<00:00, 18.77it/s]\n",
      "TESTING: 100%|██████████| 147/147 [00:18<00:00,  8.15it/s]\n"
     ]
    },
    {
     "name": "stdout",
     "output_type": "stream",
     "text": [
      "Train Acc: 0.5790 | Train Loss: 0.8684 | Test Acc: 0.5797 | Test Loss: 1.1160799321674166\n",
      "\n",
      "Epoch 15\n"
     ]
    },
    {
     "name": "stderr",
     "output_type": "stream",
     "text": [
      "TRAINIGN: 100%|██████████| 587/587 [00:31<00:00, 18.84it/s]\n",
      "TESTING: 100%|██████████| 147/147 [00:17<00:00,  8.27it/s]\n"
     ]
    },
    {
     "name": "stdout",
     "output_type": "stream",
     "text": [
      "Train Acc: 0.5871 | Train Loss: 0.8344 | Test Acc: 0.5880 | Test Loss: 1.0885768257030823\n",
      "\n",
      "Epoch 16\n"
     ]
    },
    {
     "name": "stderr",
     "output_type": "stream",
     "text": [
      "TRAINIGN: 100%|██████████| 587/587 [00:30<00:00, 19.14it/s]\n",
      "TESTING: 100%|██████████| 147/147 [00:17<00:00,  8.24it/s]\n"
     ]
    },
    {
     "name": "stdout",
     "output_type": "stream",
     "text": [
      "Train Acc: 0.5949 | Train Loss: 0.8142 | Test Acc: 0.5957 | Test Loss: 1.0799460869257143\n",
      "\n",
      "Epoch 17\n"
     ]
    },
    {
     "name": "stderr",
     "output_type": "stream",
     "text": [
      "TRAINIGN: 100%|██████████| 587/587 [00:31<00:00, 18.62it/s]\n",
      "TESTING: 100%|██████████| 147/147 [00:18<00:00,  8.13it/s]\n"
     ]
    },
    {
     "name": "stdout",
     "output_type": "stream",
     "text": [
      "Train Acc: 0.6021 | Train Loss: 0.7920 | Test Acc: 0.6028 | Test Loss: 1.0479498627234478\n",
      "\n",
      "Epoch 18\n"
     ]
    },
    {
     "name": "stderr",
     "output_type": "stream",
     "text": [
      "TRAINIGN: 100%|██████████| 587/587 [00:31<00:00, 18.83it/s]\n",
      "TESTING: 100%|██████████| 147/147 [00:17<00:00,  8.24it/s]\n"
     ]
    },
    {
     "name": "stdout",
     "output_type": "stream",
     "text": [
      "Train Acc: 0.6089 | Train Loss: 0.7614 | Test Acc: 0.6095 | Test Loss: 1.0509607937871193\n",
      "\n",
      "Epoch 19\n"
     ]
    },
    {
     "name": "stderr",
     "output_type": "stream",
     "text": [
      "TRAINIGN: 100%|██████████| 587/587 [00:31<00:00, 18.86it/s]\n",
      "TESTING: 100%|██████████| 147/147 [00:17<00:00,  8.27it/s]\n"
     ]
    },
    {
     "name": "stdout",
     "output_type": "stream",
     "text": [
      "Train Acc: 0.6154 | Train Loss: 0.7385 | Test Acc: 0.6160 | Test Loss: 1.0381298835585717\n",
      "\n",
      "Epoch 20\n"
     ]
    },
    {
     "name": "stderr",
     "output_type": "stream",
     "text": [
      "TRAINIGN: 100%|██████████| 587/587 [00:31<00:00, 18.60it/s]\n",
      "TESTING: 100%|██████████| 147/147 [00:17<00:00,  8.18it/s]\n"
     ]
    },
    {
     "name": "stdout",
     "output_type": "stream",
     "text": [
      "Train Acc: 0.6215 | Train Loss: 0.7200 | Test Acc: 0.6219 | Test Loss: 1.1004392565513144\n",
      "\n",
      "Epoch 21\n"
     ]
    },
    {
     "name": "stderr",
     "output_type": "stream",
     "text": [
      "TRAINIGN: 100%|██████████| 587/587 [00:30<00:00, 19.00it/s]\n",
      "TESTING: 100%|██████████| 147/147 [00:17<00:00,  8.27it/s]\n"
     ]
    },
    {
     "name": "stdout",
     "output_type": "stream",
     "text": [
      "Train Acc: 0.6273 | Train Loss: 0.6982 | Test Acc: 0.6276 | Test Loss: 1.0683753239054259\n",
      "\n",
      "Epoch 22\n"
     ]
    },
    {
     "name": "stderr",
     "output_type": "stream",
     "text": [
      "TRAINIGN: 100%|██████████| 587/587 [00:31<00:00, 18.76it/s]\n",
      "TESTING: 100%|██████████| 147/147 [00:17<00:00,  8.34it/s]\n"
     ]
    },
    {
     "name": "stdout",
     "output_type": "stream",
     "text": [
      "Train Acc: 0.6328 | Train Loss: 0.6739 | Test Acc: 0.6331 | Test Loss: 1.0966268425085106\n",
      "\n",
      "Epoch 23\n"
     ]
    },
    {
     "name": "stderr",
     "output_type": "stream",
     "text": [
      "TRAINIGN: 100%|██████████| 587/587 [00:31<00:00, 18.71it/s]\n",
      "TESTING: 100%|██████████| 147/147 [00:18<00:00,  8.15it/s]\n"
     ]
    },
    {
     "name": "stdout",
     "output_type": "stream",
     "text": [
      "Train Acc: 0.6381 | Train Loss: 0.6551 | Test Acc: 0.6384 | Test Loss: 1.1026622709773837\n",
      "\n",
      "Epoch 24\n"
     ]
    },
    {
     "name": "stderr",
     "output_type": "stream",
     "text": [
      "TRAINIGN: 100%|██████████| 587/587 [00:31<00:00, 18.61it/s]\n",
      "TESTING: 100%|██████████| 147/147 [00:17<00:00,  8.23it/s]\n"
     ]
    },
    {
     "name": "stdout",
     "output_type": "stream",
     "text": [
      "Train Acc: 0.6432 | Train Loss: 0.6282 | Test Acc: 0.6434 | Test Loss: 1.135600283032372\n",
      "\n",
      "Epoch 25\n"
     ]
    },
    {
     "name": "stderr",
     "output_type": "stream",
     "text": [
      "TRAINIGN: 100%|██████████| 587/587 [00:31<00:00, 18.56it/s]\n",
      "TESTING: 100%|██████████| 147/147 [00:18<00:00,  8.16it/s]\n"
     ]
    },
    {
     "name": "stdout",
     "output_type": "stream",
     "text": [
      "Train Acc: 0.6483 | Train Loss: 0.6054 | Test Acc: 0.6485 | Test Loss: 1.1357563774601942\n",
      "\n",
      "Epoch 26\n"
     ]
    },
    {
     "name": "stderr",
     "output_type": "stream",
     "text": [
      "TRAINIGN: 100%|██████████| 587/587 [00:30<00:00, 18.98it/s]\n",
      "TESTING: 100%|██████████| 147/147 [00:17<00:00,  8.24it/s]\n"
     ]
    },
    {
     "name": "stdout",
     "output_type": "stream",
     "text": [
      "Train Acc: 0.6532 | Train Loss: 0.5896 | Test Acc: 0.6532 | Test Loss: 1.2370688238111482\n",
      "\n",
      "Epoch 27\n"
     ]
    },
    {
     "name": "stderr",
     "output_type": "stream",
     "text": [
      "TRAINIGN: 100%|██████████| 587/587 [00:31<00:00, 18.84it/s]\n",
      "TESTING: 100%|██████████| 147/147 [00:17<00:00,  8.21it/s]\n"
     ]
    },
    {
     "name": "stdout",
     "output_type": "stream",
     "text": [
      "Train Acc: 0.6577 | Train Loss: 0.5658 | Test Acc: 0.6578 | Test Loss: 1.1812389582192817\n",
      "\n",
      "Epoch 28\n"
     ]
    },
    {
     "name": "stderr",
     "output_type": "stream",
     "text": [
      "TRAINIGN: 100%|██████████| 587/587 [00:31<00:00, 18.74it/s]\n",
      "TESTING: 100%|██████████| 147/147 [00:17<00:00,  8.31it/s]\n"
     ]
    },
    {
     "name": "stdout",
     "output_type": "stream",
     "text": [
      "Train Acc: 0.6621 | Train Loss: 0.5559 | Test Acc: 0.6622 | Test Loss: 1.1904231200412827\n",
      "\n",
      "Epoch 29\n"
     ]
    },
    {
     "name": "stderr",
     "output_type": "stream",
     "text": [
      "TRAINIGN: 100%|██████████| 587/587 [00:31<00:00, 18.79it/s]\n",
      "TESTING: 100%|██████████| 147/147 [00:17<00:00,  8.23it/s]\n"
     ]
    },
    {
     "name": "stdout",
     "output_type": "stream",
     "text": [
      "Train Acc: 0.6664 | Train Loss: 0.5419 | Test Acc: 0.6665 | Test Loss: 1.1397881467326159\n",
      "\n",
      "Epoch 30\n"
     ]
    },
    {
     "name": "stderr",
     "output_type": "stream",
     "text": [
      "TRAINIGN: 100%|██████████| 587/587 [00:31<00:00, 18.63it/s]\n",
      "TESTING: 100%|██████████| 147/147 [00:18<00:00,  8.14it/s]\n"
     ]
    },
    {
     "name": "stdout",
     "output_type": "stream",
     "text": [
      "Train Acc: 0.6707 | Train Loss: 0.5133 | Test Acc: 0.6707 | Test Loss: 1.2732083473075815\n",
      "\n",
      "Epoch 31\n"
     ]
    },
    {
     "name": "stderr",
     "output_type": "stream",
     "text": [
      "TRAINIGN: 100%|██████████| 587/587 [00:31<00:00, 18.60it/s]\n",
      "TESTING: 100%|██████████| 147/147 [00:17<00:00,  8.26it/s]\n"
     ]
    },
    {
     "name": "stdout",
     "output_type": "stream",
     "text": [
      "Train Acc: 0.6748 | Train Loss: 0.4927 | Test Acc: 0.6748 | Test Loss: 1.2319260146342168\n",
      "\n",
      "Epoch 32\n"
     ]
    },
    {
     "name": "stderr",
     "output_type": "stream",
     "text": [
      "TRAINIGN: 100%|██████████| 587/587 [00:31<00:00, 18.86it/s]\n",
      "TESTING: 100%|██████████| 147/147 [00:17<00:00,  8.20it/s]\n"
     ]
    },
    {
     "name": "stdout",
     "output_type": "stream",
     "text": [
      "Train Acc: 0.6789 | Train Loss: 0.4758 | Test Acc: 0.6788 | Test Loss: 1.2205249946944567\n",
      "\n",
      "Epoch 33\n"
     ]
    },
    {
     "name": "stderr",
     "output_type": "stream",
     "text": [
      "TRAINIGN: 100%|██████████| 587/587 [00:31<00:00, 18.66it/s]\n",
      "TESTING: 100%|██████████| 147/147 [00:18<00:00,  8.15it/s]\n"
     ]
    },
    {
     "name": "stdout",
     "output_type": "stream",
     "text": [
      "Train Acc: 0.6828 | Train Loss: 0.4663 | Test Acc: 0.6827 | Test Loss: 1.2851149026228457\n",
      "\n",
      "Epoch 34\n"
     ]
    },
    {
     "name": "stderr",
     "output_type": "stream",
     "text": [
      "TRAINIGN: 100%|██████████| 587/587 [00:30<00:00, 19.00it/s]\n",
      "TESTING: 100%|██████████| 147/147 [00:18<00:00,  8.13it/s]\n"
     ]
    },
    {
     "name": "stdout",
     "output_type": "stream",
     "text": [
      "Train Acc: 0.6866 | Train Loss: 0.4419 | Test Acc: 0.6866 | Test Loss: 1.3053974347049688\n",
      "\n",
      "Epoch 35\n"
     ]
    },
    {
     "name": "stderr",
     "output_type": "stream",
     "text": [
      "TRAINIGN: 100%|██████████| 587/587 [00:31<00:00, 18.89it/s]\n",
      "TESTING: 100%|██████████| 147/147 [00:17<00:00,  8.20it/s]\n"
     ]
    },
    {
     "name": "stdout",
     "output_type": "stream",
     "text": [
      "Train Acc: 0.6904 | Train Loss: 0.4338 | Test Acc: 0.6903 | Test Loss: 1.3417779073423268\n",
      "\n",
      "Epoch 36\n"
     ]
    },
    {
     "name": "stderr",
     "output_type": "stream",
     "text": [
      "TRAINIGN: 100%|██████████| 587/587 [00:31<00:00, 18.91it/s]\n",
      "TESTING: 100%|██████████| 147/147 [00:17<00:00,  8.24it/s]\n"
     ]
    },
    {
     "name": "stdout",
     "output_type": "stream",
     "text": [
      "Train Acc: 0.6940 | Train Loss: 0.4235 | Test Acc: 0.6938 | Test Loss: 1.4233562913881679\n",
      "\n",
      "Epoch 37\n"
     ]
    },
    {
     "name": "stderr",
     "output_type": "stream",
     "text": [
      "TRAINIGN: 100%|██████████| 587/587 [00:31<00:00, 18.91it/s]\n",
      "TESTING: 100%|██████████| 147/147 [00:17<00:00,  8.20it/s]\n"
     ]
    },
    {
     "name": "stdout",
     "output_type": "stream",
     "text": [
      "Train Acc: 0.6975 | Train Loss: 0.4048 | Test Acc: 0.6973 | Test Loss: 1.4054155264581953\n",
      "\n",
      "Epoch 38\n"
     ]
    },
    {
     "name": "stderr",
     "output_type": "stream",
     "text": [
      "TRAINIGN: 100%|██████████| 587/587 [00:30<00:00, 19.01it/s]\n",
      "TESTING: 100%|██████████| 147/147 [00:17<00:00,  8.33it/s]\n"
     ]
    },
    {
     "name": "stdout",
     "output_type": "stream",
     "text": [
      "Train Acc: 0.7009 | Train Loss: 0.3926 | Test Acc: 0.7007 | Test Loss: 1.3720272349662521\n",
      "\n",
      "Epoch 39\n"
     ]
    },
    {
     "name": "stderr",
     "output_type": "stream",
     "text": [
      "TRAINIGN: 100%|██████████| 587/587 [00:31<00:00, 18.68it/s]\n",
      "TESTING: 100%|██████████| 147/147 [00:17<00:00,  8.20it/s]\n"
     ]
    },
    {
     "name": "stdout",
     "output_type": "stream",
     "text": [
      "Train Acc: 0.7043 | Train Loss: 0.3753 | Test Acc: 0.7041 | Test Loss: 1.4317130592404579\n",
      "\n",
      "Epoch 40\n"
     ]
    },
    {
     "name": "stderr",
     "output_type": "stream",
     "text": [
      "TRAINIGN: 100%|██████████| 587/587 [00:30<00:00, 19.05it/s]\n",
      "TESTING: 100%|██████████| 147/147 [00:17<00:00,  8.24it/s]\n"
     ]
    },
    {
     "name": "stdout",
     "output_type": "stream",
     "text": [
      "Train Acc: 0.7075 | Train Loss: 0.3721 | Test Acc: 0.7073 | Test Loss: 1.4590062754494804\n",
      "\n",
      "Epoch 41\n"
     ]
    },
    {
     "name": "stderr",
     "output_type": "stream",
     "text": [
      "TRAINIGN: 100%|██████████| 587/587 [00:31<00:00, 18.77it/s]\n",
      "TESTING: 100%|██████████| 147/147 [00:17<00:00,  8.32it/s]\n"
     ]
    },
    {
     "name": "stdout",
     "output_type": "stream",
     "text": [
      "Train Acc: 0.7107 | Train Loss: 0.3597 | Test Acc: 0.7105 | Test Loss: 1.39139675323655\n",
      "\n",
      "Epoch 42\n"
     ]
    },
    {
     "name": "stderr",
     "output_type": "stream",
     "text": [
      "TRAINIGN: 100%|██████████| 587/587 [00:31<00:00, 18.59it/s]\n",
      "TESTING: 100%|██████████| 147/147 [00:17<00:00,  8.25it/s]\n"
     ]
    },
    {
     "name": "stdout",
     "output_type": "stream",
     "text": [
      "Train Acc: 0.7138 | Train Loss: 0.3397 | Test Acc: 0.7136 | Test Loss: 1.5241356739381544\n",
      "\n",
      "Epoch 43\n"
     ]
    },
    {
     "name": "stderr",
     "output_type": "stream",
     "text": [
      "TRAINIGN: 100%|██████████| 587/587 [00:31<00:00, 18.93it/s]\n",
      "TESTING: 100%|██████████| 147/147 [00:17<00:00,  8.26it/s]\n"
     ]
    },
    {
     "name": "stdout",
     "output_type": "stream",
     "text": [
      "Train Acc: 0.7168 | Train Loss: 0.3424 | Test Acc: 0.7165 | Test Loss: 1.572923402397\n",
      "No improvement. Early stopping counter: 1/3\n",
      "\n",
      "Epoch 44\n"
     ]
    },
    {
     "name": "stderr",
     "output_type": "stream",
     "text": [
      "TRAINIGN: 100%|██████████| 587/587 [00:31<00:00, 18.78it/s]\n",
      "TESTING: 100%|██████████| 147/147 [00:17<00:00,  8.25it/s]\n"
     ]
    },
    {
     "name": "stdout",
     "output_type": "stream",
     "text": [
      "Train Acc: 0.7197 | Train Loss: 0.3258 | Test Acc: 0.7195 | Test Loss: 1.5015386152429646\n",
      "\n",
      "Epoch 45\n"
     ]
    },
    {
     "name": "stderr",
     "output_type": "stream",
     "text": [
      "TRAINIGN: 100%|██████████| 587/587 [00:30<00:00, 19.12it/s]\n",
      "TESTING: 100%|██████████| 147/147 [00:17<00:00,  8.25it/s]\n"
     ]
    },
    {
     "name": "stdout",
     "output_type": "stream",
     "text": [
      "Train Acc: 0.7226 | Train Loss: 0.3238 | Test Acc: 0.7224 | Test Loss: 1.5165250832531727\n",
      "No improvement. Early stopping counter: 1/3\n",
      "\n",
      "Epoch 46\n"
     ]
    },
    {
     "name": "stderr",
     "output_type": "stream",
     "text": [
      "TRAINIGN: 100%|██████████| 587/587 [00:31<00:00, 18.54it/s]\n",
      "TESTING: 100%|██████████| 147/147 [00:17<00:00,  8.26it/s]\n"
     ]
    },
    {
     "name": "stdout",
     "output_type": "stream",
     "text": [
      "Train Acc: 0.7254 | Train Loss: 0.3135 | Test Acc: 0.7251 | Test Loss: 1.5544276111790922\n",
      "\n",
      "Epoch 47\n"
     ]
    },
    {
     "name": "stderr",
     "output_type": "stream",
     "text": [
      "TRAINIGN: 100%|██████████| 587/587 [00:31<00:00, 18.93it/s]\n",
      "TESTING: 100%|██████████| 147/147 [00:17<00:00,  8.30it/s]\n"
     ]
    },
    {
     "name": "stdout",
     "output_type": "stream",
     "text": [
      "Train Acc: 0.7281 | Train Loss: 0.3012 | Test Acc: 0.7279 | Test Loss: 1.5399673305401185\n",
      "No improvement. Early stopping counter: 1/3\n",
      "\n",
      "Epoch 48\n"
     ]
    },
    {
     "name": "stderr",
     "output_type": "stream",
     "text": [
      "TRAINIGN: 100%|██████████| 587/587 [00:31<00:00, 18.78it/s]\n",
      "TESTING: 100%|██████████| 147/147 [00:18<00:00,  8.09it/s]\n"
     ]
    },
    {
     "name": "stdout",
     "output_type": "stream",
     "text": [
      "Train Acc: 0.7308 | Train Loss: 0.3014 | Test Acc: 0.7305 | Test Loss: 1.6065117250494405\n",
      "\n",
      "Epoch 49\n"
     ]
    },
    {
     "name": "stderr",
     "output_type": "stream",
     "text": [
      "TRAINIGN: 100%|██████████| 587/587 [00:31<00:00, 18.69it/s]\n",
      "TESTING: 100%|██████████| 147/147 [00:17<00:00,  8.20it/s]\n"
     ]
    },
    {
     "name": "stdout",
     "output_type": "stream",
     "text": [
      "Train Acc: 0.7334 | Train Loss: 0.2853 | Test Acc: 0.7331 | Test Loss: 1.6603646172958166\n",
      "No improvement. Early stopping counter: 1/3\n",
      "\n",
      "Epoch 50\n"
     ]
    },
    {
     "name": "stderr",
     "output_type": "stream",
     "text": [
      "TRAINIGN: 100%|██████████| 587/587 [00:31<00:00, 18.61it/s]\n",
      "TESTING: 100%|██████████| 147/147 [00:17<00:00,  8.23it/s]"
     ]
    },
    {
     "name": "stdout",
     "output_type": "stream",
     "text": [
      "Train Acc: 0.7358 | Train Loss: 0.2881 | Test Acc: 0.7355 | Test Loss: 1.673222303390503\n"
     ]
    },
    {
     "name": "stderr",
     "output_type": "stream",
     "text": [
      "\n"
     ]
    }
   ],
   "source": [
    "device = torch.device(\"cuda\" if torch.cuda.is_available() else \"cpu\")\n",
    "\n",
    "AlexNet = AlexNet().to(device)\n",
    "criterion = nn.CrossEntropyLoss().to(device)\n",
    "optimizer = optim.Adam(AlexNet.parameters(), lr=3e-4)\n",
    "accuracy_score = Accuracy(task = 'multiclass', num_classes = 10).to(device)\n",
    "\n",
    "\n",
    "patience = 3\n",
    "min_delta = 3e-3\n",
    "best_accuracy = 0\n",
    "counter = 0\n",
    "best_test_acc = 0\n",
    "\n",
    "loss_scores_train_alexnet = []\n",
    "accuracy_scores_train_alexnet = []\n",
    "\n",
    "loss_scores_test_alexnet = []\n",
    "accuracy_scores_test_alexnet = []\n",
    "\n",
    "for epoch in range(50):  \n",
    "    print(f\"\\nEpoch {epoch+1}\")\n",
    "    train_acc, train_loss = train_model(AlexNet, training_dataset, criterion, optimizer, accuracy_score, device)\n",
    "    test_acc, test_loss = test_model(AlexNet, testing_dataset, criterion, accuracy_score, device)\n",
    "    \n",
    "    accuracy_scores_train_alexnet.append(train_acc)\n",
    "    loss_scores_train_alexnet.append(train_loss)\n",
    "\n",
    "    accuracy_scores_test_alexnet.append(test_acc)\n",
    "    loss_scores_test_alexnet.append(test_loss)\n",
    "    print(f\"Train Acc: {train_acc:.4f} | Train Loss: {train_loss:.4f} | Test Acc: {test_acc:.4f} | Test Loss: {test_loss}\")\n",
    "    \n",
    "    if test_acc - best_test_acc > min_delta:\n",
    "        best_test_acc = test_acc\n",
    "        counter = 0\n",
    "    else:\n",
    "        counter += 1\n",
    "        print(f\"No improvement. Early stopping counter: {counter}/{patience}\")\n",
    "        if counter >= patience:\n",
    "            print(\"Early stopping triggered.\")\n",
    "            break"
   ]
  },
  {
   "cell_type": "code",
   "execution_count": 5,
   "id": "ab5d3c98",
   "metadata": {},
   "outputs": [
    {
     "data": {
      "text/plain": [
       "[1.8945759891652736,\n",
       " 1.6170103047169795,\n",
       " 1.4350029586934718,\n",
       " 1.3271928685052055,\n",
       " 1.2866767344831609,\n",
       " 1.2006987033247136,\n",
       " 1.1643989588938604,\n",
       " 1.1477025727025505,\n",
       " 1.1256679791171535,\n",
       " 1.097668153088109,\n",
       " 1.10859398979719,\n",
       " 1.0845463077227275,\n",
       " 1.0746503293919725,\n",
       " 1.1160799321674166,\n",
       " 1.0885768257030823,\n",
       " 1.0799460869257143,\n",
       " 1.0479498627234478,\n",
       " 1.0509607937871193,\n",
       " 1.0381298835585717,\n",
       " 1.1004392565513144,\n",
       " 1.0683753239054259,\n",
       " 1.0966268425085106,\n",
       " 1.1026622709773837,\n",
       " 1.135600283032372,\n",
       " 1.1357563774601942,\n",
       " 1.2370688238111482,\n",
       " 1.1812389582192817,\n",
       " 1.1904231200412827,\n",
       " 1.1397881467326159,\n",
       " 1.2732083473075815,\n",
       " 1.2319260146342168,\n",
       " 1.2205249946944567,\n",
       " 1.2851149026228457,\n",
       " 1.3053974347049688,\n",
       " 1.3417779073423268,\n",
       " 1.4233562913881679,\n",
       " 1.4054155264581953,\n",
       " 1.3720272349662521,\n",
       " 1.4317130592404579,\n",
       " 1.4590062754494804,\n",
       " 1.39139675323655,\n",
       " 1.5241356739381544,\n",
       " 1.572923402397,\n",
       " 1.5015386152429646,\n",
       " 1.5165250832531727,\n",
       " 1.5544276111790922,\n",
       " 1.5399673305401185,\n",
       " 1.6065117250494405,\n",
       " 1.6603646172958166,\n",
       " 1.673222303390503]"
      ]
     },
     "execution_count": 5,
     "metadata": {},
     "output_type": "execute_result"
    }
   ],
   "source": [
    "loss_scores_test_alexnet"
   ]
  },
  {
   "cell_type": "code",
   "execution_count": 7,
   "id": "05a29a9d",
   "metadata": {},
   "outputs": [],
   "source": [
    "import pandas as pd"
   ]
  },
  {
   "cell_type": "code",
   "execution_count": 14,
   "id": "03643030",
   "metadata": {},
   "outputs": [],
   "source": [
    "cnn_df = pd.read_csv('CNN_Testing.csv', index_col= 0)\n",
    "cols = ['loss_alexnet_train', 'loss_alexnet_test', 'acc_alexnet_train', 'acc_alexnet_test']\n",
    "data = [loss_scores_train_alexnet, loss_scores_test_alexnet, accuracy_scores_train_alexnet, accuracy_scores_test_alexnet]\n",
    "alexnet_results = pd.DataFrame(list(zip(*data)), columns=cols)\n",
    "alexnet_results.to_csv('AlexNet_results.csv')"
   ]
  },
  {
   "cell_type": "code",
   "execution_count": 17,
   "id": "a2ab8c26",
   "metadata": {},
   "outputs": [],
   "source": [
    "from vit_pytorch import ViT\n",
    "\n",
    "class BirdClassifier(nn.Module):\n",
    "    def __init__(self,\n",
    "                 cnn_state=False, # Whether to use CNN before ViT\n",
    "                 image_size=256,\n",
    "                 patch_size=16,\n",
    "                 num_class=10,\n",
    "                 dim=256,\n",
    "                 layer_count=1,\n",
    "                 head_count=1,\n",
    "                 transformer_ff_neurons=256,\n",
    "                 transformer_dropout=0.2):\n",
    "        super().__init__()\n",
    "        \n",
    "        self.cnn_state = cnn_state\n",
    "        self.image_size = image_size if not cnn_state else 64  # Will update if CNN is used\n",
    "\n",
    "        if cnn_state:\n",
    "            self.cnn = nn.Sequential(\n",
    "                nn.Conv2d(3, 96, kernel_size=11, stride=4, padding=2),  # AlexNet\n",
    "                nn.ReLU(),\n",
    "                nn.MaxPool2d(kernel_size=3, stride=2),\n",
    "                \n",
    "                nn.Conv2d(96, 256, kernel_size=5, padding=2),\n",
    "                nn.ReLU(),\n",
    "                nn.MaxPool2d(kernel_size=3, stride=2),\n",
    "\n",
    "                nn.Conv2d(256, 384, kernel_size=3, padding=1),\n",
    "                nn.ReLU(),\n",
    "\n",
    "                nn.Conv2d(384, 384, kernel_size=3, padding=1),\n",
    "                nn.ReLU(),\n",
    "\n",
    "                nn.Conv2d(384, 256, kernel_size=3, padding=1),\n",
    "                nn.ReLU(),\n",
    "                nn.AdaptiveAvgPool2d((self.image_size, self.image_size))  # Resize to ViT input\n",
    "            )\n",
    "\n",
    "        self.vision_transformer = ViT(\n",
    "            image_size=self.image_size,\n",
    "            patch_size=patch_size,\n",
    "            num_classes=num_class,\n",
    "            dim=dim,\n",
    "            depth=layer_count,\n",
    "            heads=head_count,\n",
    "            mlp_dim=transformer_ff_neurons,\n",
    "            dropout=transformer_dropout,\n",
    "            emb_dropout=transformer_dropout,\n",
    "            channels=3\n",
    "        )\n",
    "\n",
    "    def forward(self, x):\n",
    "        if self.cnn_state:\n",
    "            x = self.cnn(x)\n",
    "        x = self.vision_transformer(x)\n",
    "        return x\n"
   ]
  },
  {
   "cell_type": "code",
   "execution_count": 20,
   "id": "640e8586",
   "metadata": {},
   "outputs": [
    {
     "name": "stdout",
     "output_type": "stream",
     "text": [
      "\n",
      "Epoch 1\n"
     ]
    },
    {
     "name": "stderr",
     "output_type": "stream",
     "text": [
      "TRAINIGN: 100%|██████████| 587/587 [00:34<00:00, 17.12it/s]\n",
      "TESTING: 100%|██████████| 147/147 [00:17<00:00,  8.21it/s]\n"
     ]
    },
    {
     "name": "stdout",
     "output_type": "stream",
     "text": [
      "Train Acc: 0.2968 | Train Loss: 1.9640 | Test Acc: 0.3102 | Test Loss: 1.7833688737583808\n",
      "\n",
      "Epoch 2\n"
     ]
    },
    {
     "name": "stderr",
     "output_type": "stream",
     "text": [
      "TRAINIGN: 100%|██████████| 587/587 [00:34<00:00, 17.24it/s]\n",
      "TESTING: 100%|██████████| 147/147 [00:17<00:00,  8.47it/s]\n"
     ]
    },
    {
     "name": "stdout",
     "output_type": "stream",
     "text": [
      "Train Acc: 0.3352 | Train Loss: 1.7774 | Test Acc: 0.3416 | Test Loss: 1.7222699162100448\n",
      "\n",
      "Epoch 3\n"
     ]
    },
    {
     "name": "stderr",
     "output_type": "stream",
     "text": [
      "TRAINIGN: 100%|██████████| 587/587 [00:33<00:00, 17.45it/s]\n",
      "TESTING: 100%|██████████| 147/147 [00:17<00:00,  8.41it/s]\n"
     ]
    },
    {
     "name": "stdout",
     "output_type": "stream",
     "text": [
      "Train Acc: 0.3570 | Train Loss: 1.7088 | Test Acc: 0.3611 | Test Loss: 1.669669585974038\n",
      "\n",
      "Epoch 4\n"
     ]
    },
    {
     "name": "stderr",
     "output_type": "stream",
     "text": [
      "TRAINIGN: 100%|██████████| 587/587 [00:33<00:00, 17.29it/s]\n",
      "TESTING: 100%|██████████| 147/147 [00:17<00:00,  8.44it/s]\n"
     ]
    },
    {
     "name": "stdout",
     "output_type": "stream",
     "text": [
      "Train Acc: 0.3717 | Train Loss: 1.6614 | Test Acc: 0.3746 | Test Loss: 1.6443491971411672\n",
      "\n",
      "Epoch 5\n"
     ]
    },
    {
     "name": "stderr",
     "output_type": "stream",
     "text": [
      "TRAINIGN: 100%|██████████| 587/587 [00:35<00:00, 16.75it/s]\n",
      "TESTING: 100%|██████████| 147/147 [00:18<00:00,  7.88it/s]\n"
     ]
    },
    {
     "name": "stdout",
     "output_type": "stream",
     "text": [
      "Train Acc: 0.3837 | Train Loss: 1.6186 | Test Acc: 0.3860 | Test Loss: 1.5672023328794102\n",
      "\n",
      "Epoch 6\n"
     ]
    },
    {
     "name": "stderr",
     "output_type": "stream",
     "text": [
      "TRAINIGN: 100%|██████████| 587/587 [00:35<00:00, 16.74it/s]\n",
      "TESTING: 100%|██████████| 147/147 [00:18<00:00,  7.91it/s]\n"
     ]
    },
    {
     "name": "stdout",
     "output_type": "stream",
     "text": [
      "Train Acc: 0.3933 | Train Loss: 1.5918 | Test Acc: 0.3956 | Test Loss: 1.5347819620249223\n",
      "\n",
      "Epoch 7\n"
     ]
    },
    {
     "name": "stderr",
     "output_type": "stream",
     "text": [
      "TRAINIGN: 100%|██████████| 587/587 [00:35<00:00, 16.69it/s]\n",
      "TESTING: 100%|██████████| 147/147 [00:18<00:00,  7.92it/s]\n"
     ]
    },
    {
     "name": "stdout",
     "output_type": "stream",
     "text": [
      "Train Acc: 0.4025 | Train Loss: 1.5591 | Test Acc: 0.4043 | Test Loss: 1.5248669637303773\n",
      "\n",
      "Epoch 8\n"
     ]
    },
    {
     "name": "stderr",
     "output_type": "stream",
     "text": [
      "TRAINIGN: 100%|██████████| 587/587 [00:35<00:00, 16.74it/s]\n",
      "TESTING: 100%|██████████| 147/147 [00:18<00:00,  7.95it/s]\n"
     ]
    },
    {
     "name": "stdout",
     "output_type": "stream",
     "text": [
      "Train Acc: 0.4100 | Train Loss: 1.5378 | Test Acc: 0.4116 | Test Loss: 1.5421611249041396\n",
      "\n",
      "Epoch 9\n"
     ]
    },
    {
     "name": "stderr",
     "output_type": "stream",
     "text": [
      "TRAINIGN: 100%|██████████| 587/587 [00:35<00:00, 16.74it/s]\n",
      "TESTING: 100%|██████████| 147/147 [00:18<00:00,  7.96it/s]\n"
     ]
    },
    {
     "name": "stdout",
     "output_type": "stream",
     "text": [
      "Train Acc: 0.4166 | Train Loss: 1.5173 | Test Acc: 0.4179 | Test Loss: 1.5246719778800497\n",
      "\n",
      "Epoch 10\n"
     ]
    },
    {
     "name": "stderr",
     "output_type": "stream",
     "text": [
      "TRAINIGN: 100%|██████████| 587/587 [00:34<00:00, 16.92it/s]\n",
      "TESTING: 100%|██████████| 147/147 [00:18<00:00,  8.01it/s]\n"
     ]
    },
    {
     "name": "stdout",
     "output_type": "stream",
     "text": [
      "Train Acc: 0.4224 | Train Loss: 1.4992 | Test Acc: 0.4238 | Test Loss: 1.4696781505532817\n",
      "\n",
      "Epoch 11\n"
     ]
    },
    {
     "name": "stderr",
     "output_type": "stream",
     "text": [
      "TRAINIGN: 100%|██████████| 587/587 [00:35<00:00, 16.65it/s]\n",
      "TESTING: 100%|██████████| 147/147 [00:18<00:00,  7.97it/s]\n"
     ]
    },
    {
     "name": "stdout",
     "output_type": "stream",
     "text": [
      "Train Acc: 0.4292 | Train Loss: 1.4408 | Test Acc: 0.4303 | Test Loss: 1.4857651984610525\n",
      "\n",
      "Epoch 12\n"
     ]
    },
    {
     "name": "stderr",
     "output_type": "stream",
     "text": [
      "TRAINIGN: 100%|██████████| 587/587 [00:34<00:00, 16.81it/s]\n",
      "TESTING: 100%|██████████| 147/147 [00:18<00:00,  7.91it/s]\n"
     ]
    },
    {
     "name": "stdout",
     "output_type": "stream",
     "text": [
      "Train Acc: 0.4354 | Train Loss: 1.4177 | Test Acc: 0.4365 | Test Loss: 1.4174725417377187\n",
      "\n",
      "Epoch 13\n"
     ]
    },
    {
     "name": "stderr",
     "output_type": "stream",
     "text": [
      "TRAINIGN: 100%|██████████| 587/587 [00:34<00:00, 16.83it/s]\n",
      "TESTING: 100%|██████████| 147/147 [00:18<00:00,  8.01it/s]\n"
     ]
    },
    {
     "name": "stdout",
     "output_type": "stream",
     "text": [
      "Train Acc: 0.4410 | Train Loss: 1.4053 | Test Acc: 0.4422 | Test Loss: 1.4024399283791886\n",
      "\n",
      "Epoch 14\n"
     ]
    },
    {
     "name": "stderr",
     "output_type": "stream",
     "text": [
      "TRAINIGN: 100%|██████████| 587/587 [00:33<00:00, 17.30it/s]\n",
      "TESTING: 100%|██████████| 147/147 [00:17<00:00,  8.61it/s]\n"
     ]
    },
    {
     "name": "stdout",
     "output_type": "stream",
     "text": [
      "Train Acc: 0.4464 | Train Loss: 1.3928 | Test Acc: 0.4474 | Test Loss: 1.4053906023907823\n",
      "\n",
      "Epoch 15\n"
     ]
    },
    {
     "name": "stderr",
     "output_type": "stream",
     "text": [
      "TRAINIGN: 100%|██████████| 587/587 [00:33<00:00, 17.53it/s]\n",
      "TESTING: 100%|██████████| 147/147 [00:17<00:00,  8.49it/s]\n"
     ]
    },
    {
     "name": "stdout",
     "output_type": "stream",
     "text": [
      "Train Acc: 0.4513 | Train Loss: 1.3811 | Test Acc: 0.4522 | Test Loss: 1.4046293626837179\n",
      "\n",
      "Epoch 16\n"
     ]
    },
    {
     "name": "stderr",
     "output_type": "stream",
     "text": [
      "TRAINIGN: 100%|██████████| 587/587 [00:33<00:00, 17.57it/s]\n",
      "TESTING: 100%|██████████| 147/147 [00:17<00:00,  8.44it/s]\n"
     ]
    },
    {
     "name": "stdout",
     "output_type": "stream",
     "text": [
      "Train Acc: 0.4558 | Train Loss: 1.3666 | Test Acc: 0.4567 | Test Loss: 1.3908655781324217\n",
      "\n",
      "Epoch 17\n"
     ]
    },
    {
     "name": "stderr",
     "output_type": "stream",
     "text": [
      "TRAINIGN: 100%|██████████| 587/587 [00:33<00:00, 17.59it/s]\n",
      "TESTING: 100%|██████████| 147/147 [00:17<00:00,  8.44it/s]\n"
     ]
    },
    {
     "name": "stdout",
     "output_type": "stream",
     "text": [
      "Train Acc: 0.4598 | Train Loss: 1.3648 | Test Acc: 0.4605 | Test Loss: 1.3928729539014855\n",
      "\n",
      "Epoch 18\n"
     ]
    },
    {
     "name": "stderr",
     "output_type": "stream",
     "text": [
      "TRAINIGN: 100%|██████████| 587/587 [00:33<00:00, 17.51it/s]\n",
      "TESTING: 100%|██████████| 147/147 [00:17<00:00,  8.44it/s]\n"
     ]
    },
    {
     "name": "stdout",
     "output_type": "stream",
     "text": [
      "Train Acc: 0.4635 | Train Loss: 1.3496 | Test Acc: 0.4643 | Test Loss: 1.3674321061088925\n",
      "\n",
      "Epoch 19\n"
     ]
    },
    {
     "name": "stderr",
     "output_type": "stream",
     "text": [
      "TRAINIGN: 100%|██████████| 587/587 [00:33<00:00, 17.59it/s]\n",
      "TESTING: 100%|██████████| 147/147 [00:17<00:00,  8.58it/s]\n"
     ]
    },
    {
     "name": "stdout",
     "output_type": "stream",
     "text": [
      "Train Acc: 0.4673 | Train Loss: 1.3375 | Test Acc: 0.4679 | Test Loss: 1.3934894905609339\n",
      "\n",
      "Epoch 20\n"
     ]
    },
    {
     "name": "stderr",
     "output_type": "stream",
     "text": [
      "TRAINIGN: 100%|██████████| 587/587 [00:33<00:00, 17.66it/s]\n",
      "TESTING: 100%|██████████| 147/147 [00:17<00:00,  8.59it/s]\n"
     ]
    },
    {
     "name": "stdout",
     "output_type": "stream",
     "text": [
      "Train Acc: 0.4707 | Train Loss: 1.3312 | Test Acc: 0.4713 | Test Loss: 1.3420043028130824\n",
      "\n",
      "Epoch 21\n"
     ]
    },
    {
     "name": "stderr",
     "output_type": "stream",
     "text": [
      "TRAINIGN: 100%|██████████| 587/587 [00:33<00:00, 17.62it/s]\n",
      "TESTING: 100%|██████████| 147/147 [00:17<00:00,  8.62it/s]\n"
     ]
    },
    {
     "name": "stdout",
     "output_type": "stream",
     "text": [
      "Train Acc: 0.4743 | Train Loss: 1.2957 | Test Acc: 0.4750 | Test Loss: 1.3586363419383563\n",
      "\n",
      "Epoch 22\n"
     ]
    },
    {
     "name": "stderr",
     "output_type": "stream",
     "text": [
      "TRAINIGN: 100%|██████████| 587/587 [00:33<00:00, 17.65it/s]\n",
      "TESTING: 100%|██████████| 147/147 [00:17<00:00,  8.56it/s]\n"
     ]
    },
    {
     "name": "stdout",
     "output_type": "stream",
     "text": [
      "Train Acc: 0.4778 | Train Loss: 1.2822 | Test Acc: 0.4785 | Test Loss: 1.3408682297687142\n",
      "\n",
      "Epoch 23\n"
     ]
    },
    {
     "name": "stderr",
     "output_type": "stream",
     "text": [
      "TRAINIGN: 100%|██████████| 587/587 [00:33<00:00, 17.41it/s]\n",
      "TESTING: 100%|██████████| 147/147 [00:17<00:00,  8.42it/s]\n"
     ]
    },
    {
     "name": "stdout",
     "output_type": "stream",
     "text": [
      "Train Acc: 0.4811 | Train Loss: 1.2818 | Test Acc: 0.4817 | Test Loss: 1.3412978292322484\n",
      "\n",
      "Epoch 24\n"
     ]
    },
    {
     "name": "stderr",
     "output_type": "stream",
     "text": [
      "TRAINIGN: 100%|██████████| 587/587 [00:33<00:00, 17.53it/s]\n",
      "TESTING: 100%|██████████| 147/147 [00:17<00:00,  8.52it/s]\n"
     ]
    },
    {
     "name": "stdout",
     "output_type": "stream",
     "text": [
      "Train Acc: 0.4843 | Train Loss: 1.2760 | Test Acc: 0.4849 | Test Loss: 1.3363076833640637\n",
      "\n",
      "Epoch 25\n"
     ]
    },
    {
     "name": "stderr",
     "output_type": "stream",
     "text": [
      "TRAINIGN: 100%|██████████| 587/587 [00:33<00:00, 17.57it/s]\n",
      "TESTING: 100%|██████████| 147/147 [00:17<00:00,  8.58it/s]\n"
     ]
    },
    {
     "name": "stdout",
     "output_type": "stream",
     "text": [
      "Train Acc: 0.4873 | Train Loss: 1.2696 | Test Acc: 0.4877 | Test Loss: 1.3493387326091326\n",
      "No improvement. Early stopping counter: 1/3\n",
      "\n",
      "Epoch 26\n"
     ]
    },
    {
     "name": "stderr",
     "output_type": "stream",
     "text": [
      "TRAINIGN: 100%|██████████| 587/587 [00:33<00:00, 17.50it/s]\n",
      "TESTING: 100%|██████████| 147/147 [00:17<00:00,  8.49it/s]\n"
     ]
    },
    {
     "name": "stdout",
     "output_type": "stream",
     "text": [
      "Train Acc: 0.4900 | Train Loss: 1.2619 | Test Acc: 0.4905 | Test Loss: 1.3398987440024914\n",
      "\n",
      "Epoch 27\n"
     ]
    },
    {
     "name": "stderr",
     "output_type": "stream",
     "text": [
      "TRAINIGN: 100%|██████████| 587/587 [00:33<00:00, 17.55it/s]\n",
      "TESTING: 100%|██████████| 147/147 [00:17<00:00,  8.50it/s]\n"
     ]
    },
    {
     "name": "stdout",
     "output_type": "stream",
     "text": [
      "Train Acc: 0.4927 | Train Loss: 1.2535 | Test Acc: 0.4931 | Test Loss: 1.3482078435469647\n",
      "No improvement. Early stopping counter: 1/3\n",
      "\n",
      "Epoch 28\n"
     ]
    },
    {
     "name": "stderr",
     "output_type": "stream",
     "text": [
      "TRAINIGN: 100%|██████████| 587/587 [00:33<00:00, 17.61it/s]\n",
      "TESTING: 100%|██████████| 147/147 [00:17<00:00,  8.45it/s]\n"
     ]
    },
    {
     "name": "stdout",
     "output_type": "stream",
     "text": [
      "Train Acc: 0.4952 | Train Loss: 1.2528 | Test Acc: 0.4956 | Test Loss: 1.3296353010093274\n",
      "\n",
      "Epoch 29\n"
     ]
    },
    {
     "name": "stderr",
     "output_type": "stream",
     "text": [
      "TRAINIGN: 100%|██████████| 587/587 [00:33<00:00, 17.65it/s]\n",
      "TESTING: 100%|██████████| 147/147 [00:17<00:00,  8.43it/s]\n"
     ]
    },
    {
     "name": "stdout",
     "output_type": "stream",
     "text": [
      "Train Acc: 0.4976 | Train Loss: 1.2441 | Test Acc: 0.4980 | Test Loss: 1.3167336129006886\n",
      "No improvement. Early stopping counter: 1/3\n",
      "\n",
      "Epoch 30\n"
     ]
    },
    {
     "name": "stderr",
     "output_type": "stream",
     "text": [
      "TRAINIGN: 100%|██████████| 587/587 [00:33<00:00, 17.62it/s]\n",
      "TESTING: 100%|██████████| 147/147 [00:17<00:00,  8.39it/s]\n"
     ]
    },
    {
     "name": "stdout",
     "output_type": "stream",
     "text": [
      "Train Acc: 0.4999 | Train Loss: 1.2443 | Test Acc: 0.5003 | Test Loss: 1.3147338726082627\n",
      "\n",
      "Epoch 31\n"
     ]
    },
    {
     "name": "stderr",
     "output_type": "stream",
     "text": [
      "TRAINIGN: 100%|██████████| 587/587 [00:33<00:00, 17.44it/s]\n",
      "TESTING: 100%|██████████| 147/147 [00:17<00:00,  8.44it/s]\n"
     ]
    },
    {
     "name": "stdout",
     "output_type": "stream",
     "text": [
      "Train Acc: 0.5022 | Train Loss: 1.2230 | Test Acc: 0.5026 | Test Loss: 1.3214276416772077\n",
      "No improvement. Early stopping counter: 1/3\n",
      "\n",
      "Epoch 32\n"
     ]
    },
    {
     "name": "stderr",
     "output_type": "stream",
     "text": [
      "TRAINIGN: 100%|██████████| 587/587 [00:34<00:00, 16.83it/s]\n",
      "TESTING: 100%|██████████| 147/147 [00:18<00:00,  7.93it/s]\n"
     ]
    },
    {
     "name": "stdout",
     "output_type": "stream",
     "text": [
      "Train Acc: 0.5044 | Train Loss: 1.2236 | Test Acc: 0.5047 | Test Loss: 1.3247513848097145\n",
      "\n",
      "Epoch 33\n"
     ]
    },
    {
     "name": "stderr",
     "output_type": "stream",
     "text": [
      "TRAINIGN: 100%|██████████| 587/587 [00:34<00:00, 16.79it/s]\n",
      "TESTING: 100%|██████████| 147/147 [00:18<00:00,  7.88it/s]\n"
     ]
    },
    {
     "name": "stdout",
     "output_type": "stream",
     "text": [
      "Train Acc: 0.5065 | Train Loss: 1.2155 | Test Acc: 0.5069 | Test Loss: 1.3062162658795207\n",
      "No improvement. Early stopping counter: 1/3\n",
      "\n",
      "Epoch 34\n"
     ]
    },
    {
     "name": "stderr",
     "output_type": "stream",
     "text": [
      "TRAINIGN: 100%|██████████| 587/587 [00:34<00:00, 16.87it/s]\n",
      "TESTING: 100%|██████████| 147/147 [00:18<00:00,  7.90it/s]\n"
     ]
    },
    {
     "name": "stdout",
     "output_type": "stream",
     "text": [
      "Train Acc: 0.5085 | Train Loss: 1.2156 | Test Acc: 0.5088 | Test Loss: 1.3089736809535903\n",
      "\n",
      "Epoch 35\n"
     ]
    },
    {
     "name": "stderr",
     "output_type": "stream",
     "text": [
      "TRAINIGN: 100%|██████████| 587/587 [00:34<00:00, 17.07it/s]\n",
      "TESTING: 100%|██████████| 147/147 [00:17<00:00,  8.38it/s]\n"
     ]
    },
    {
     "name": "stdout",
     "output_type": "stream",
     "text": [
      "Train Acc: 0.5105 | Train Loss: 1.2053 | Test Acc: 0.5108 | Test Loss: 1.331859950711127\n",
      "No improvement. Early stopping counter: 1/3\n",
      "\n",
      "Epoch 36\n"
     ]
    },
    {
     "name": "stderr",
     "output_type": "stream",
     "text": [
      "TRAINIGN: 100%|██████████| 587/587 [00:33<00:00, 17.38it/s]\n",
      "TESTING: 100%|██████████| 147/147 [00:17<00:00,  8.47it/s]\n"
     ]
    },
    {
     "name": "stdout",
     "output_type": "stream",
     "text": [
      "Train Acc: 0.5123 | Train Loss: 1.2028 | Test Acc: 0.5126 | Test Loss: 1.3253430047002779\n",
      "\n",
      "Epoch 37\n"
     ]
    },
    {
     "name": "stderr",
     "output_type": "stream",
     "text": [
      "TRAINIGN: 100%|██████████| 587/587 [00:33<00:00, 17.55it/s]\n",
      "TESTING: 100%|██████████| 147/147 [00:17<00:00,  8.58it/s]\n"
     ]
    },
    {
     "name": "stdout",
     "output_type": "stream",
     "text": [
      "Train Acc: 0.5141 | Train Loss: 1.1999 | Test Acc: 0.5144 | Test Loss: 1.3175335035843103\n",
      "No improvement. Early stopping counter: 1/3\n",
      "\n",
      "Epoch 38\n"
     ]
    },
    {
     "name": "stderr",
     "output_type": "stream",
     "text": [
      "TRAINIGN: 100%|██████████| 587/587 [00:33<00:00, 17.51it/s]\n",
      "TESTING: 100%|██████████| 147/147 [00:17<00:00,  8.51it/s]\n"
     ]
    },
    {
     "name": "stdout",
     "output_type": "stream",
     "text": [
      "Train Acc: 0.5159 | Train Loss: 1.1966 | Test Acc: 0.5162 | Test Loss: 1.3078133180027915\n",
      "\n",
      "Epoch 39\n"
     ]
    },
    {
     "name": "stderr",
     "output_type": "stream",
     "text": [
      "TRAINIGN: 100%|██████████| 587/587 [00:33<00:00, 17.59it/s]\n",
      "TESTING: 100%|██████████| 147/147 [00:17<00:00,  8.56it/s]\n"
     ]
    },
    {
     "name": "stdout",
     "output_type": "stream",
     "text": [
      "Train Acc: 0.5176 | Train Loss: 1.1977 | Test Acc: 0.5178 | Test Loss: 1.3167947701045446\n",
      "No improvement. Early stopping counter: 1/3\n",
      "\n",
      "Epoch 40\n"
     ]
    },
    {
     "name": "stderr",
     "output_type": "stream",
     "text": [
      "TRAINIGN: 100%|██████████| 587/587 [00:33<00:00, 17.66it/s]\n",
      "TESTING: 100%|██████████| 147/147 [00:17<00:00,  8.48it/s]\n"
     ]
    },
    {
     "name": "stdout",
     "output_type": "stream",
     "text": [
      "Train Acc: 0.5191 | Train Loss: 1.1954 | Test Acc: 0.5194 | Test Loss: 1.3263064910765408\n",
      "\n",
      "Epoch 41\n"
     ]
    },
    {
     "name": "stderr",
     "output_type": "stream",
     "text": [
      "TRAINIGN: 100%|██████████| 587/587 [00:34<00:00, 17.22it/s]\n",
      "TESTING: 100%|██████████| 147/147 [00:17<00:00,  8.56it/s]\n"
     ]
    },
    {
     "name": "stdout",
     "output_type": "stream",
     "text": [
      "Train Acc: 0.5207 | Train Loss: 1.1821 | Test Acc: 0.5209 | Test Loss: 1.3253849039272385\n",
      "No improvement. Early stopping counter: 1/3\n",
      "\n",
      "Epoch 42\n"
     ]
    },
    {
     "name": "stderr",
     "output_type": "stream",
     "text": [
      "TRAINIGN: 100%|██████████| 587/587 [00:32<00:00, 17.86it/s]\n",
      "TESTING: 100%|██████████| 147/147 [00:17<00:00,  8.50it/s]\n"
     ]
    },
    {
     "name": "stdout",
     "output_type": "stream",
     "text": [
      "Train Acc: 0.5222 | Train Loss: 1.1807 | Test Acc: 0.5225 | Test Loss: 1.302958571586479\n",
      "\n",
      "Epoch 43\n"
     ]
    },
    {
     "name": "stderr",
     "output_type": "stream",
     "text": [
      "TRAINIGN: 100%|██████████| 587/587 [00:33<00:00, 17.48it/s]\n",
      "TESTING: 100%|██████████| 147/147 [00:17<00:00,  8.53it/s]\n"
     ]
    },
    {
     "name": "stdout",
     "output_type": "stream",
     "text": [
      "Train Acc: 0.5237 | Train Loss: 1.1769 | Test Acc: 0.5239 | Test Loss: 1.2997393454013229\n",
      "No improvement. Early stopping counter: 1/3\n",
      "\n",
      "Epoch 44\n"
     ]
    },
    {
     "name": "stderr",
     "output_type": "stream",
     "text": [
      "TRAINIGN: 100%|██████████| 587/587 [00:33<00:00, 17.60it/s]\n",
      "TESTING: 100%|██████████| 147/147 [00:17<00:00,  8.47it/s]\n"
     ]
    },
    {
     "name": "stdout",
     "output_type": "stream",
     "text": [
      "Train Acc: 0.5251 | Train Loss: 1.1788 | Test Acc: 0.5253 | Test Loss: 1.3069756501385954\n",
      "No improvement. Early stopping counter: 2/3\n",
      "\n",
      "Epoch 45\n"
     ]
    },
    {
     "name": "stderr",
     "output_type": "stream",
     "text": [
      "TRAINIGN: 100%|██████████| 587/587 [00:33<00:00, 17.61it/s]\n",
      "TESTING: 100%|██████████| 147/147 [00:17<00:00,  8.41it/s]\n"
     ]
    },
    {
     "name": "stdout",
     "output_type": "stream",
     "text": [
      "Train Acc: 0.5265 | Train Loss: 1.1784 | Test Acc: 0.5267 | Test Loss: 1.2989128734789739\n",
      "\n",
      "Epoch 46\n"
     ]
    },
    {
     "name": "stderr",
     "output_type": "stream",
     "text": [
      "TRAINIGN: 100%|██████████| 587/587 [00:34<00:00, 17.04it/s]\n",
      "TESTING: 100%|██████████| 147/147 [00:17<00:00,  8.52it/s]\n"
     ]
    },
    {
     "name": "stdout",
     "output_type": "stream",
     "text": [
      "Train Acc: 0.5279 | Train Loss: 1.1726 | Test Acc: 0.5281 | Test Loss: 1.3104809344220323\n",
      "No improvement. Early stopping counter: 1/3\n",
      "\n",
      "Epoch 47\n"
     ]
    },
    {
     "name": "stderr",
     "output_type": "stream",
     "text": [
      "TRAINIGN: 100%|██████████| 587/587 [00:33<00:00, 17.62it/s]\n",
      "TESTING: 100%|██████████| 147/147 [00:17<00:00,  8.46it/s]\n"
     ]
    },
    {
     "name": "stdout",
     "output_type": "stream",
     "text": [
      "Train Acc: 0.5291 | Train Loss: 1.1769 | Test Acc: 0.5293 | Test Loss: 1.2960838809305308\n",
      "No improvement. Early stopping counter: 2/3\n",
      "\n",
      "Epoch 48\n"
     ]
    },
    {
     "name": "stderr",
     "output_type": "stream",
     "text": [
      "TRAINIGN: 100%|██████████| 587/587 [00:33<00:00, 17.70it/s]\n",
      "TESTING: 100%|██████████| 147/147 [00:17<00:00,  8.52it/s]\n"
     ]
    },
    {
     "name": "stdout",
     "output_type": "stream",
     "text": [
      "Train Acc: 0.5303 | Train Loss: 1.1728 | Test Acc: 0.5305 | Test Loss: 1.307984742177587\n",
      "\n",
      "Epoch 49\n"
     ]
    },
    {
     "name": "stderr",
     "output_type": "stream",
     "text": [
      "TRAINIGN: 100%|██████████| 587/587 [00:33<00:00, 17.61it/s]\n",
      "TESTING: 100%|██████████| 147/147 [00:17<00:00,  8.57it/s]\n"
     ]
    },
    {
     "name": "stdout",
     "output_type": "stream",
     "text": [
      "Train Acc: 0.5316 | Train Loss: 1.1692 | Test Acc: 0.5317 | Test Loss: 1.313655751903041\n",
      "No improvement. Early stopping counter: 1/3\n",
      "\n",
      "Epoch 50\n"
     ]
    },
    {
     "name": "stderr",
     "output_type": "stream",
     "text": [
      "TRAINIGN: 100%|██████████| 587/587 [00:33<00:00, 17.58it/s]\n",
      "TESTING: 100%|██████████| 147/147 [00:17<00:00,  8.33it/s]"
     ]
    },
    {
     "name": "stdout",
     "output_type": "stream",
     "text": [
      "Train Acc: 0.5327 | Train Loss: 1.1670 | Test Acc: 0.5329 | Test Loss: 1.2986580194259176\n",
      "No improvement. Early stopping counter: 2/3\n"
     ]
    },
    {
     "name": "stderr",
     "output_type": "stream",
     "text": [
      "\n"
     ]
    }
   ],
   "source": [
    "device = torch.device(\"cuda\" if torch.cuda.is_available() else \"cpu\")\n",
    "\n",
    "model = BirdClassifier(cnn_state=False, head_count=4, layer_count=4).to(device)\n",
    "criterion = nn.CrossEntropyLoss().to(device)\n",
    "optimizer = optim.Adam(model.parameters(), lr=3e-4)\n",
    "accuracy_score = Accuracy(task = 'multiclass', num_classes = 10).to(device)\n",
    "\n",
    "scheduler = StepLR(optimizer, step_size=10, gamma=0.5)\n",
    "\n",
    "patience = 3\n",
    "min_delta = 3e-3\n",
    "best_accuracy = 0\n",
    "counter = 0\n",
    "best_test_acc = 0\n",
    "\n",
    "loss_scores_train = []\n",
    "accuracy_scores_train = []\n",
    "loss_scores_test = []\n",
    "accuracy_scores_test = []\n",
    "\n",
    "for epoch in range(50):  \n",
    "    print(f\"\\nEpoch {epoch+1}\")\n",
    "    train_acc, train_loss = train_model(model, training_dataset, criterion, optimizer, accuracy_score, device)\n",
    "    test_acc, test_loss = test_model(model, testing_dataset, criterion, accuracy_score, device)\n",
    "    \n",
    "    accuracy_scores_train.append(train_acc)\n",
    "    loss_scores_train.append(train_loss)\n",
    "\n",
    "    accuracy_scores_test.append(test_acc)\n",
    "    loss_scores_test.append(test_loss)\n",
    "    print(f\"Train Acc: {train_acc:.4f} | Train Loss: {train_loss:.4f} | Test Acc: {test_acc:.4f} | Test Loss: {test_loss}\")\n",
    "    scheduler.step()\n",
    "    \n",
    "    if test_acc - best_test_acc > min_delta:\n",
    "        best_test_acc = test_acc\n",
    "        counter = 0\n",
    "    else:\n",
    "        counter += 1\n",
    "        print(f\"No improvement. Early stopping counter: {counter}/{patience}\")\n",
    "        if counter >= patience:\n",
    "            print(\"Early stopping triggered.\")\n",
    "            break"
   ]
  },
  {
   "cell_type": "code",
   "execution_count": 21,
   "id": "18c37aa6",
   "metadata": {},
   "outputs": [],
   "source": [
    "cols = ['loss_optimize_vit_train', 'loss_optimize_vit_test', 'acc_optimize_vit_train', 'acc_optimize_vit_test']\n",
    "data = [loss_scores_train, loss_scores_test, accuracy_scores_train, accuracy_scores_test]\n",
    "optimize_vit = pd.DataFrame(list(zip(*data)), columns=cols)\n",
    "optimize_vit.to_csv('Optimize_vit.csv')"
   ]
  },
  {
   "cell_type": "code",
   "execution_count": null,
   "id": "d4ba45ca",
   "metadata": {},
   "outputs": [],
   "source": []
  }
 ],
 "metadata": {
  "kernelspec": {
   "display_name": "Python 3",
   "language": "python",
   "name": "python3"
  },
  "language_info": {
   "codemirror_mode": {
    "name": "ipython",
    "version": 3
   },
   "file_extension": ".py",
   "mimetype": "text/x-python",
   "name": "python",
   "nbconvert_exporter": "python",
   "pygments_lexer": "ipython3",
   "version": "3.12.8"
  }
 },
 "nbformat": 4,
 "nbformat_minor": 5
}
